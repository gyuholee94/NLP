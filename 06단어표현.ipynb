{
  "nbformat": 4,
  "nbformat_minor": 0,
  "metadata": {
    "colab": {
      "name": "06단어표현.ipynb",
      "provenance": [],
      "authorship_tag": "ABX9TyOOFfHACAbwktNoArc+R4c5",
      "include_colab_link": true
    },
    "kernelspec": {
      "name": "python3",
      "display_name": "Python 3"
    }
  },
  "cells": [
    {
      "cell_type": "markdown",
      "metadata": {
        "id": "view-in-github",
        "colab_type": "text"
      },
      "source": [
        "<a href=\"https://colab.research.google.com/github/gyuholee94/NLP/blob/master/06%EB%8B%A8%EC%96%B4%ED%91%9C%ED%98%84.ipynb\" target=\"_parent\"><img src=\"https://colab.research.google.com/assets/colab-badge.svg\" alt=\"Open In Colab\"/></a>"
      ]
    },
    {
      "cell_type": "code",
      "metadata": {
        "id": "iMFJoDh23Aoa",
        "colab_type": "code",
        "colab": {}
      },
      "source": [
        "word_ls = ['원숭이', '바나나', '사과', '사과']"
      ],
      "execution_count": 78,
      "outputs": []
    },
    {
      "cell_type": "code",
      "metadata": {
        "id": "iB4u3kzI3Eyn",
        "colab_type": "code",
        "colab": {}
      },
      "source": [
        "from collections import defaultdict"
      ],
      "execution_count": 79,
      "outputs": []
    },
    {
      "cell_type": "code",
      "metadata": {
        "id": "cD-0-giK4NMS",
        "colab_type": "code",
        "colab": {}
      },
      "source": [
        "defaultdict?"
      ],
      "execution_count": 13,
      "outputs": []
    },
    {
      "cell_type": "markdown",
      "metadata": {
        "id": "-Fex_p0LE27G",
        "colab_type": "text"
      },
      "source": [
        "디폴트딕은 딕셔너리 만들때 키값만 넣고 벨류 안넣어도 되는, 벨류가 디폴트로 정해둔 값으로 되는 함수야"
      ]
    },
    {
      "cell_type": "code",
      "metadata": {
        "id": "hdLaV1gM3NIY",
        "colab_type": "code",
        "colab": {}
      },
      "source": [
        "import numpy as np"
      ],
      "execution_count": 80,
      "outputs": []
    },
    {
      "cell_type": "code",
      "metadata": {
        "id": "m2qeggKs3OaR",
        "colab_type": "code",
        "colab": {}
      },
      "source": [
        "def one_hot_encode(word_ls):\n",
        "  word2id_dic = defaultdict(lambda:len(word2id_dic))\n",
        "\n",
        "  for word in word_ls:\n",
        "    word2id_dic[word]\n",
        "  \n",
        "  n_unique_words = len(word2id_dic)\n",
        "  one_hot_vectors = np.zeros((len(word_ls), n_unique_words))\n",
        "\n",
        "  for i, word in enumerate(word_ls):\n",
        "    index = word2id_dic[word]\n",
        "    one_hot_vectors[i, index] = 1\n",
        "  return one_hot_vectors\n"
      ],
      "execution_count": 81,
      "outputs": []
    },
    {
      "cell_type": "code",
      "metadata": {
        "id": "PNznROia3xXB",
        "colab_type": "code",
        "colab": {
          "base_uri": "https://localhost:8080/",
          "height": 89
        },
        "outputId": "86b195cd-4064-44a5-9d7d-e350481ad183"
      },
      "source": [
        "one_hot_vectors = one_hot_encode(word_ls)\n",
        "one_hot_vectors"
      ],
      "execution_count": 82,
      "outputs": [
        {
          "output_type": "execute_result",
          "data": {
            "text/plain": [
              "array([[1., 0., 0.],\n",
              "       [0., 1., 0.],\n",
              "       [0., 0., 1.],\n",
              "       [0., 0., 1.]])"
            ]
          },
          "metadata": {
            "tags": []
          },
          "execution_count": 82
        }
      ]
    },
    {
      "cell_type": "code",
      "metadata": {
        "id": "AZrIZAPF31nr",
        "colab_type": "code",
        "colab": {
          "base_uri": "https://localhost:8080/",
          "height": 89
        },
        "outputId": "63af2d1c-b65c-472c-d8d2-10c2d0bef481"
      },
      "source": [
        "word_ls = ['원숭이', '바나나', '사과', '코끼리']\n",
        "one_hot_vectors = one_hot_encode(word_ls)\n",
        "one_hot_vectors"
      ],
      "execution_count": 83,
      "outputs": [
        {
          "output_type": "execute_result",
          "data": {
            "text/plain": [
              "array([[1., 0., 0., 0.],\n",
              "       [0., 1., 0., 0.],\n",
              "       [0., 0., 1., 0.],\n",
              "       [0., 0., 0., 1.]])"
            ]
          },
          "metadata": {
            "tags": []
          },
          "execution_count": 83
        }
      ]
    },
    {
      "cell_type": "code",
      "metadata": {
        "id": "EZFI6sTP5VGP",
        "colab_type": "code",
        "colab": {}
      },
      "source": [
        "from numpy import array\n",
        "from numpy import argmax\n",
        "from sklearn.preprocessing import LabelEncoder\n",
        "from sklearn.preprocessing import OneHotEncoder"
      ],
      "execution_count": 84,
      "outputs": []
    },
    {
      "cell_type": "code",
      "metadata": {
        "id": "ENiRnDSt64DY",
        "colab_type": "code",
        "colab": {
          "base_uri": "https://localhost:8080/",
          "height": 395
        },
        "outputId": "43657f8f-12d8-449f-9705-92436bb947f9"
      },
      "source": [
        "values =array(word_ls)\n",
        "print(values)\n",
        "print('-'*15)\n",
        "label_enc = LabelEncoder()\n",
        "int_enc = label_enc.fit_transform(values)\n",
        "print(int_enc)#0으로 된 제로스에서 인덱스를 표현\n",
        "print('-'*15)\n",
        "onehot_enc = OneHotEncoder(sparse=False)\n",
        "int_enc = int_enc.reshape(len(int_enc), 1) #n:1 matrix로 변환\n",
        "print(int_enc)#데이터 아낄 수 있음\n",
        "onehot_enc = onehot_enc.fit_transform(int_enc)\n",
        "print(onehot_enc)\n",
        "print('-'*15)\n",
        "onehot_enc = OneHotEncoder(sparse=True)\n",
        "int_enc = int_enc.reshape(len(int_enc), 1) #n:1 matrix로 변환\n",
        "print(int_enc)\n",
        "onehot_enc = onehot_enc.fit_transform(int_enc)\n",
        "print(onehot_enc)"
      ],
      "execution_count": 85,
      "outputs": [
        {
          "output_type": "stream",
          "text": [
            "['원숭이' '바나나' '사과' '코끼리']\n",
            "---------------\n",
            "[2 0 1 3]\n",
            "---------------\n",
            "[[2]\n",
            " [0]\n",
            " [1]\n",
            " [3]]\n",
            "[[0. 0. 1. 0.]\n",
            " [1. 0. 0. 0.]\n",
            " [0. 1. 0. 0.]\n",
            " [0. 0. 0. 1.]]\n",
            "---------------\n",
            "[[2]\n",
            " [0]\n",
            " [1]\n",
            " [3]]\n",
            "  (0, 2)\t1.0\n",
            "  (1, 0)\t1.0\n",
            "  (2, 1)\t1.0\n",
            "  (3, 3)\t1.0\n"
          ],
          "name": "stdout"
        }
      ]
    },
    {
      "cell_type": "code",
      "metadata": {
        "id": "XJAtBvn494EP",
        "colab_type": "code",
        "colab": {
          "base_uri": "https://localhost:8080/",
          "height": 35
        },
        "outputId": "33080cfd-e636-4349-8729-a32f6399b257"
      },
      "source": [
        "inverted = label_enc.inverse_transform([argmax(onehot_enc[0, :])])\n",
        "print(inverted)"
      ],
      "execution_count": 86,
      "outputs": [
        {
          "output_type": "stream",
          "text": [
            "['원숭이']\n"
          ],
          "name": "stdout"
        }
      ]
    },
    {
      "cell_type": "code",
      "metadata": {
        "id": "sC1_2adc-APV",
        "colab_type": "code",
        "colab": {
          "base_uri": "https://localhost:8080/",
          "height": 53
        },
        "outputId": "7eb5b2b6-d079-4a46-c3cb-c5aad31bc396"
      },
      "source": [
        "onehot_enc[0, :]"
      ],
      "execution_count": 87,
      "outputs": [
        {
          "output_type": "execute_result",
          "data": {
            "text/plain": [
              "<1x4 sparse matrix of type '<class 'numpy.float64'>'\n",
              "\twith 1 stored elements in Compressed Sparse Row format>"
            ]
          },
          "metadata": {
            "tags": []
          },
          "execution_count": 87
        }
      ]
    },
    {
      "cell_type": "code",
      "metadata": {
        "id": "Gu35Xh__-Cc0",
        "colab_type": "code",
        "colab": {
          "base_uri": "https://localhost:8080/",
          "height": 35
        },
        "outputId": "77bf3951-2857-4efd-a58f-6899126cd0fb"
      },
      "source": [
        "argmax(onehot_enc[0, :])"
      ],
      "execution_count": 88,
      "outputs": [
        {
          "output_type": "execute_result",
          "data": {
            "text/plain": [
              "2"
            ]
          },
          "metadata": {
            "tags": []
          },
          "execution_count": 88
        }
      ]
    },
    {
      "cell_type": "code",
      "metadata": {
        "id": "P6WbIeaY-Ekv",
        "colab_type": "code",
        "colab": {
          "base_uri": "https://localhost:8080/",
          "height": 35
        },
        "outputId": "36377107-7be9-4d04-ff6a-18bfd4d076df"
      },
      "source": [
        "label_enc.inverse_transform([argmax(onehot_enc[0, :])])"
      ],
      "execution_count": 89,
      "outputs": [
        {
          "output_type": "execute_result",
          "data": {
            "text/plain": [
              "array(['원숭이'], dtype='<U3')"
            ]
          },
          "metadata": {
            "tags": []
          },
          "execution_count": 89
        }
      ]
    },
    {
      "cell_type": "markdown",
      "metadata": {
        "id": "g6P4puyH-LPI",
        "colab_type": "text"
      },
      "source": [
        "#밀집벡터"
      ]
    },
    {
      "cell_type": "code",
      "metadata": {
        "id": "Vf6QSQkJ-3xc",
        "colab_type": "code",
        "colab": {}
      },
      "source": [
        "word_embedding_dic = {\n",
        "    '사과': [1.0, 0.5],\n",
        "    '바나나' : [0.9, 1.2],\n",
        "    '원숭이' : [0.5, 1.5]\n",
        "}"
      ],
      "execution_count": 90,
      "outputs": []
    },
    {
      "cell_type": "code",
      "metadata": {
        "id": "Zur82WxN_DWZ",
        "colab_type": "code",
        "colab": {}
      },
      "source": [
        "import numpy as np\n",
        "def euclidean_dist(x,y):\n",
        "  x = np.array(x)\n",
        "  y = np.array(y)\n",
        "  return np.sqrt(np.sum(x-y)**2)"
      ],
      "execution_count": 91,
      "outputs": []
    },
    {
      "cell_type": "code",
      "metadata": {
        "id": "E187TVlBAjfq",
        "colab_type": "code",
        "colab": {
          "base_uri": "https://localhost:8080/",
          "height": 35
        },
        "outputId": "2dadeb50-f707-4df7-d346-bb15b509ecbe"
      },
      "source": [
        "euclidean_dist(word_embedding_dic['사과'], word_embedding_dic['바나나'])"
      ],
      "execution_count": 92,
      "outputs": [
        {
          "output_type": "execute_result",
          "data": {
            "text/plain": [
              "0.6"
            ]
          },
          "metadata": {
            "tags": []
          },
          "execution_count": 92
        }
      ]
    },
    {
      "cell_type": "code",
      "metadata": {
        "id": "b_hRPRePApaW",
        "colab_type": "code",
        "colab": {}
      },
      "source": [
        "def cosine_similarity(x, y):\n",
        "  nominator = np.dot(x, y)\n",
        "  denominator = np.linalg.norm(x)*np.linalg.norm(y)\n",
        "  return nominator/denominator"
      ],
      "execution_count": 93,
      "outputs": []
    },
    {
      "cell_type": "code",
      "metadata": {
        "id": "_iJxoINDA3F0",
        "colab_type": "code",
        "colab": {
          "base_uri": "https://localhost:8080/",
          "height": 35
        },
        "outputId": "bfa92b1a-ba6c-4145-bb35-5d9bfa2e515f"
      },
      "source": [
        "a = np.array([1, 2])\n",
        "b = np.array([3, 4])\n",
        "np.dot(a, b)"
      ],
      "execution_count": 94,
      "outputs": [
        {
          "output_type": "execute_result",
          "data": {
            "text/plain": [
              "11"
            ]
          },
          "metadata": {
            "tags": []
          },
          "execution_count": 94
        }
      ]
    },
    {
      "cell_type": "code",
      "metadata": {
        "id": "wFjxZjC_A8V2",
        "colab_type": "code",
        "colab": {
          "base_uri": "https://localhost:8080/",
          "height": 35
        },
        "outputId": "dc2d01fe-9f43-448d-b59e-bc567c73594a"
      },
      "source": [
        "a = np.array(word_embedding_dic['사과'])\n",
        "b = np.array(word_embedding_dic['바나나'])\n",
        "np.dot(a, b)"
      ],
      "execution_count": 95,
      "outputs": [
        {
          "output_type": "execute_result",
          "data": {
            "text/plain": [
              "1.5"
            ]
          },
          "metadata": {
            "tags": []
          },
          "execution_count": 95
        }
      ]
    },
    {
      "cell_type": "code",
      "metadata": {
        "id": "yFiNYn9pBGOR",
        "colab_type": "code",
        "colab": {
          "base_uri": "https://localhost:8080/",
          "height": 35
        },
        "outputId": "cdb45646-0082-46dd-92c7-fc781543b3da"
      },
      "source": [
        "a = np.array([1, 2])\n",
        "np.linalg.norm(a)"
      ],
      "execution_count": 96,
      "outputs": [
        {
          "output_type": "execute_result",
          "data": {
            "text/plain": [
              "2.23606797749979"
            ]
          },
          "metadata": {
            "tags": []
          },
          "execution_count": 96
        }
      ]
    },
    {
      "cell_type": "code",
      "metadata": {
        "id": "7mLpciUOBOlj",
        "colab_type": "code",
        "colab": {
          "base_uri": "https://localhost:8080/",
          "height": 53
        },
        "outputId": "238fd997-d26d-4529-9562-a8d66e0576d5"
      },
      "source": [
        "print(cosine_similarity(word_embedding_dic['사과'], word_embedding_dic['바나나']))\n",
        "print(euclidean_dist(word_embedding_dic['사과'], word_embedding_dic['바나나']))"
      ],
      "execution_count": 97,
      "outputs": [
        {
          "output_type": "stream",
          "text": [
            "0.8944271909999159\n",
            "0.6\n"
          ],
          "name": "stdout"
        }
      ]
    },
    {
      "cell_type": "code",
      "metadata": {
        "id": "MR5fkKsiBaF-",
        "colab_type": "code",
        "colab": {
          "base_uri": "https://localhost:8080/",
          "height": 53
        },
        "outputId": "996d7770-3a6e-45a9-d274-12347c593438"
      },
      "source": [
        "print(cosine_similarity(word_embedding_dic['사과'], word_embedding_dic['원숭이']))\n",
        "print(euclidean_dist(word_embedding_dic['사과'], word_embedding_dic['원숭이']))"
      ],
      "execution_count": 98,
      "outputs": [
        {
          "output_type": "stream",
          "text": [
            "0.7071067811865475\n",
            "0.5\n"
          ],
          "name": "stdout"
        }
      ]
    },
    {
      "cell_type": "code",
      "metadata": {
        "id": "iLGLiMs7BcLW",
        "colab_type": "code",
        "colab": {
          "base_uri": "https://localhost:8080/",
          "height": 53
        },
        "outputId": "cffd0be8-729a-4949-f12b-1a36d5d88d53"
      },
      "source": [
        "print(cosine_similarity(word_embedding_dic['바나나'], word_embedding_dic['원숭이']))\n",
        "print(euclidean_dist(word_embedding_dic['바나나'], word_embedding_dic['원숭이']))"
      ],
      "execution_count": 99,
      "outputs": [
        {
          "output_type": "stream",
          "text": [
            "0.9486832980505138\n",
            "0.09999999999999998\n"
          ],
          "name": "stdout"
        }
      ]
    },
    {
      "cell_type": "code",
      "metadata": {
        "id": "uOSD-XshBjIF",
        "colab_type": "code",
        "colab": {}
      },
      "source": [
        "s1 = '대부분 원숭이는 바나나를 좋아합니다.'\n",
        "s2 = '코주부 원숭이는 바나나를 싫어합니다.'"
      ],
      "execution_count": 100,
      "outputs": []
    },
    {
      "cell_type": "code",
      "metadata": {
        "id": "NqDvtLQrBsJC",
        "colab_type": "code",
        "colab": {}
      },
      "source": [
        "# 토큰화를 수행합니다.\n",
        "token_s1 = s1.split()\n",
        "token_s2 = s2.split()\n"
      ],
      "execution_count": 101,
      "outputs": []
    },
    {
      "cell_type": "code",
      "metadata": {
        "id": "MPlRwUEiB7wC",
        "colab_type": "code",
        "colab": {
          "base_uri": "https://localhost:8080/",
          "height": 35
        },
        "outputId": "4919efdb-348b-4777-bcd8-1a7f6ab351d2"
      },
      "source": [
        "union = set(token_s1).union(set(token_s2))\n",
        "print(union)"
      ],
      "execution_count": 102,
      "outputs": [
        {
          "output_type": "stream",
          "text": [
            "{'원숭이는', '대부분', '바나나를', '싫어합니다.', '코주부', '좋아합니다.'}\n"
          ],
          "name": "stdout"
        }
      ]
    },
    {
      "cell_type": "code",
      "metadata": {
        "id": "dVQgdD--B9LR",
        "colab_type": "code",
        "colab": {
          "base_uri": "https://localhost:8080/",
          "height": 35
        },
        "outputId": "1c744ad5-4b6f-4599-b8a8-b115fca01254"
      },
      "source": [
        "intersection = set(token_s1).intersection(set(token_s2))\n",
        "print(intersection)\n"
      ],
      "execution_count": 103,
      "outputs": [
        {
          "output_type": "stream",
          "text": [
            "{'원숭이는', '바나나를'}\n"
          ],
          "name": "stdout"
        }
      ]
    },
    {
      "cell_type": "code",
      "metadata": {
        "id": "sIrkpPuDB98U",
        "colab_type": "code",
        "colab": {
          "base_uri": "https://localhost:8080/",
          "height": 35
        },
        "outputId": "eb9a58e6-d280-46f2-974f-de9dfb31c0f3"
      },
      "source": [
        "print(len(intersection)/len(union)) # 2를 6로 나눔.\n"
      ],
      "execution_count": 104,
      "outputs": [
        {
          "output_type": "stream",
          "text": [
            "0.3333333333333333\n"
          ],
          "name": "stdout"
        }
      ]
    },
    {
      "cell_type": "markdown",
      "metadata": {
        "id": "FGy4trj2B_MN",
        "colab_type": "text"
      },
      "source": [
        "#3 TF-IDF를 활용한 단어 벡터\n"
      ]
    },
    {
      "cell_type": "code",
      "metadata": {
        "id": "Lh2-etrjCqSL",
        "colab_type": "code",
        "colab": {}
      },
      "source": [
        "d1 = \"The cat sat on my face I hate a cat\"\n",
        "d2 = \"The dog sat on my bed I love a dog\"\n"
      ],
      "execution_count": 51,
      "outputs": []
    },
    {
      "cell_type": "code",
      "metadata": {
        "id": "XNNMAVIHCrWg",
        "colab_type": "code",
        "colab": {}
      },
      "source": [
        "from math import log10\n"
      ],
      "execution_count": 52,
      "outputs": []
    },
    {
      "cell_type": "code",
      "metadata": {
        "id": "PPrzcszGCsSc",
        "colab_type": "code",
        "colab": {}
      },
      "source": [
        "# document 내 토큰이 등장한 빈도수 계산\n",
        "def f(t, d):\n",
        "    return d.count(t)\n"
      ],
      "execution_count": 53,
      "outputs": []
    },
    {
      "cell_type": "code",
      "metadata": {
        "id": "h4UxLYLhCs-2",
        "colab_type": "code",
        "colab": {}
      },
      "source": [
        "# tf 계산\n",
        "def tf(t, d):\n",
        "    return 0.5 + 0.5*f(t,d)/max([f(w,d) for w in d])\n"
      ],
      "execution_count": 54,
      "outputs": []
    },
    {
      "cell_type": "code",
      "metadata": {
        "id": "ScxgJr4PCu45",
        "colab_type": "code",
        "colab": {}
      },
      "source": [
        "# idf 계산\n",
        "def idf(t, D):\n",
        "    numerator = len(D)\n",
        "    denominator = 1 + len([ True for d in D if t in d])\n",
        "    return log10(numerator/denominator) + 1"
      ],
      "execution_count": 55,
      "outputs": []
    },
    {
      "cell_type": "code",
      "metadata": {
        "id": "NFMhTmUnCyBb",
        "colab_type": "code",
        "colab": {}
      },
      "source": [
        "# tf-idf 계산\n",
        "def tfidf(t, d, D):\n",
        "    #print(D)\n",
        "    print(t)\n",
        "    #print(d)\n",
        "    print(tf(t,d))\n",
        "    print(idf(t, D))\n",
        "    print(tf(t,d)*idf(t, D))\n",
        "    print(\"===\")\n",
        "    return tf(t,d)*idf(t, D)"
      ],
      "execution_count": 56,
      "outputs": []
    },
    {
      "cell_type": "code",
      "metadata": {
        "id": "ppiIgWfQCzFR",
        "colab_type": "code",
        "colab": {}
      },
      "source": [
        "# 공백을 기준으로 토큰과\n",
        "def tokenizer(d):\n",
        "    return d.split()\n"
      ],
      "execution_count": 57,
      "outputs": []
    },
    {
      "cell_type": "code",
      "metadata": {
        "id": "8DbugAo1C0JQ",
        "colab_type": "code",
        "colab": {}
      },
      "source": [
        "# tfidf 계산 \n",
        "def tfidfScorer(D):\n",
        "    tokenized_D = [tokenizer(d) for d in D]\n",
        "    result = []\n",
        "    for d in tokenized_D:\n",
        "        result.append([(t, tfidf(t, d, tokenized_D)) for t in d])\n",
        "    return result"
      ],
      "execution_count": 58,
      "outputs": []
    },
    {
      "cell_type": "code",
      "metadata": {
        "id": "U7KkZtSvC5I7",
        "colab_type": "code",
        "colab": {
          "base_uri": "https://localhost:8080/",
          "height": 1000
        },
        "outputId": "e547f075-8575-4acd-8d42-f5406a13653e"
      },
      "source": [
        "corpus = [d1, d2]\n",
        "for i, doc in enumerate(tfidfScorer(corpus)):\n",
        "    print('====== document[%d] ======' % i)\n",
        "    print(doc)"
      ],
      "execution_count": 60,
      "outputs": [
        {
          "output_type": "stream",
          "text": [
            "The\n",
            "0.75\n",
            "0.8239087409443188\n",
            "0.6179315557082391\n",
            "===\n",
            "cat\n",
            "1.0\n",
            "1.0\n",
            "1.0\n",
            "===\n",
            "sat\n",
            "0.75\n",
            "0.8239087409443188\n",
            "0.6179315557082391\n",
            "===\n",
            "on\n",
            "0.75\n",
            "0.8239087409443188\n",
            "0.6179315557082391\n",
            "===\n",
            "my\n",
            "0.75\n",
            "0.8239087409443188\n",
            "0.6179315557082391\n",
            "===\n",
            "face\n",
            "0.75\n",
            "1.0\n",
            "0.75\n",
            "===\n",
            "I\n",
            "0.75\n",
            "0.8239087409443188\n",
            "0.6179315557082391\n",
            "===\n",
            "hate\n",
            "0.75\n",
            "1.0\n",
            "0.75\n",
            "===\n",
            "a\n",
            "0.75\n",
            "0.8239087409443188\n",
            "0.6179315557082391\n",
            "===\n",
            "cat\n",
            "1.0\n",
            "1.0\n",
            "1.0\n",
            "===\n",
            "The\n",
            "0.75\n",
            "0.8239087409443188\n",
            "0.6179315557082391\n",
            "===\n",
            "dog\n",
            "1.0\n",
            "1.0\n",
            "1.0\n",
            "===\n",
            "sat\n",
            "0.75\n",
            "0.8239087409443188\n",
            "0.6179315557082391\n",
            "===\n",
            "on\n",
            "0.75\n",
            "0.8239087409443188\n",
            "0.6179315557082391\n",
            "===\n",
            "my\n",
            "0.75\n",
            "0.8239087409443188\n",
            "0.6179315557082391\n",
            "===\n",
            "bed\n",
            "0.75\n",
            "1.0\n",
            "0.75\n",
            "===\n",
            "I\n",
            "0.75\n",
            "0.8239087409443188\n",
            "0.6179315557082391\n",
            "===\n",
            "love\n",
            "0.75\n",
            "1.0\n",
            "0.75\n",
            "===\n",
            "a\n",
            "0.75\n",
            "0.8239087409443188\n",
            "0.6179315557082391\n",
            "===\n",
            "dog\n",
            "1.0\n",
            "1.0\n",
            "1.0\n",
            "===\n",
            "====== document[0] ======\n",
            "[('The', 0.6179315557082391), ('cat', 1.0), ('sat', 0.6179315557082391), ('on', 0.6179315557082391), ('my', 0.6179315557082391), ('face', 0.75), ('I', 0.6179315557082391), ('hate', 0.75), ('a', 0.6179315557082391), ('cat', 1.0)]\n",
            "====== document[1] ======\n",
            "[('The', 0.6179315557082391), ('dog', 1.0), ('sat', 0.6179315557082391), ('on', 0.6179315557082391), ('my', 0.6179315557082391), ('bed', 0.75), ('I', 0.6179315557082391), ('love', 0.75), ('a', 0.6179315557082391), ('dog', 1.0)]\n"
          ],
          "name": "stdout"
        }
      ]
    },
    {
      "cell_type": "code",
      "metadata": {
        "id": "hNQVync0C5yk",
        "colab_type": "code",
        "colab": {}
      },
      "source": [
        "from sklearn.feature_extraction.text import CountVectorizer"
      ],
      "execution_count": 61,
      "outputs": []
    },
    {
      "cell_type": "code",
      "metadata": {
        "id": "bLLHP9loDA8x",
        "colab_type": "code",
        "colab": {
          "base_uri": "https://localhost:8080/",
          "height": 91
        },
        "outputId": "e65fade9-2429-4b5d-cccc-3813e4c3fdd3"
      },
      "source": [
        "corpus = [\n",
        "    'you know I want your love',\n",
        "    'I like you',\n",
        "    'what should I do ',    \n",
        "]\n",
        "d1 = \"The cat sat on my face I hate a cat\"\n",
        "d2 = \"The dog sat on my bed I love a dog\"\n",
        "corpus = [d1, d2]\n",
        "count_vect = CountVectorizer()\n",
        "countv = count_vect.fit_transform(corpus)\n",
        "print(countv.toarray()) # 코퍼스로부터 각 단어의 빈도 수를 기록한다.\n",
        "print(count_vect.vocabulary_) # 각 단어의 인덱스가 어떻게 부여되었는지를 보여준다."
      ],
      "execution_count": 62,
      "outputs": [
        {
          "output_type": "stream",
          "text": [
            "[[0 2 0 1 1 0 1 1 1 1]\n",
            " [1 0 2 0 0 1 1 1 1 1]]\n",
            "{'the': 9, 'cat': 1, 'sat': 8, 'on': 7, 'my': 6, 'face': 3, 'hate': 4, 'dog': 2, 'bed': 0, 'love': 5}\n"
          ],
          "name": "stdout"
        }
      ]
    },
    {
      "cell_type": "code",
      "metadata": {
        "id": "da1Ews6DDC1m",
        "colab_type": "code",
        "colab": {
          "base_uri": "https://localhost:8080/",
          "height": 127
        },
        "outputId": "0dbf466a-be05-4b62-ae23-a4cf31bbcf2c"
      },
      "source": [
        "from sklearn.feature_extraction.text import TfidfVectorizer\n",
        "corpus = [\n",
        "    'you know I want your love',\n",
        "    'I like you',\n",
        "    'what should I do ',    \n",
        "]\n",
        "d1 = \"The cat sat on my face I hate a cat\"\n",
        "d2 = \"The dog sat on my bed I love a dog\"\n",
        "corpus = [d1, d2]\n",
        "tfidf_vect = TfidfVectorizer().fit(corpus)\n",
        "tfidfv = tfidf_vect.transform(corpus)\n",
        "print(tfidfv.toarray())\n",
        "print(tfidf_vect.vocabulary_)\n"
      ],
      "execution_count": 63,
      "outputs": [
        {
          "output_type": "stream",
          "text": [
            "[[0.         0.70600557 0.         0.35300279 0.35300279 0.\n",
            "  0.25116439 0.25116439 0.25116439 0.25116439]\n",
            " [0.35300279 0.         0.70600557 0.         0.         0.35300279\n",
            "  0.25116439 0.25116439 0.25116439 0.25116439]]\n",
            "{'the': 9, 'cat': 1, 'sat': 8, 'on': 7, 'my': 6, 'face': 3, 'hate': 4, 'dog': 2, 'bed': 0, 'love': 5}\n"
          ],
          "name": "stdout"
        }
      ]
    },
    {
      "cell_type": "markdown",
      "metadata": {
        "id": "fJOdNpD4DIWX",
        "colab_type": "text"
      },
      "source": [
        "#3.3 gensim 활용\n"
      ]
    },
    {
      "cell_type": "code",
      "metadata": {
        "id": "Uh17pudODQOi",
        "colab_type": "code",
        "colab": {}
      },
      "source": [
        "import gensim.downloader as api\n",
        "from gensim.models import TfidfModel\n",
        "from gensim import corpora"
      ],
      "execution_count": 65,
      "outputs": []
    },
    {
      "cell_type": "code",
      "metadata": {
        "id": "S8CmqXRWDSyW",
        "colab_type": "code",
        "colab": {}
      },
      "source": [
        "corpus = [\n",
        "    'you know I want your love',\n",
        "    'I like you',\n",
        "    'what should I do ',    \n",
        "]\n",
        "doc_ls = [doc.split() for doc in corpus]\n",
        "id2word = corpora.Dictionary(doc_ls)  # fit dictionary\n",
        "corpus = [id2word.doc2bow(doc) for doc in doc_ls]  # convert corpus to BoW format\n"
      ],
      "execution_count": 67,
      "outputs": []
    },
    {
      "cell_type": "code",
      "metadata": {
        "id": "zPd3Va88DZIC",
        "colab_type": "code",
        "colab": {
          "base_uri": "https://localhost:8080/",
          "height": 107
        },
        "outputId": "40bb2748-52c6-4b4c-bb48-7f7b1253f976"
      },
      "source": [
        "tfidf = TfidfModel(corpus)  # fit model\n",
        "vector = tfidf[corpus[0]]  # apply model to the first corpus document\n",
        "tfidf[corpus][0]\n"
      ],
      "execution_count": 68,
      "outputs": [
        {
          "output_type": "execute_result",
          "data": {
            "text/plain": [
              "[(1, 0.49169813431045906),\n",
              " (2, 0.49169813431045906),\n",
              " (3, 0.49169813431045906),\n",
              " (4, 0.18147115159841573),\n",
              " (5, 0.49169813431045906)]"
            ]
          },
          "metadata": {
            "tags": []
          },
          "execution_count": 68
        }
      ]
    },
    {
      "cell_type": "code",
      "metadata": {
        "id": "Q17YgYuIDbtG",
        "colab_type": "code",
        "colab": {
          "base_uri": "https://localhost:8080/",
          "height": 35
        },
        "outputId": "195038ba-2631-4cf6-804d-2046c7bbf559"
      },
      "source": [
        "id2word.keys()"
      ],
      "execution_count": 69,
      "outputs": [
        {
          "output_type": "execute_result",
          "data": {
            "text/plain": [
              "[0, 1, 2, 3, 4, 5, 6, 7, 8, 9]"
            ]
          },
          "metadata": {
            "tags": []
          },
          "execution_count": 69
        }
      ]
    },
    {
      "cell_type": "code",
      "metadata": {
        "id": "l5BlyUfGDeIW",
        "colab_type": "code",
        "colab": {}
      },
      "source": [
        "TfidfModel?"
      ],
      "execution_count": 70,
      "outputs": []
    },
    {
      "cell_type": "markdown",
      "metadata": {
        "id": "Ee0es1_4DfBi",
        "colab_type": "text"
      },
      "source": [
        "#4 LSA(Latent Semantic Analysis)를 활용한 단어 벡터\n"
      ]
    },
    {
      "cell_type": "markdown",
      "metadata": {
        "id": "5qRc9WimDkqK",
        "colab_type": "text"
      },
      "source": [
        "4.1 sklearn 활용"
      ]
    },
    {
      "cell_type": "code",
      "metadata": {
        "id": "tSpON2JcDln2",
        "colab_type": "code",
        "colab": {}
      },
      "source": [
        "doc_ls = ['바나나 사과 포도 포도',\n",
        "         '사과 포도',\n",
        "         '포도 바나나',\n",
        "         '짜장면 짬뽕 탕수육',\n",
        "         '볶음밥 탕수육',\n",
        "         '짜장면 짬뽕',\n",
        "         '라면 스시',\n",
        "         '스시',\n",
        "         '가츠동 스시 소바',\n",
        "         '된장찌개 김치찌개 김치',\n",
        "         '김치 된장',\n",
        "         '비빔밥 김치'\n",
        "         ]\n"
      ],
      "execution_count": 72,
      "outputs": []
    },
    {
      "cell_type": "code",
      "metadata": {
        "id": "pea8OMqzDoQW",
        "colab_type": "code",
        "colab": {
          "base_uri": "https://localhost:8080/",
          "height": 53
        },
        "outputId": "f5881838-961c-4b88-8de0-cf479f384879"
      },
      "source": [
        "from sklearn.feature_extraction.text import CountVectorizer\n",
        "from sklearn.decomposition import TruncatedSVD\n",
        "count_vect = CountVectorizer()\n",
        "countv = count_vect.fit_transform(doc_ls)\n",
        "svd = TruncatedSVD(n_components=2, algorithm='randomized', n_iter=100)\n",
        "svd.fit(countv)\n"
      ],
      "execution_count": 74,
      "outputs": [
        {
          "output_type": "execute_result",
          "data": {
            "text/plain": [
              "TruncatedSVD(algorithm='randomized', n_components=2, n_iter=100,\n",
              "             random_state=None, tol=0.0)"
            ]
          },
          "metadata": {
            "tags": []
          },
          "execution_count": 74
        }
      ]
    },
    {
      "cell_type": "code",
      "metadata": {
        "id": "jxwjEajoDrIG",
        "colab_type": "code",
        "colab": {
          "base_uri": "https://localhost:8080/",
          "height": 305
        },
        "outputId": "ba2b5ada-f554-46de-e302-b3a922affc4a"
      },
      "source": [
        "features = count_vect.get_feature_names() # 단어 집합. 1,000개의 단어가 저장됨.\n",
        "for i in range(len(features)) :\n",
        "  print(\"{} : {}\".format(features[i], svd.components_[:,i]))"
      ],
      "execution_count": 75,
      "outputs": [
        {
          "output_type": "stream",
          "text": [
            "가츠동 : [4.51503445e-18 2.33267499e-16]\n",
            "김치 : [-3.96771268e-18  3.22973341e-15]\n",
            "김치찌개 : [-3.88635790e-18  1.15908004e-15]\n",
            "된장 : [-9.86536513e-18  9.84455471e-16]\n",
            "된장찌개 : [8.48003007e-18 1.13752293e-15]\n",
            "라면 : [-2.61995062e-17 -2.06248898e-16]\n",
            "바나나 : [ 4.0824829e-01 -1.5008790e-16]\n",
            "볶음밥 : [-5.99179462e-23  1.27737006e-01]\n",
            "비빔밥 : [1.85588123e-17 1.03193900e-15]\n",
            "사과 : [4.08248290e-01 1.60319925e-16]\n",
            "소바 : [3.08762430e-17 1.87221458e-16]\n",
            "스시 : [-4.4803874e-17 -3.4934820e-16]\n",
            "짜장면 : [-2.87084057e-22  6.12024764e-01]\n",
            "짬뽕 : [-2.87084057e-22  6.12024764e-01]\n",
            "탕수육 : [-2.27166144e-22  4.84287758e-01]\n",
            "포도 : [ 8.16496581e-01 -5.11581248e-18]\n"
          ],
          "name": "stdout"
        }
      ]
    },
    {
      "cell_type": "markdown",
      "metadata": {
        "id": "YgBr9EB7Dtfi",
        "colab_type": "text"
      },
      "source": [
        "4.2 gensim 활용"
      ]
    },
    {
      "cell_type": "code",
      "metadata": {
        "id": "pNliYu-iDxRT",
        "colab_type": "code",
        "colab": {}
      },
      "source": [
        "doc_ls = ['바나나 사과 포도 포도',\n",
        "         '사과 포도',\n",
        "         '포도 바나나',\n",
        "         '짜장면 짬뽕 탕수육',\n",
        "         '볶음밥 탕수육',\n",
        "         '짜장면 짬뽕',\n",
        "         '라면 스시',\n",
        "         '스시',\n",
        "         '가츠동 스시 소바',\n",
        "         '된장찌개 김치찌개 김치',\n",
        "         '김치 된장',\n",
        "         '비빔밥 김치'\n",
        "         ]\n",
        "doc_ls = [d.split() for d in doc_ls]\n"
      ],
      "execution_count": 76,
      "outputs": []
    },
    {
      "cell_type": "code",
      "metadata": {
        "id": "smufWfdvDzM8",
        "colab_type": "code",
        "colab": {
          "base_uri": "https://localhost:8080/",
          "height": 305
        },
        "outputId": "aea466b1-9f95-4843-d220-8150669d3789"
      },
      "source": [
        "from gensim import corpora\n",
        "from gensim.models import LsiModel\n",
        "id2word = corpora.Dictionary(doc_ls) #사전 구축\n",
        "corpus = [id2word.doc2bow(text) for text in doc_ls] # 코퍼스 생성\n",
        "lsi = LsiModel(corpus, id2word=id2word, num_topics=2) #LSA 모델\n",
        "for i in id2word.keys() :\n",
        "  print(\"{} : {}\".format(id2word[i], lsi.projection.u[i]))"
      ],
      "execution_count": 77,
      "outputs": [
        {
          "output_type": "stream",
          "text": [
            "바나나 : [ 4.08248290e-01 -5.65413233e-17]\n",
            "사과 : [4.08248290e-01 4.95643345e-18]\n",
            "포도 : [8.16496581e-01 1.14932130e-16]\n",
            "짜장면 : [-2.07281276e-17  6.12024764e-01]\n",
            "짬뽕 : [-2.13494626e-17  6.12024764e-01]\n",
            "탕수육 : [7.45565596e-18 4.84287758e-01]\n",
            "볶음밥 : [1.10562263e-17 1.27737006e-01]\n",
            "라면 : [-3.16036264e-19  9.70436068e-16]\n",
            "스시 : [-4.93677164e-19  3.37761995e-15]\n",
            "가츠동 : [-1.87852177e-17  1.65241597e-15]\n",
            "소바 : [6.96574451e-18 1.62019537e-15]\n",
            "김치 : [-2.03647429e-17 -9.28558310e-16]\n",
            "김치찌개 : [ 1.39398562e-17 -5.94456172e-16]\n",
            "된장찌개 : [ 1.03428868e-17 -5.99052161e-16]\n",
            "된장 : [-1.28388609e-17 -2.66775426e-16]\n",
            "비빔밥 : [ 1.24228190e-17 -1.69685526e-16]\n"
          ],
          "name": "stdout"
        }
      ]
    },
    {
      "cell_type": "code",
      "metadata": {
        "id": "zZLA91xJD0i7",
        "colab_type": "code",
        "colab": {}
      },
      "source": [
        ""
      ],
      "execution_count": null,
      "outputs": []
    }
  ]
}