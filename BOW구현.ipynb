{
  "nbformat": 4,
  "nbformat_minor": 0,
  "metadata": {
    "colab": {
      "name": "BOW구현.ipynb",
      "provenance": [],
      "collapsed_sections": [],
      "authorship_tag": "ABX9TyO8fsxmFjyv4LmB3iAr54Dh",
      "include_colab_link": true
    },
    "kernelspec": {
      "name": "python3",
      "display_name": "Python 3"
    }
  },
  "cells": [
    {
      "cell_type": "markdown",
      "metadata": {
        "id": "view-in-github",
        "colab_type": "text"
      },
      "source": [
        "<a href=\"https://colab.research.google.com/github/gyuholee94/NLP/blob/master/BOW%EA%B5%AC%ED%98%84.ipynb\" target=\"_parent\"><img src=\"https://colab.research.google.com/assets/colab-badge.svg\" alt=\"Open In Colab\"/></a>"
      ]
    },
    {
      "cell_type": "code",
      "metadata": {
        "id": "Ij1tKZyqHYTa",
        "colab_type": "code",
        "colab": {}
      },
      "source": [
        "docs = ['오늘 동물원에서 원숭이를 봤어',\n",
        "        '오늘 동물원에서 코끼리를 봤어 봤어',\n",
        "        '동물원에서 원숭이에게 바나나를 줬어 바나나를']"
      ],
      "execution_count": 50,
      "outputs": []
    },
    {
      "cell_type": "code",
      "metadata": {
        "id": "mtVYBqPcH9cb",
        "colab_type": "code",
        "colab": {
          "base_uri": "https://localhost:8080/",
          "height": 109
        },
        "outputId": "641f7ad6-72ec-4b4c-ad07-ff7cdbbf3462"
      },
      "source": [
        "import pandas as pd\n",
        "import numpy as np\n",
        "from collections import defaultdict\n",
        "from numpy import array\n",
        "from numpy import argmax\n",
        "from sklearn.preprocessing import LabelEncoder\n",
        "from sklearn.preprocessing import OneHotEncoder\n",
        "!pip install nltk \n",
        "import nltk\n",
        "nltk.download('punkt')\n",
        "from nltk.tokenize import word_tokenize"
      ],
      "execution_count": 49,
      "outputs": [
        {
          "output_type": "stream",
          "text": [
            "Requirement already satisfied: nltk in /usr/local/lib/python3.6/dist-packages (3.2.5)\n",
            "Requirement already satisfied: six in /usr/local/lib/python3.6/dist-packages (from nltk) (1.12.0)\n",
            "[nltk_data] Downloading package punkt to /root/nltk_data...\n",
            "[nltk_data]   Package punkt is already up-to-date!\n"
          ],
          "name": "stdout"
        }
      ]
    },
    {
      "cell_type": "code",
      "metadata": {
        "id": "SLWeq2vzIHlx",
        "colab_type": "code",
        "colab": {
          "base_uri": "https://localhost:8080/",
          "height": 71
        },
        "outputId": "d3212bff-1aad-469c-a608-693e71ef755c"
      },
      "source": [
        "d1 = docs[0]\n",
        "d2 = docs[1]\n",
        "d3 = docs[2]\n",
        "d1_tokens = word_tokenize(d1)\n",
        "print(d1_tokens)\n",
        "d2_tokens = word_tokenize(d2)\n",
        "print(d2_tokens)\n",
        "d3_tokens = word_tokenize(d3)\n",
        "print(d3_tokens)"
      ],
      "execution_count": 51,
      "outputs": [
        {
          "output_type": "stream",
          "text": [
            "['오늘', '동물원에서', '원숭이를', '봤어']\n",
            "['오늘', '동물원에서', '코끼리를', '봤어', '봤어']\n",
            "['동물원에서', '원숭이에게', '바나나를', '줬어', '바나나를']\n"
          ],
          "name": "stdout"
        }
      ]
    },
    {
      "cell_type": "code",
      "metadata": {
        "id": "N9TeFOPpKZfw",
        "colab_type": "code",
        "colab": {}
      },
      "source": [
        "d_tokens = []\n",
        "for x, y, z in zip(d1_tokens, d2_tokens, d3_tokens):\n",
        "  d_tokens.append(x)\n",
        "  d_tokens.append(y)\n",
        "  d_tokens.append(z)\n",
        "\n"
      ],
      "execution_count": 52,
      "outputs": []
    },
    {
      "cell_type": "code",
      "metadata": {
        "id": "mnCcQnptKi1G",
        "colab_type": "code",
        "colab": {
          "base_uri": "https://localhost:8080/",
          "height": 73
        },
        "outputId": "0acf716d-8bde-485f-8e16-975a510f303d"
      },
      "source": [
        "d_tokens_set = list(set(d_tokens))\n",
        "print(d_tokens)\n",
        "print(d_tokens_set)"
      ],
      "execution_count": 64,
      "outputs": [
        {
          "output_type": "stream",
          "text": [
            "['오늘', '오늘', '동물원에서', '동물원에서', '동물원에서', '원숭이에게', '원숭이를', '코끼리를', '바나나를', '봤어', '봤어', '줬어']\n",
            "['줬어', '봤어', '원숭이를', '원숭이에게', '오늘', '코끼리를', '동물원에서', '바나나를']\n"
          ],
          "name": "stdout"
        }
      ]
    },
    {
      "cell_type": "code",
      "metadata": {
        "id": "f1qT2gdFMVGq",
        "colab_type": "code",
        "colab": {
          "base_uri": "https://localhost:8080/",
          "height": 53
        },
        "outputId": "cca13e78-c331-4692-a4b5-5d1d687b3603"
      },
      "source": [
        "values =array(d_tokens_set)\n",
        "print(values)\n",
        "\n",
        "label_enc = LabelEncoder()\n",
        "d_tokens_index = label_enc.fit_transform(values)\n",
        "print(d_tokens_index)#0으로 된 제로스에서 인덱스를 표현"
      ],
      "execution_count": 75,
      "outputs": [
        {
          "output_type": "stream",
          "text": [
            "['줬어' '봤어' '원숭이를' '원숭이에게' '오늘' '코끼리를' '동물원에서' '바나나를']\n",
            "[6 2 4 5 3 7 0 1]\n"
          ],
          "name": "stdout"
        }
      ]
    },
    {
      "cell_type": "code",
      "metadata": {
        "id": "YKVSw9dLizUs",
        "colab_type": "code",
        "colab": {}
      },
      "source": [
        "values = values.tolist()\n",
        "d_tokens_index = d_tokens_index.tolist()"
      ],
      "execution_count": 91,
      "outputs": []
    },
    {
      "cell_type": "code",
      "metadata": {
        "id": "ijNY-Hlnj-AX",
        "colab_type": "code",
        "colab": {}
      },
      "source": [
        "dic = {}\n",
        "for i in range(len(values)):\n",
        "  dic[values[i]] = d_tokens_index[i]"
      ],
      "execution_count": 99,
      "outputs": []
    },
    {
      "cell_type": "code",
      "metadata": {
        "id": "Cu6PZ9NmjXyr",
        "colab_type": "code",
        "colab": {
          "base_uri": "https://localhost:8080/",
          "height": 161
        },
        "outputId": "d94d4c90-6820-49fd-d174-45801ce7deca"
      },
      "source": [
        "dic"
      ],
      "execution_count": 100,
      "outputs": [
        {
          "output_type": "execute_result",
          "data": {
            "text/plain": [
              "{'동물원에서': 0,\n",
              " '바나나를': 1,\n",
              " '봤어': 2,\n",
              " '오늘': 3,\n",
              " '원숭이를': 4,\n",
              " '원숭이에게': 5,\n",
              " '줬어': 6,\n",
              " '코끼리를': 7}"
            ]
          },
          "metadata": {
            "tags": []
          },
          "execution_count": 100
        }
      ]
    },
    {
      "cell_type": "code",
      "metadata": {
        "id": "Z1QSzDv3lo2t",
        "colab_type": "code",
        "colab": {
          "base_uri": "https://localhost:8080/",
          "height": 71
        },
        "outputId": "5312490e-4681-47df-e99f-1d5e3fefb44e"
      },
      "source": [
        "one_hot_vectors = np.zeros((len(docs), len(dic)))\n",
        "one_hot_vectors"
      ],
      "execution_count": 141,
      "outputs": [
        {
          "output_type": "execute_result",
          "data": {
            "text/plain": [
              "array([[0., 0., 0., 0., 0., 0., 0., 0.],\n",
              "       [0., 0., 0., 0., 0., 0., 0., 0.],\n",
              "       [0., 0., 0., 0., 0., 0., 0., 0.]])"
            ]
          },
          "metadata": {
            "tags": []
          },
          "execution_count": 141
        }
      ]
    },
    {
      "cell_type": "code",
      "metadata": {
        "id": "Bd3HveYrqt79",
        "colab_type": "code",
        "colab": {
          "base_uri": "https://localhost:8080/",
          "height": 161
        },
        "outputId": "1aba7bd0-18a0-4a7e-a9fc-a93549366e44"
      },
      "source": [
        "for i, d in enumerate(dic):\n",
        "  print(i, d)"
      ],
      "execution_count": 143,
      "outputs": [
        {
          "output_type": "stream",
          "text": [
            "0 줬어\n",
            "1 봤어\n",
            "2 원숭이를\n",
            "3 원숭이에게\n",
            "4 오늘\n",
            "5 코끼리를\n",
            "6 동물원에서\n",
            "7 바나나를\n"
          ],
          "name": "stdout"
        }
      ]
    },
    {
      "cell_type": "code",
      "metadata": {
        "id": "-mKJvLxonGgd",
        "colab_type": "code",
        "colab": {
          "base_uri": "https://localhost:8080/",
          "height": 71
        },
        "outputId": "740cca24-3653-4d1c-ed27-d70e70d61831"
      },
      "source": [
        "for i in range(len(one_hot_vectors)):\n",
        "  for j in range(len(dic)):\n",
        "    if d1_tokens[j] == dic[]:\n",
        "      one_hot_vectors[i][j] = one_hot_vectors[i][j]+1\n"
      ],
      "execution_count": 135,
      "outputs": [
        {
          "output_type": "stream",
          "text": [
            "0\n",
            "0\n",
            "0\n"
          ],
          "name": "stdout"
        }
      ]
    },
    {
      "cell_type": "code",
      "metadata": {
        "id": "jOY2ewONoPws",
        "colab_type": "code",
        "colab": {
          "base_uri": "https://localhost:8080/",
          "height": 71
        },
        "outputId": "d85d3300-3287-424e-b362-521cf49ef849"
      },
      "source": [
        "from sklearn.feature_extraction.text import CountVectorizer\n",
        "vector = CountVectorizer()\n",
        "print(vector.fit_transform(docs).toarray())"
      ],
      "execution_count": 128,
      "outputs": [
        {
          "output_type": "stream",
          "text": [
            "[[1 0 1 1 1 0 0 0]\n",
            " [1 0 2 1 0 0 0 1]\n",
            " [1 2 0 0 0 1 1 0]]\n"
          ],
          "name": "stdout"
        }
      ]
    },
    {
      "cell_type": "code",
      "metadata": {
        "id": "rHff5-8wmZb6",
        "colab_type": "code",
        "colab": {
          "base_uri": "https://localhost:8080/",
          "height": 226
        },
        "outputId": "e4ae2a3f-585f-4561-ade2-03610b0f7a7f"
      },
      "source": [
        "# for i, word in enumerate(docs):\n",
        "#   index = dic.values\n",
        "#   one_hot_vectors[i, int(index)]"
      ],
      "execution_count": 108,
      "outputs": [
        {
          "output_type": "error",
          "ename": "TypeError",
          "evalue": "ignored",
          "traceback": [
            "\u001b[0;31m---------------------------------------------------------------------------\u001b[0m",
            "\u001b[0;31mTypeError\u001b[0m                                 Traceback (most recent call last)",
            "\u001b[0;32m<ipython-input-108-4e4975abdbf5>\u001b[0m in \u001b[0;36m<module>\u001b[0;34m()\u001b[0m\n\u001b[1;32m      1\u001b[0m \u001b[0;32mfor\u001b[0m \u001b[0mi\u001b[0m\u001b[0;34m,\u001b[0m \u001b[0mword\u001b[0m \u001b[0;32min\u001b[0m \u001b[0menumerate\u001b[0m\u001b[0;34m(\u001b[0m\u001b[0mdocs\u001b[0m\u001b[0;34m)\u001b[0m\u001b[0;34m:\u001b[0m\u001b[0;34m\u001b[0m\u001b[0;34m\u001b[0m\u001b[0m\n\u001b[1;32m      2\u001b[0m   \u001b[0mindex\u001b[0m \u001b[0;34m=\u001b[0m \u001b[0mdic\u001b[0m\u001b[0;34m.\u001b[0m\u001b[0mvalues\u001b[0m\u001b[0;34m\u001b[0m\u001b[0;34m\u001b[0m\u001b[0m\n\u001b[0;32m----> 3\u001b[0;31m   \u001b[0mone_hot_vectors\u001b[0m\u001b[0;34m[\u001b[0m\u001b[0mi\u001b[0m\u001b[0;34m,\u001b[0m \u001b[0mint\u001b[0m\u001b[0;34m(\u001b[0m\u001b[0mindex\u001b[0m\u001b[0;34m)\u001b[0m\u001b[0;34m]\u001b[0m\u001b[0;34m\u001b[0m\u001b[0;34m\u001b[0m\u001b[0m\n\u001b[0m",
            "\u001b[0;31mTypeError\u001b[0m: int() argument must be a string, a bytes-like object or a number, not 'builtin_function_or_method'"
          ]
        }
      ]
    },
    {
      "cell_type": "code",
      "metadata": {
        "id": "YPJEXpfLM8aB",
        "colab_type": "code",
        "colab": {
          "base_uri": "https://localhost:8080/",
          "height": 179
        },
        "outputId": "e4fccd8e-ae6d-478c-8361-a3d8f736bc9c"
      },
      "source": [
        "onehot_enc = OneHotEncoder(sparse=False)\n",
        "d_tokens_index = d_tokens_index.reshape(len(d_tokens_index), 1) #n:1 matrix로 변환\n",
        "print(d_tokens_index)#데이터 아낄 수 있음\n",
        "d_tokens_enc = onehot_enc.fit_transform(np.array(d1).reshape(1, -1))\n",
        "print(d_tokens_enc)"
      ],
      "execution_count": 71,
      "outputs": [
        {
          "output_type": "stream",
          "text": [
            "[[6]\n",
            " [2]\n",
            " [4]\n",
            " [5]\n",
            " [3]\n",
            " [7]\n",
            " [0]\n",
            " [1]]\n",
            "[[1.]]\n"
          ],
          "name": "stdout"
        }
      ]
    },
    {
      "cell_type": "code",
      "metadata": {
        "id": "MhqHFJ3DhmdW",
        "colab_type": "code",
        "colab": {
          "base_uri": "https://localhost:8080/",
          "height": 172
        },
        "outputId": "a2b1ea80-81af-4c3b-94c1-f50090c770f4"
      },
      "source": [
        "np.zeros(d_tokens_set, )"
      ],
      "execution_count": 72,
      "outputs": [
        {
          "output_type": "error",
          "ename": "TypeError",
          "evalue": "ignored",
          "traceback": [
            "\u001b[0;31m---------------------------------------------------------------------------\u001b[0m",
            "\u001b[0;31mTypeError\u001b[0m                                 Traceback (most recent call last)",
            "\u001b[0;32m<ipython-input-72-eaaa425ecb56>\u001b[0m in \u001b[0;36m<module>\u001b[0;34m()\u001b[0m\n\u001b[0;32m----> 1\u001b[0;31m \u001b[0mnp\u001b[0m\u001b[0;34m.\u001b[0m\u001b[0mzeros\u001b[0m\u001b[0;34m(\u001b[0m\u001b[0md_tokens_set\u001b[0m\u001b[0;34m)\u001b[0m\u001b[0;34m\u001b[0m\u001b[0;34m\u001b[0m\u001b[0m\n\u001b[0m",
            "\u001b[0;31mTypeError\u001b[0m: 'str' object cannot be interpreted as an integer"
          ]
        }
      ]
    },
    {
      "cell_type": "code",
      "metadata": {
        "id": "zWQtwwHaL6Se",
        "colab_type": "code",
        "colab": {}
      },
      "source": [
        "# def one_hot_encode(word_ls):\n",
        "#   word2id_dic = defaultdict(lambda:len(word2id_dic))\n",
        "\n",
        "#   for word in word_ls:\n",
        "#     word2id_dic[word]\n",
        "  \n",
        "#   n_unique_words = len(word2id_dic)\n",
        "#   one_hot_vectors = np.zeros((len(word_ls), n_unique_words))\n",
        "\n",
        "#   for i, word in enumerate(word_ls):\n",
        "#     index = word2id_dic[word]\n",
        "#     one_hot_vectors[i, index] = 1\n",
        "#   return one_hot_vectors"
      ],
      "execution_count": null,
      "outputs": []
    },
    {
      "cell_type": "code",
      "metadata": {
        "id": "2AKAB645L-mt",
        "colab_type": "code",
        "colab": {
          "base_uri": "https://localhost:8080/",
          "height": 161
        },
        "outputId": "a249229d-7489-4ae9-d4c7-a06fa9ba344e"
      },
      "source": [
        "# one_hot_encode(d_tokens_set)"
      ],
      "execution_count": 56,
      "outputs": [
        {
          "output_type": "execute_result",
          "data": {
            "text/plain": [
              "array([[1., 0., 0., 0., 0., 0., 0., 0.],\n",
              "       [0., 1., 0., 0., 0., 0., 0., 0.],\n",
              "       [0., 0., 1., 0., 0., 0., 0., 0.],\n",
              "       [0., 0., 0., 1., 0., 0., 0., 0.],\n",
              "       [0., 0., 0., 0., 1., 0., 0., 0.],\n",
              "       [0., 0., 0., 0., 0., 1., 0., 0.],\n",
              "       [0., 0., 0., 0., 0., 0., 1., 0.],\n",
              "       [0., 0., 0., 0., 0., 0., 0., 1.]])"
            ]
          },
          "metadata": {
            "tags": []
          },
          "execution_count": 56
        }
      ]
    },
    {
      "cell_type": "code",
      "metadata": {
        "id": "X_n7VibtIOeI",
        "colab_type": "code",
        "colab": {}
      },
      "source": [
        ""
      ],
      "execution_count": 30,
      "outputs": []
    },
    {
      "cell_type": "code",
      "metadata": {
        "id": "YFpkT8HCIY2c",
        "colab_type": "code",
        "colab": {}
      },
      "source": [
        ""
      ],
      "execution_count": 31,
      "outputs": []
    },
    {
      "cell_type": "code",
      "metadata": {
        "id": "OcELMGdEIdk_",
        "colab_type": "code",
        "colab": {
          "base_uri": "https://localhost:8080/",
          "height": 305
        },
        "outputId": "82a730bb-cb3a-4af0-f505-c85ba9637985"
      },
      "source": [
        ""
      ],
      "execution_count": 20,
      "outputs": [
        {
          "output_type": "execute_result",
          "data": {
            "text/plain": [
              "array([[1., 0., 0., 0., 0., 0., 0., 0., 0., 0., 0., 0., 0.],\n",
              "       [0., 1., 0., 0., 0., 0., 0., 0., 0., 0., 0., 0., 0.],\n",
              "       [0., 0., 1., 0., 0., 0., 0., 0., 0., 0., 0., 0., 0.],\n",
              "       [0., 0., 0., 1., 0., 0., 0., 0., 0., 0., 0., 0., 0.],\n",
              "       [0., 0., 0., 0., 1., 0., 0., 0., 0., 0., 0., 0., 0.],\n",
              "       [0., 0., 0., 0., 0., 1., 0., 0., 0., 0., 0., 0., 0.],\n",
              "       [0., 0., 0., 0., 0., 0., 1., 0., 0., 0., 0., 0., 0.],\n",
              "       [0., 0., 0., 0., 0., 0., 0., 1., 0., 0., 0., 0., 0.],\n",
              "       [0., 0., 1., 0., 0., 0., 0., 0., 0., 0., 0., 0., 0.],\n",
              "       [0., 0., 0., 0., 0., 1., 0., 0., 0., 0., 0., 0., 0.],\n",
              "       [0., 0., 0., 0., 0., 0., 0., 0., 1., 0., 0., 0., 0.],\n",
              "       [0., 0., 0., 0., 0., 0., 0., 0., 0., 1., 0., 0., 0.],\n",
              "       [0., 0., 0., 0., 0., 0., 0., 0., 0., 0., 1., 0., 0.],\n",
              "       [0., 0., 1., 0., 0., 0., 0., 0., 0., 0., 0., 0., 0.],\n",
              "       [0., 0., 0., 0., 0., 0., 0., 0., 0., 0., 0., 1., 0.],\n",
              "       [0., 0., 0., 0., 0., 0., 0., 0., 0., 0., 0., 0., 1.]])"
            ]
          },
          "metadata": {
            "tags": []
          },
          "execution_count": 20
        }
      ]
    },
    {
      "cell_type": "code",
      "metadata": {
        "id": "6wTxV6amIfvJ",
        "colab_type": "code",
        "colab": {
          "base_uri": "https://localhost:8080/",
          "height": 217
        },
        "outputId": "8fcf844f-14c5-46dd-fb54-645cbf129be1"
      },
      "source": [
        ""
      ],
      "execution_count": 23,
      "outputs": [
        {
          "output_type": "stream",
          "text": [
            "['오늘 동물원에서 원숭이를 봤어' '오늘 동물원에서 코끼리를 봤어 봤어' '동물원에서 원숭이에게 바나나를 줬어 바나나를']\n",
            "---------------\n",
            "[1 2 0]\n",
            "---------------\n",
            "[[1]\n",
            " [2]\n",
            " [0]]\n",
            "[[0. 1. 0.]\n",
            " [0. 0. 1.]\n",
            " [1. 0. 0.]]\n"
          ],
          "name": "stdout"
        }
      ]
    },
    {
      "cell_type": "code",
      "metadata": {
        "id": "diIRgc8hJTpk",
        "colab_type": "code",
        "colab": {}
      },
      "source": [
        ""
      ],
      "execution_count": null,
      "outputs": []
    }
  ]
}