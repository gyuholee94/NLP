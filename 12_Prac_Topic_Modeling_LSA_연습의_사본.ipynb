{
  "nbformat": 4,
  "nbformat_minor": 0,
  "metadata": {
    "colab": {
      "name": "12 Prac. Topic Modeling LSA 연습의 사본",
      "provenance": [],
      "collapsed_sections": [],
      "include_colab_link": true
    },
    "kernelspec": {
      "name": "python3",
      "display_name": "Python 3"
    }
  },
  "cells": [
    {
      "cell_type": "markdown",
      "metadata": {
        "id": "view-in-github",
        "colab_type": "text"
      },
      "source": [
        "<a href=\"https://colab.research.google.com/github/gyuholee94/NLP/blob/master/12_Prac_Topic_Modeling_LSA_%EC%97%B0%EC%8A%B5%EC%9D%98_%EC%82%AC%EB%B3%B8.ipynb\" target=\"_parent\"><img src=\"https://colab.research.google.com/assets/colab-badge.svg\" alt=\"Open In Colab\"/></a>"
      ]
    },
    {
      "cell_type": "markdown",
      "metadata": {
        "id": "_OzRnst_HJJu",
        "colab_type": "text"
      },
      "source": [
        "# 토픽모델링 (Topic Modeling)"
      ]
    },
    {
      "cell_type": "markdown",
      "metadata": {
        "id": "Xh94rk2QHMxR",
        "colab_type": "text"
      },
      "source": [
        "#0 환경"
      ]
    },
    {
      "cell_type": "markdown",
      "metadata": {
        "id": "Jyp5nHXQsXez",
        "colab_type": "text"
      },
      "source": [
        "# 1 잠재의미분석 (Latent Semantic Analysis LSA)"
      ]
    },
    {
      "cell_type": "markdown",
      "metadata": {
        "id": "rAQyWNVQWAh8",
        "colab_type": "text"
      },
      "source": [
        "## 1.1 직접 구현"
      ]
    },
    {
      "cell_type": "markdown",
      "metadata": {
        "id": "GnynjZgAM69T",
        "colab_type": "text"
      },
      "source": [
        "###1) 직접 구현"
      ]
    },
    {
      "cell_type": "code",
      "metadata": {
        "id": "MFgOmDD84TkZ",
        "colab_type": "code",
        "colab": {}
      },
      "source": [
        "import numpy as np\n",
        "from collections import defaultdict\n",
        "from sklearn.metrics.pairwise import cosine_similarity\n",
        "from sklearn.decomposition import randomized_svd\n",
        "\n",
        "class LSA:\n",
        "    def __init__(self, doc_ls, topic_num):\n",
        "        self.doc_ls = doc_ls\n",
        "        self.topic_num = topic_num\n",
        "\n",
        "        self.term2idx, self.idx2term = self.toIdxDict( ' '.join(doc_ls).split())\n",
        "        self.doc2idx, self.idx2doc = self.toIdxDict(doc_ls)\n",
        "    \n",
        "        self.tdm = self.TDM(doc_ls)\n",
        "        self.U, self.s, self.VT = self.SVD(self.tdm)\n",
        "\n",
        "        self.term_doc_mat = self.TermDocVectorMatrix(self.U, self.s, self.VT, topic_num)\n",
        "\n",
        "        self.term_mat = self.TermVectorMatrix(self.U, self.s, topic_num)\n",
        "        self.doc_mat = self.DocVectorMatrix(self.s, self.VT, topic_num)\n",
        "    # 리스트내 값을 index로 변환하는 dict과 \n",
        "    # index를 리스트내 값으로 변환하는 dict\n",
        "    def toIdxDict(self, ls):\n",
        "      any2idx = defaultdict(lambda: len(any2idx))    \n",
        "      idx2any = defaultdict()\n",
        "\n",
        "      for item in ls:\n",
        "        any2idx[item]\n",
        "        idx2any[any2idx[item]] = item\n",
        "\n",
        "      return any2idx, idx2any\n",
        "    \n",
        "    def TDM(self, doc_ls):\n",
        "      tdm = np.zeros([len(self.term2idx), len(doc_ls)])\n",
        "      for doc_idx, doc in enumerate(doc_ls):\n",
        "        for term in doc.split():\n",
        "          tdm[self.term2idx[term], doc_idx] += 1\n",
        "      \n",
        "      return tdm\n",
        "        \n",
        "    \n",
        "    # 특이값 분해\n",
        "    def SVD(self, tdm):\n",
        "      U, s, VT = randomized_svd(tdm, n_components = 6, n_iter=20, random_state=None)\n",
        "      return U, s, VT\n",
        "    \n",
        "    # 토픽별 주요 키워드 출력\n",
        "    def TopicModeling(self, topic_num = 3):\n",
        "      for i in range(topic_num):\n",
        "        score = self.U[:, i:i+1].T\n",
        "        sorted_index = np.argsort(-score)\n",
        "\n",
        "        a=[]\n",
        "        for j in sorted_index[0, : topic_num]:\n",
        "          a.append((self.idx2term[j], score[0, j].round(3)))\n",
        "        print('topic {} - {}'.format(i+1, a))\n",
        "    \n",
        "    def TermDocVectorMatrix(self, u, s, vt, topic_num):\n",
        "      term_doc_mat = np.matrix(u[:, :topic_num]) * np.diag(s[:topic_num]) * np.matrix(vt[:topic_num, :])\n",
        "      return term_doc_mat\n",
        "        \n",
        "    # 키워드를 입력했을 때 단어 벡터 반환\n",
        "    def GetTermVector(self, term):\n",
        "      vec = self.term_mat[self.term2idx[term]]\n",
        "      print('{} = {}'.format(term, vec))\n",
        "      return vec\n",
        "        \n",
        "            \n",
        "    # 문서를 입력했을 때 문서 벡터 반환\n",
        "    def GetDocVector(self, doc):\n",
        "      vec = self.doc_mat[self.doc2idx[doc]]\n",
        "      print('{} = {}'.format(doc, vec))\n",
        "      return vec\n",
        "    \n",
        "   \n",
        "    \n",
        "    def TermVectorMatrix(self, u, s, topic_num):\n",
        "      term_mat = np.matrix(u[:, :topic_num])\n",
        "      return term_mat\n",
        "        \n",
        "    def DocVectorMatrix(self, s, vt, topic_num):\n",
        "      doc_mat = np.matrix(vt[:topic_num, :].T)\n",
        "      return doc_mat\n",
        "      \n",
        "        \n",
        "    def GetTermSimilarity(self, term1, term2):\n",
        "      pass\n",
        "        \n",
        "    def GetDocSimilarity(self, doc1, doc2):\n",
        "      pass\n",
        "    \n",
        "    def Compression(self, round_num=0):        \n",
        "      pass\n",
        "        \n",
        "        \n",
        "    "
      ],
      "execution_count": 28,
      "outputs": []
    },
    {
      "cell_type": "code",
      "metadata": {
        "id": "ES6xrXO3UpMT",
        "colab_type": "code",
        "colab": {}
      },
      "source": [
        ""
      ],
      "execution_count": 28,
      "outputs": []
    },
    {
      "cell_type": "code",
      "metadata": {
        "id": "JqZnr8SX86qt",
        "colab_type": "code",
        "colab": {
          "base_uri": "https://localhost:8080/",
          "height": 971
        },
        "outputId": "930c95d1-77a7-4d05-962d-94de424f6303"
      },
      "source": [
        "doc_ls = ['바나나 사과 포도 포도 짜장면',\n",
        "         '사과 포도',\n",
        "         '포도 바나나',\n",
        "         '짜장면 짬뽕 탕수육',\n",
        "         '볶음밥 탕수육',\n",
        "         '짜장면 짬뽕',\n",
        "         '라면 스시',\n",
        "         '스시 짜장면',\n",
        "         '가츠동 스시 소바',\n",
        "         '된장찌개 김치찌개 김치',\n",
        "         '김치 된장 짜장면',\n",
        "         '비빔밥 김치'\n",
        "         ]\n",
        "\n",
        "# doc_ls = ['배 타다 기차',\n",
        "#           '배 타다 자동차',\n",
        "#           '배 먹다 사과',\n",
        "#           '배 먹다 바나나',\n",
        "#           '먹다 딸기']\n",
        "\n",
        "lsa = LSA(doc_ls, 3)\n",
        "X = lsa.TDM(doc_ls)\n",
        "print(X)\n",
        "lsa.TopicModeling(3)\n",
        "print(lsa.term_doc_mat.round(0))\n",
        "\n",
        "\n",
        "print('== 토픽 모델링 ==')\n",
        "lsa.TopicModeling(3)\n",
        "print('\\n== 단어 벡터 ==')\n",
        "lsa.GetTermVector('사과')\n",
        "lsa.GetTermVector('포도')\n",
        "print('\\n== 단어 유사도 ==')\n",
        "lsa.GetTermSimilarity('사과','바나나')\n",
        "lsa.GetTermSimilarity('사과','짜장면')\n",
        "lsa.GetTermSimilarity('포도','짜장면')\n",
        "lsa.GetTermSimilarity('사과','스시')\n",
        "print('\\n== 문서 벡터 ==')\n",
        "lsa.GetDocVector('사과 포도')\n",
        "lsa.GetDocVector('짜장면 짬뽕')\n",
        "print('\\n== 문서 유사도 ==')\n",
        "lsa.GetDocSimilarity('사과 포도', '포도 바나나')\n",
        "lsa.GetDocSimilarity('사과 포도', '라면 스시')\n",
        "print('\\n== 토픽 차원수로 압축 ==')\n",
        "lsa.Compression(0)"
      ],
      "execution_count": 29,
      "outputs": [
        {
          "output_type": "stream",
          "text": [
            "[[1. 0. 1. 0. 0. 0. 0. 0. 0. 0. 0. 0.]\n",
            " [1. 1. 0. 0. 0. 0. 0. 0. 0. 0. 0. 0.]\n",
            " [2. 1. 1. 0. 0. 0. 0. 0. 0. 0. 0. 0.]\n",
            " [1. 0. 0. 1. 0. 1. 0. 1. 0. 0. 1. 0.]\n",
            " [0. 0. 0. 1. 0. 1. 0. 0. 0. 0. 0. 0.]\n",
            " [0. 0. 0. 1. 1. 0. 0. 0. 0. 0. 0. 0.]\n",
            " [0. 0. 0. 0. 1. 0. 0. 0. 0. 0. 0. 0.]\n",
            " [0. 0. 0. 0. 0. 0. 1. 0. 0. 0. 0. 0.]\n",
            " [0. 0. 0. 0. 0. 0. 1. 1. 1. 0. 0. 0.]\n",
            " [0. 0. 0. 0. 0. 0. 0. 0. 1. 0. 0. 0.]\n",
            " [0. 0. 0. 0. 0. 0. 0. 0. 1. 0. 0. 0.]\n",
            " [0. 0. 0. 0. 0. 0. 0. 0. 0. 1. 0. 0.]\n",
            " [0. 0. 0. 0. 0. 0. 0. 0. 0. 1. 0. 0.]\n",
            " [0. 0. 0. 0. 0. 0. 0. 0. 0. 1. 1. 1.]\n",
            " [0. 0. 0. 0. 0. 0. 0. 0. 0. 0. 1. 0.]\n",
            " [0. 0. 0. 0. 0. 0. 0. 0. 0. 0. 0. 1.]]\n",
            "topic 1 - [('포도', 0.697), ('짜장면', 0.486), ('바나나', 0.348)]\n",
            "topic 2 - [('짜장면', 0.584), ('짬뽕', 0.356), ('김치', 0.337)]\n",
            "topic 3 - [('김치', 0.611), ('된장찌개', 0.264), ('김치찌개', 0.264)]\n",
            "[[ 1.  0.  0.  0. -0.  0. -0.  0. -0. -0.  0. -0.]\n",
            " [ 1.  0.  0.  0. -0.  0. -0.  0. -0. -0.  0. -0.]\n",
            " [ 2.  1.  1.  0. -0.  0. -0.  0. -0. -0.  0. -0.]\n",
            " [ 1.  0.  0.  1.  0.  1.  0.  1.  0.  0.  1.  0.]\n",
            " [ 0. -0. -0.  1.  0.  0.  0.  0.  0.  0.  0.  0.]\n",
            " [ 0. -0. -0.  0.  0.  0.  0.  0.  0.  0.  0.  0.]\n",
            " [-0. -0. -0.  0.  0.  0.  0.  0.  0. -0.  0. -0.]\n",
            " [-0. -0. -0.  0.  0.  0.  0.  0.  0. -0. -0. -0.]\n",
            " [ 0. -0. -0.  0.  0.  0.  0.  1.  1. -0. -0. -0.]\n",
            " [-0. -0. -0.  0.  0.  0.  0.  0.  0. -0. -0. -0.]\n",
            " [-0. -0. -0.  0.  0.  0.  0.  0.  0. -0. -0. -0.]\n",
            " [-0. -0. -0.  0. -0.  0. -0. -0. -0.  0.  0.  0.]\n",
            " [-0. -0. -0.  0. -0.  0. -0. -0. -0.  0.  0.  0.]\n",
            " [ 0. -0. -0.  0.  0.  0. -0. -0. -0.  1.  1.  1.]\n",
            " [ 0. -0. -0.  0.  0.  0. -0.  0. -0.  0.  0.  0.]\n",
            " [-0. -0. -0.  0. -0.  0. -0. -0. -0.  0.  0.  0.]]\n",
            "== 토픽 모델링 ==\n",
            "topic 1 - [('포도', 0.697), ('짜장면', 0.486), ('바나나', 0.348)]\n",
            "topic 2 - [('짜장면', 0.584), ('짬뽕', 0.356), ('김치', 0.337)]\n",
            "topic 3 - [('김치', 0.611), ('된장찌개', 0.264), ('김치찌개', 0.264)]\n",
            "\n",
            "== 단어 벡터 ==\n",
            "사과 = [[ 0.34843127 -0.19370961  0.01592593]]\n",
            "포도 = [[ 0.69686254 -0.38741921  0.03185185]]\n",
            "\n",
            "== 단어 유사도 ==\n",
            "\n",
            "== 문서 벡터 ==\n",
            "사과 포도 = [[ 0.32422891 -0.2375544   0.02301229]]\n",
            "짜장면 짬뽕 = [[ 0.18924633  0.38413621 -0.08554157]]\n",
            "\n",
            "== 문서 유사도 ==\n",
            "\n",
            "== 토픽 차원수로 압축 ==\n"
          ],
          "name": "stdout"
        }
      ]
    },
    {
      "cell_type": "markdown",
      "metadata": {
        "id": "c0Ah5QgSqEce",
        "colab_type": "text"
      },
      "source": [
        "### 2) 실습 템플릿"
      ]
    },
    {
      "cell_type": "code",
      "metadata": {
        "id": "_Dsdajm39w73",
        "colab_type": "code",
        "colab": {}
      },
      "source": [
        "class LSA :\n",
        "  def __init__(self, doc_ls, topic_num):\n",
        "    pass\n",
        "  \n",
        "  # tdm matrix 생성\n",
        "  def TDM(self, doc_ls):\n",
        "    pass\n",
        "  \n",
        "  # tdm matrix 특이값 분해(SVD)\n",
        "  # U, s, Vt로 분해\n",
        "  def SVD(self, tdm):\n",
        "    pass\n",
        "  \n",
        "  # 토픽별 주요 키워드 출력\n",
        "  def TopicModeling(self) :\n",
        "    pass\n",
        "  \n",
        "  \n",
        "  # 단어 벡터 행렬 생성 dot(U,s)  \n",
        "  def TermVectorMatrix(self, u, s):\n",
        "    pass\n",
        "  \n",
        "  # 문서 벡터 행렬 생성 dot(s,Vt).T \n",
        "  def DocVectorMatrix(self, s, vt):\n",
        "    pass\n",
        "  \n",
        "  # 키워드를 입력했을 때 단어 벡터 반환\n",
        "  def GetTermVector(self, term):\n",
        "    pass\n",
        "  \n",
        "  # 문서를 입력했을 때 문서 벡터 반환\n",
        "  def GetDocVector(self, doc):\n",
        "    pass\n",
        "  \n",
        "  # 단어-문서 벡터 행렬 생성\n",
        "  def TermDocVectorMatrix(self, u, s, vt):\n",
        "    pass\n",
        "  \n",
        "  # 단어 벡터 행렬에서 단어 간 코사인 유사도 측정하여 행렬형태로 반환\n",
        "  def TermSimilarityMatrix(self, term_vec_matrix):\n",
        "    pass\n",
        "  \n",
        "  # 두개 단어를 입력했을 때 코사인 유사도 반환\n",
        "  def GetTermSimilarity(self, term1, term2):\n",
        "    pass\n",
        "  \n",
        "  # 문서 벡터 행렬에서 문서 간 코사인 유사도 측정하여 행렬형태로 반환\n",
        "  def DocSimilarityMartrix(self, doc_vec_matrix):\n",
        "    pass\n",
        "  \n",
        "  # 두개 문서를 입력했을 때 코사인 유사도 반환\n",
        "  def GetDocSimilarity(self, doc1, doc2):\n",
        "    pass"
      ],
      "execution_count": null,
      "outputs": []
    },
    {
      "cell_type": "code",
      "metadata": {
        "id": "wHB9A2VjGE0j",
        "colab_type": "code",
        "colab": {}
      },
      "source": [
        "doc_ls = ['바나나 사과 포도 포도',\n",
        "         '사과 포도',\n",
        "         '포도 바나나',\n",
        "         '짜장면 짬뽕 탕수욕',\n",
        "         '볶음밥 탕수욕',\n",
        "         '짜장면 짬뽕',\n",
        "         '라면 스시',\n",
        "         '스시',\n",
        "         '가츠동 스시 소바',\n",
        "         '된장찌개 김치찌개 김치',\n",
        "         '김치 된장',\n",
        "         '비빔밥 김치'\n",
        "         ]\n",
        "\n",
        "lsa = LSA(doc_ls, 3)\n",
        "lsa.TopicModeling()\n",
        "lsa.GetTermSimilarity('사과','바나나')\n",
        "lsa.GetTermSimilarity('사과','짜장면')\n",
        "lsa.GetDocSimilarity('사과 포도', '포도 바나나')\n",
        "lsa.GetDocSimilarity('사과 포도', '라면 스시')"
      ],
      "execution_count": null,
      "outputs": []
    },
    {
      "cell_type": "markdown",
      "metadata": {
        "id": "31Kn3iEWLDz9",
        "colab_type": "text"
      },
      "source": [
        "## 1.2 sklearn 활용"
      ]
    },
    {
      "cell_type": "markdown",
      "metadata": {
        "id": "T4r9ObIkyz4-",
        "colab_type": "text"
      },
      "source": [
        "![image.png](data:image/png;base64,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)"
      ]
    },
    {
      "cell_type": "markdown",
      "metadata": {
        "id": "kaaw49O5mqec",
        "colab_type": "text"
      },
      "source": [
        "###1) 토픽모델링"
      ]
    },
    {
      "cell_type": "code",
      "metadata": {
        "id": "2LVVXaR4EJCZ",
        "colab_type": "code",
        "colab": {}
      },
      "source": [
        "docs = ['바나나 사과 포도 포도 짜장면',\n",
        "         '사과 포도',\n",
        "         '포도 바나나',\n",
        "         '짜장면 짬뽕 탕수육',\n",
        "         '볶음밥 탕수육',\n",
        "         '짜장면 짬뽕',\n",
        "         '라면 스시',\n",
        "         '스시 짜장면',\n",
        "         '가츠동 스시 소바',\n",
        "         '된장찌개 김치찌개 김치',\n",
        "         '김치 된장 짜장면',\n",
        "         '비빔밥 김치'\n",
        "         ]"
      ],
      "execution_count": null,
      "outputs": []
    },
    {
      "cell_type": "markdown",
      "metadata": {
        "id": "Cj3fMxdamzB6",
        "colab_type": "text"
      },
      "source": [
        "###2) 단어벡터"
      ]
    },
    {
      "cell_type": "markdown",
      "metadata": {
        "id": "0yfe991tm1qa",
        "colab_type": "text"
      },
      "source": [
        "###3) 문서벡터"
      ]
    },
    {
      "cell_type": "markdown",
      "metadata": {
        "id": "uGFHkelP2Upp",
        "colab_type": "text"
      },
      "source": [
        "###4) 벡터 시각화"
      ]
    },
    {
      "cell_type": "code",
      "metadata": {
        "id": "XVezoaECoPzO",
        "colab_type": "code",
        "colab": {}
      },
      "source": [
        "from sklearn.manifold import TSNE\n",
        "import numpy as np\n",
        "\n",
        "def visualize_vectors(vectors, labels):\n",
        "  tsne = TSNE(n_components=2, random_state=0, n_iter=10000, perplexity=2)\n",
        "  np.set_printoptions(suppress=True)\n",
        "  T = tsne.fit_transform(vectors)\n",
        "  #labels = vocab\n",
        "\n",
        "  plt.figure(figsize=(10, 6))\n",
        "  plt.scatter(T[:, 0], T[:, 1], c='orange', edgecolors='r')\n",
        "  for label, x, y in zip(labels, T[:, 0], T[:, 1]):\n",
        "      plt.annotate(label, xy=(x+1, y+1), xytext=(0, 0), textcoords='offset points')"
      ],
      "execution_count": null,
      "outputs": []
    },
    {
      "cell_type": "code",
      "metadata": {
        "id": "8qnSXJ4cJWoM",
        "colab_type": "code",
        "colab": {}
      },
      "source": [
        ""
      ],
      "execution_count": null,
      "outputs": []
    },
    {
      "cell_type": "code",
      "metadata": {
        "id": "NaVK4SkeJW57",
        "colab_type": "code",
        "colab": {}
      },
      "source": [
        ""
      ],
      "execution_count": null,
      "outputs": []
    },
    {
      "cell_type": "code",
      "metadata": {
        "id": "Ufmu2SzjDWJj",
        "colab_type": "code",
        "colab": {}
      },
      "source": [
        "visualize_vectors(vectors, labels)"
      ],
      "execution_count": null,
      "outputs": []
    },
    {
      "cell_type": "markdown",
      "metadata": {
        "id": "4EpgqX0rVPjM",
        "colab_type": "text"
      },
      "source": [
        "###5) 파이프라인 사용"
      ]
    }
  ]
}