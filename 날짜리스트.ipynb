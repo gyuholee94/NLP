{
  "nbformat": 4,
  "nbformat_minor": 0,
  "metadata": {
    "colab": {
      "name": "날짜리스트.ipynb",
      "provenance": [],
      "collapsed_sections": [],
      "authorship_tag": "ABX9TyObebdJ5pmdlAOySgYAmvN+",
      "include_colab_link": true
    },
    "kernelspec": {
      "name": "python3",
      "display_name": "Python 3"
    }
  },
  "cells": [
    {
      "cell_type": "markdown",
      "metadata": {
        "id": "view-in-github",
        "colab_type": "text"
      },
      "source": [
        "<a href=\"https://colab.research.google.com/github/gyuholee94/NLP/blob/master/%EB%82%A0%EC%A7%9C%EB%A6%AC%EC%8A%A4%ED%8A%B8.ipynb\" target=\"_parent\"><img src=\"https://colab.research.google.com/assets/colab-badge.svg\" alt=\"Open In Colab\"/></a>"
      ]
    },
    {
      "cell_type": "code",
      "metadata": {
        "id": "s-RcxSI6Lcus",
        "colab_type": "code",
        "colab": {
          "base_uri": "https://localhost:8080/",
          "height": 136
        },
        "outputId": "2f26a35a-f3b5-4ea1-dd10-40f3a653d21c"
      },
      "source": [
        ""
      ],
      "execution_count": 2,
      "outputs": [
        {
          "output_type": "error",
          "ename": "SyntaxError",
          "evalue": "ignored",
          "traceback": [
            "\u001b[0;36m  File \u001b[0;32m\"<ipython-input-2-9a06eea45d80>\"\u001b[0;36m, line \u001b[0;32m7\u001b[0m\n\u001b[0;31m    for result in perdelta(date(2005, 01, 01), date(2005, 12, 31), timedelta(days=7)):\u001b[0m\n\u001b[0m                                       ^\u001b[0m\n\u001b[0;31mSyntaxError\u001b[0m\u001b[0;31m:\u001b[0m invalid token\n"
          ]
        }
      ]
    },
    {
      "cell_type": "code",
      "metadata": {
        "id": "VHo6aDjoLdSC",
        "colab_type": "code",
        "colab": {
          "base_uri": "https://localhost:8080/",
          "height": 35
        },
        "outputId": "76a62c8c-46c8-4efe-910b-113c166bfb06"
      },
      "source": [
        "from datetime import date, datetime, timedelta\n",
        "import re\n",
        "def perdelta(start, end, delta):\n",
        "    curr = start\n",
        "    while curr < end:\n",
        "        yield curr\n",
        "        curr += delta\n",
        "date_list = []\n",
        "for result in perdelta(date(2005, 1, 1), date(2005, 12, 31), timedelta(days=14)):\n",
        "  date_list.append(result)\n",
        "\n",
        "date = re.findall('\\((.+?)\\)', str(date_list))\n",
        "print(len(date[:-1]), len(date[1:]))\n",
        "\n"
      ],
      "execution_count": 27,
      "outputs": [
        {
          "output_type": "stream",
          "text": [
            "25 25\n"
          ],
          "name": "stdout"
        }
      ]
    },
    {
      "cell_type": "code",
      "metadata": {
        "id": "c7FjZk3dLpMZ",
        "colab_type": "code",
        "colab": {}
      },
      "source": [
        ""
      ],
      "execution_count": null,
      "outputs": []
    }
  ]
}