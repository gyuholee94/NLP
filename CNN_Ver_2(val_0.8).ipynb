{
 "cells": [
  {
   "cell_type": "code",
   "execution_count": 1,
   "metadata": {},
   "outputs": [],
   "source": [
    "import pickle"
   ]
  },
  {
   "cell_type": "code",
   "execution_count": 2,
   "metadata": {},
   "outputs": [],
   "source": [
    "with open('news_train_data.pickle', 'rb') as f: #불러오기\n",
    "    train_data = pickle.load(f)"
   ]
  },
  {
   "cell_type": "code",
   "execution_count": 3,
   "metadata": {},
   "outputs": [],
   "source": [
    "with open('news_test_data.pickle', 'rb') as f: #불러오기\n",
    "    test_data = pickle.load(f)"
   ]
  },
  {
   "cell_type": "code",
   "execution_count": 4,
   "metadata": {
    "scrolled": true
   },
   "outputs": [
    {
     "data": {
      "text/plain": [
       "list"
      ]
     },
     "execution_count": 4,
     "metadata": {},
     "output_type": "execute_result"
    }
   ],
   "source": [
    "k = train_data['train_words_some']\n",
    "train_words_some = list(k)\n",
    "type(train_words_some)"
   ]
  },
  {
   "cell_type": "code",
   "execution_count": 5,
   "metadata": {},
   "outputs": [
    {
     "data": {
      "text/plain": [
       "list"
      ]
     },
     "execution_count": 5,
     "metadata": {},
     "output_type": "execute_result"
    }
   ],
   "source": [
    "k = train_data['train_words_all']\n",
    "train_words_all = list(k)\n",
    "type(train_words_all)"
   ]
  },
  {
   "cell_type": "code",
   "execution_count": 6,
   "metadata": {},
   "outputs": [
    {
     "data": {
      "text/html": [
       "<div>\n",
       "<style scoped>\n",
       "    .dataframe tbody tr th:only-of-type {\n",
       "        vertical-align: middle;\n",
       "    }\n",
       "\n",
       "    .dataframe tbody tr th {\n",
       "        vertical-align: top;\n",
       "    }\n",
       "\n",
       "    .dataframe thead th {\n",
       "        text-align: right;\n",
       "    }\n",
       "</style>\n",
       "<table border=\"1\" class=\"dataframe\">\n",
       "  <thead>\n",
       "    <tr style=\"text-align: right;\">\n",
       "      <th></th>\n",
       "      <th>id</th>\n",
       "      <th>document</th>\n",
       "      <th>label</th>\n",
       "      <th>test_words_some</th>\n",
       "      <th>test_words_all</th>\n",
       "    </tr>\n",
       "  </thead>\n",
       "  <tbody>\n",
       "    <tr>\n",
       "      <th>0</th>\n",
       "      <td>6270596</td>\n",
       "      <td>굳 ㅋ</td>\n",
       "      <td>1</td>\n",
       "      <td>굳다 ㅋ</td>\n",
       "      <td>굳다 ㅋ</td>\n",
       "    </tr>\n",
       "    <tr>\n",
       "      <th>1</th>\n",
       "      <td>9274899</td>\n",
       "      <td>GDNTOPCLASSINTHECLUB</td>\n",
       "      <td>0</td>\n",
       "      <td>GDNTOPCLASSINTHECLUB</td>\n",
       "      <td>GDNTOPCLASSINTHECLUB</td>\n",
       "    </tr>\n",
       "    <tr>\n",
       "      <th>2</th>\n",
       "      <td>8544678</td>\n",
       "      <td>뭐야 이 평점들은.... 나쁘진 않지만 10점 짜리는 더더욱 아니잖아</td>\n",
       "      <td>0</td>\n",
       "      <td>뭐 야 평점 .... 나쁘다 않다 10 점 짜다 리 더 더욱 아니다</td>\n",
       "      <td>뭐 평점 은 .... 나쁘다 않다 10 점 짜다 리 는 더 더욱 아니다</td>\n",
       "    </tr>\n",
       "    <tr>\n",
       "      <th>3</th>\n",
       "      <td>6825595</td>\n",
       "      <td>지루하지는 않은데 완전 막장임... 돈주고 보기에는....</td>\n",
       "      <td>0</td>\n",
       "      <td>지루하다 않다 완전 막장 임 ... 돈 주다 보기 에는 ....</td>\n",
       "      <td>지루하다 않다 완전 막장 임 돈 주다 보기 에는 ....</td>\n",
       "    </tr>\n",
       "    <tr>\n",
       "      <th>4</th>\n",
       "      <td>6723715</td>\n",
       "      <td>3D만 아니었어도 별 다섯 개 줬을텐데.. 왜 3D로 나와서 제 심기를 불편하게 하죠??</td>\n",
       "      <td>0</td>\n",
       "      <td>3 D 만 아니다 별 다섯 개 주다 .. 왜 3 D 로 나오다 제 심기 불편하다 ??</td>\n",
       "      <td>D 만 아니다 별 개 주다 .. D 나오다 심기 불편하다 하다 ??</td>\n",
       "    </tr>\n",
       "    <tr>\n",
       "      <th>...</th>\n",
       "      <td>...</td>\n",
       "      <td>...</td>\n",
       "      <td>...</td>\n",
       "      <td>...</td>\n",
       "      <td>...</td>\n",
       "    </tr>\n",
       "    <tr>\n",
       "      <th>49995</th>\n",
       "      <td>4608761</td>\n",
       "      <td>오랜만에 평점 로긴했네ㅋㅋ 킹왕짱 쌈뽕한 영화를 만났습니다 강렬하게 육쾌함</td>\n",
       "      <td>1</td>\n",
       "      <td>오랜 만 평점 로 기다 ㅋㅋ 킹왕짱 쌈뽕 영화 만나다 강렬하다 육 쾌함</td>\n",
       "      <td>오랜 만 평점 기다 하다 ㅋㅋ 킹왕짱 쌈뽕 한 영화 만나다 강렬하다 쾌함</td>\n",
       "    </tr>\n",
       "    <tr>\n",
       "      <th>49996</th>\n",
       "      <td>5308387</td>\n",
       "      <td>의지 박약들이나 하는거다 탈영은 일단 주인공 김대희 닮았고 이등병 찐따 OOOO</td>\n",
       "      <td>0</td>\n",
       "      <td>의지 박약 이나 탈영 일단 주인공 김대희 닮다 이등병 찌다 따다 OOOO</td>\n",
       "      <td>의지 박약 이나 하다 탈영 은 주인공 김대희 닮다 이등병 찌다 따다 OOOO</td>\n",
       "    </tr>\n",
       "    <tr>\n",
       "      <th>49997</th>\n",
       "      <td>9072549</td>\n",
       "      <td>그림도 좋고 완성도도 높았지만... 보는 내내 불안하게 만든다</td>\n",
       "      <td>0</td>\n",
       "      <td>그림 좋다 완성 도도 높다 ... 보다 내내 불안하다 만들다</td>\n",
       "      <td>그림 도 좋다 완성 도도 높다 보다 내내 불안하다 만들다</td>\n",
       "    </tr>\n",
       "    <tr>\n",
       "      <th>49998</th>\n",
       "      <td>5802125</td>\n",
       "      <td>절대 봐서는 안 될 영화.. 재미도 없고 기분만 잡치고.. 한 세트장에서 다 해먹네</td>\n",
       "      <td>0</td>\n",
       "      <td>절대 보다 서다 안 되다 영화 .. 재미 없다 기분 만 잡 치고 .. 세트 장 에서...</td>\n",
       "      <td>절대 보다 서다 안 되다 영화 .. 재미 도 없다 기분 만 잡 치고 .. 하다 세트...</td>\n",
       "    </tr>\n",
       "    <tr>\n",
       "      <th>49999</th>\n",
       "      <td>6070594</td>\n",
       "      <td>마무리는 또 왜이래</td>\n",
       "      <td>0</td>\n",
       "      <td>마무리 또 왜 이래</td>\n",
       "      <td>마무리 는</td>\n",
       "    </tr>\n",
       "  </tbody>\n",
       "</table>\n",
       "<p>49157 rows × 5 columns</p>\n",
       "</div>"
      ],
      "text/plain": [
       "            id                                           document  label  \\\n",
       "0      6270596                                                굳 ㅋ      1   \n",
       "1      9274899                               GDNTOPCLASSINTHECLUB      0   \n",
       "2      8544678             뭐야 이 평점들은.... 나쁘진 않지만 10점 짜리는 더더욱 아니잖아      0   \n",
       "3      6825595                   지루하지는 않은데 완전 막장임... 돈주고 보기에는....      0   \n",
       "4      6723715  3D만 아니었어도 별 다섯 개 줬을텐데.. 왜 3D로 나와서 제 심기를 불편하게 하죠??      0   \n",
       "...        ...                                                ...    ...   \n",
       "49995  4608761          오랜만에 평점 로긴했네ㅋㅋ 킹왕짱 쌈뽕한 영화를 만났습니다 강렬하게 육쾌함      1   \n",
       "49996  5308387       의지 박약들이나 하는거다 탈영은 일단 주인공 김대희 닮았고 이등병 찐따 OOOO      0   \n",
       "49997  9072549                 그림도 좋고 완성도도 높았지만... 보는 내내 불안하게 만든다      0   \n",
       "49998  5802125     절대 봐서는 안 될 영화.. 재미도 없고 기분만 잡치고.. 한 세트장에서 다 해먹네      0   \n",
       "49999  6070594                                         마무리는 또 왜이래      0   \n",
       "\n",
       "                                         test_words_some  \\\n",
       "0                                                   굳다 ㅋ   \n",
       "1                                   GDNTOPCLASSINTHECLUB   \n",
       "2                  뭐 야 평점 .... 나쁘다 않다 10 점 짜다 리 더 더욱 아니다   \n",
       "3                    지루하다 않다 완전 막장 임 ... 돈 주다 보기 에는 ....   \n",
       "4        3 D 만 아니다 별 다섯 개 주다 .. 왜 3 D 로 나오다 제 심기 불편하다 ??   \n",
       "...                                                  ...   \n",
       "49995            오랜 만 평점 로 기다 ㅋㅋ 킹왕짱 쌈뽕 영화 만나다 강렬하다 육 쾌함   \n",
       "49996           의지 박약 이나 탈영 일단 주인공 김대희 닮다 이등병 찌다 따다 OOOO   \n",
       "49997                  그림 좋다 완성 도도 높다 ... 보다 내내 불안하다 만들다   \n",
       "49998  절대 보다 서다 안 되다 영화 .. 재미 없다 기분 만 잡 치고 .. 세트 장 에서...   \n",
       "49999                                         마무리 또 왜 이래   \n",
       "\n",
       "                                          test_words_all  \n",
       "0                                                   굳다 ㅋ  \n",
       "1                                   GDNTOPCLASSINTHECLUB  \n",
       "2                뭐 평점 은 .... 나쁘다 않다 10 점 짜다 리 는 더 더욱 아니다  \n",
       "3                        지루하다 않다 완전 막장 임 돈 주다 보기 에는 ....  \n",
       "4                  D 만 아니다 별 개 주다 .. D 나오다 심기 불편하다 하다 ??  \n",
       "...                                                  ...  \n",
       "49995           오랜 만 평점 기다 하다 ㅋㅋ 킹왕짱 쌈뽕 한 영화 만나다 강렬하다 쾌함  \n",
       "49996         의지 박약 이나 하다 탈영 은 주인공 김대희 닮다 이등병 찌다 따다 OOOO  \n",
       "49997                    그림 도 좋다 완성 도도 높다 보다 내내 불안하다 만들다  \n",
       "49998  절대 보다 서다 안 되다 영화 .. 재미 도 없다 기분 만 잡 치고 .. 하다 세트...  \n",
       "49999                                              마무리 는  \n",
       "\n",
       "[49157 rows x 5 columns]"
      ]
     },
     "execution_count": 6,
     "metadata": {},
     "output_type": "execute_result"
    }
   ],
   "source": [
    "test_data"
   ]
  },
  {
   "cell_type": "code",
   "execution_count": 7,
   "metadata": {},
   "outputs": [
    {
     "data": {
      "text/plain": [
       "list"
      ]
     },
     "execution_count": 7,
     "metadata": {},
     "output_type": "execute_result"
    }
   ],
   "source": [
    "k = test_data['test_words_some']\n",
    "test_words_some = list(k)\n",
    "type(test_words_some)"
   ]
  },
  {
   "cell_type": "code",
   "execution_count": 8,
   "metadata": {},
   "outputs": [
    {
     "data": {
      "text/plain": [
       "list"
      ]
     },
     "execution_count": 8,
     "metadata": {},
     "output_type": "execute_result"
    }
   ],
   "source": [
    "k = test_data['test_words_all']\n",
    "test_words_all = list(k)\n",
    "type(test_words_all)"
   ]
  },
  {
   "cell_type": "markdown",
   "metadata": {},
   "source": [
    "# 데이터들을 리스트로!\n",
    "train_words_all / test_words_all / train_words_some / test_words_some"
   ]
  },
  {
   "cell_type": "code",
   "execution_count": 9,
   "metadata": {},
   "outputs": [],
   "source": [
    "#명령어\n",
    "import tensorflow as tf\n",
    "from tensorflow.keras.preprocessing.text import Tokenizer\n",
    "from tensorflow.keras.preprocessing.sequence import pad_sequences\n",
    "import numpy as np"
   ]
  },
  {
   "cell_type": "code",
   "execution_count": 10,
   "metadata": {},
   "outputs": [],
   "source": [
    "#파라미터\n",
    "vocab_size = 30000\n",
    "embedding_dim = 50\n",
    "max_length = 70\n",
    "truct_type = 'pre'\n",
    "padding_type = 'pre'\n",
    "oov_tok = '<OOV>'"
   ]
  },
  {
   "cell_type": "code",
   "execution_count": 11,
   "metadata": {},
   "outputs": [],
   "source": [
    "# \n",
    "tokenizer = Tokenizer(num_words=vocab_size, oov_token=oov_tok)\n",
    "tokenizer.fit_on_texts(train_words_all)\n",
    "word_index = tokenizer.word_index\n",
    "\n",
    "training_sequences  = tokenizer.texts_to_sequences(train_words_all)\n",
    "training_padded = pad_sequences(training_sequences, maxlen=max_length, \n",
    "                                padding=padding_type, truncating=truct_type)\n",
    "\n",
    "testing_sequences  = tokenizer.texts_to_sequences(test_words_all)\n",
    "testing_padded = pad_sequences(testing_sequences, maxlen=max_length, \n",
    "                                padding=padding_type, truncating=truct_type)"
   ]
  },
  {
   "cell_type": "code",
   "execution_count": 12,
   "metadata": {},
   "outputs": [],
   "source": [
    "\n",
    "training_padded = np.array(training_padded)\n",
    "training_labels = np.array(train_data['label'])\n",
    "\n",
    "testing_padded = np.array(testing_padded)\n",
    "testing_labels = np.array(test_data['label'])"
   ]
  },
  {
   "cell_type": "code",
   "execution_count": 13,
   "metadata": {},
   "outputs": [],
   "source": [
    "from keras import layers\n",
    "from keras.models import Sequential\n",
    "from keras.preprocessing.text import Tokenizer, one_hot\n",
    "from keras.preprocessing.sequence import pad_sequences\n",
    "from keras.layers import Embedding, Conv1D, GlobalMaxPooling1D, Dense, Dropout, Flatten, MaxPooling1D, Input, Concatenate\n",
    "from keras.models import load_model\n",
    "from keras import regularizers\n",
    "from tensorflow.keras import regularizers"
   ]
  },
  {
   "cell_type": "code",
   "execution_count": 18,
   "metadata": {},
   "outputs": [
    {
     "name": "stdout",
     "output_type": "stream",
     "text": [
      "Model: \"functional_3\"\n",
      "__________________________________________________________________________________________________\n",
      "Layer (type)                    Output Shape         Param #     Connected to                     \n",
      "==================================================================================================\n",
      "input_2 (InputLayer)            [(None, 70)]         0                                            \n",
      "__________________________________________________________________________________________________\n",
      "embedding_1 (Embedding)         (None, 70, 50)       1500000     input_2[0][0]                    \n",
      "__________________________________________________________________________________________________\n",
      "conv1d_3 (Conv1D)               (None, 70, 100)      15100       embedding_1[0][0]                \n",
      "__________________________________________________________________________________________________\n",
      "conv1d_4 (Conv1D)               (None, 70, 100)      20100       embedding_1[0][0]                \n",
      "__________________________________________________________________________________________________\n",
      "conv1d_5 (Conv1D)               (None, 70, 100)      25100       embedding_1[0][0]                \n",
      "__________________________________________________________________________________________________\n",
      "max_pooling1d_3 (MaxPooling1D)  (None, 35, 100)      0           conv1d_3[0][0]                   \n",
      "__________________________________________________________________________________________________\n",
      "max_pooling1d_4 (MaxPooling1D)  (None, 35, 100)      0           conv1d_4[0][0]                   \n",
      "__________________________________________________________________________________________________\n",
      "max_pooling1d_5 (MaxPooling1D)  (None, 35, 100)      0           conv1d_5[0][0]                   \n",
      "__________________________________________________________________________________________________\n",
      "concatenate_1 (Concatenate)     (None, 35, 300)      0           max_pooling1d_3[0][0]            \n",
      "                                                                 max_pooling1d_4[0][0]            \n",
      "                                                                 max_pooling1d_5[0][0]            \n",
      "__________________________________________________________________________________________________\n",
      "global_average_pooling1d_1 (Glo (None, 300)          0           concatenate_1[0][0]              \n",
      "__________________________________________________________________________________________________\n",
      "dense_2 (Dense)                 (None, 128)          38528       global_average_pooling1d_1[0][0] \n",
      "__________________________________________________________________________________________________\n",
      "dropout_1 (Dropout)             (None, 128)          0           dense_2[0][0]                    \n",
      "__________________________________________________________________________________________________\n",
      "dense_3 (Dense)                 (None, 1)            129         dropout_1[0][0]                  \n",
      "==================================================================================================\n",
      "Total params: 1,598,957\n",
      "Trainable params: 98,957\n",
      "Non-trainable params: 1,500,000\n",
      "__________________________________________________________________________________________________\n"
     ]
    }
   ],
   "source": [
    "from tensorflow.keras.preprocessing.text import Tokenizer \n",
    "import tensorflow as tf\n",
    "from tensorflow import keras \n",
    "from tensorflow.keras.preprocessing.sequence import pad_sequences\n",
    "from tensorflow.keras import Input, layers\n",
    "from keras.models import load_model\n",
    "# word_index = tokenizer.word_index\n",
    "# vocab_size = len(word_index) + 1  \n",
    "# max_len = max(len(x) for x in training_padded)\n",
    "# max_len = 100 \n",
    "# embedding_dim = 300\n",
    "# vocab_size = len(word_index) + 1\n",
    "# class_weights = class_weight.compute_class_weight('balanced', np.unique(training_labels), training_labels)\n",
    "# class_weights_d = dict(enumerate(class_weights))\n",
    "# Kim Yoon CNN\n",
    "sequence_input = Input(shape=(max_length,), dtype='int32')\n",
    "embedding_layer = tf.keras.layers.Embedding(vocab_size,\n",
    "                                            embedding_dim,\n",
    "                                            input_length=max_length,\n",
    "                                            trainable=False)\n",
    "embedded_sequences = embedding_layer(sequence_input)\n",
    "convs = []\n",
    "filter_sizes = [3,4,5]\n",
    "for fsz in filter_sizes:\n",
    "#     x = layers.Conv1D(100, fsz, activation='relu',padding='same',kernel_regularizer=tf.keras.regularizers.l2(0.003))(embedded_sequences)\n",
    "    x = layers.Conv1D(100, fsz, activation='relu',padding='same')(embedded_sequences)\n",
    "    x = layers.MaxPooling1D()(x)\n",
    "    convs.append(x)\n",
    "\n",
    "x = layers.Concatenate(axis=-1)(convs)\n",
    "x = layers.GlobalAveragePooling1D()(x)\n",
    "x = layers.Dense(128, activation='relu')(x)\n",
    "\n",
    "x = layers.Dropout(0.5)(x)\n",
    "\n",
    "output = layers.Dense(1, activation='sigmoid')(x)\n",
    "model = keras.models.Model(sequence_input, output)\n",
    "model.compile(loss='binary_crossentropy', optimizer='adam', metrics=['accuracy'])\n",
    "model.summary()\n",
    "\n",
    "\n",
    "\n",
    "\n",
    "\n"
   ]
  },
  {
   "cell_type": "code",
   "execution_count": 19,
   "metadata": {},
   "outputs": [],
   "source": [
    "# model = tf.keras.Sequential([\n",
    "#                              tf.keras.layers.Embedding(vocab_size,embedding_dim, input_length=max_length), #input : vocab_siez, out_put = embedding_dim\n",
    "                             \n",
    "#                              tf.concat([conv[i] for i in range(len(conv))], axis=-1, name = conv),\n",
    "#                              tf.keras.layers.MaxPooling1D(),\n",
    "#                              tf.keras.Dropout(0.5),\n",
    "#                              tf.keras.layers.GlobalAveragePooling1D(),\n",
    "#                              tf.keras.layers.Dense(24, activation='relu'),\n",
    "#                              tf.keras.layers.Dense(1, activation='sigmoid')                       \n",
    "# ])"
   ]
  },
  {
   "cell_type": "code",
   "execution_count": 20,
   "metadata": {},
   "outputs": [],
   "source": [
    "model.compile(optimizer='adam',\n",
    "              loss='binary_crossentropy',\n",
    "              metrics=['accuracy'])"
   ]
  },
  {
   "cell_type": "code",
   "execution_count": 21,
   "metadata": {},
   "outputs": [
    {
     "name": "stdout",
     "output_type": "stream",
     "text": [
      "Epoch 1/20\n",
      "4569/4569 [==============================] - 88s 19ms/step - loss: 0.5786 - accuracy: 0.6852 - val_loss: 0.4892 - val_accuracy: 0.7609\n",
      "Epoch 2/20\n",
      "4569/4569 [==============================] - 79s 17ms/step - loss: 0.4663 - accuracy: 0.7773 - val_loss: 0.4517 - val_accuracy: 0.7835\n",
      "Epoch 3/20\n",
      "4569/4569 [==============================] - 80s 17ms/step - loss: 0.4275 - accuracy: 0.8015 - val_loss: 0.4344 - val_accuracy: 0.7941\n",
      "Epoch 4/20\n",
      "4569/4569 [==============================] - 80s 18ms/step - loss: 0.4003 - accuracy: 0.8189 - val_loss: 0.4344 - val_accuracy: 0.7959\n",
      "Epoch 5/20\n",
      "4569/4569 [==============================] - 81s 18ms/step - loss: 0.3775 - accuracy: 0.8315 - val_loss: 0.4187 - val_accuracy: 0.8048\n",
      "Epoch 6/20\n",
      "4569/4569 [==============================] - 97s 21ms/step - loss: 0.3585 - accuracy: 0.8433 - val_loss: 0.4260 - val_accuracy: 0.8010\n",
      "Epoch 7/20\n",
      "4569/4569 [==============================] - 90s 20ms/step - loss: 0.3406 - accuracy: 0.8517 - val_loss: 0.4165 - val_accuracy: 0.8044\n",
      "Epoch 8/20\n",
      "4569/4569 [==============================] - 87s 19ms/step - loss: 0.3230 - accuracy: 0.8607 - val_loss: 0.4153 - val_accuracy: 0.8058\n",
      "Epoch 9/20\n",
      "4569/4569 [==============================] - 91s 20ms/step - loss: 0.3090 - accuracy: 0.8677 - val_loss: 0.4312 - val_accuracy: 0.8058\n",
      "Epoch 10/20\n",
      "4569/4569 [==============================] - 123s 27ms/step - loss: 0.2929 - accuracy: 0.8763 - val_loss: 0.4394 - val_accuracy: 0.8040\n",
      "Epoch 11/20\n",
      "4569/4569 [==============================] - 87s 19ms/step - loss: 0.2779 - accuracy: 0.8843 - val_loss: 0.4505 - val_accuracy: 0.8052\n",
      "Epoch 12/20\n",
      "4569/4569 [==============================] - 82s 18ms/step - loss: 0.2657 - accuracy: 0.8897 - val_loss: 0.4947 - val_accuracy: 0.7923\n",
      "Epoch 13/20\n",
      "4569/4569 [==============================] - 81s 18ms/step - loss: 0.2562 - accuracy: 0.8942 - val_loss: 0.4950 - val_accuracy: 0.7952\n",
      "Epoch 14/20\n",
      "4569/4569 [==============================] - 99s 22ms/step - loss: 0.2451 - accuracy: 0.8991 - val_loss: 0.4916 - val_accuracy: 0.7988\n",
      "Epoch 15/20\n",
      "4569/4569 [==============================] - 104s 23ms/step - loss: 0.2345 - accuracy: 0.9035 - val_loss: 0.5027 - val_accuracy: 0.7977\n",
      "Epoch 16/20\n",
      "4569/4569 [==============================] - 93s 20ms/step - loss: 0.2245 - accuracy: 0.9088 - val_loss: 0.5085 - val_accuracy: 0.8011\n",
      "Epoch 17/20\n",
      "4569/4569 [==============================] - 93s 20ms/step - loss: 0.2177 - accuracy: 0.9119 - val_loss: 0.5079 - val_accuracy: 0.7973\n",
      "Epoch 18/20\n",
      "4569/4569 [==============================] - 98s 21ms/step - loss: 0.2103 - accuracy: 0.9143 - val_loss: 0.5577 - val_accuracy: 0.7939\n",
      "Epoch 19/20\n",
      "4569/4569 [==============================] - 92s 20ms/step - loss: 0.2022 - accuracy: 0.9183 - val_loss: 0.5592 - val_accuracy: 0.7990\n",
      "Epoch 20/20\n",
      "4569/4569 [==============================] - 93s 20ms/step - loss: 0.1967 - accuracy: 0.9201 - val_loss: 0.5631 - val_accuracy: 0.7980\n"
     ]
    }
   ],
   "source": [
    "num_epochs = 20\n",
    "\n",
    "history = model.fit(training_padded, training_labels, epochs=num_epochs, validation_data=(testing_padded, testing_labels), verbose=True)"
   ]
  },
  {
   "cell_type": "code",
   "execution_count": 22,
   "metadata": {},
   "outputs": [
    {
     "data": {
      "image/png": "[encoded data removed]",
      "text/plain": [
       "<Figure size 432x288 with 1 Axes>"
      ]
     },
     "metadata": {
      "needs_background": "light"
     },
     "output_type": "display_data"
    },
    {
     "data": {
      "image/png": "[encoded data removed]",
      "text/plain": [
       "<Figure size 432x288 with 1 Axes>"
      ]
     },
     "metadata": {
      "needs_background": "light"
     },
     "output_type": "display_data"
    }
   ],
   "source": [
    "import matplotlib.pyplot as plt\n",
    "\n",
    "def plot_graphs(history, string):\n",
    "  plt.plot(history.history[string])\n",
    "  plt.plot(history.history['val_' + string])\n",
    "  plt.xlabel(\"Epochs\")\n",
    "  plt.ylabel(string)\n",
    "  plt.legend([string, 'val_' + string])\n",
    "  plt.show()\n",
    "\n",
    "plot_graphs(history, 'accuracy')\n",
    "plot_graphs(history, 'loss')"
   ]
  },
  {
   "cell_type": "code",
   "execution_count": 23,
   "metadata": {},
   "outputs": [
    {
     "name": "stdout",
     "output_type": "stream",
     "text": [
      "WARNING:tensorflow:From /home/jun/anaconda3/envs/jun/lib/python3.6/site-packages/tensorflow/python/training/tracking/tracking.py:111: Model.state_updates (from tensorflow.python.keras.engine.training) is deprecated and will be removed in a future version.\n",
      "Instructions for updating:\n",
      "This property should not be used in TensorFlow 2.0, as updates are applied automatically.\n",
      "WARNING:tensorflow:From /home/jun/anaconda3/envs/jun/lib/python3.6/site-packages/tensorflow/python/training/tracking/tracking.py:111: Layer.updates (from tensorflow.python.keras.engine.base_layer) is deprecated and will be removed in a future version.\n",
      "Instructions for updating:\n",
      "This property should not be used in TensorFlow 2.0, as updates are applied automatically.\n",
      "INFO:tensorflow:Assets written to: saved_model_naver/my_model/assets\n"
     ]
    }
   ],
   "source": [
    "!mkdir -p saved_model\n",
    "model.save('saved_model_naver/my_model')"
   ]
  },
  {
   "cell_type": "code",
   "execution_count": null,
   "metadata": {},
   "outputs": [],
   "source": []
  }
 ],
 "metadata": {
  "kernelspec": {
   "display_name": "Python 3",
   "language": "python",
   "name": "python3"
  },
  "language_info": {
   "codemirror_mode": {
    "name": "ipython",
    "version": 3
   },
   "file_extension": ".py",
   "mimetype": "text/x-python",
   "name": "python",
   "nbconvert_exporter": "python",
   "pygments_lexer": "ipython3",
   "version": "3.6.10"
  }
 },
 "nbformat": 4,
 "nbformat_minor": 4
}
