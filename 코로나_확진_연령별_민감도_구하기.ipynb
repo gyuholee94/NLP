{
  "nbformat": 4,
  "nbformat_minor": 0,
  "metadata": {
    "kernelspec": {
      "display_name": "Python 3",
      "language": "python",
      "name": "python3"
    },
    "language_info": {
      "codemirror_mode": {
        "name": "ipython",
        "version": 3
      },
      "file_extension": ".py",
      "mimetype": "text/x-python",
      "name": "python",
      "nbconvert_exporter": "python",
      "pygments_lexer": "ipython3",
      "version": "3.8.3"
    },
    "colab": {
      "name": "코로나 확진 연령별 민감도 구하기.ipynb",
      "provenance": [],
      "include_colab_link": true
    }
  },
  "cells": [
    {
      "cell_type": "markdown",
      "metadata": {
        "id": "view-in-github",
        "colab_type": "text"
      },
      "source": [
        "<a href=\"https://colab.research.google.com/github/gyuholee94/NLP/blob/master/%EC%BD%94%EB%A1%9C%EB%82%98_%ED%99%95%EC%A7%84_%EC%97%B0%EB%A0%B9%EB%B3%84_%EB%AF%BC%EA%B0%90%EB%8F%84_%EA%B5%AC%ED%95%98%EA%B8%B0.ipynb\" target=\"_parent\"><img src=\"https://colab.research.google.com/assets/colab-badge.svg\" alt=\"Open In Colab\"/></a>"
      ]
    },
    {
      "cell_type": "markdown",
      "metadata": {
        "id": "cS1LY2FY5XKi",
        "colab_type": "text"
      },
      "source": [
        "## 전처리"
      ]
    },
    {
      "cell_type": "code",
      "metadata": {
        "id": "WIR_XEFi5XKk",
        "colab_type": "code",
        "colab": {
          "base_uri": "https://localhost:8080/",
          "height": 153
        },
        "outputId": "5a7c8bab-7c1b-4512-dc5e-3dc2c30088b8"
      },
      "source": [
        "import seaborn as sns\n",
        "import pandas as pd\n",
        "import numpy as np\n",
        "import matplotlib.pyplot as plt\n",
        "# from dbfread import DBF\n",
        "# from haversine import haversine\n",
        "from tqdm.notebook import tqdm\n",
        "%matplotlib inline\n",
        "import platform\n",
        "import pickle\n",
        "import re\n",
        "platform.system()\n",
        "if platform.system() == 'Darwin': # Mac 환경 폰트 설정\n",
        "    plt.rc('font', family='AppleGothic')\n",
        "elif platform.system() == 'Windows': # Windows 환경 폰트 설정\n",
        "    plt.rc('font', family='Malgun Gothic')\n",
        "plt.rc('axes', unicode_minus=False) # 마이너스 폰트 설정\n",
        "%config InlineBackend.figure_format = 'retina'\n",
        "!pip install dbfread\n",
        "!pip install haversine"
      ],
      "execution_count": 2,
      "outputs": [
        {
          "output_type": "stream",
          "text": [
            "Collecting dbfread\n",
            "  Downloading https://files.pythonhosted.org/packages/4c/94/51349e43503e30ed7b4ecfe68a8809cdb58f722c0feb79d18b1f1e36fe74/dbfread-2.0.7-py2.py3-none-any.whl\n",
            "Installing collected packages: dbfread\n",
            "Successfully installed dbfread-2.0.7\n",
            "Collecting haversine\n",
            "  Downloading https://files.pythonhosted.org/packages/f4/52/a13286844780c7b1740edbbee8a8f0524e2a6d51c068b59dda39a6a119f5/haversine-2.3.0-py2.py3-none-any.whl\n",
            "Installing collected packages: haversine\n",
            "Successfully installed haversine-2.3.0\n"
          ],
          "name": "stdout"
        }
      ]
    },
    {
      "cell_type": "code",
      "metadata": {
        "id": "aXE9uIAP5cWb",
        "colab_type": "code",
        "colab": {
          "base_uri": "https://localhost:8080/",
          "height": 122
        },
        "outputId": "eef5a96a-0674-4370-c037-2186b34b735c"
      },
      "source": [
        "from google.colab import drive\n",
        "drive.mount('/content/drive')"
      ],
      "execution_count": 3,
      "outputs": [
        {
          "output_type": "stream",
          "text": [
            "Go to this URL in a browser: https://accounts.google.com/o/oauth2/auth?client_id=947318989803-6bn6qk8qdgf4n4g3pfee6491hc0brc4i.apps.googleusercontent.com&redirect_uri=urn%3aietf%3awg%3aoauth%3a2.0%3aoob&scope=email%20https%3a%2f%2fwww.googleapis.com%2fauth%2fdocs.test%20https%3a%2f%2fwww.googleapis.com%2fauth%2fdrive%20https%3a%2f%2fwww.googleapis.com%2fauth%2fdrive.photos.readonly%20https%3a%2f%2fwww.googleapis.com%2fauth%2fpeopleapi.readonly&response_type=code\n",
            "\n",
            "Enter your authorization code:\n",
            "4/4AH9mixWNcALPpjnMeJC0i23GwPSbqYWDFL84vwdqIa_NVL3oluuDKU\n",
            "Mounted at /content/drive\n"
          ],
          "name": "stdout"
        }
      ]
    },
    {
      "cell_type": "markdown",
      "metadata": {
        "id": "KMayqUmF5XKq",
        "colab_type": "text"
      },
      "source": [
        "## SKT API 서울시 구별 성별 연령별 일자별 시간별 유동인구"
      ]
    },
    {
      "cell_type": "code",
      "metadata": {
        "id": "HflQYJdo5XKr",
        "colab_type": "code",
        "colab": {},
        "outputId": "e50407dd-ab83-4627-f0a2-5ce4cb2e1cc7"
      },
      "source": [
        "# time01 = pd.read_csv('./Floating_Population_2001.csv')\n",
        "# time01"
      ],
      "execution_count": null,
      "outputs": [
        {
          "output_type": "execute_result",
          "data": {
            "text/html": [
              "<div>\n",
              "<style scoped>\n",
              "    .dataframe tbody tr th:only-of-type {\n",
              "        vertical-align: middle;\n",
              "    }\n",
              "\n",
              "    .dataframe tbody tr th {\n",
              "        vertical-align: top;\n",
              "    }\n",
              "\n",
              "    .dataframe thead th {\n",
              "        text-align: right;\n",
              "    }\n",
              "</style>\n",
              "<table border=\"1\" class=\"dataframe\">\n",
              "  <thead>\n",
              "    <tr style=\"text-align: right;\">\n",
              "      <th></th>\n",
              "      <th>일자</th>\n",
              "      <th>시간(1시간단위)</th>\n",
              "      <th>연령대(10세단위)</th>\n",
              "      <th>성별</th>\n",
              "      <th>시</th>\n",
              "      <th>군구</th>\n",
              "      <th>유동인구수</th>\n",
              "    </tr>\n",
              "  </thead>\n",
              "  <tbody>\n",
              "    <tr>\n",
              "      <th>0</th>\n",
              "      <td>20200101</td>\n",
              "      <td>0</td>\n",
              "      <td>70</td>\n",
              "      <td>여성</td>\n",
              "      <td>서울</td>\n",
              "      <td>중구</td>\n",
              "      <td>7910</td>\n",
              "    </tr>\n",
              "    <tr>\n",
              "      <th>1</th>\n",
              "      <td>20200101</td>\n",
              "      <td>1</td>\n",
              "      <td>20</td>\n",
              "      <td>여성</td>\n",
              "      <td>서울</td>\n",
              "      <td>중구</td>\n",
              "      <td>12330</td>\n",
              "    </tr>\n",
              "    <tr>\n",
              "      <th>2</th>\n",
              "      <td>20200101</td>\n",
              "      <td>1</td>\n",
              "      <td>40</td>\n",
              "      <td>여성</td>\n",
              "      <td>서울</td>\n",
              "      <td>구로구</td>\n",
              "      <td>34400</td>\n",
              "    </tr>\n",
              "    <tr>\n",
              "      <th>3</th>\n",
              "      <td>20200101</td>\n",
              "      <td>1</td>\n",
              "      <td>40</td>\n",
              "      <td>여성</td>\n",
              "      <td>서울</td>\n",
              "      <td>서대문구</td>\n",
              "      <td>24400</td>\n",
              "    </tr>\n",
              "    <tr>\n",
              "      <th>4</th>\n",
              "      <td>20200101</td>\n",
              "      <td>1</td>\n",
              "      <td>50</td>\n",
              "      <td>여성</td>\n",
              "      <td>서울</td>\n",
              "      <td>구로구</td>\n",
              "      <td>36590</td>\n",
              "    </tr>\n",
              "    <tr>\n",
              "      <th>...</th>\n",
              "      <td>...</td>\n",
              "      <td>...</td>\n",
              "      <td>...</td>\n",
              "      <td>...</td>\n",
              "      <td>...</td>\n",
              "      <td>...</td>\n",
              "      <td>...</td>\n",
              "    </tr>\n",
              "    <tr>\n",
              "      <th>223195</th>\n",
              "      <td>20200131</td>\n",
              "      <td>23</td>\n",
              "      <td>30</td>\n",
              "      <td>남성</td>\n",
              "      <td>서울</td>\n",
              "      <td>동대문구</td>\n",
              "      <td>27600</td>\n",
              "    </tr>\n",
              "    <tr>\n",
              "      <th>223196</th>\n",
              "      <td>20200131</td>\n",
              "      <td>23</td>\n",
              "      <td>50</td>\n",
              "      <td>여성</td>\n",
              "      <td>서울</td>\n",
              "      <td>양천구</td>\n",
              "      <td>38680</td>\n",
              "    </tr>\n",
              "    <tr>\n",
              "      <th>223197</th>\n",
              "      <td>20200131</td>\n",
              "      <td>23</td>\n",
              "      <td>70</td>\n",
              "      <td>남성</td>\n",
              "      <td>서울</td>\n",
              "      <td>영등포구</td>\n",
              "      <td>14790</td>\n",
              "    </tr>\n",
              "    <tr>\n",
              "      <th>223198</th>\n",
              "      <td>20200131</td>\n",
              "      <td>23</td>\n",
              "      <td>70</td>\n",
              "      <td>여성</td>\n",
              "      <td>서울</td>\n",
              "      <td>서초구</td>\n",
              "      <td>16990</td>\n",
              "    </tr>\n",
              "    <tr>\n",
              "      <th>223199</th>\n",
              "      <td>20200131</td>\n",
              "      <td>23</td>\n",
              "      <td>70</td>\n",
              "      <td>여성</td>\n",
              "      <td>서울</td>\n",
              "      <td>송파구</td>\n",
              "      <td>24900</td>\n",
              "    </tr>\n",
              "  </tbody>\n",
              "</table>\n",
              "<p>223200 rows × 7 columns</p>\n",
              "</div>"
            ],
            "text/plain": [
              "              일자  시간(1시간단위)  연령대(10세단위)  성별   시    군구  유동인구수\n",
              "0       20200101          0          70  여성  서울    중구   7910\n",
              "1       20200101          1          20  여성  서울    중구  12330\n",
              "2       20200101          1          40  여성  서울   구로구  34400\n",
              "3       20200101          1          40  여성  서울  서대문구  24400\n",
              "4       20200101          1          50  여성  서울   구로구  36590\n",
              "...          ...        ...         ...  ..  ..   ...    ...\n",
              "223195  20200131         23          30  남성  서울  동대문구  27600\n",
              "223196  20200131         23          50  여성  서울   양천구  38680\n",
              "223197  20200131         23          70  남성  서울  영등포구  14790\n",
              "223198  20200131         23          70  여성  서울   서초구  16990\n",
              "223199  20200131         23          70  여성  서울   송파구  24900\n",
              "\n",
              "[223200 rows x 7 columns]"
            ]
          },
          "metadata": {
            "tags": []
          },
          "execution_count": 131
        }
      ]
    },
    {
      "cell_type": "code",
      "metadata": {
        "id": "9VX-dOOf5XKv",
        "colab_type": "code",
        "colab": {}
      },
      "source": [
        "# time01 = pd.read_csv('./Floating_Population_2001.csv')\n",
        "# time02 = pd.read_csv('./Floating_Population_2002.csv')\n",
        "# time03 = pd.read_csv('./Floating_Population_2003.csv')\n",
        "# time04 = pd.read_csv('./Floating_Population_2004.csv')\n",
        "# time05 = pd.read_csv('./Floating_Population_2005.csv')\n",
        "# time06 = pd.read_csv('./Floating_Population_2006.csv')\n",
        "# time07 = pd.read_csv('./Floating_Population_2007.csv')"
      ],
      "execution_count": null,
      "outputs": []
    },
    {
      "cell_type": "code",
      "metadata": {
        "scrolled": true,
        "id": "wZsE9HL45XKy",
        "colab_type": "code",
        "colab": {},
        "outputId": "54c3e754-9b3b-406d-a91b-370ef35db477"
      },
      "source": [
        "# time = pd.concat([time01, time02, time03, time04, time05, time06, time07])\n",
        "# time"
      ],
      "execution_count": null,
      "outputs": [
        {
          "output_type": "execute_result",
          "data": {
            "text/html": [
              "<div>\n",
              "<style scoped>\n",
              "    .dataframe tbody tr th:only-of-type {\n",
              "        vertical-align: middle;\n",
              "    }\n",
              "\n",
              "    .dataframe tbody tr th {\n",
              "        vertical-align: top;\n",
              "    }\n",
              "\n",
              "    .dataframe thead th {\n",
              "        text-align: right;\n",
              "    }\n",
              "</style>\n",
              "<table border=\"1\" class=\"dataframe\">\n",
              "  <thead>\n",
              "    <tr style=\"text-align: right;\">\n",
              "      <th></th>\n",
              "      <th>일자</th>\n",
              "      <th>시간(1시간단위)</th>\n",
              "      <th>연령대(10세단위)</th>\n",
              "      <th>성별</th>\n",
              "      <th>시</th>\n",
              "      <th>군구</th>\n",
              "      <th>유동인구수</th>\n",
              "    </tr>\n",
              "  </thead>\n",
              "  <tbody>\n",
              "    <tr>\n",
              "      <th>0</th>\n",
              "      <td>20200101</td>\n",
              "      <td>0</td>\n",
              "      <td>70</td>\n",
              "      <td>여성</td>\n",
              "      <td>서울</td>\n",
              "      <td>중구</td>\n",
              "      <td>7910</td>\n",
              "    </tr>\n",
              "    <tr>\n",
              "      <th>1</th>\n",
              "      <td>20200101</td>\n",
              "      <td>1</td>\n",
              "      <td>20</td>\n",
              "      <td>여성</td>\n",
              "      <td>서울</td>\n",
              "      <td>중구</td>\n",
              "      <td>12330</td>\n",
              "    </tr>\n",
              "    <tr>\n",
              "      <th>2</th>\n",
              "      <td>20200101</td>\n",
              "      <td>1</td>\n",
              "      <td>40</td>\n",
              "      <td>여성</td>\n",
              "      <td>서울</td>\n",
              "      <td>구로구</td>\n",
              "      <td>34400</td>\n",
              "    </tr>\n",
              "    <tr>\n",
              "      <th>3</th>\n",
              "      <td>20200101</td>\n",
              "      <td>1</td>\n",
              "      <td>40</td>\n",
              "      <td>여성</td>\n",
              "      <td>서울</td>\n",
              "      <td>서대문구</td>\n",
              "      <td>24400</td>\n",
              "    </tr>\n",
              "    <tr>\n",
              "      <th>4</th>\n",
              "      <td>20200101</td>\n",
              "      <td>1</td>\n",
              "      <td>50</td>\n",
              "      <td>여성</td>\n",
              "      <td>서울</td>\n",
              "      <td>구로구</td>\n",
              "      <td>36590</td>\n",
              "    </tr>\n",
              "    <tr>\n",
              "      <th>...</th>\n",
              "      <td>...</td>\n",
              "      <td>...</td>\n",
              "      <td>...</td>\n",
              "      <td>...</td>\n",
              "      <td>...</td>\n",
              "      <td>...</td>\n",
              "      <td>...</td>\n",
              "    </tr>\n",
              "    <tr>\n",
              "      <th>223195</th>\n",
              "      <td>20200731</td>\n",
              "      <td>22</td>\n",
              "      <td>20</td>\n",
              "      <td>여성</td>\n",
              "      <td>서울</td>\n",
              "      <td>구로구</td>\n",
              "      <td>29360</td>\n",
              "    </tr>\n",
              "    <tr>\n",
              "      <th>223196</th>\n",
              "      <td>20200731</td>\n",
              "      <td>22</td>\n",
              "      <td>20</td>\n",
              "      <td>여성</td>\n",
              "      <td>서울</td>\n",
              "      <td>성북구</td>\n",
              "      <td>32900</td>\n",
              "    </tr>\n",
              "    <tr>\n",
              "      <th>223197</th>\n",
              "      <td>20200731</td>\n",
              "      <td>22</td>\n",
              "      <td>30</td>\n",
              "      <td>남성</td>\n",
              "      <td>서울</td>\n",
              "      <td>강동구</td>\n",
              "      <td>34010</td>\n",
              "    </tr>\n",
              "    <tr>\n",
              "      <th>223198</th>\n",
              "      <td>20200731</td>\n",
              "      <td>23</td>\n",
              "      <td>30</td>\n",
              "      <td>여성</td>\n",
              "      <td>서울</td>\n",
              "      <td>서대문구</td>\n",
              "      <td>21960</td>\n",
              "    </tr>\n",
              "    <tr>\n",
              "      <th>223199</th>\n",
              "      <td>20200731</td>\n",
              "      <td>23</td>\n",
              "      <td>70</td>\n",
              "      <td>여성</td>\n",
              "      <td>서울</td>\n",
              "      <td>마포구</td>\n",
              "      <td>17770</td>\n",
              "    </tr>\n",
              "  </tbody>\n",
              "</table>\n",
              "<p>1524000 rows × 7 columns</p>\n",
              "</div>"
            ],
            "text/plain": [
              "              일자  시간(1시간단위)  연령대(10세단위)  성별   시    군구  유동인구수\n",
              "0       20200101          0          70  여성  서울    중구   7910\n",
              "1       20200101          1          20  여성  서울    중구  12330\n",
              "2       20200101          1          40  여성  서울   구로구  34400\n",
              "3       20200101          1          40  여성  서울  서대문구  24400\n",
              "4       20200101          1          50  여성  서울   구로구  36590\n",
              "...          ...        ...         ...  ..  ..   ...    ...\n",
              "223195  20200731         22          20  여성  서울   구로구  29360\n",
              "223196  20200731         22          20  여성  서울   성북구  32900\n",
              "223197  20200731         22          30  남성  서울   강동구  34010\n",
              "223198  20200731         23          30  여성  서울  서대문구  21960\n",
              "223199  20200731         23          70  여성  서울   마포구  17770\n",
              "\n",
              "[1524000 rows x 7 columns]"
            ]
          },
          "metadata": {
            "tags": []
          },
          "execution_count": 133
        }
      ]
    },
    {
      "cell_type": "code",
      "metadata": {
        "id": "q5BFlVRP5XK2",
        "colab_type": "code",
        "colab": {}
      },
      "source": [
        "# #시는 다 서울이라 필요없다.\n",
        "# del time['시']"
      ],
      "execution_count": null,
      "outputs": []
    },
    {
      "cell_type": "code",
      "metadata": {
        "id": "RMx9ti3Q5XK6",
        "colab_type": "code",
        "colab": {}
      },
      "source": [
        "# time.columns = ['date', 'time', 'age', 'sex', 'gu' , 'ppl']"
      ],
      "execution_count": null,
      "outputs": []
    },
    {
      "cell_type": "code",
      "metadata": {
        "id": "ay_YMhdu5XK9",
        "colab_type": "code",
        "colab": {},
        "outputId": "147abcd5-8933-442a-ccca-f237b4168d17"
      },
      "source": [
        "# time"
      ],
      "execution_count": null,
      "outputs": [
        {
          "output_type": "execute_result",
          "data": {
            "text/html": [
              "<div>\n",
              "<style scoped>\n",
              "    .dataframe tbody tr th:only-of-type {\n",
              "        vertical-align: middle;\n",
              "    }\n",
              "\n",
              "    .dataframe tbody tr th {\n",
              "        vertical-align: top;\n",
              "    }\n",
              "\n",
              "    .dataframe thead th {\n",
              "        text-align: right;\n",
              "    }\n",
              "</style>\n",
              "<table border=\"1\" class=\"dataframe\">\n",
              "  <thead>\n",
              "    <tr style=\"text-align: right;\">\n",
              "      <th></th>\n",
              "      <th>date</th>\n",
              "      <th>time</th>\n",
              "      <th>age</th>\n",
              "      <th>sex</th>\n",
              "      <th>gu</th>\n",
              "      <th>ppl</th>\n",
              "    </tr>\n",
              "  </thead>\n",
              "  <tbody>\n",
              "    <tr>\n",
              "      <th>0</th>\n",
              "      <td>20200101</td>\n",
              "      <td>0</td>\n",
              "      <td>70</td>\n",
              "      <td>여성</td>\n",
              "      <td>중구</td>\n",
              "      <td>7910</td>\n",
              "    </tr>\n",
              "    <tr>\n",
              "      <th>1</th>\n",
              "      <td>20200101</td>\n",
              "      <td>1</td>\n",
              "      <td>20</td>\n",
              "      <td>여성</td>\n",
              "      <td>중구</td>\n",
              "      <td>12330</td>\n",
              "    </tr>\n",
              "    <tr>\n",
              "      <th>2</th>\n",
              "      <td>20200101</td>\n",
              "      <td>1</td>\n",
              "      <td>40</td>\n",
              "      <td>여성</td>\n",
              "      <td>구로구</td>\n",
              "      <td>34400</td>\n",
              "    </tr>\n",
              "    <tr>\n",
              "      <th>3</th>\n",
              "      <td>20200101</td>\n",
              "      <td>1</td>\n",
              "      <td>40</td>\n",
              "      <td>여성</td>\n",
              "      <td>서대문구</td>\n",
              "      <td>24400</td>\n",
              "    </tr>\n",
              "    <tr>\n",
              "      <th>4</th>\n",
              "      <td>20200101</td>\n",
              "      <td>1</td>\n",
              "      <td>50</td>\n",
              "      <td>여성</td>\n",
              "      <td>구로구</td>\n",
              "      <td>36590</td>\n",
              "    </tr>\n",
              "    <tr>\n",
              "      <th>...</th>\n",
              "      <td>...</td>\n",
              "      <td>...</td>\n",
              "      <td>...</td>\n",
              "      <td>...</td>\n",
              "      <td>...</td>\n",
              "      <td>...</td>\n",
              "    </tr>\n",
              "    <tr>\n",
              "      <th>223195</th>\n",
              "      <td>20200731</td>\n",
              "      <td>22</td>\n",
              "      <td>20</td>\n",
              "      <td>여성</td>\n",
              "      <td>구로구</td>\n",
              "      <td>29360</td>\n",
              "    </tr>\n",
              "    <tr>\n",
              "      <th>223196</th>\n",
              "      <td>20200731</td>\n",
              "      <td>22</td>\n",
              "      <td>20</td>\n",
              "      <td>여성</td>\n",
              "      <td>성북구</td>\n",
              "      <td>32900</td>\n",
              "    </tr>\n",
              "    <tr>\n",
              "      <th>223197</th>\n",
              "      <td>20200731</td>\n",
              "      <td>22</td>\n",
              "      <td>30</td>\n",
              "      <td>남성</td>\n",
              "      <td>강동구</td>\n",
              "      <td>34010</td>\n",
              "    </tr>\n",
              "    <tr>\n",
              "      <th>223198</th>\n",
              "      <td>20200731</td>\n",
              "      <td>23</td>\n",
              "      <td>30</td>\n",
              "      <td>여성</td>\n",
              "      <td>서대문구</td>\n",
              "      <td>21960</td>\n",
              "    </tr>\n",
              "    <tr>\n",
              "      <th>223199</th>\n",
              "      <td>20200731</td>\n",
              "      <td>23</td>\n",
              "      <td>70</td>\n",
              "      <td>여성</td>\n",
              "      <td>마포구</td>\n",
              "      <td>17770</td>\n",
              "    </tr>\n",
              "  </tbody>\n",
              "</table>\n",
              "<p>1524000 rows × 6 columns</p>\n",
              "</div>"
            ],
            "text/plain": [
              "            date  time  age sex    gu    ppl\n",
              "0       20200101     0   70  여성    중구   7910\n",
              "1       20200101     1   20  여성    중구  12330\n",
              "2       20200101     1   40  여성   구로구  34400\n",
              "3       20200101     1   40  여성  서대문구  24400\n",
              "4       20200101     1   50  여성   구로구  36590\n",
              "...          ...   ...  ...  ..   ...    ...\n",
              "223195  20200731    22   20  여성   구로구  29360\n",
              "223196  20200731    22   20  여성   성북구  32900\n",
              "223197  20200731    22   30  남성   강동구  34010\n",
              "223198  20200731    23   30  여성  서대문구  21960\n",
              "223199  20200731    23   70  여성   마포구  17770\n",
              "\n",
              "[1524000 rows x 6 columns]"
            ]
          },
          "metadata": {
            "tags": []
          },
          "execution_count": 136
        }
      ]
    },
    {
      "cell_type": "code",
      "metadata": {
        "id": "XSJTn7IP5XLB",
        "colab_type": "code",
        "colab": {},
        "outputId": "821ba0ca-da38-40d3-fb3e-ea302e9e9f4e"
      },
      "source": [
        "# time['datetime'] = time['date'].apply(lambda x: pd.to_datetime(str(x), format='%Y%m%d'))\n",
        "# time\n",
        "                                                           "
      ],
      "execution_count": null,
      "outputs": [
        {
          "output_type": "execute_result",
          "data": {
            "text/html": [
              "<div>\n",
              "<style scoped>\n",
              "    .dataframe tbody tr th:only-of-type {\n",
              "        vertical-align: middle;\n",
              "    }\n",
              "\n",
              "    .dataframe tbody tr th {\n",
              "        vertical-align: top;\n",
              "    }\n",
              "\n",
              "    .dataframe thead th {\n",
              "        text-align: right;\n",
              "    }\n",
              "</style>\n",
              "<table border=\"1\" class=\"dataframe\">\n",
              "  <thead>\n",
              "    <tr style=\"text-align: right;\">\n",
              "      <th></th>\n",
              "      <th>date</th>\n",
              "      <th>time</th>\n",
              "      <th>age</th>\n",
              "      <th>sex</th>\n",
              "      <th>gu</th>\n",
              "      <th>ppl</th>\n",
              "      <th>datetime</th>\n",
              "    </tr>\n",
              "  </thead>\n",
              "  <tbody>\n",
              "    <tr>\n",
              "      <th>0</th>\n",
              "      <td>20200101</td>\n",
              "      <td>0</td>\n",
              "      <td>70</td>\n",
              "      <td>여성</td>\n",
              "      <td>중구</td>\n",
              "      <td>7910</td>\n",
              "      <td>2020-01-01</td>\n",
              "    </tr>\n",
              "    <tr>\n",
              "      <th>1</th>\n",
              "      <td>20200101</td>\n",
              "      <td>1</td>\n",
              "      <td>20</td>\n",
              "      <td>여성</td>\n",
              "      <td>중구</td>\n",
              "      <td>12330</td>\n",
              "      <td>2020-01-01</td>\n",
              "    </tr>\n",
              "    <tr>\n",
              "      <th>2</th>\n",
              "      <td>20200101</td>\n",
              "      <td>1</td>\n",
              "      <td>40</td>\n",
              "      <td>여성</td>\n",
              "      <td>구로구</td>\n",
              "      <td>34400</td>\n",
              "      <td>2020-01-01</td>\n",
              "    </tr>\n",
              "    <tr>\n",
              "      <th>3</th>\n",
              "      <td>20200101</td>\n",
              "      <td>1</td>\n",
              "      <td>40</td>\n",
              "      <td>여성</td>\n",
              "      <td>서대문구</td>\n",
              "      <td>24400</td>\n",
              "      <td>2020-01-01</td>\n",
              "    </tr>\n",
              "    <tr>\n",
              "      <th>4</th>\n",
              "      <td>20200101</td>\n",
              "      <td>1</td>\n",
              "      <td>50</td>\n",
              "      <td>여성</td>\n",
              "      <td>구로구</td>\n",
              "      <td>36590</td>\n",
              "      <td>2020-01-01</td>\n",
              "    </tr>\n",
              "    <tr>\n",
              "      <th>...</th>\n",
              "      <td>...</td>\n",
              "      <td>...</td>\n",
              "      <td>...</td>\n",
              "      <td>...</td>\n",
              "      <td>...</td>\n",
              "      <td>...</td>\n",
              "      <td>...</td>\n",
              "    </tr>\n",
              "    <tr>\n",
              "      <th>223195</th>\n",
              "      <td>20200731</td>\n",
              "      <td>22</td>\n",
              "      <td>20</td>\n",
              "      <td>여성</td>\n",
              "      <td>구로구</td>\n",
              "      <td>29360</td>\n",
              "      <td>2020-07-31</td>\n",
              "    </tr>\n",
              "    <tr>\n",
              "      <th>223196</th>\n",
              "      <td>20200731</td>\n",
              "      <td>22</td>\n",
              "      <td>20</td>\n",
              "      <td>여성</td>\n",
              "      <td>성북구</td>\n",
              "      <td>32900</td>\n",
              "      <td>2020-07-31</td>\n",
              "    </tr>\n",
              "    <tr>\n",
              "      <th>223197</th>\n",
              "      <td>20200731</td>\n",
              "      <td>22</td>\n",
              "      <td>30</td>\n",
              "      <td>남성</td>\n",
              "      <td>강동구</td>\n",
              "      <td>34010</td>\n",
              "      <td>2020-07-31</td>\n",
              "    </tr>\n",
              "    <tr>\n",
              "      <th>223198</th>\n",
              "      <td>20200731</td>\n",
              "      <td>23</td>\n",
              "      <td>30</td>\n",
              "      <td>여성</td>\n",
              "      <td>서대문구</td>\n",
              "      <td>21960</td>\n",
              "      <td>2020-07-31</td>\n",
              "    </tr>\n",
              "    <tr>\n",
              "      <th>223199</th>\n",
              "      <td>20200731</td>\n",
              "      <td>23</td>\n",
              "      <td>70</td>\n",
              "      <td>여성</td>\n",
              "      <td>마포구</td>\n",
              "      <td>17770</td>\n",
              "      <td>2020-07-31</td>\n",
              "    </tr>\n",
              "  </tbody>\n",
              "</table>\n",
              "<p>1524000 rows × 7 columns</p>\n",
              "</div>"
            ],
            "text/plain": [
              "            date  time  age sex    gu    ppl   datetime\n",
              "0       20200101     0   70  여성    중구   7910 2020-01-01\n",
              "1       20200101     1   20  여성    중구  12330 2020-01-01\n",
              "2       20200101     1   40  여성   구로구  34400 2020-01-01\n",
              "3       20200101     1   40  여성  서대문구  24400 2020-01-01\n",
              "4       20200101     1   50  여성   구로구  36590 2020-01-01\n",
              "...          ...   ...  ...  ..   ...    ...        ...\n",
              "223195  20200731    22   20  여성   구로구  29360 2020-07-31\n",
              "223196  20200731    22   20  여성   성북구  32900 2020-07-31\n",
              "223197  20200731    22   30  남성   강동구  34010 2020-07-31\n",
              "223198  20200731    23   30  여성  서대문구  21960 2020-07-31\n",
              "223199  20200731    23   70  여성   마포구  17770 2020-07-31\n",
              "\n",
              "[1524000 rows x 7 columns]"
            ]
          },
          "metadata": {
            "tags": []
          },
          "execution_count": 137
        }
      ]
    },
    {
      "cell_type": "code",
      "metadata": {
        "id": "lG962fI45XLF",
        "colab_type": "code",
        "colab": {},
        "outputId": "0b0293a0-84fd-4a79-96c8-075f73f80d47"
      },
      "source": [
        "# time = time[['datetime', 'date', 'time', 'gu', 'age', 'ppl', 'sex']]\n",
        "# time"
      ],
      "execution_count": null,
      "outputs": [
        {
          "output_type": "execute_result",
          "data": {
            "text/html": [
              "<div>\n",
              "<style scoped>\n",
              "    .dataframe tbody tr th:only-of-type {\n",
              "        vertical-align: middle;\n",
              "    }\n",
              "\n",
              "    .dataframe tbody tr th {\n",
              "        vertical-align: top;\n",
              "    }\n",
              "\n",
              "    .dataframe thead th {\n",
              "        text-align: right;\n",
              "    }\n",
              "</style>\n",
              "<table border=\"1\" class=\"dataframe\">\n",
              "  <thead>\n",
              "    <tr style=\"text-align: right;\">\n",
              "      <th></th>\n",
              "      <th>datetime</th>\n",
              "      <th>date</th>\n",
              "      <th>time</th>\n",
              "      <th>gu</th>\n",
              "      <th>age</th>\n",
              "      <th>ppl</th>\n",
              "      <th>sex</th>\n",
              "    </tr>\n",
              "  </thead>\n",
              "  <tbody>\n",
              "    <tr>\n",
              "      <th>0</th>\n",
              "      <td>2020-01-01</td>\n",
              "      <td>20200101</td>\n",
              "      <td>0</td>\n",
              "      <td>중구</td>\n",
              "      <td>70</td>\n",
              "      <td>7910</td>\n",
              "      <td>여성</td>\n",
              "    </tr>\n",
              "    <tr>\n",
              "      <th>1</th>\n",
              "      <td>2020-01-01</td>\n",
              "      <td>20200101</td>\n",
              "      <td>1</td>\n",
              "      <td>중구</td>\n",
              "      <td>20</td>\n",
              "      <td>12330</td>\n",
              "      <td>여성</td>\n",
              "    </tr>\n",
              "    <tr>\n",
              "      <th>2</th>\n",
              "      <td>2020-01-01</td>\n",
              "      <td>20200101</td>\n",
              "      <td>1</td>\n",
              "      <td>구로구</td>\n",
              "      <td>40</td>\n",
              "      <td>34400</td>\n",
              "      <td>여성</td>\n",
              "    </tr>\n",
              "    <tr>\n",
              "      <th>3</th>\n",
              "      <td>2020-01-01</td>\n",
              "      <td>20200101</td>\n",
              "      <td>1</td>\n",
              "      <td>서대문구</td>\n",
              "      <td>40</td>\n",
              "      <td>24400</td>\n",
              "      <td>여성</td>\n",
              "    </tr>\n",
              "    <tr>\n",
              "      <th>4</th>\n",
              "      <td>2020-01-01</td>\n",
              "      <td>20200101</td>\n",
              "      <td>1</td>\n",
              "      <td>구로구</td>\n",
              "      <td>50</td>\n",
              "      <td>36590</td>\n",
              "      <td>여성</td>\n",
              "    </tr>\n",
              "    <tr>\n",
              "      <th>...</th>\n",
              "      <td>...</td>\n",
              "      <td>...</td>\n",
              "      <td>...</td>\n",
              "      <td>...</td>\n",
              "      <td>...</td>\n",
              "      <td>...</td>\n",
              "      <td>...</td>\n",
              "    </tr>\n",
              "    <tr>\n",
              "      <th>223195</th>\n",
              "      <td>2020-07-31</td>\n",
              "      <td>20200731</td>\n",
              "      <td>22</td>\n",
              "      <td>구로구</td>\n",
              "      <td>20</td>\n",
              "      <td>29360</td>\n",
              "      <td>여성</td>\n",
              "    </tr>\n",
              "    <tr>\n",
              "      <th>223196</th>\n",
              "      <td>2020-07-31</td>\n",
              "      <td>20200731</td>\n",
              "      <td>22</td>\n",
              "      <td>성북구</td>\n",
              "      <td>20</td>\n",
              "      <td>32900</td>\n",
              "      <td>여성</td>\n",
              "    </tr>\n",
              "    <tr>\n",
              "      <th>223197</th>\n",
              "      <td>2020-07-31</td>\n",
              "      <td>20200731</td>\n",
              "      <td>22</td>\n",
              "      <td>강동구</td>\n",
              "      <td>30</td>\n",
              "      <td>34010</td>\n",
              "      <td>남성</td>\n",
              "    </tr>\n",
              "    <tr>\n",
              "      <th>223198</th>\n",
              "      <td>2020-07-31</td>\n",
              "      <td>20200731</td>\n",
              "      <td>23</td>\n",
              "      <td>서대문구</td>\n",
              "      <td>30</td>\n",
              "      <td>21960</td>\n",
              "      <td>여성</td>\n",
              "    </tr>\n",
              "    <tr>\n",
              "      <th>223199</th>\n",
              "      <td>2020-07-31</td>\n",
              "      <td>20200731</td>\n",
              "      <td>23</td>\n",
              "      <td>마포구</td>\n",
              "      <td>70</td>\n",
              "      <td>17770</td>\n",
              "      <td>여성</td>\n",
              "    </tr>\n",
              "  </tbody>\n",
              "</table>\n",
              "<p>1524000 rows × 7 columns</p>\n",
              "</div>"
            ],
            "text/plain": [
              "         datetime      date  time    gu  age    ppl sex\n",
              "0      2020-01-01  20200101     0    중구   70   7910  여성\n",
              "1      2020-01-01  20200101     1    중구   20  12330  여성\n",
              "2      2020-01-01  20200101     1   구로구   40  34400  여성\n",
              "3      2020-01-01  20200101     1  서대문구   40  24400  여성\n",
              "4      2020-01-01  20200101     1   구로구   50  36590  여성\n",
              "...           ...       ...   ...   ...  ...    ...  ..\n",
              "223195 2020-07-31  20200731    22   구로구   20  29360  여성\n",
              "223196 2020-07-31  20200731    22   성북구   20  32900  여성\n",
              "223197 2020-07-31  20200731    22   강동구   30  34010  남성\n",
              "223198 2020-07-31  20200731    23  서대문구   30  21960  여성\n",
              "223199 2020-07-31  20200731    23   마포구   70  17770  여성\n",
              "\n",
              "[1524000 rows x 7 columns]"
            ]
          },
          "metadata": {
            "tags": []
          },
          "execution_count": 138
        }
      ]
    },
    {
      "cell_type": "code",
      "metadata": {
        "id": "fVTCIkFb5XLI",
        "colab_type": "code",
        "colab": {}
      },
      "source": [
        "# #저장\n",
        "# with open('time.pkl', 'wb') as f:\n",
        "#     pickle.dump(time, f)"
      ],
      "execution_count": null,
      "outputs": []
    },
    {
      "cell_type": "code",
      "metadata": {
        "id": "ZERtRd5x5XLL",
        "colab_type": "code",
        "colab": {}
      },
      "source": [
        "def pklopen(route):\n",
        "    with open('{}'.format(route), 'rb') as f:\n",
        "        df = pickle.load(f)\n",
        "    return df\n",
        "time = pklopen('/content/drive/My Drive/2020빅콘테스트 문제데이터(혁신아이디어분야)/주피터 업로드/time.pkl')"
      ],
      "execution_count": 4,
      "outputs": []
    },
    {
      "cell_type": "code",
      "metadata": {
        "id": "XLINr-5F5XLO",
        "colab_type": "code",
        "colab": {
          "base_uri": "https://localhost:8080/",
          "height": 68
        },
        "outputId": "b39a7ec9-5d7b-4e58-ae41-2c43cc6dfef7"
      },
      "source": [
        "#구의 종류\n",
        "time['gu'].unique()"
      ],
      "execution_count": 5,
      "outputs": [
        {
          "output_type": "execute_result",
          "data": {
            "text/plain": [
              "array(['중구', '구로구', '서대문구', '성동구', '송파구', '용산구', '성북구', '영등포구', '동작구',\n",
              "       '중랑구', '노원구', '양천구', '강남구', '강서구', '관악구', '강동구', '은평구', '마포구',\n",
              "       '도봉구', '종로구', '서초구', '동대문구', '강북구', '광진구', '금천구'], dtype=object)"
            ]
          },
          "metadata": {
            "tags": []
          },
          "execution_count": 5
        }
      ]
    },
    {
      "cell_type": "code",
      "metadata": {
        "id": "pZXtYp4v5XLS",
        "colab_type": "code",
        "colab": {
          "base_uri": "https://localhost:8080/",
          "height": 34
        },
        "outputId": "0e30c820-b8e9-4b08-e57c-5162e93c15c7"
      },
      "source": [
        "#나이 종류\n",
        "time['age'].unique()"
      ],
      "execution_count": 6,
      "outputs": [
        {
          "output_type": "execute_result",
          "data": {
            "text/plain": [
              "array([70, 20, 40, 50, 30, 60])"
            ]
          },
          "metadata": {
            "tags": []
          },
          "execution_count": 6
        }
      ]
    },
    {
      "cell_type": "code",
      "metadata": {
        "id": "ob9Zh11h5XLV",
        "colab_type": "code",
        "colab": {
          "base_uri": "https://localhost:8080/",
          "height": 419
        },
        "outputId": "cf051723-72e7-4fdf-e473-634fa1aedd89"
      },
      "source": [
        "time_sorted = time.sort_values(by=['age', 'datetime', 'time'], axis=0)\n",
        "time_sorted"
      ],
      "execution_count": 7,
      "outputs": [
        {
          "output_type": "execute_result",
          "data": {
            "text/html": [
              "<div>\n",
              "<style scoped>\n",
              "    .dataframe tbody tr th:only-of-type {\n",
              "        vertical-align: middle;\n",
              "    }\n",
              "\n",
              "    .dataframe tbody tr th {\n",
              "        vertical-align: top;\n",
              "    }\n",
              "\n",
              "    .dataframe thead th {\n",
              "        text-align: right;\n",
              "    }\n",
              "</style>\n",
              "<table border=\"1\" class=\"dataframe\">\n",
              "  <thead>\n",
              "    <tr style=\"text-align: right;\">\n",
              "      <th></th>\n",
              "      <th>datetime</th>\n",
              "      <th>date</th>\n",
              "      <th>time</th>\n",
              "      <th>gu</th>\n",
              "      <th>age</th>\n",
              "      <th>ppl</th>\n",
              "      <th>sex</th>\n",
              "    </tr>\n",
              "  </thead>\n",
              "  <tbody>\n",
              "    <tr>\n",
              "      <th>4109</th>\n",
              "      <td>2020-01-01</td>\n",
              "      <td>20200101</td>\n",
              "      <td>0</td>\n",
              "      <td>금천구</td>\n",
              "      <td>20</td>\n",
              "      <td>14220</td>\n",
              "      <td>여성</td>\n",
              "    </tr>\n",
              "    <tr>\n",
              "      <th>6151</th>\n",
              "      <td>2020-01-01</td>\n",
              "      <td>20200101</td>\n",
              "      <td>0</td>\n",
              "      <td>중랑구</td>\n",
              "      <td>20</td>\n",
              "      <td>25030</td>\n",
              "      <td>남성</td>\n",
              "    </tr>\n",
              "    <tr>\n",
              "      <th>10330</th>\n",
              "      <td>2020-01-01</td>\n",
              "      <td>20200101</td>\n",
              "      <td>0</td>\n",
              "      <td>강남구</td>\n",
              "      <td>20</td>\n",
              "      <td>43680</td>\n",
              "      <td>남성</td>\n",
              "    </tr>\n",
              "    <tr>\n",
              "      <th>24665</th>\n",
              "      <td>2020-01-01</td>\n",
              "      <td>20200101</td>\n",
              "      <td>0</td>\n",
              "      <td>도봉구</td>\n",
              "      <td>20</td>\n",
              "      <td>19950</td>\n",
              "      <td>남성</td>\n",
              "    </tr>\n",
              "    <tr>\n",
              "      <th>30655</th>\n",
              "      <td>2020-01-01</td>\n",
              "      <td>20200101</td>\n",
              "      <td>0</td>\n",
              "      <td>양천구</td>\n",
              "      <td>20</td>\n",
              "      <td>29620</td>\n",
              "      <td>남성</td>\n",
              "    </tr>\n",
              "    <tr>\n",
              "      <th>...</th>\n",
              "      <td>...</td>\n",
              "      <td>...</td>\n",
              "      <td>...</td>\n",
              "      <td>...</td>\n",
              "      <td>...</td>\n",
              "      <td>...</td>\n",
              "      <td>...</td>\n",
              "    </tr>\n",
              "    <tr>\n",
              "      <th>195866</th>\n",
              "      <td>2020-07-31</td>\n",
              "      <td>20200731</td>\n",
              "      <td>23</td>\n",
              "      <td>성동구</td>\n",
              "      <td>70</td>\n",
              "      <td>13530</td>\n",
              "      <td>여성</td>\n",
              "    </tr>\n",
              "    <tr>\n",
              "      <th>199770</th>\n",
              "      <td>2020-07-31</td>\n",
              "      <td>20200731</td>\n",
              "      <td>23</td>\n",
              "      <td>금천구</td>\n",
              "      <td>70</td>\n",
              "      <td>10740</td>\n",
              "      <td>여성</td>\n",
              "    </tr>\n",
              "    <tr>\n",
              "      <th>221273</th>\n",
              "      <td>2020-07-31</td>\n",
              "      <td>20200731</td>\n",
              "      <td>23</td>\n",
              "      <td>노원구</td>\n",
              "      <td>70</td>\n",
              "      <td>16500</td>\n",
              "      <td>남성</td>\n",
              "    </tr>\n",
              "    <tr>\n",
              "      <th>221274</th>\n",
              "      <td>2020-07-31</td>\n",
              "      <td>20200731</td>\n",
              "      <td>23</td>\n",
              "      <td>중랑구</td>\n",
              "      <td>70</td>\n",
              "      <td>13350</td>\n",
              "      <td>남성</td>\n",
              "    </tr>\n",
              "    <tr>\n",
              "      <th>223199</th>\n",
              "      <td>2020-07-31</td>\n",
              "      <td>20200731</td>\n",
              "      <td>23</td>\n",
              "      <td>마포구</td>\n",
              "      <td>70</td>\n",
              "      <td>17770</td>\n",
              "      <td>여성</td>\n",
              "    </tr>\n",
              "  </tbody>\n",
              "</table>\n",
              "<p>1524000 rows × 7 columns</p>\n",
              "</div>"
            ],
            "text/plain": [
              "         datetime      date  time   gu  age    ppl sex\n",
              "4109   2020-01-01  20200101     0  금천구   20  14220  여성\n",
              "6151   2020-01-01  20200101     0  중랑구   20  25030  남성\n",
              "10330  2020-01-01  20200101     0  강남구   20  43680  남성\n",
              "24665  2020-01-01  20200101     0  도봉구   20  19950  남성\n",
              "30655  2020-01-01  20200101     0  양천구   20  29620  남성\n",
              "...           ...       ...   ...  ...  ...    ...  ..\n",
              "195866 2020-07-31  20200731    23  성동구   70  13530  여성\n",
              "199770 2020-07-31  20200731    23  금천구   70  10740  여성\n",
              "221273 2020-07-31  20200731    23  노원구   70  16500  남성\n",
              "221274 2020-07-31  20200731    23  중랑구   70  13350  남성\n",
              "223199 2020-07-31  20200731    23  마포구   70  17770  여성\n",
              "\n",
              "[1524000 rows x 7 columns]"
            ]
          },
          "metadata": {
            "tags": []
          },
          "execution_count": 7
        }
      ]
    },
    {
      "cell_type": "code",
      "metadata": {
        "id": "3kiKZrb95XLY",
        "colab_type": "code",
        "colab": {
          "base_uri": "https://localhost:8080/",
          "height": 450
        },
        "outputId": "0fd0af58-02b2-4a03-b0ff-42bf7d84d7d0"
      },
      "source": [
        "time_sorted.set_index(['datetime', 'time'])"
      ],
      "execution_count": 8,
      "outputs": [
        {
          "output_type": "execute_result",
          "data": {
            "text/html": [
              "<div>\n",
              "<style scoped>\n",
              "    .dataframe tbody tr th:only-of-type {\n",
              "        vertical-align: middle;\n",
              "    }\n",
              "\n",
              "    .dataframe tbody tr th {\n",
              "        vertical-align: top;\n",
              "    }\n",
              "\n",
              "    .dataframe thead th {\n",
              "        text-align: right;\n",
              "    }\n",
              "</style>\n",
              "<table border=\"1\" class=\"dataframe\">\n",
              "  <thead>\n",
              "    <tr style=\"text-align: right;\">\n",
              "      <th></th>\n",
              "      <th></th>\n",
              "      <th>date</th>\n",
              "      <th>gu</th>\n",
              "      <th>age</th>\n",
              "      <th>ppl</th>\n",
              "      <th>sex</th>\n",
              "    </tr>\n",
              "    <tr>\n",
              "      <th>datetime</th>\n",
              "      <th>time</th>\n",
              "      <th></th>\n",
              "      <th></th>\n",
              "      <th></th>\n",
              "      <th></th>\n",
              "      <th></th>\n",
              "    </tr>\n",
              "  </thead>\n",
              "  <tbody>\n",
              "    <tr>\n",
              "      <th rowspan=\"5\" valign=\"top\">2020-01-01</th>\n",
              "      <th>0</th>\n",
              "      <td>20200101</td>\n",
              "      <td>금천구</td>\n",
              "      <td>20</td>\n",
              "      <td>14220</td>\n",
              "      <td>여성</td>\n",
              "    </tr>\n",
              "    <tr>\n",
              "      <th>0</th>\n",
              "      <td>20200101</td>\n",
              "      <td>중랑구</td>\n",
              "      <td>20</td>\n",
              "      <td>25030</td>\n",
              "      <td>남성</td>\n",
              "    </tr>\n",
              "    <tr>\n",
              "      <th>0</th>\n",
              "      <td>20200101</td>\n",
              "      <td>강남구</td>\n",
              "      <td>20</td>\n",
              "      <td>43680</td>\n",
              "      <td>남성</td>\n",
              "    </tr>\n",
              "    <tr>\n",
              "      <th>0</th>\n",
              "      <td>20200101</td>\n",
              "      <td>도봉구</td>\n",
              "      <td>20</td>\n",
              "      <td>19950</td>\n",
              "      <td>남성</td>\n",
              "    </tr>\n",
              "    <tr>\n",
              "      <th>0</th>\n",
              "      <td>20200101</td>\n",
              "      <td>양천구</td>\n",
              "      <td>20</td>\n",
              "      <td>29620</td>\n",
              "      <td>남성</td>\n",
              "    </tr>\n",
              "    <tr>\n",
              "      <th>...</th>\n",
              "      <th>...</th>\n",
              "      <td>...</td>\n",
              "      <td>...</td>\n",
              "      <td>...</td>\n",
              "      <td>...</td>\n",
              "      <td>...</td>\n",
              "    </tr>\n",
              "    <tr>\n",
              "      <th rowspan=\"5\" valign=\"top\">2020-07-31</th>\n",
              "      <th>23</th>\n",
              "      <td>20200731</td>\n",
              "      <td>성동구</td>\n",
              "      <td>70</td>\n",
              "      <td>13530</td>\n",
              "      <td>여성</td>\n",
              "    </tr>\n",
              "    <tr>\n",
              "      <th>23</th>\n",
              "      <td>20200731</td>\n",
              "      <td>금천구</td>\n",
              "      <td>70</td>\n",
              "      <td>10740</td>\n",
              "      <td>여성</td>\n",
              "    </tr>\n",
              "    <tr>\n",
              "      <th>23</th>\n",
              "      <td>20200731</td>\n",
              "      <td>노원구</td>\n",
              "      <td>70</td>\n",
              "      <td>16500</td>\n",
              "      <td>남성</td>\n",
              "    </tr>\n",
              "    <tr>\n",
              "      <th>23</th>\n",
              "      <td>20200731</td>\n",
              "      <td>중랑구</td>\n",
              "      <td>70</td>\n",
              "      <td>13350</td>\n",
              "      <td>남성</td>\n",
              "    </tr>\n",
              "    <tr>\n",
              "      <th>23</th>\n",
              "      <td>20200731</td>\n",
              "      <td>마포구</td>\n",
              "      <td>70</td>\n",
              "      <td>17770</td>\n",
              "      <td>여성</td>\n",
              "    </tr>\n",
              "  </tbody>\n",
              "</table>\n",
              "<p>1524000 rows × 5 columns</p>\n",
              "</div>"
            ],
            "text/plain": [
              "                     date   gu  age    ppl sex\n",
              "datetime   time                               \n",
              "2020-01-01 0     20200101  금천구   20  14220  여성\n",
              "           0     20200101  중랑구   20  25030  남성\n",
              "           0     20200101  강남구   20  43680  남성\n",
              "           0     20200101  도봉구   20  19950  남성\n",
              "           0     20200101  양천구   20  29620  남성\n",
              "...                   ...  ...  ...    ...  ..\n",
              "2020-07-31 23    20200731  성동구   70  13530  여성\n",
              "           23    20200731  금천구   70  10740  여성\n",
              "           23    20200731  노원구   70  16500  남성\n",
              "           23    20200731  중랑구   70  13350  남성\n",
              "           23    20200731  마포구   70  17770  여성\n",
              "\n",
              "[1524000 rows x 5 columns]"
            ]
          },
          "metadata": {
            "tags": []
          },
          "execution_count": 8
        }
      ]
    },
    {
      "cell_type": "markdown",
      "metadata": {
        "id": "oPK_cDhi5XLc",
        "colab_type": "text"
      },
      "source": [
        "## 구별, 일별, 시간별 같은 연령끼리 유동인구"
      ]
    },
    {
      "cell_type": "code",
      "metadata": {
        "id": "y5Pw4xsi5XLc",
        "colab_type": "code",
        "colab": {
          "base_uri": "https://localhost:8080/",
          "height": 793
        },
        "outputId": "91d511ba-2f45-412b-a2c6-97f6b49c9d4f"
      },
      "source": [
        "timeday = time_sorted.groupby(['datetime', 'date', 'gu', 'age', 'time']).sum()\n",
        "timeday = timeday.reset_index()\n",
        "#2월 1일 기준 20대 한번 보자(1월은 명절)\n",
        "k = timeday[timeday['datetime']=='2020-02-01'].head(24)\n",
        "k"
      ],
      "execution_count": 9,
      "outputs": [
        {
          "output_type": "execute_result",
          "data": {
            "text/html": [
              "<div>\n",
              "<style scoped>\n",
              "    .dataframe tbody tr th:only-of-type {\n",
              "        vertical-align: middle;\n",
              "    }\n",
              "\n",
              "    .dataframe tbody tr th {\n",
              "        vertical-align: top;\n",
              "    }\n",
              "\n",
              "    .dataframe thead th {\n",
              "        text-align: right;\n",
              "    }\n",
              "</style>\n",
              "<table border=\"1\" class=\"dataframe\">\n",
              "  <thead>\n",
              "    <tr style=\"text-align: right;\">\n",
              "      <th></th>\n",
              "      <th>datetime</th>\n",
              "      <th>date</th>\n",
              "      <th>gu</th>\n",
              "      <th>age</th>\n",
              "      <th>time</th>\n",
              "      <th>ppl</th>\n",
              "    </tr>\n",
              "  </thead>\n",
              "  <tbody>\n",
              "    <tr>\n",
              "      <th>111600</th>\n",
              "      <td>2020-02-01</td>\n",
              "      <td>20200201</td>\n",
              "      <td>강남구</td>\n",
              "      <td>20</td>\n",
              "      <td>0</td>\n",
              "      <td>85360</td>\n",
              "    </tr>\n",
              "    <tr>\n",
              "      <th>111601</th>\n",
              "      <td>2020-02-01</td>\n",
              "      <td>20200201</td>\n",
              "      <td>강남구</td>\n",
              "      <td>20</td>\n",
              "      <td>1</td>\n",
              "      <td>83380</td>\n",
              "    </tr>\n",
              "    <tr>\n",
              "      <th>111602</th>\n",
              "      <td>2020-02-01</td>\n",
              "      <td>20200201</td>\n",
              "      <td>강남구</td>\n",
              "      <td>20</td>\n",
              "      <td>2</td>\n",
              "      <td>81670</td>\n",
              "    </tr>\n",
              "    <tr>\n",
              "      <th>111603</th>\n",
              "      <td>2020-02-01</td>\n",
              "      <td>20200201</td>\n",
              "      <td>강남구</td>\n",
              "      <td>20</td>\n",
              "      <td>3</td>\n",
              "      <td>80830</td>\n",
              "    </tr>\n",
              "    <tr>\n",
              "      <th>111604</th>\n",
              "      <td>2020-02-01</td>\n",
              "      <td>20200201</td>\n",
              "      <td>강남구</td>\n",
              "      <td>20</td>\n",
              "      <td>4</td>\n",
              "      <td>80150</td>\n",
              "    </tr>\n",
              "    <tr>\n",
              "      <th>111605</th>\n",
              "      <td>2020-02-01</td>\n",
              "      <td>20200201</td>\n",
              "      <td>강남구</td>\n",
              "      <td>20</td>\n",
              "      <td>5</td>\n",
              "      <td>79960</td>\n",
              "    </tr>\n",
              "    <tr>\n",
              "      <th>111606</th>\n",
              "      <td>2020-02-01</td>\n",
              "      <td>20200201</td>\n",
              "      <td>강남구</td>\n",
              "      <td>20</td>\n",
              "      <td>6</td>\n",
              "      <td>80830</td>\n",
              "    </tr>\n",
              "    <tr>\n",
              "      <th>111607</th>\n",
              "      <td>2020-02-01</td>\n",
              "      <td>20200201</td>\n",
              "      <td>강남구</td>\n",
              "      <td>20</td>\n",
              "      <td>7</td>\n",
              "      <td>83890</td>\n",
              "    </tr>\n",
              "    <tr>\n",
              "      <th>111608</th>\n",
              "      <td>2020-02-01</td>\n",
              "      <td>20200201</td>\n",
              "      <td>강남구</td>\n",
              "      <td>20</td>\n",
              "      <td>8</td>\n",
              "      <td>92110</td>\n",
              "    </tr>\n",
              "    <tr>\n",
              "      <th>111609</th>\n",
              "      <td>2020-02-01</td>\n",
              "      <td>20200201</td>\n",
              "      <td>강남구</td>\n",
              "      <td>20</td>\n",
              "      <td>9</td>\n",
              "      <td>104370</td>\n",
              "    </tr>\n",
              "    <tr>\n",
              "      <th>111610</th>\n",
              "      <td>2020-02-01</td>\n",
              "      <td>20200201</td>\n",
              "      <td>강남구</td>\n",
              "      <td>20</td>\n",
              "      <td>10</td>\n",
              "      <td>112550</td>\n",
              "    </tr>\n",
              "    <tr>\n",
              "      <th>111611</th>\n",
              "      <td>2020-02-01</td>\n",
              "      <td>20200201</td>\n",
              "      <td>강남구</td>\n",
              "      <td>20</td>\n",
              "      <td>11</td>\n",
              "      <td>119080</td>\n",
              "    </tr>\n",
              "    <tr>\n",
              "      <th>111612</th>\n",
              "      <td>2020-02-01</td>\n",
              "      <td>20200201</td>\n",
              "      <td>강남구</td>\n",
              "      <td>20</td>\n",
              "      <td>12</td>\n",
              "      <td>125030</td>\n",
              "    </tr>\n",
              "    <tr>\n",
              "      <th>111613</th>\n",
              "      <td>2020-02-01</td>\n",
              "      <td>20200201</td>\n",
              "      <td>강남구</td>\n",
              "      <td>20</td>\n",
              "      <td>13</td>\n",
              "      <td>129890</td>\n",
              "    </tr>\n",
              "    <tr>\n",
              "      <th>111614</th>\n",
              "      <td>2020-02-01</td>\n",
              "      <td>20200201</td>\n",
              "      <td>강남구</td>\n",
              "      <td>20</td>\n",
              "      <td>14</td>\n",
              "      <td>132700</td>\n",
              "    </tr>\n",
              "    <tr>\n",
              "      <th>111615</th>\n",
              "      <td>2020-02-01</td>\n",
              "      <td>20200201</td>\n",
              "      <td>강남구</td>\n",
              "      <td>20</td>\n",
              "      <td>15</td>\n",
              "      <td>131530</td>\n",
              "    </tr>\n",
              "    <tr>\n",
              "      <th>111616</th>\n",
              "      <td>2020-02-01</td>\n",
              "      <td>20200201</td>\n",
              "      <td>강남구</td>\n",
              "      <td>20</td>\n",
              "      <td>16</td>\n",
              "      <td>128520</td>\n",
              "    </tr>\n",
              "    <tr>\n",
              "      <th>111617</th>\n",
              "      <td>2020-02-01</td>\n",
              "      <td>20200201</td>\n",
              "      <td>강남구</td>\n",
              "      <td>20</td>\n",
              "      <td>17</td>\n",
              "      <td>125330</td>\n",
              "    </tr>\n",
              "    <tr>\n",
              "      <th>111618</th>\n",
              "      <td>2020-02-01</td>\n",
              "      <td>20200201</td>\n",
              "      <td>강남구</td>\n",
              "      <td>20</td>\n",
              "      <td>18</td>\n",
              "      <td>119880</td>\n",
              "    </tr>\n",
              "    <tr>\n",
              "      <th>111619</th>\n",
              "      <td>2020-02-01</td>\n",
              "      <td>20200201</td>\n",
              "      <td>강남구</td>\n",
              "      <td>20</td>\n",
              "      <td>19</td>\n",
              "      <td>113610</td>\n",
              "    </tr>\n",
              "    <tr>\n",
              "      <th>111620</th>\n",
              "      <td>2020-02-01</td>\n",
              "      <td>20200201</td>\n",
              "      <td>강남구</td>\n",
              "      <td>20</td>\n",
              "      <td>20</td>\n",
              "      <td>107380</td>\n",
              "    </tr>\n",
              "    <tr>\n",
              "      <th>111621</th>\n",
              "      <td>2020-02-01</td>\n",
              "      <td>20200201</td>\n",
              "      <td>강남구</td>\n",
              "      <td>20</td>\n",
              "      <td>21</td>\n",
              "      <td>100630</td>\n",
              "    </tr>\n",
              "    <tr>\n",
              "      <th>111622</th>\n",
              "      <td>2020-02-01</td>\n",
              "      <td>20200201</td>\n",
              "      <td>강남구</td>\n",
              "      <td>20</td>\n",
              "      <td>22</td>\n",
              "      <td>92020</td>\n",
              "    </tr>\n",
              "    <tr>\n",
              "      <th>111623</th>\n",
              "      <td>2020-02-01</td>\n",
              "      <td>20200201</td>\n",
              "      <td>강남구</td>\n",
              "      <td>20</td>\n",
              "      <td>23</td>\n",
              "      <td>85640</td>\n",
              "    </tr>\n",
              "  </tbody>\n",
              "</table>\n",
              "</div>"
            ],
            "text/plain": [
              "         datetime      date   gu  age  time     ppl\n",
              "111600 2020-02-01  20200201  강남구   20     0   85360\n",
              "111601 2020-02-01  20200201  강남구   20     1   83380\n",
              "111602 2020-02-01  20200201  강남구   20     2   81670\n",
              "111603 2020-02-01  20200201  강남구   20     3   80830\n",
              "111604 2020-02-01  20200201  강남구   20     4   80150\n",
              "111605 2020-02-01  20200201  강남구   20     5   79960\n",
              "111606 2020-02-01  20200201  강남구   20     6   80830\n",
              "111607 2020-02-01  20200201  강남구   20     7   83890\n",
              "111608 2020-02-01  20200201  강남구   20     8   92110\n",
              "111609 2020-02-01  20200201  강남구   20     9  104370\n",
              "111610 2020-02-01  20200201  강남구   20    10  112550\n",
              "111611 2020-02-01  20200201  강남구   20    11  119080\n",
              "111612 2020-02-01  20200201  강남구   20    12  125030\n",
              "111613 2020-02-01  20200201  강남구   20    13  129890\n",
              "111614 2020-02-01  20200201  강남구   20    14  132700\n",
              "111615 2020-02-01  20200201  강남구   20    15  131530\n",
              "111616 2020-02-01  20200201  강남구   20    16  128520\n",
              "111617 2020-02-01  20200201  강남구   20    17  125330\n",
              "111618 2020-02-01  20200201  강남구   20    18  119880\n",
              "111619 2020-02-01  20200201  강남구   20    19  113610\n",
              "111620 2020-02-01  20200201  강남구   20    20  107380\n",
              "111621 2020-02-01  20200201  강남구   20    21  100630\n",
              "111622 2020-02-01  20200201  강남구   20    22   92020\n",
              "111623 2020-02-01  20200201  강남구   20    23   85640"
            ]
          },
          "metadata": {
            "tags": []
          },
          "execution_count": 9
        }
      ]
    },
    {
      "cell_type": "code",
      "metadata": {
        "id": "Ghx61zxO5XLg",
        "colab_type": "code",
        "colab": {
          "base_uri": "https://localhost:8080/",
          "height": 1000
        },
        "outputId": "d0e4657b-9a8d-4567-deec-114ce7a0f8d7"
      },
      "source": [
        "plt.plot(k['ppl'])\n",
        "plt.title('2월1일 강남구 20대의 시간별 유동인구')"
      ],
      "execution_count": 10,
      "outputs": [
        {
          "output_type": "execute_result",
          "data": {
            "text/plain": [
              "Text(0.5, 1.0, '2월1일 강남구 20대의 시간별 유동인구')"
            ]
          },
          "metadata": {
            "tags": []
          },
          "execution_count": 10
        },
        {
          "output_type": "stream",
          "text": [
            "/usr/local/lib/python3.6/dist-packages/matplotlib/backends/backend_agg.py:214: RuntimeWarning: Glyph 50900 missing from current font.\n",
            "  font.set_text(s, 0.0, flags=flags)\n",
            "/usr/local/lib/python3.6/dist-packages/matplotlib/backends/backend_agg.py:214: RuntimeWarning: Glyph 51068 missing from current font.\n",
            "  font.set_text(s, 0.0, flags=flags)\n",
            "/usr/local/lib/python3.6/dist-packages/matplotlib/backends/backend_agg.py:214: RuntimeWarning: Glyph 44053 missing from current font.\n",
            "  font.set_text(s, 0.0, flags=flags)\n",
            "/usr/local/lib/python3.6/dist-packages/matplotlib/backends/backend_agg.py:214: RuntimeWarning: Glyph 45224 missing from current font.\n",
            "  font.set_text(s, 0.0, flags=flags)\n",
            "/usr/local/lib/python3.6/dist-packages/matplotlib/backends/backend_agg.py:214: RuntimeWarning: Glyph 44396 missing from current font.\n",
            "  font.set_text(s, 0.0, flags=flags)\n",
            "/usr/local/lib/python3.6/dist-packages/matplotlib/backends/backend_agg.py:214: RuntimeWarning: Glyph 45824 missing from current font.\n",
            "  font.set_text(s, 0.0, flags=flags)\n",
            "/usr/local/lib/python3.6/dist-packages/matplotlib/backends/backend_agg.py:214: RuntimeWarning: Glyph 51032 missing from current font.\n",
            "  font.set_text(s, 0.0, flags=flags)\n",
            "/usr/local/lib/python3.6/dist-packages/matplotlib/backends/backend_agg.py:214: RuntimeWarning: Glyph 49884 missing from current font.\n",
            "  font.set_text(s, 0.0, flags=flags)\n",
            "/usr/local/lib/python3.6/dist-packages/matplotlib/backends/backend_agg.py:214: RuntimeWarning: Glyph 44036 missing from current font.\n",
            "  font.set_text(s, 0.0, flags=flags)\n",
            "/usr/local/lib/python3.6/dist-packages/matplotlib/backends/backend_agg.py:214: RuntimeWarning: Glyph 48324 missing from current font.\n",
            "  font.set_text(s, 0.0, flags=flags)\n",
            "/usr/local/lib/python3.6/dist-packages/matplotlib/backends/backend_agg.py:214: RuntimeWarning: Glyph 50976 missing from current font.\n",
            "  font.set_text(s, 0.0, flags=flags)\n",
            "/usr/local/lib/python3.6/dist-packages/matplotlib/backends/backend_agg.py:214: RuntimeWarning: Glyph 46041 missing from current font.\n",
            "  font.set_text(s, 0.0, flags=flags)\n",
            "/usr/local/lib/python3.6/dist-packages/matplotlib/backends/backend_agg.py:214: RuntimeWarning: Glyph 51064 missing from current font.\n",
            "  font.set_text(s, 0.0, flags=flags)\n",
            "/usr/local/lib/python3.6/dist-packages/matplotlib/backends/backend_agg.py:183: RuntimeWarning: Glyph 50900 missing from current font.\n",
            "  font.set_text(s, 0, flags=flags)\n",
            "/usr/local/lib/python3.6/dist-packages/matplotlib/backends/backend_agg.py:183: RuntimeWarning: Glyph 51068 missing from current font.\n",
            "  font.set_text(s, 0, flags=flags)\n",
            "/usr/local/lib/python3.6/dist-packages/matplotlib/backends/backend_agg.py:183: RuntimeWarning: Glyph 44053 missing from current font.\n",
            "  font.set_text(s, 0, flags=flags)\n",
            "/usr/local/lib/python3.6/dist-packages/matplotlib/backends/backend_agg.py:183: RuntimeWarning: Glyph 45224 missing from current font.\n",
            "  font.set_text(s, 0, flags=flags)\n",
            "/usr/local/lib/python3.6/dist-packages/matplotlib/backends/backend_agg.py:183: RuntimeWarning: Glyph 44396 missing from current font.\n",
            "  font.set_text(s, 0, flags=flags)\n",
            "/usr/local/lib/python3.6/dist-packages/matplotlib/backends/backend_agg.py:183: RuntimeWarning: Glyph 45824 missing from current font.\n",
            "  font.set_text(s, 0, flags=flags)\n",
            "/usr/local/lib/python3.6/dist-packages/matplotlib/backends/backend_agg.py:183: RuntimeWarning: Glyph 51032 missing from current font.\n",
            "  font.set_text(s, 0, flags=flags)\n",
            "/usr/local/lib/python3.6/dist-packages/matplotlib/backends/backend_agg.py:183: RuntimeWarning: Glyph 49884 missing from current font.\n",
            "  font.set_text(s, 0, flags=flags)\n",
            "/usr/local/lib/python3.6/dist-packages/matplotlib/backends/backend_agg.py:183: RuntimeWarning: Glyph 44036 missing from current font.\n",
            "  font.set_text(s, 0, flags=flags)\n",
            "/usr/local/lib/python3.6/dist-packages/matplotlib/backends/backend_agg.py:183: RuntimeWarning: Glyph 48324 missing from current font.\n",
            "  font.set_text(s, 0, flags=flags)\n",
            "/usr/local/lib/python3.6/dist-packages/matplotlib/backends/backend_agg.py:183: RuntimeWarning: Glyph 50976 missing from current font.\n",
            "  font.set_text(s, 0, flags=flags)\n",
            "/usr/local/lib/python3.6/dist-packages/matplotlib/backends/backend_agg.py:183: RuntimeWarning: Glyph 46041 missing from current font.\n",
            "  font.set_text(s, 0, flags=flags)\n",
            "/usr/local/lib/python3.6/dist-packages/matplotlib/backends/backend_agg.py:183: RuntimeWarning: Glyph 51064 missing from current font.\n",
            "  font.set_text(s, 0, flags=flags)\n"
          ],
          "name": "stderr"
        },
        {
          "output_type": "display_data",
          "data": {
            "image/png": "[encoded data removed]",
            "text/plain": [
              "<Figure size 432x288 with 1 Axes>"
            ]
          },
          "metadata": {
            "tags": [],
            "image/png": {
              "width": 394,
              "height": 276
            },
            "needs_background": "light"
          }
        }
      ]
    },
    {
      "cell_type": "markdown",
      "metadata": {
        "id": "jNh_ugPC5XLj",
        "colab_type": "text"
      },
      "source": [
        "## 이제 구별 일별 민감도(연령별은 나중에 추가하기)"
      ]
    },
    {
      "cell_type": "code",
      "metadata": {
        "id": "WvCqwUSW5XLj",
        "colab_type": "code",
        "colab": {
          "base_uri": "https://localhost:8080/",
          "height": 419
        },
        "outputId": "c57885a9-000e-4f59-913d-aa4abbec2dc1"
      },
      "source": [
        "timegu = time_sorted.groupby(['datetime', 'date','gu']).sum()\n",
        "timegu = timegu.reset_index()\n",
        "del timegu['age']\n",
        "del timegu['time']\n",
        "del timegu['date']\n",
        "# timegu.set_index(['d'], inplace=True)\n",
        "timegu"
      ],
      "execution_count": 39,
      "outputs": [
        {
          "output_type": "execute_result",
          "data": {
            "text/html": [
              "<div>\n",
              "<style scoped>\n",
              "    .dataframe tbody tr th:only-of-type {\n",
              "        vertical-align: middle;\n",
              "    }\n",
              "\n",
              "    .dataframe tbody tr th {\n",
              "        vertical-align: top;\n",
              "    }\n",
              "\n",
              "    .dataframe thead th {\n",
              "        text-align: right;\n",
              "    }\n",
              "</style>\n",
              "<table border=\"1\" class=\"dataframe\">\n",
              "  <thead>\n",
              "    <tr style=\"text-align: right;\">\n",
              "      <th></th>\n",
              "      <th>datetime</th>\n",
              "      <th>gu</th>\n",
              "      <th>ppl</th>\n",
              "    </tr>\n",
              "  </thead>\n",
              "  <tbody>\n",
              "    <tr>\n",
              "      <th>0</th>\n",
              "      <td>2020-01-01</td>\n",
              "      <td>강남구</td>\n",
              "      <td>11001340</td>\n",
              "    </tr>\n",
              "    <tr>\n",
              "      <th>1</th>\n",
              "      <td>2020-01-01</td>\n",
              "      <td>강동구</td>\n",
              "      <td>8296230</td>\n",
              "    </tr>\n",
              "    <tr>\n",
              "      <th>2</th>\n",
              "      <td>2020-01-01</td>\n",
              "      <td>강북구</td>\n",
              "      <td>6160610</td>\n",
              "    </tr>\n",
              "    <tr>\n",
              "      <th>3</th>\n",
              "      <td>2020-01-01</td>\n",
              "      <td>강서구</td>\n",
              "      <td>10998410</td>\n",
              "    </tr>\n",
              "    <tr>\n",
              "      <th>4</th>\n",
              "      <td>2020-01-01</td>\n",
              "      <td>관악구</td>\n",
              "      <td>10003990</td>\n",
              "    </tr>\n",
              "    <tr>\n",
              "      <th>...</th>\n",
              "      <td>...</td>\n",
              "      <td>...</td>\n",
              "      <td>...</td>\n",
              "    </tr>\n",
              "    <tr>\n",
              "      <th>5295</th>\n",
              "      <td>2020-07-31</td>\n",
              "      <td>용산구</td>\n",
              "      <td>5271470</td>\n",
              "    </tr>\n",
              "    <tr>\n",
              "      <th>5296</th>\n",
              "      <td>2020-07-31</td>\n",
              "      <td>은평구</td>\n",
              "      <td>7699220</td>\n",
              "    </tr>\n",
              "    <tr>\n",
              "      <th>5297</th>\n",
              "      <td>2020-07-31</td>\n",
              "      <td>종로구</td>\n",
              "      <td>5752320</td>\n",
              "    </tr>\n",
              "    <tr>\n",
              "      <th>5298</th>\n",
              "      <td>2020-07-31</td>\n",
              "      <td>중구</td>\n",
              "      <td>6066250</td>\n",
              "    </tr>\n",
              "    <tr>\n",
              "      <th>5299</th>\n",
              "      <td>2020-07-31</td>\n",
              "      <td>중랑구</td>\n",
              "      <td>6783730</td>\n",
              "    </tr>\n",
              "  </tbody>\n",
              "</table>\n",
              "<p>5300 rows × 3 columns</p>\n",
              "</div>"
            ],
            "text/plain": [
              "       datetime   gu       ppl\n",
              "0    2020-01-01  강남구  11001340\n",
              "1    2020-01-01  강동구   8296230\n",
              "2    2020-01-01  강북구   6160610\n",
              "3    2020-01-01  강서구  10998410\n",
              "4    2020-01-01  관악구  10003990\n",
              "...         ...  ...       ...\n",
              "5295 2020-07-31  용산구   5271470\n",
              "5296 2020-07-31  은평구   7699220\n",
              "5297 2020-07-31  종로구   5752320\n",
              "5298 2020-07-31   중구   6066250\n",
              "5299 2020-07-31  중랑구   6783730\n",
              "\n",
              "[5300 rows x 3 columns]"
            ]
          },
          "metadata": {
            "tags": []
          },
          "execution_count": 39
        }
      ]
    },
    {
      "cell_type": "code",
      "metadata": {
        "id": "Gq5zpet_5XLn",
        "colab_type": "code",
        "colab": {
          "base_uri": "https://localhost:8080/",
          "height": 307
        },
        "outputId": "2922560d-8c2f-4b78-f385-a0883d2e28dc"
      },
      "source": [
        "weekly_timegu = timegu.resample('W-Sun').sum()"
      ],
      "execution_count": 37,
      "outputs": [
        {
          "output_type": "error",
          "ename": "TypeError",
          "evalue": "ignored",
          "traceback": [
            "\u001b[0;31m---------------------------------------------------------------------------\u001b[0m",
            "\u001b[0;31mTypeError\u001b[0m                                 Traceback (most recent call last)",
            "\u001b[0;32m<ipython-input-37-1202a871ea8f>\u001b[0m in \u001b[0;36m<module>\u001b[0;34m()\u001b[0m\n\u001b[0;32m----> 1\u001b[0;31m \u001b[0mweekly_timegu\u001b[0m \u001b[0;34m=\u001b[0m \u001b[0mtimegu\u001b[0m\u001b[0;34m.\u001b[0m\u001b[0mresample\u001b[0m\u001b[0;34m(\u001b[0m\u001b[0;34m'W-Sun'\u001b[0m\u001b[0;34m)\u001b[0m\u001b[0;34m.\u001b[0m\u001b[0msum\u001b[0m\u001b[0;34m(\u001b[0m\u001b[0;34m)\u001b[0m\u001b[0;34m\u001b[0m\u001b[0;34m\u001b[0m\u001b[0m\n\u001b[0m",
            "\u001b[0;32m/usr/local/lib/python3.6/dist-packages/pandas/core/generic.py\u001b[0m in \u001b[0;36mresample\u001b[0;34m(self, rule, axis, closed, label, convention, kind, loffset, base, on, level)\u001b[0m\n\u001b[1;32m   8113\u001b[0m             \u001b[0mbase\u001b[0m\u001b[0;34m=\u001b[0m\u001b[0mbase\u001b[0m\u001b[0;34m,\u001b[0m\u001b[0;34m\u001b[0m\u001b[0;34m\u001b[0m\u001b[0m\n\u001b[1;32m   8114\u001b[0m             \u001b[0mkey\u001b[0m\u001b[0;34m=\u001b[0m\u001b[0mon\u001b[0m\u001b[0;34m,\u001b[0m\u001b[0;34m\u001b[0m\u001b[0;34m\u001b[0m\u001b[0m\n\u001b[0;32m-> 8115\u001b[0;31m             \u001b[0mlevel\u001b[0m\u001b[0;34m=\u001b[0m\u001b[0mlevel\u001b[0m\u001b[0;34m,\u001b[0m\u001b[0;34m\u001b[0m\u001b[0;34m\u001b[0m\u001b[0m\n\u001b[0m\u001b[1;32m   8116\u001b[0m         )\n\u001b[1;32m   8117\u001b[0m \u001b[0;34m\u001b[0m\u001b[0m\n",
            "\u001b[0;32m/usr/local/lib/python3.6/dist-packages/pandas/core/resample.py\u001b[0m in \u001b[0;36mresample\u001b[0;34m(obj, kind, **kwds)\u001b[0m\n\u001b[1;32m   1268\u001b[0m     \"\"\"\n\u001b[1;32m   1269\u001b[0m     \u001b[0mtg\u001b[0m \u001b[0;34m=\u001b[0m \u001b[0mTimeGrouper\u001b[0m\u001b[0;34m(\u001b[0m\u001b[0;34m**\u001b[0m\u001b[0mkwds\u001b[0m\u001b[0;34m)\u001b[0m\u001b[0;34m\u001b[0m\u001b[0;34m\u001b[0m\u001b[0m\n\u001b[0;32m-> 1270\u001b[0;31m     \u001b[0;32mreturn\u001b[0m \u001b[0mtg\u001b[0m\u001b[0;34m.\u001b[0m\u001b[0m_get_resampler\u001b[0m\u001b[0;34m(\u001b[0m\u001b[0mobj\u001b[0m\u001b[0;34m,\u001b[0m \u001b[0mkind\u001b[0m\u001b[0;34m=\u001b[0m\u001b[0mkind\u001b[0m\u001b[0;34m)\u001b[0m\u001b[0;34m\u001b[0m\u001b[0;34m\u001b[0m\u001b[0m\n\u001b[0m\u001b[1;32m   1271\u001b[0m \u001b[0;34m\u001b[0m\u001b[0m\n\u001b[1;32m   1272\u001b[0m \u001b[0;34m\u001b[0m\u001b[0m\n",
            "\u001b[0;32m/usr/local/lib/python3.6/dist-packages/pandas/core/resample.py\u001b[0m in \u001b[0;36m_get_resampler\u001b[0;34m(self, obj, kind)\u001b[0m\n\u001b[1;32m   1402\u001b[0m \u001b[0;34m\u001b[0m\u001b[0m\n\u001b[1;32m   1403\u001b[0m         raise TypeError(\n\u001b[0;32m-> 1404\u001b[0;31m             \u001b[0;34m\"Only valid with DatetimeIndex, \"\u001b[0m\u001b[0;34m\u001b[0m\u001b[0;34m\u001b[0m\u001b[0m\n\u001b[0m\u001b[1;32m   1405\u001b[0m             \u001b[0;34m\"TimedeltaIndex or PeriodIndex, \"\u001b[0m\u001b[0;34m\u001b[0m\u001b[0;34m\u001b[0m\u001b[0m\n\u001b[1;32m   1406\u001b[0m             \u001b[0;34mf\"but got an instance of '{type(ax).__name__}'\"\u001b[0m\u001b[0;34m\u001b[0m\u001b[0;34m\u001b[0m\u001b[0m\n",
            "\u001b[0;31mTypeError\u001b[0m: Only valid with DatetimeIndex, TimedeltaIndex or PeriodIndex, but got an instance of 'Index'"
          ]
        }
      ]
    },
    {
      "cell_type": "code",
      "metadata": {
        "id": "BOAyy7NL5XLp",
        "colab_type": "code",
        "colab": {
          "base_uri": "https://localhost:8080/",
          "height": 450
        },
        "outputId": "a210f4da-3393-48ba-e52d-d22bceef4f24"
      },
      "source": [
        "timegu"
      ],
      "execution_count": 38,
      "outputs": [
        {
          "output_type": "execute_result",
          "data": {
            "text/html": [
              "<div>\n",
              "<style scoped>\n",
              "    .dataframe tbody tr th:only-of-type {\n",
              "        vertical-align: middle;\n",
              "    }\n",
              "\n",
              "    .dataframe tbody tr th {\n",
              "        vertical-align: top;\n",
              "    }\n",
              "\n",
              "    .dataframe thead th {\n",
              "        text-align: right;\n",
              "    }\n",
              "</style>\n",
              "<table border=\"1\" class=\"dataframe\">\n",
              "  <thead>\n",
              "    <tr style=\"text-align: right;\">\n",
              "      <th></th>\n",
              "      <th>datetime</th>\n",
              "      <th>ppl</th>\n",
              "    </tr>\n",
              "    <tr>\n",
              "      <th>gu</th>\n",
              "      <th></th>\n",
              "      <th></th>\n",
              "    </tr>\n",
              "  </thead>\n",
              "  <tbody>\n",
              "    <tr>\n",
              "      <th>강남구</th>\n",
              "      <td>2020-01-01</td>\n",
              "      <td>11001340</td>\n",
              "    </tr>\n",
              "    <tr>\n",
              "      <th>강동구</th>\n",
              "      <td>2020-01-01</td>\n",
              "      <td>8296230</td>\n",
              "    </tr>\n",
              "    <tr>\n",
              "      <th>강북구</th>\n",
              "      <td>2020-01-01</td>\n",
              "      <td>6160610</td>\n",
              "    </tr>\n",
              "    <tr>\n",
              "      <th>강서구</th>\n",
              "      <td>2020-01-01</td>\n",
              "      <td>10998410</td>\n",
              "    </tr>\n",
              "    <tr>\n",
              "      <th>관악구</th>\n",
              "      <td>2020-01-01</td>\n",
              "      <td>10003990</td>\n",
              "    </tr>\n",
              "    <tr>\n",
              "      <th>...</th>\n",
              "      <td>...</td>\n",
              "      <td>...</td>\n",
              "    </tr>\n",
              "    <tr>\n",
              "      <th>용산구</th>\n",
              "      <td>2020-07-31</td>\n",
              "      <td>5271470</td>\n",
              "    </tr>\n",
              "    <tr>\n",
              "      <th>은평구</th>\n",
              "      <td>2020-07-31</td>\n",
              "      <td>7699220</td>\n",
              "    </tr>\n",
              "    <tr>\n",
              "      <th>종로구</th>\n",
              "      <td>2020-07-31</td>\n",
              "      <td>5752320</td>\n",
              "    </tr>\n",
              "    <tr>\n",
              "      <th>중구</th>\n",
              "      <td>2020-07-31</td>\n",
              "      <td>6066250</td>\n",
              "    </tr>\n",
              "    <tr>\n",
              "      <th>중랑구</th>\n",
              "      <td>2020-07-31</td>\n",
              "      <td>6783730</td>\n",
              "    </tr>\n",
              "  </tbody>\n",
              "</table>\n",
              "<p>5300 rows × 2 columns</p>\n",
              "</div>"
            ],
            "text/plain": [
              "      datetime       ppl\n",
              "gu                      \n",
              "강남구 2020-01-01  11001340\n",
              "강동구 2020-01-01   8296230\n",
              "강북구 2020-01-01   6160610\n",
              "강서구 2020-01-01  10998410\n",
              "관악구 2020-01-01  10003990\n",
              "..         ...       ...\n",
              "용산구 2020-07-31   5271470\n",
              "은평구 2020-07-31   7699220\n",
              "종로구 2020-07-31   5752320\n",
              "중구  2020-07-31   6066250\n",
              "중랑구 2020-07-31   6783730\n",
              "\n",
              "[5300 rows x 2 columns]"
            ]
          },
          "metadata": {
            "tags": []
          },
          "execution_count": 38
        }
      ]
    },
    {
      "cell_type": "code",
      "metadata": {
        "id": "lLUNn5gk5XLt",
        "colab_type": "code",
        "colab": {}
      },
      "source": [
        ""
      ],
      "execution_count": 13,
      "outputs": []
    },
    {
      "cell_type": "code",
      "metadata": {
        "id": "iDGt6V3D5XLv",
        "colab_type": "code",
        "colab": {}
      },
      "source": [
        ""
      ],
      "execution_count": 13,
      "outputs": []
    },
    {
      "cell_type": "code",
      "metadata": {
        "id": "_AehilEK5XLy",
        "colab_type": "code",
        "colab": {}
      },
      "source": [
        ""
      ],
      "execution_count": null,
      "outputs": []
    },
    {
      "cell_type": "code",
      "metadata": {
        "id": "qu0QuKEU5XL2",
        "colab_type": "code",
        "colab": {}
      },
      "source": [
        ""
      ],
      "execution_count": null,
      "outputs": []
    },
    {
      "cell_type": "code",
      "metadata": {
        "id": "60NIhh705XL6",
        "colab_type": "code",
        "colab": {}
      },
      "source": [
        ""
      ],
      "execution_count": null,
      "outputs": []
    },
    {
      "cell_type": "code",
      "metadata": {
        "id": "rpcnCKnj5XMC",
        "colab_type": "code",
        "colab": {}
      },
      "source": [
        ""
      ],
      "execution_count": null,
      "outputs": []
    },
    {
      "cell_type": "code",
      "metadata": {
        "id": "qhYGoph95XMF",
        "colab_type": "code",
        "colab": {}
      },
      "source": [
        ""
      ],
      "execution_count": null,
      "outputs": []
    },
    {
      "cell_type": "code",
      "metadata": {
        "id": "9nG7xPSE5XMH",
        "colab_type": "code",
        "colab": {}
      },
      "source": [
        ""
      ],
      "execution_count": null,
      "outputs": []
    },
    {
      "cell_type": "code",
      "metadata": {
        "id": "nbOZia5B5XMK",
        "colab_type": "code",
        "colab": {}
      },
      "source": [
        ""
      ],
      "execution_count": null,
      "outputs": []
    },
    {
      "cell_type": "code",
      "metadata": {
        "id": "_IO4aoTE5XMM",
        "colab_type": "code",
        "colab": {}
      },
      "source": [
        ""
      ],
      "execution_count": null,
      "outputs": []
    },
    {
      "cell_type": "code",
      "metadata": {
        "id": "5jGcxtv95XMQ",
        "colab_type": "code",
        "colab": {}
      },
      "source": [
        ""
      ],
      "execution_count": null,
      "outputs": []
    },
    {
      "cell_type": "code",
      "metadata": {
        "id": "PCHqOq0_5XMT",
        "colab_type": "code",
        "colab": {}
      },
      "source": [
        ""
      ],
      "execution_count": null,
      "outputs": []
    },
    {
      "cell_type": "code",
      "metadata": {
        "id": "oRuxiSyP5XMV",
        "colab_type": "code",
        "colab": {}
      },
      "source": [
        ""
      ],
      "execution_count": null,
      "outputs": []
    },
    {
      "cell_type": "code",
      "metadata": {
        "id": "JnGy86Ds5XMY",
        "colab_type": "code",
        "colab": {}
      },
      "source": [
        ""
      ],
      "execution_count": null,
      "outputs": []
    },
    {
      "cell_type": "code",
      "metadata": {
        "id": "N-jxC7R75XMb",
        "colab_type": "code",
        "colab": {}
      },
      "source": [
        ""
      ],
      "execution_count": null,
      "outputs": []
    },
    {
      "cell_type": "code",
      "metadata": {
        "id": "3G9GVV3-5XMe",
        "colab_type": "code",
        "colab": {}
      },
      "source": [
        ""
      ],
      "execution_count": null,
      "outputs": []
    },
    {
      "cell_type": "code",
      "metadata": {
        "id": "PM2abX-K5XMh",
        "colab_type": "code",
        "colab": {}
      },
      "source": [
        ""
      ],
      "execution_count": null,
      "outputs": []
    },
    {
      "cell_type": "code",
      "metadata": {
        "id": "oDu2HGhw5XMj",
        "colab_type": "code",
        "colab": {}
      },
      "source": [
        ""
      ],
      "execution_count": null,
      "outputs": []
    },
    {
      "cell_type": "code",
      "metadata": {
        "id": "kHPlkuCv5XMl",
        "colab_type": "code",
        "colab": {}
      },
      "source": [
        ""
      ],
      "execution_count": null,
      "outputs": []
    },
    {
      "cell_type": "code",
      "metadata": {
        "id": "D4HDf3585XMo",
        "colab_type": "code",
        "colab": {}
      },
      "source": [
        ""
      ],
      "execution_count": null,
      "outputs": []
    },
    {
      "cell_type": "code",
      "metadata": {
        "id": "NinjYCzY5XMs",
        "colab_type": "code",
        "colab": {}
      },
      "source": [
        ""
      ],
      "execution_count": null,
      "outputs": []
    },
    {
      "cell_type": "code",
      "metadata": {
        "id": "LuW2P-pP5XMy",
        "colab_type": "code",
        "colab": {}
      },
      "source": [
        ""
      ],
      "execution_count": null,
      "outputs": []
    },
    {
      "cell_type": "code",
      "metadata": {
        "id": "fzGt0vqf5XM1",
        "colab_type": "code",
        "colab": {}
      },
      "source": [
        ""
      ],
      "execution_count": null,
      "outputs": []
    },
    {
      "cell_type": "code",
      "metadata": {
        "id": "IiqQofKk5XM5",
        "colab_type": "code",
        "colab": {}
      },
      "source": [
        ""
      ],
      "execution_count": null,
      "outputs": []
    },
    {
      "cell_type": "code",
      "metadata": {
        "id": "fF9P7KR45XM9",
        "colab_type": "code",
        "colab": {}
      },
      "source": [
        ""
      ],
      "execution_count": null,
      "outputs": []
    }
  ]
}