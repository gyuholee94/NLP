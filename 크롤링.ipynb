{
  "nbformat": 4,
  "nbformat_minor": 0,
  "metadata": {
    "colab": {
      "name": "크롤링.ipynb",
      "provenance": [],
      "authorship_tag": "ABX9TyP4fKmHVmCIb3KOV/N/tOeB",
      "include_colab_link": true
    },
    "kernelspec": {
      "name": "python3",
      "display_name": "Python 3"
    }
  },
  "cells": [
    {
      "cell_type": "markdown",
      "metadata": {
        "id": "view-in-github",
        "colab_type": "text"
      },
      "source": [
        "<a href=\"https://colab.research.google.com/github/gyuholee94/NLP/blob/master/%ED%81%AC%EB%A1%A4%EB%A7%81.ipynb\" target=\"_parent\"><img src=\"https://colab.research.google.com/assets/colab-badge.svg\" alt=\"Open In Colab\"/></a>"
      ]
    },
    {
      "cell_type": "code",
      "metadata": {
        "id": "ShHugBsaJnb4",
        "colab_type": "code",
        "colab": {}
      },
      "source": [
        "import datetime\n",
        "# 이건 월별 기사수 나오는 함수긴 한데, 분명 허점이 존재할거 같이만 규호쓰가 한 방식으로는 중간중간 빈 날짜들이 좀 많이생겨서 월단위는 이렇게 한다고 그냥 복붙함\n",
        "\n",
        "\n",
        "def last_day_of_month(any_day):\n",
        "    next_month = any_day.replace(day=28) + datetime.timedelta(days=4)  # this will never fail\n",
        "    return next_month - datetime.timedelta(days=next_month.day)\n",
        "\n",
        "begin = \"2005.01.01\"\n",
        "end = \"2017.12.31\"\n",
        "\n",
        "def monthlist(begin, end):\n",
        "    begin = datetime.datetime.strptime(begin, \"%Y.%m.%d\")\n",
        "    end = datetime.datetime.strptime(end, \"%Y.%m.%d\")\n",
        "    result = []\n",
        "    while True:\n",
        "        if begin.month == 12:\n",
        "            next_month = begin.replace(year=begin.year+1, month=1, day=1)\n",
        "        else:\n",
        "            next_month = begin.replace(month=begin.month+1, day=1)\n",
        "        if next_month > end:\n",
        "            break\n",
        "        result.append([begin.strftime(\"%Y.%m.%d\"),\n",
        "                       last_day_of_month(begin).strftime(\"%Y.%m.%d\")])\n",
        "        begin = next_month\n",
        "    result.append([begin.strftime(\"%Y.%m.%d\"), end.strftime(\"%Y.%m.%d\")])\n",
        "    return result\n",
        "\n",
        "\n",
        "date_list = monthlist(begin, end)"
      ],
      "execution_count": null,
      "outputs": []
    },
    {
      "cell_type": "code",
      "metadata": {
        "id": "K87vduB6Q0Og",
        "colab_type": "code",
        "colab": {
          "base_uri": "https://localhost:8080/",
          "height": 1000
        },
        "outputId": "194a837b-fc62-412f-abc2-3a28b8dcc859"
      },
      "source": [
        "date_list"
      ],
      "execution_count": null,
      "outputs": [
        {
          "output_type": "execute_result",
          "data": {
            "text/plain": [
              "[['2005.01.01', '2005.01.31'],\n",
              " ['2005.02.01', '2005.02.28'],\n",
              " ['2005.03.01', '2005.03.31'],\n",
              " ['2005.04.01', '2005.04.30'],\n",
              " ['2005.05.01', '2005.05.31'],\n",
              " ['2005.06.01', '2005.06.30'],\n",
              " ['2005.07.01', '2005.07.31'],\n",
              " ['2005.08.01', '2005.08.31'],\n",
              " ['2005.09.01', '2005.09.30'],\n",
              " ['2005.10.01', '2005.10.31'],\n",
              " ['2005.11.01', '2005.11.30'],\n",
              " ['2005.12.01', '2005.12.31'],\n",
              " ['2006.01.01', '2006.01.31'],\n",
              " ['2006.02.01', '2006.02.28'],\n",
              " ['2006.03.01', '2006.03.31'],\n",
              " ['2006.04.01', '2006.04.30'],\n",
              " ['2006.05.01', '2006.05.31'],\n",
              " ['2006.06.01', '2006.06.30'],\n",
              " ['2006.07.01', '2006.07.31'],\n",
              " ['2006.08.01', '2006.08.31'],\n",
              " ['2006.09.01', '2006.09.30'],\n",
              " ['2006.10.01', '2006.10.31'],\n",
              " ['2006.11.01', '2006.11.30'],\n",
              " ['2006.12.01', '2006.12.31'],\n",
              " ['2007.01.01', '2007.01.31'],\n",
              " ['2007.02.01', '2007.02.28'],\n",
              " ['2007.03.01', '2007.03.31'],\n",
              " ['2007.04.01', '2007.04.30'],\n",
              " ['2007.05.01', '2007.05.31'],\n",
              " ['2007.06.01', '2007.06.30'],\n",
              " ['2007.07.01', '2007.07.31'],\n",
              " ['2007.08.01', '2007.08.31'],\n",
              " ['2007.09.01', '2007.09.30'],\n",
              " ['2007.10.01', '2007.10.31'],\n",
              " ['2007.11.01', '2007.11.30'],\n",
              " ['2007.12.01', '2007.12.31'],\n",
              " ['2008.01.01', '2008.01.31'],\n",
              " ['2008.02.01', '2008.02.29'],\n",
              " ['2008.03.01', '2008.03.31'],\n",
              " ['2008.04.01', '2008.04.30'],\n",
              " ['2008.05.01', '2008.05.31'],\n",
              " ['2008.06.01', '2008.06.30'],\n",
              " ['2008.07.01', '2008.07.31'],\n",
              " ['2008.08.01', '2008.08.31'],\n",
              " ['2008.09.01', '2008.09.30'],\n",
              " ['2008.10.01', '2008.10.31'],\n",
              " ['2008.11.01', '2008.11.30'],\n",
              " ['2008.12.01', '2008.12.31'],\n",
              " ['2009.01.01', '2009.01.31'],\n",
              " ['2009.02.01', '2009.02.28'],\n",
              " ['2009.03.01', '2009.03.31'],\n",
              " ['2009.04.01', '2009.04.30'],\n",
              " ['2009.05.01', '2009.05.31'],\n",
              " ['2009.06.01', '2009.06.30'],\n",
              " ['2009.07.01', '2009.07.31'],\n",
              " ['2009.08.01', '2009.08.31'],\n",
              " ['2009.09.01', '2009.09.30'],\n",
              " ['2009.10.01', '2009.10.31'],\n",
              " ['2009.11.01', '2009.11.30'],\n",
              " ['2009.12.01', '2009.12.31'],\n",
              " ['2010.01.01', '2010.01.31'],\n",
              " ['2010.02.01', '2010.02.28'],\n",
              " ['2010.03.01', '2010.03.31'],\n",
              " ['2010.04.01', '2010.04.30'],\n",
              " ['2010.05.01', '2010.05.31'],\n",
              " ['2010.06.01', '2010.06.30'],\n",
              " ['2010.07.01', '2010.07.31'],\n",
              " ['2010.08.01', '2010.08.31'],\n",
              " ['2010.09.01', '2010.09.30'],\n",
              " ['2010.10.01', '2010.10.31'],\n",
              " ['2010.11.01', '2010.11.30'],\n",
              " ['2010.12.01', '2010.12.31'],\n",
              " ['2011.01.01', '2011.01.31'],\n",
              " ['2011.02.01', '2011.02.28'],\n",
              " ['2011.03.01', '2011.03.31'],\n",
              " ['2011.04.01', '2011.04.30'],\n",
              " ['2011.05.01', '2011.05.31'],\n",
              " ['2011.06.01', '2011.06.30'],\n",
              " ['2011.07.01', '2011.07.31'],\n",
              " ['2011.08.01', '2011.08.31'],\n",
              " ['2011.09.01', '2011.09.30'],\n",
              " ['2011.10.01', '2011.10.31'],\n",
              " ['2011.11.01', '2011.11.30'],\n",
              " ['2011.12.01', '2011.12.31'],\n",
              " ['2012.01.01', '2012.01.31'],\n",
              " ['2012.02.01', '2012.02.29'],\n",
              " ['2012.03.01', '2012.03.31'],\n",
              " ['2012.04.01', '2012.04.30'],\n",
              " ['2012.05.01', '2012.05.31'],\n",
              " ['2012.06.01', '2012.06.30'],\n",
              " ['2012.07.01', '2012.07.31'],\n",
              " ['2012.08.01', '2012.08.31'],\n",
              " ['2012.09.01', '2012.09.30'],\n",
              " ['2012.10.01', '2012.10.31'],\n",
              " ['2012.11.01', '2012.11.30'],\n",
              " ['2012.12.01', '2012.12.31'],\n",
              " ['2013.01.01', '2013.01.31'],\n",
              " ['2013.02.01', '2013.02.28'],\n",
              " ['2013.03.01', '2013.03.31'],\n",
              " ['2013.04.01', '2013.04.30'],\n",
              " ['2013.05.01', '2013.05.31'],\n",
              " ['2013.06.01', '2013.06.30'],\n",
              " ['2013.07.01', '2013.07.31'],\n",
              " ['2013.08.01', '2013.08.31'],\n",
              " ['2013.09.01', '2013.09.30'],\n",
              " ['2013.10.01', '2013.10.31'],\n",
              " ['2013.11.01', '2013.11.30'],\n",
              " ['2013.12.01', '2013.12.31'],\n",
              " ['2014.01.01', '2014.01.31'],\n",
              " ['2014.02.01', '2014.02.28'],\n",
              " ['2014.03.01', '2014.03.31'],\n",
              " ['2014.04.01', '2014.04.30'],\n",
              " ['2014.05.01', '2014.05.31'],\n",
              " ['2014.06.01', '2014.06.30'],\n",
              " ['2014.07.01', '2014.07.31'],\n",
              " ['2014.08.01', '2014.08.31'],\n",
              " ['2014.09.01', '2014.09.30'],\n",
              " ['2014.10.01', '2014.10.31'],\n",
              " ['2014.11.01', '2014.11.30'],\n",
              " ['2014.12.01', '2014.12.31'],\n",
              " ['2015.01.01', '2015.01.31'],\n",
              " ['2015.02.01', '2015.02.28'],\n",
              " ['2015.03.01', '2015.03.31'],\n",
              " ['2015.04.01', '2015.04.30'],\n",
              " ['2015.05.01', '2015.05.31'],\n",
              " ['2015.06.01', '2015.06.30'],\n",
              " ['2015.07.01', '2015.07.31'],\n",
              " ['2015.08.01', '2015.08.31'],\n",
              " ['2015.09.01', '2015.09.30'],\n",
              " ['2015.10.01', '2015.10.31'],\n",
              " ['2015.11.01', '2015.11.30'],\n",
              " ['2015.12.01', '2015.12.31'],\n",
              " ['2016.01.01', '2016.01.31'],\n",
              " ['2016.02.01', '2016.02.29'],\n",
              " ['2016.03.01', '2016.03.31'],\n",
              " ['2016.04.01', '2016.04.30'],\n",
              " ['2016.05.01', '2016.05.31'],\n",
              " ['2016.06.01', '2016.06.30'],\n",
              " ['2016.07.01', '2016.07.31'],\n",
              " ['2016.08.01', '2016.08.31'],\n",
              " ['2016.09.01', '2016.09.30'],\n",
              " ['2016.10.01', '2016.10.31'],\n",
              " ['2016.11.01', '2016.11.30'],\n",
              " ['2016.12.01', '2016.12.31'],\n",
              " ['2017.01.01', '2017.01.31'],\n",
              " ['2017.02.01', '2017.02.28'],\n",
              " ['2017.03.01', '2017.03.31'],\n",
              " ['2017.04.01', '2017.04.30'],\n",
              " ['2017.05.01', '2017.05.31'],\n",
              " ['2017.06.01', '2017.06.30'],\n",
              " ['2017.07.01', '2017.07.31'],\n",
              " ['2017.08.01', '2017.08.31'],\n",
              " ['2017.09.01', '2017.09.30'],\n",
              " ['2017.10.01', '2017.10.31'],\n",
              " ['2017.11.01', '2017.11.30'],\n",
              " ['2017.12.01', '2017.12.31']]"
            ]
          },
          "metadata": {
            "tags": []
          },
          "execution_count": 48
        }
      ]
    },
    {
      "cell_type": "code",
      "metadata": {
        "id": "mp3luPhvJoTC",
        "colab_type": "code",
        "colab": {
          "base_uri": "https://localhost:8080/",
          "height": 237
        },
        "outputId": "e06487ca-bdcb-4b45-a74c-115c5c318605"
      },
      "source": [
        "date_list"
      ],
      "execution_count": null,
      "outputs": [
        {
          "output_type": "execute_result",
          "data": {
            "text/plain": [
              "[['2005.01.01', '2005.01.31'],\n",
              " ['2005.02.01', '2005.02.28'],\n",
              " ['2005.03.01', '2005.03.31'],\n",
              " ['2005.04.01', '2005.04.30'],\n",
              " ['2005.05.01', '2005.05.31'],\n",
              " ['2005.06.01', '2005.06.30'],\n",
              " ['2005.07.01', '2005.07.31'],\n",
              " ['2005.08.01', '2005.08.31'],\n",
              " ['2005.09.01', '2005.09.30'],\n",
              " ['2005.10.01', '2005.10.31'],\n",
              " ['2005.11.01', '2005.11.30'],\n",
              " ['2005.12.01', '2005.12.31']]"
            ]
          },
          "metadata": {
            "tags": []
          },
          "execution_count": 2
        }
      ]
    },
    {
      "cell_type": "code",
      "metadata": {
        "id": "BEZsm9NDJqOB",
        "colab_type": "code",
        "colab": {}
      },
      "source": [
        "\n",
        "date_list = monthlist(begin, end)\n",
        "# 새로운 데이트 리스트 생성, [['2005.01.01', '2005.12.31']] 형태로 돼있음\n",
        "# [['2005.01.01', '2005.01.31'], ['2005.02.01', '2005.02.28'], 2런 느낌\n",
        "new_date_list = []\n",
        "for list_date in date_list:\n",
        "    new_date_list.append(\n",
        "        \"https://search.naver.com/search.naver?where=news&query=%EA%B8%88%EB%A6%AC&sm=tab_srt&sort=2&photo=0&field=0&reporter_article=&pd=3&ds={}&de={}&docid=&nso=so%3Ada%2Cp%3Afrom20050101to20050105%2Ca%3Aall&mynews=1&refresh_start=0&related=0\".format(list_date[0], list_date[1]))\n",
        "    # 그래서 나온 date 순서쌍들을 처음 url에 넣어서, 리스트 url들을 만들고, 그 url리스트를  start request에 넣어버릴래!\n"
      ],
      "execution_count": null,
      "outputs": []
    },
    {
      "cell_type": "code",
      "metadata": {
        "id": "XFYEmc2ONsnv",
        "colab_type": "code",
        "colab": {
          "base_uri": "https://localhost:8080/",
          "height": 257
        },
        "outputId": "ba484ca5-380c-44ba-c09e-ecffa32c6072"
      },
      "source": [
        "new_date_list"
      ],
      "execution_count": null,
      "outputs": [
        {
          "output_type": "execute_result",
          "data": {
            "text/plain": [
              "['https://search.naver.com/search.naver?where=news&query=%EA%B8%88%EB%A6%AC&sm=tab_srt&sort=2&photo=0&field=0&reporter_article=&pd=3&ds=2005.01.01&de=2005.01.31&docid=&nso=so%3Ada%2Cp%3Afrom20050101to20050105%2Ca%3Aall&mynews=1&refresh_start=0&related=0',\n",
              " 'https://search.naver.com/search.naver?where=news&query=%EA%B8%88%EB%A6%AC&sm=tab_srt&sort=2&photo=0&field=0&reporter_article=&pd=3&ds=2005.02.01&de=2005.02.28&docid=&nso=so%3Ada%2Cp%3Afrom20050101to20050105%2Ca%3Aall&mynews=1&refresh_start=0&related=0',\n",
              " 'https://search.naver.com/search.naver?where=news&query=%EA%B8%88%EB%A6%AC&sm=tab_srt&sort=2&photo=0&field=0&reporter_article=&pd=3&ds=2005.03.01&de=2005.03.31&docid=&nso=so%3Ada%2Cp%3Afrom20050101to20050105%2Ca%3Aall&mynews=1&refresh_start=0&related=0',\n",
              " 'https://search.naver.com/search.naver?where=news&query=%EA%B8%88%EB%A6%AC&sm=tab_srt&sort=2&photo=0&field=0&reporter_article=&pd=3&ds=2005.04.01&de=2005.04.30&docid=&nso=so%3Ada%2Cp%3Afrom20050101to20050105%2Ca%3Aall&mynews=1&refresh_start=0&related=0',\n",
              " 'https://search.naver.com/search.naver?where=news&query=%EA%B8%88%EB%A6%AC&sm=tab_srt&sort=2&photo=0&field=0&reporter_article=&pd=3&ds=2005.05.01&de=2005.05.31&docid=&nso=so%3Ada%2Cp%3Afrom20050101to20050105%2Ca%3Aall&mynews=1&refresh_start=0&related=0',\n",
              " 'https://search.naver.com/search.naver?where=news&query=%EA%B8%88%EB%A6%AC&sm=tab_srt&sort=2&photo=0&field=0&reporter_article=&pd=3&ds=2005.06.01&de=2005.06.30&docid=&nso=so%3Ada%2Cp%3Afrom20050101to20050105%2Ca%3Aall&mynews=1&refresh_start=0&related=0',\n",
              " 'https://search.naver.com/search.naver?where=news&query=%EA%B8%88%EB%A6%AC&sm=tab_srt&sort=2&photo=0&field=0&reporter_article=&pd=3&ds=2005.07.01&de=2005.07.31&docid=&nso=so%3Ada%2Cp%3Afrom20050101to20050105%2Ca%3Aall&mynews=1&refresh_start=0&related=0',\n",
              " 'https://search.naver.com/search.naver?where=news&query=%EA%B8%88%EB%A6%AC&sm=tab_srt&sort=2&photo=0&field=0&reporter_article=&pd=3&ds=2005.08.01&de=2005.08.31&docid=&nso=so%3Ada%2Cp%3Afrom20050101to20050105%2Ca%3Aall&mynews=1&refresh_start=0&related=0',\n",
              " 'https://search.naver.com/search.naver?where=news&query=%EA%B8%88%EB%A6%AC&sm=tab_srt&sort=2&photo=0&field=0&reporter_article=&pd=3&ds=2005.09.01&de=2005.09.30&docid=&nso=so%3Ada%2Cp%3Afrom20050101to20050105%2Ca%3Aall&mynews=1&refresh_start=0&related=0',\n",
              " 'https://search.naver.com/search.naver?where=news&query=%EA%B8%88%EB%A6%AC&sm=tab_srt&sort=2&photo=0&field=0&reporter_article=&pd=3&ds=2005.10.01&de=2005.10.31&docid=&nso=so%3Ada%2Cp%3Afrom20050101to20050105%2Ca%3Aall&mynews=1&refresh_start=0&related=0',\n",
              " 'https://search.naver.com/search.naver?where=news&query=%EA%B8%88%EB%A6%AC&sm=tab_srt&sort=2&photo=0&field=0&reporter_article=&pd=3&ds=2005.11.01&de=2005.11.30&docid=&nso=so%3Ada%2Cp%3Afrom20050101to20050105%2Ca%3Aall&mynews=1&refresh_start=0&related=0',\n",
              " 'https://search.naver.com/search.naver?where=news&query=%EA%B8%88%EB%A6%AC&sm=tab_srt&sort=2&photo=0&field=0&reporter_article=&pd=3&ds=2005.12.01&de=2005.12.31&docid=&nso=so%3Ada%2Cp%3Afrom20050101to20050105%2Ca%3Aall&mynews=1&refresh_start=0&related=0']"
            ]
          },
          "metadata": {
            "tags": []
          },
          "execution_count": 7
        }
      ]
    },
    {
      "cell_type": "code",
      "metadata": {
        "id": "DNjgsUrdP6vq",
        "colab_type": "code",
        "colab": {
          "base_uri": "https://localhost:8080/",
          "height": 257
        },
        "outputId": "437b8f5c-4b99-4d24-b0a1-941fbedfaf01"
      },
      "source": [
        "\n",
        "urls = new_date_list  # 여기에 넣는다 이말이야\n",
        "for url in urls:\n",
        "  print(url)\n",
        " "
      ],
      "execution_count": null,
      "outputs": [
        {
          "output_type": "stream",
          "text": [
            "https://search.naver.com/search.naver?where=news&query=%EA%B8%88%EB%A6%AC&sm=tab_srt&sort=2&photo=0&field=0&reporter_article=&pd=3&ds=2005.01.01&de=2005.01.31&docid=&nso=so%3Ada%2Cp%3Afrom20050101to20050105%2Ca%3Aall&mynews=1&refresh_start=0&related=0\n",
            "https://search.naver.com/search.naver?where=news&query=%EA%B8%88%EB%A6%AC&sm=tab_srt&sort=2&photo=0&field=0&reporter_article=&pd=3&ds=2005.02.01&de=2005.02.28&docid=&nso=so%3Ada%2Cp%3Afrom20050101to20050105%2Ca%3Aall&mynews=1&refresh_start=0&related=0\n",
            "https://search.naver.com/search.naver?where=news&query=%EA%B8%88%EB%A6%AC&sm=tab_srt&sort=2&photo=0&field=0&reporter_article=&pd=3&ds=2005.03.01&de=2005.03.31&docid=&nso=so%3Ada%2Cp%3Afrom20050101to20050105%2Ca%3Aall&mynews=1&refresh_start=0&related=0\n",
            "https://search.naver.com/search.naver?where=news&query=%EA%B8%88%EB%A6%AC&sm=tab_srt&sort=2&photo=0&field=0&reporter_article=&pd=3&ds=2005.04.01&de=2005.04.30&docid=&nso=so%3Ada%2Cp%3Afrom20050101to20050105%2Ca%3Aall&mynews=1&refresh_start=0&related=0\n",
            "https://search.naver.com/search.naver?where=news&query=%EA%B8%88%EB%A6%AC&sm=tab_srt&sort=2&photo=0&field=0&reporter_article=&pd=3&ds=2005.05.01&de=2005.05.31&docid=&nso=so%3Ada%2Cp%3Afrom20050101to20050105%2Ca%3Aall&mynews=1&refresh_start=0&related=0\n",
            "https://search.naver.com/search.naver?where=news&query=%EA%B8%88%EB%A6%AC&sm=tab_srt&sort=2&photo=0&field=0&reporter_article=&pd=3&ds=2005.06.01&de=2005.06.30&docid=&nso=so%3Ada%2Cp%3Afrom20050101to20050105%2Ca%3Aall&mynews=1&refresh_start=0&related=0\n",
            "https://search.naver.com/search.naver?where=news&query=%EA%B8%88%EB%A6%AC&sm=tab_srt&sort=2&photo=0&field=0&reporter_article=&pd=3&ds=2005.07.01&de=2005.07.31&docid=&nso=so%3Ada%2Cp%3Afrom20050101to20050105%2Ca%3Aall&mynews=1&refresh_start=0&related=0\n",
            "https://search.naver.com/search.naver?where=news&query=%EA%B8%88%EB%A6%AC&sm=tab_srt&sort=2&photo=0&field=0&reporter_article=&pd=3&ds=2005.08.01&de=2005.08.31&docid=&nso=so%3Ada%2Cp%3Afrom20050101to20050105%2Ca%3Aall&mynews=1&refresh_start=0&related=0\n",
            "https://search.naver.com/search.naver?where=news&query=%EA%B8%88%EB%A6%AC&sm=tab_srt&sort=2&photo=0&field=0&reporter_article=&pd=3&ds=2005.09.01&de=2005.09.30&docid=&nso=so%3Ada%2Cp%3Afrom20050101to20050105%2Ca%3Aall&mynews=1&refresh_start=0&related=0\n",
            "https://search.naver.com/search.naver?where=news&query=%EA%B8%88%EB%A6%AC&sm=tab_srt&sort=2&photo=0&field=0&reporter_article=&pd=3&ds=2005.10.01&de=2005.10.31&docid=&nso=so%3Ada%2Cp%3Afrom20050101to20050105%2Ca%3Aall&mynews=1&refresh_start=0&related=0\n",
            "https://search.naver.com/search.naver?where=news&query=%EA%B8%88%EB%A6%AC&sm=tab_srt&sort=2&photo=0&field=0&reporter_article=&pd=3&ds=2005.11.01&de=2005.11.30&docid=&nso=so%3Ada%2Cp%3Afrom20050101to20050105%2Ca%3Aall&mynews=1&refresh_start=0&related=0\n",
            "https://search.naver.com/search.naver?where=news&query=%EA%B8%88%EB%A6%AC&sm=tab_srt&sort=2&photo=0&field=0&reporter_article=&pd=3&ds=2005.12.01&de=2005.12.31&docid=&nso=so%3Ada%2Cp%3Afrom20050101to20050105%2Ca%3Aall&mynews=1&refresh_start=0&related=0\n"
          ],
          "name": "stdout"
        }
      ]
    },
    {
      "cell_type": "code",
      "metadata": {
        "id": "KejEPMnIQkgR",
        "colab_type": "code",
        "colab": {}
      },
      "source": [
        "from datetime import date, datetime, timedelta\n",
        "import re\n",
        "def perdelta(start, end, delta):\n",
        "    curr = start\n",
        "    while curr < end:\n",
        "        yield curr\n",
        "        curr += delta\n",
        "date_list = []\n",
        "for result in perdelta(date(2005, 1, 1), date(2017, 12, 31), timedelta(days=4)):\n",
        "    date_list.append(result.strftime(\"%Y.%m.%d\"))\n",
        "        \n",
        "dateS = date_list[:-1]\n",
        "dateE = date_list[1:]"
      ],
      "execution_count": null,
      "outputs": []
    },
    {
      "cell_type": "code",
      "metadata": {
        "id": "FGhRrISCRwOw",
        "colab_type": "code",
        "colab": {
          "base_uri": "https://localhost:8080/",
          "height": 384
        },
        "outputId": "b6919965-1840-4881-eca7-ea7b00e175b6"
      },
      "source": [
        "dateS[:10], dateE[:10]"
      ],
      "execution_count": null,
      "outputs": [
        {
          "output_type": "execute_result",
          "data": {
            "text/plain": [
              "(['2005.01.01',\n",
              "  '2005.01.05',\n",
              "  '2005.01.09',\n",
              "  '2005.01.13',\n",
              "  '2005.01.17',\n",
              "  '2005.01.21',\n",
              "  '2005.01.25',\n",
              "  '2005.01.29',\n",
              "  '2005.02.02',\n",
              "  '2005.02.06'],\n",
              " ['2005.01.05',\n",
              "  '2005.01.09',\n",
              "  '2005.01.13',\n",
              "  '2005.01.17',\n",
              "  '2005.01.21',\n",
              "  '2005.01.25',\n",
              "  '2005.01.29',\n",
              "  '2005.02.02',\n",
              "  '2005.02.06',\n",
              "  '2005.02.10'])"
            ]
          },
          "metadata": {
            "tags": []
          },
          "execution_count": 13
        }
      ]
    },
    {
      "cell_type": "code",
      "metadata": {
        "id": "KWr_VqinRyAd",
        "colab_type": "code",
        "colab": {}
      },
      "source": [
        "def perdelta(start, end, delta):\n",
        "    curr = start\n",
        "    while curr < end:\n",
        "        yield curr\n",
        "        curr += delta\n",
        "\n",
        "date_lists = []\n",
        "date_liste = []\n",
        "for result in perdelta(date(2005, 1, 1), date(2005, 12, 31), timedelta(days=4)):\n",
        "    date_lists.append(result.strftime(\"%Y.%m.%d\"))\n",
        "\n",
        "for result in perdelta(date(2005, 1, 2), date(2006, 1, 1), timedelta(days=4)):\n",
        "    date_liste.append(result.strftime(\"%Y.%m.%d\"))\n",
        "\n",
        "\n",
        "dateS = date_lists[:-1]\n",
        "dateE = date_liste[1:]\n",
        "\n",
        "new_date_list = []\n",
        "for dates, datee in zip(dateS, dateE):\n",
        "    new_date_list.append(\n",
        "        \"https://search.naver.com/search.naver?where=news&query=%EA%B8%88%EB%A6%AC&sm=tab_srt&sort=2&photo=0&field=0&reporter_article=&pd=3&ds={}&de={}&docid=&nso=so%3Ada%2Cp%3Afrom20050101to20050105%2Ca%3Aall&mynews=1&refresh_start=0&related=0\".format(dates, datee))\n",
        "    # 그래서 나온 date 순서쌍들을 처음 url에 넣어서, 리스트 url들을 만들고, 그 url리스트를  start request에 넣어버릴래!\n"
      ],
      "execution_count": null,
      "outputs": []
    },
    {
      "cell_type": "code",
      "metadata": {
        "id": "OA8Ny1xmS09T",
        "colab_type": "code",
        "colab": {
          "base_uri": "https://localhost:8080/",
          "height": 1000
        },
        "outputId": "f54586c9-3238-496b-e886-8a56b58733b5"
      },
      "source": [
        "new_date_list"
      ],
      "execution_count": null,
      "outputs": [
        {
          "output_type": "execute_result",
          "data": {
            "text/plain": [
              "['https://search.naver.com/search.naver?where=news&query=%EA%B8%88%EB%A6%AC&sm=tab_srt&sort=2&photo=0&field=0&reporter_article=&pd=3&ds=2005.01.01&de=2005.01.06&docid=&nso=so%3Ada%2Cp%3Afrom20050101to20050105%2Ca%3Aall&mynews=1&refresh_start=0&related=0',\n",
              " 'https://search.naver.com/search.naver?where=news&query=%EA%B8%88%EB%A6%AC&sm=tab_srt&sort=2&photo=0&field=0&reporter_article=&pd=3&ds=2005.01.05&de=2005.01.10&docid=&nso=so%3Ada%2Cp%3Afrom20050101to20050105%2Ca%3Aall&mynews=1&refresh_start=0&related=0',\n",
              " 'https://search.naver.com/search.naver?where=news&query=%EA%B8%88%EB%A6%AC&sm=tab_srt&sort=2&photo=0&field=0&reporter_article=&pd=3&ds=2005.01.09&de=2005.01.14&docid=&nso=so%3Ada%2Cp%3Afrom20050101to20050105%2Ca%3Aall&mynews=1&refresh_start=0&related=0',\n",
              " 'https://search.naver.com/search.naver?where=news&query=%EA%B8%88%EB%A6%AC&sm=tab_srt&sort=2&photo=0&field=0&reporter_article=&pd=3&ds=2005.01.13&de=2005.01.18&docid=&nso=so%3Ada%2Cp%3Afrom20050101to20050105%2Ca%3Aall&mynews=1&refresh_start=0&related=0',\n",
              " 'https://search.naver.com/search.naver?where=news&query=%EA%B8%88%EB%A6%AC&sm=tab_srt&sort=2&photo=0&field=0&reporter_article=&pd=3&ds=2005.01.17&de=2005.01.22&docid=&nso=so%3Ada%2Cp%3Afrom20050101to20050105%2Ca%3Aall&mynews=1&refresh_start=0&related=0',\n",
              " 'https://search.naver.com/search.naver?where=news&query=%EA%B8%88%EB%A6%AC&sm=tab_srt&sort=2&photo=0&field=0&reporter_article=&pd=3&ds=2005.01.21&de=2005.01.26&docid=&nso=so%3Ada%2Cp%3Afrom20050101to20050105%2Ca%3Aall&mynews=1&refresh_start=0&related=0',\n",
              " 'https://search.naver.com/search.naver?where=news&query=%EA%B8%88%EB%A6%AC&sm=tab_srt&sort=2&photo=0&field=0&reporter_article=&pd=3&ds=2005.01.25&de=2005.01.30&docid=&nso=so%3Ada%2Cp%3Afrom20050101to20050105%2Ca%3Aall&mynews=1&refresh_start=0&related=0',\n",
              " 'https://search.naver.com/search.naver?where=news&query=%EA%B8%88%EB%A6%AC&sm=tab_srt&sort=2&photo=0&field=0&reporter_article=&pd=3&ds=2005.01.29&de=2005.02.03&docid=&nso=so%3Ada%2Cp%3Afrom20050101to20050105%2Ca%3Aall&mynews=1&refresh_start=0&related=0',\n",
              " 'https://search.naver.com/search.naver?where=news&query=%EA%B8%88%EB%A6%AC&sm=tab_srt&sort=2&photo=0&field=0&reporter_article=&pd=3&ds=2005.02.02&de=2005.02.07&docid=&nso=so%3Ada%2Cp%3Afrom20050101to20050105%2Ca%3Aall&mynews=1&refresh_start=0&related=0',\n",
              " 'https://search.naver.com/search.naver?where=news&query=%EA%B8%88%EB%A6%AC&sm=tab_srt&sort=2&photo=0&field=0&reporter_article=&pd=3&ds=2005.02.06&de=2005.02.11&docid=&nso=so%3Ada%2Cp%3Afrom20050101to20050105%2Ca%3Aall&mynews=1&refresh_start=0&related=0',\n",
              " 'https://search.naver.com/search.naver?where=news&query=%EA%B8%88%EB%A6%AC&sm=tab_srt&sort=2&photo=0&field=0&reporter_article=&pd=3&ds=2005.02.10&de=2005.02.15&docid=&nso=so%3Ada%2Cp%3Afrom20050101to20050105%2Ca%3Aall&mynews=1&refresh_start=0&related=0',\n",
              " 'https://search.naver.com/search.naver?where=news&query=%EA%B8%88%EB%A6%AC&sm=tab_srt&sort=2&photo=0&field=0&reporter_article=&pd=3&ds=2005.02.14&de=2005.02.19&docid=&nso=so%3Ada%2Cp%3Afrom20050101to20050105%2Ca%3Aall&mynews=1&refresh_start=0&related=0',\n",
              " 'https://search.naver.com/search.naver?where=news&query=%EA%B8%88%EB%A6%AC&sm=tab_srt&sort=2&photo=0&field=0&reporter_article=&pd=3&ds=2005.02.18&de=2005.02.23&docid=&nso=so%3Ada%2Cp%3Afrom20050101to20050105%2Ca%3Aall&mynews=1&refresh_start=0&related=0',\n",
              " 'https://search.naver.com/search.naver?where=news&query=%EA%B8%88%EB%A6%AC&sm=tab_srt&sort=2&photo=0&field=0&reporter_article=&pd=3&ds=2005.02.22&de=2005.02.27&docid=&nso=so%3Ada%2Cp%3Afrom20050101to20050105%2Ca%3Aall&mynews=1&refresh_start=0&related=0',\n",
              " 'https://search.naver.com/search.naver?where=news&query=%EA%B8%88%EB%A6%AC&sm=tab_srt&sort=2&photo=0&field=0&reporter_article=&pd=3&ds=2005.02.26&de=2005.03.03&docid=&nso=so%3Ada%2Cp%3Afrom20050101to20050105%2Ca%3Aall&mynews=1&refresh_start=0&related=0',\n",
              " 'https://search.naver.com/search.naver?where=news&query=%EA%B8%88%EB%A6%AC&sm=tab_srt&sort=2&photo=0&field=0&reporter_article=&pd=3&ds=2005.03.02&de=2005.03.07&docid=&nso=so%3Ada%2Cp%3Afrom20050101to20050105%2Ca%3Aall&mynews=1&refresh_start=0&related=0',\n",
              " 'https://search.naver.com/search.naver?where=news&query=%EA%B8%88%EB%A6%AC&sm=tab_srt&sort=2&photo=0&field=0&reporter_article=&pd=3&ds=2005.03.06&de=2005.03.11&docid=&nso=so%3Ada%2Cp%3Afrom20050101to20050105%2Ca%3Aall&mynews=1&refresh_start=0&related=0',\n",
              " 'https://search.naver.com/search.naver?where=news&query=%EA%B8%88%EB%A6%AC&sm=tab_srt&sort=2&photo=0&field=0&reporter_article=&pd=3&ds=2005.03.10&de=2005.03.15&docid=&nso=so%3Ada%2Cp%3Afrom20050101to20050105%2Ca%3Aall&mynews=1&refresh_start=0&related=0',\n",
              " 'https://search.naver.com/search.naver?where=news&query=%EA%B8%88%EB%A6%AC&sm=tab_srt&sort=2&photo=0&field=0&reporter_article=&pd=3&ds=2005.03.14&de=2005.03.19&docid=&nso=so%3Ada%2Cp%3Afrom20050101to20050105%2Ca%3Aall&mynews=1&refresh_start=0&related=0',\n",
              " 'https://search.naver.com/search.naver?where=news&query=%EA%B8%88%EB%A6%AC&sm=tab_srt&sort=2&photo=0&field=0&reporter_article=&pd=3&ds=2005.03.18&de=2005.03.23&docid=&nso=so%3Ada%2Cp%3Afrom20050101to20050105%2Ca%3Aall&mynews=1&refresh_start=0&related=0',\n",
              " 'https://search.naver.com/search.naver?where=news&query=%EA%B8%88%EB%A6%AC&sm=tab_srt&sort=2&photo=0&field=0&reporter_article=&pd=3&ds=2005.03.22&de=2005.03.27&docid=&nso=so%3Ada%2Cp%3Afrom20050101to20050105%2Ca%3Aall&mynews=1&refresh_start=0&related=0',\n",
              " 'https://search.naver.com/search.naver?where=news&query=%EA%B8%88%EB%A6%AC&sm=tab_srt&sort=2&photo=0&field=0&reporter_article=&pd=3&ds=2005.03.26&de=2005.03.31&docid=&nso=so%3Ada%2Cp%3Afrom20050101to20050105%2Ca%3Aall&mynews=1&refresh_start=0&related=0',\n",
              " 'https://search.naver.com/search.naver?where=news&query=%EA%B8%88%EB%A6%AC&sm=tab_srt&sort=2&photo=0&field=0&reporter_article=&pd=3&ds=2005.03.30&de=2005.04.04&docid=&nso=so%3Ada%2Cp%3Afrom20050101to20050105%2Ca%3Aall&mynews=1&refresh_start=0&related=0',\n",
              " 'https://search.naver.com/search.naver?where=news&query=%EA%B8%88%EB%A6%AC&sm=tab_srt&sort=2&photo=0&field=0&reporter_article=&pd=3&ds=2005.04.03&de=2005.04.08&docid=&nso=so%3Ada%2Cp%3Afrom20050101to20050105%2Ca%3Aall&mynews=1&refresh_start=0&related=0',\n",
              " 'https://search.naver.com/search.naver?where=news&query=%EA%B8%88%EB%A6%AC&sm=tab_srt&sort=2&photo=0&field=0&reporter_article=&pd=3&ds=2005.04.07&de=2005.04.12&docid=&nso=so%3Ada%2Cp%3Afrom20050101to20050105%2Ca%3Aall&mynews=1&refresh_start=0&related=0',\n",
              " 'https://search.naver.com/search.naver?where=news&query=%EA%B8%88%EB%A6%AC&sm=tab_srt&sort=2&photo=0&field=0&reporter_article=&pd=3&ds=2005.04.11&de=2005.04.16&docid=&nso=so%3Ada%2Cp%3Afrom20050101to20050105%2Ca%3Aall&mynews=1&refresh_start=0&related=0',\n",
              " 'https://search.naver.com/search.naver?where=news&query=%EA%B8%88%EB%A6%AC&sm=tab_srt&sort=2&photo=0&field=0&reporter_article=&pd=3&ds=2005.04.15&de=2005.04.20&docid=&nso=so%3Ada%2Cp%3Afrom20050101to20050105%2Ca%3Aall&mynews=1&refresh_start=0&related=0',\n",
              " 'https://search.naver.com/search.naver?where=news&query=%EA%B8%88%EB%A6%AC&sm=tab_srt&sort=2&photo=0&field=0&reporter_article=&pd=3&ds=2005.04.19&de=2005.04.24&docid=&nso=so%3Ada%2Cp%3Afrom20050101to20050105%2Ca%3Aall&mynews=1&refresh_start=0&related=0',\n",
              " 'https://search.naver.com/search.naver?where=news&query=%EA%B8%88%EB%A6%AC&sm=tab_srt&sort=2&photo=0&field=0&reporter_article=&pd=3&ds=2005.04.23&de=2005.04.28&docid=&nso=so%3Ada%2Cp%3Afrom20050101to20050105%2Ca%3Aall&mynews=1&refresh_start=0&related=0',\n",
              " 'https://search.naver.com/search.naver?where=news&query=%EA%B8%88%EB%A6%AC&sm=tab_srt&sort=2&photo=0&field=0&reporter_article=&pd=3&ds=2005.04.27&de=2005.05.02&docid=&nso=so%3Ada%2Cp%3Afrom20050101to20050105%2Ca%3Aall&mynews=1&refresh_start=0&related=0',\n",
              " 'https://search.naver.com/search.naver?where=news&query=%EA%B8%88%EB%A6%AC&sm=tab_srt&sort=2&photo=0&field=0&reporter_article=&pd=3&ds=2005.05.01&de=2005.05.06&docid=&nso=so%3Ada%2Cp%3Afrom20050101to20050105%2Ca%3Aall&mynews=1&refresh_start=0&related=0',\n",
              " 'https://search.naver.com/search.naver?where=news&query=%EA%B8%88%EB%A6%AC&sm=tab_srt&sort=2&photo=0&field=0&reporter_article=&pd=3&ds=2005.05.05&de=2005.05.10&docid=&nso=so%3Ada%2Cp%3Afrom20050101to20050105%2Ca%3Aall&mynews=1&refresh_start=0&related=0',\n",
              " 'https://search.naver.com/search.naver?where=news&query=%EA%B8%88%EB%A6%AC&sm=tab_srt&sort=2&photo=0&field=0&reporter_article=&pd=3&ds=2005.05.09&de=2005.05.14&docid=&nso=so%3Ada%2Cp%3Afrom20050101to20050105%2Ca%3Aall&mynews=1&refresh_start=0&related=0',\n",
              " 'https://search.naver.com/search.naver?where=news&query=%EA%B8%88%EB%A6%AC&sm=tab_srt&sort=2&photo=0&field=0&reporter_article=&pd=3&ds=2005.05.13&de=2005.05.18&docid=&nso=so%3Ada%2Cp%3Afrom20050101to20050105%2Ca%3Aall&mynews=1&refresh_start=0&related=0',\n",
              " 'https://search.naver.com/search.naver?where=news&query=%EA%B8%88%EB%A6%AC&sm=tab_srt&sort=2&photo=0&field=0&reporter_article=&pd=3&ds=2005.05.17&de=2005.05.22&docid=&nso=so%3Ada%2Cp%3Afrom20050101to20050105%2Ca%3Aall&mynews=1&refresh_start=0&related=0',\n",
              " 'https://search.naver.com/search.naver?where=news&query=%EA%B8%88%EB%A6%AC&sm=tab_srt&sort=2&photo=0&field=0&reporter_article=&pd=3&ds=2005.05.21&de=2005.05.26&docid=&nso=so%3Ada%2Cp%3Afrom20050101to20050105%2Ca%3Aall&mynews=1&refresh_start=0&related=0',\n",
              " 'https://search.naver.com/search.naver?where=news&query=%EA%B8%88%EB%A6%AC&sm=tab_srt&sort=2&photo=0&field=0&reporter_article=&pd=3&ds=2005.05.25&de=2005.05.30&docid=&nso=so%3Ada%2Cp%3Afrom20050101to20050105%2Ca%3Aall&mynews=1&refresh_start=0&related=0',\n",
              " 'https://search.naver.com/search.naver?where=news&query=%EA%B8%88%EB%A6%AC&sm=tab_srt&sort=2&photo=0&field=0&reporter_article=&pd=3&ds=2005.05.29&de=2005.06.03&docid=&nso=so%3Ada%2Cp%3Afrom20050101to20050105%2Ca%3Aall&mynews=1&refresh_start=0&related=0',\n",
              " 'https://search.naver.com/search.naver?where=news&query=%EA%B8%88%EB%A6%AC&sm=tab_srt&sort=2&photo=0&field=0&reporter_article=&pd=3&ds=2005.06.02&de=2005.06.07&docid=&nso=so%3Ada%2Cp%3Afrom20050101to20050105%2Ca%3Aall&mynews=1&refresh_start=0&related=0',\n",
              " 'https://search.naver.com/search.naver?where=news&query=%EA%B8%88%EB%A6%AC&sm=tab_srt&sort=2&photo=0&field=0&reporter_article=&pd=3&ds=2005.06.06&de=2005.06.11&docid=&nso=so%3Ada%2Cp%3Afrom20050101to20050105%2Ca%3Aall&mynews=1&refresh_start=0&related=0',\n",
              " 'https://search.naver.com/search.naver?where=news&query=%EA%B8%88%EB%A6%AC&sm=tab_srt&sort=2&photo=0&field=0&reporter_article=&pd=3&ds=2005.06.10&de=2005.06.15&docid=&nso=so%3Ada%2Cp%3Afrom20050101to20050105%2Ca%3Aall&mynews=1&refresh_start=0&related=0',\n",
              " 'https://search.naver.com/search.naver?where=news&query=%EA%B8%88%EB%A6%AC&sm=tab_srt&sort=2&photo=0&field=0&reporter_article=&pd=3&ds=2005.06.14&de=2005.06.19&docid=&nso=so%3Ada%2Cp%3Afrom20050101to20050105%2Ca%3Aall&mynews=1&refresh_start=0&related=0',\n",
              " 'https://search.naver.com/search.naver?where=news&query=%EA%B8%88%EB%A6%AC&sm=tab_srt&sort=2&photo=0&field=0&reporter_article=&pd=3&ds=2005.06.18&de=2005.06.23&docid=&nso=so%3Ada%2Cp%3Afrom20050101to20050105%2Ca%3Aall&mynews=1&refresh_start=0&related=0',\n",
              " 'https://search.naver.com/search.naver?where=news&query=%EA%B8%88%EB%A6%AC&sm=tab_srt&sort=2&photo=0&field=0&reporter_article=&pd=3&ds=2005.06.22&de=2005.06.27&docid=&nso=so%3Ada%2Cp%3Afrom20050101to20050105%2Ca%3Aall&mynews=1&refresh_start=0&related=0',\n",
              " 'https://search.naver.com/search.naver?where=news&query=%EA%B8%88%EB%A6%AC&sm=tab_srt&sort=2&photo=0&field=0&reporter_article=&pd=3&ds=2005.06.26&de=2005.07.01&docid=&nso=so%3Ada%2Cp%3Afrom20050101to20050105%2Ca%3Aall&mynews=1&refresh_start=0&related=0',\n",
              " 'https://search.naver.com/search.naver?where=news&query=%EA%B8%88%EB%A6%AC&sm=tab_srt&sort=2&photo=0&field=0&reporter_article=&pd=3&ds=2005.06.30&de=2005.07.05&docid=&nso=so%3Ada%2Cp%3Afrom20050101to20050105%2Ca%3Aall&mynews=1&refresh_start=0&related=0',\n",
              " 'https://search.naver.com/search.naver?where=news&query=%EA%B8%88%EB%A6%AC&sm=tab_srt&sort=2&photo=0&field=0&reporter_article=&pd=3&ds=2005.07.04&de=2005.07.09&docid=&nso=so%3Ada%2Cp%3Afrom20050101to20050105%2Ca%3Aall&mynews=1&refresh_start=0&related=0',\n",
              " 'https://search.naver.com/search.naver?where=news&query=%EA%B8%88%EB%A6%AC&sm=tab_srt&sort=2&photo=0&field=0&reporter_article=&pd=3&ds=2005.07.08&de=2005.07.13&docid=&nso=so%3Ada%2Cp%3Afrom20050101to20050105%2Ca%3Aall&mynews=1&refresh_start=0&related=0',\n",
              " 'https://search.naver.com/search.naver?where=news&query=%EA%B8%88%EB%A6%AC&sm=tab_srt&sort=2&photo=0&field=0&reporter_article=&pd=3&ds=2005.07.12&de=2005.07.17&docid=&nso=so%3Ada%2Cp%3Afrom20050101to20050105%2Ca%3Aall&mynews=1&refresh_start=0&related=0',\n",
              " 'https://search.naver.com/search.naver?where=news&query=%EA%B8%88%EB%A6%AC&sm=tab_srt&sort=2&photo=0&field=0&reporter_article=&pd=3&ds=2005.07.16&de=2005.07.21&docid=&nso=so%3Ada%2Cp%3Afrom20050101to20050105%2Ca%3Aall&mynews=1&refresh_start=0&related=0',\n",
              " 'https://search.naver.com/search.naver?where=news&query=%EA%B8%88%EB%A6%AC&sm=tab_srt&sort=2&photo=0&field=0&reporter_article=&pd=3&ds=2005.07.20&de=2005.07.25&docid=&nso=so%3Ada%2Cp%3Afrom20050101to20050105%2Ca%3Aall&mynews=1&refresh_start=0&related=0',\n",
              " 'https://search.naver.com/search.naver?where=news&query=%EA%B8%88%EB%A6%AC&sm=tab_srt&sort=2&photo=0&field=0&reporter_article=&pd=3&ds=2005.07.24&de=2005.07.29&docid=&nso=so%3Ada%2Cp%3Afrom20050101to20050105%2Ca%3Aall&mynews=1&refresh_start=0&related=0',\n",
              " 'https://search.naver.com/search.naver?where=news&query=%EA%B8%88%EB%A6%AC&sm=tab_srt&sort=2&photo=0&field=0&reporter_article=&pd=3&ds=2005.07.28&de=2005.08.02&docid=&nso=so%3Ada%2Cp%3Afrom20050101to20050105%2Ca%3Aall&mynews=1&refresh_start=0&related=0',\n",
              " 'https://search.naver.com/search.naver?where=news&query=%EA%B8%88%EB%A6%AC&sm=tab_srt&sort=2&photo=0&field=0&reporter_article=&pd=3&ds=2005.08.01&de=2005.08.06&docid=&nso=so%3Ada%2Cp%3Afrom20050101to20050105%2Ca%3Aall&mynews=1&refresh_start=0&related=0',\n",
              " 'https://search.naver.com/search.naver?where=news&query=%EA%B8%88%EB%A6%AC&sm=tab_srt&sort=2&photo=0&field=0&reporter_article=&pd=3&ds=2005.08.05&de=2005.08.10&docid=&nso=so%3Ada%2Cp%3Afrom20050101to20050105%2Ca%3Aall&mynews=1&refresh_start=0&related=0',\n",
              " 'https://search.naver.com/search.naver?where=news&query=%EA%B8%88%EB%A6%AC&sm=tab_srt&sort=2&photo=0&field=0&reporter_article=&pd=3&ds=2005.08.09&de=2005.08.14&docid=&nso=so%3Ada%2Cp%3Afrom20050101to20050105%2Ca%3Aall&mynews=1&refresh_start=0&related=0',\n",
              " 'https://search.naver.com/search.naver?where=news&query=%EA%B8%88%EB%A6%AC&sm=tab_srt&sort=2&photo=0&field=0&reporter_article=&pd=3&ds=2005.08.13&de=2005.08.18&docid=&nso=so%3Ada%2Cp%3Afrom20050101to20050105%2Ca%3Aall&mynews=1&refresh_start=0&related=0',\n",
              " 'https://search.naver.com/search.naver?where=news&query=%EA%B8%88%EB%A6%AC&sm=tab_srt&sort=2&photo=0&field=0&reporter_article=&pd=3&ds=2005.08.17&de=2005.08.22&docid=&nso=so%3Ada%2Cp%3Afrom20050101to20050105%2Ca%3Aall&mynews=1&refresh_start=0&related=0',\n",
              " 'https://search.naver.com/search.naver?where=news&query=%EA%B8%88%EB%A6%AC&sm=tab_srt&sort=2&photo=0&field=0&reporter_article=&pd=3&ds=2005.08.21&de=2005.08.26&docid=&nso=so%3Ada%2Cp%3Afrom20050101to20050105%2Ca%3Aall&mynews=1&refresh_start=0&related=0',\n",
              " 'https://search.naver.com/search.naver?where=news&query=%EA%B8%88%EB%A6%AC&sm=tab_srt&sort=2&photo=0&field=0&reporter_article=&pd=3&ds=2005.08.25&de=2005.08.30&docid=&nso=so%3Ada%2Cp%3Afrom20050101to20050105%2Ca%3Aall&mynews=1&refresh_start=0&related=0',\n",
              " 'https://search.naver.com/search.naver?where=news&query=%EA%B8%88%EB%A6%AC&sm=tab_srt&sort=2&photo=0&field=0&reporter_article=&pd=3&ds=2005.08.29&de=2005.09.03&docid=&nso=so%3Ada%2Cp%3Afrom20050101to20050105%2Ca%3Aall&mynews=1&refresh_start=0&related=0',\n",
              " 'https://search.naver.com/search.naver?where=news&query=%EA%B8%88%EB%A6%AC&sm=tab_srt&sort=2&photo=0&field=0&reporter_article=&pd=3&ds=2005.09.02&de=2005.09.07&docid=&nso=so%3Ada%2Cp%3Afrom20050101to20050105%2Ca%3Aall&mynews=1&refresh_start=0&related=0',\n",
              " 'https://search.naver.com/search.naver?where=news&query=%EA%B8%88%EB%A6%AC&sm=tab_srt&sort=2&photo=0&field=0&reporter_article=&pd=3&ds=2005.09.06&de=2005.09.11&docid=&nso=so%3Ada%2Cp%3Afrom20050101to20050105%2Ca%3Aall&mynews=1&refresh_start=0&related=0',\n",
              " 'https://search.naver.com/search.naver?where=news&query=%EA%B8%88%EB%A6%AC&sm=tab_srt&sort=2&photo=0&field=0&reporter_article=&pd=3&ds=2005.09.10&de=2005.09.15&docid=&nso=so%3Ada%2Cp%3Afrom20050101to20050105%2Ca%3Aall&mynews=1&refresh_start=0&related=0',\n",
              " 'https://search.naver.com/search.naver?where=news&query=%EA%B8%88%EB%A6%AC&sm=tab_srt&sort=2&photo=0&field=0&reporter_article=&pd=3&ds=2005.09.14&de=2005.09.19&docid=&nso=so%3Ada%2Cp%3Afrom20050101to20050105%2Ca%3Aall&mynews=1&refresh_start=0&related=0',\n",
              " 'https://search.naver.com/search.naver?where=news&query=%EA%B8%88%EB%A6%AC&sm=tab_srt&sort=2&photo=0&field=0&reporter_article=&pd=3&ds=2005.09.18&de=2005.09.23&docid=&nso=so%3Ada%2Cp%3Afrom20050101to20050105%2Ca%3Aall&mynews=1&refresh_start=0&related=0',\n",
              " 'https://search.naver.com/search.naver?where=news&query=%EA%B8%88%EB%A6%AC&sm=tab_srt&sort=2&photo=0&field=0&reporter_article=&pd=3&ds=2005.09.22&de=2005.09.27&docid=&nso=so%3Ada%2Cp%3Afrom20050101to20050105%2Ca%3Aall&mynews=1&refresh_start=0&related=0',\n",
              " 'https://search.naver.com/search.naver?where=news&query=%EA%B8%88%EB%A6%AC&sm=tab_srt&sort=2&photo=0&field=0&reporter_article=&pd=3&ds=2005.09.26&de=2005.10.01&docid=&nso=so%3Ada%2Cp%3Afrom20050101to20050105%2Ca%3Aall&mynews=1&refresh_start=0&related=0',\n",
              " 'https://search.naver.com/search.naver?where=news&query=%EA%B8%88%EB%A6%AC&sm=tab_srt&sort=2&photo=0&field=0&reporter_article=&pd=3&ds=2005.09.30&de=2005.10.05&docid=&nso=so%3Ada%2Cp%3Afrom20050101to20050105%2Ca%3Aall&mynews=1&refresh_start=0&related=0',\n",
              " 'https://search.naver.com/search.naver?where=news&query=%EA%B8%88%EB%A6%AC&sm=tab_srt&sort=2&photo=0&field=0&reporter_article=&pd=3&ds=2005.10.04&de=2005.10.09&docid=&nso=so%3Ada%2Cp%3Afrom20050101to20050105%2Ca%3Aall&mynews=1&refresh_start=0&related=0',\n",
              " 'https://search.naver.com/search.naver?where=news&query=%EA%B8%88%EB%A6%AC&sm=tab_srt&sort=2&photo=0&field=0&reporter_article=&pd=3&ds=2005.10.08&de=2005.10.13&docid=&nso=so%3Ada%2Cp%3Afrom20050101to20050105%2Ca%3Aall&mynews=1&refresh_start=0&related=0',\n",
              " 'https://search.naver.com/search.naver?where=news&query=%EA%B8%88%EB%A6%AC&sm=tab_srt&sort=2&photo=0&field=0&reporter_article=&pd=3&ds=2005.10.12&de=2005.10.17&docid=&nso=so%3Ada%2Cp%3Afrom20050101to20050105%2Ca%3Aall&mynews=1&refresh_start=0&related=0',\n",
              " 'https://search.naver.com/search.naver?where=news&query=%EA%B8%88%EB%A6%AC&sm=tab_srt&sort=2&photo=0&field=0&reporter_article=&pd=3&ds=2005.10.16&de=2005.10.21&docid=&nso=so%3Ada%2Cp%3Afrom20050101to20050105%2Ca%3Aall&mynews=1&refresh_start=0&related=0',\n",
              " 'https://search.naver.com/search.naver?where=news&query=%EA%B8%88%EB%A6%AC&sm=tab_srt&sort=2&photo=0&field=0&reporter_article=&pd=3&ds=2005.10.20&de=2005.10.25&docid=&nso=so%3Ada%2Cp%3Afrom20050101to20050105%2Ca%3Aall&mynews=1&refresh_start=0&related=0',\n",
              " 'https://search.naver.com/search.naver?where=news&query=%EA%B8%88%EB%A6%AC&sm=tab_srt&sort=2&photo=0&field=0&reporter_article=&pd=3&ds=2005.10.24&de=2005.10.29&docid=&nso=so%3Ada%2Cp%3Afrom20050101to20050105%2Ca%3Aall&mynews=1&refresh_start=0&related=0',\n",
              " 'https://search.naver.com/search.naver?where=news&query=%EA%B8%88%EB%A6%AC&sm=tab_srt&sort=2&photo=0&field=0&reporter_article=&pd=3&ds=2005.10.28&de=2005.11.02&docid=&nso=so%3Ada%2Cp%3Afrom20050101to20050105%2Ca%3Aall&mynews=1&refresh_start=0&related=0',\n",
              " 'https://search.naver.com/search.naver?where=news&query=%EA%B8%88%EB%A6%AC&sm=tab_srt&sort=2&photo=0&field=0&reporter_article=&pd=3&ds=2005.11.01&de=2005.11.06&docid=&nso=so%3Ada%2Cp%3Afrom20050101to20050105%2Ca%3Aall&mynews=1&refresh_start=0&related=0',\n",
              " 'https://search.naver.com/search.naver?where=news&query=%EA%B8%88%EB%A6%AC&sm=tab_srt&sort=2&photo=0&field=0&reporter_article=&pd=3&ds=2005.11.05&de=2005.11.10&docid=&nso=so%3Ada%2Cp%3Afrom20050101to20050105%2Ca%3Aall&mynews=1&refresh_start=0&related=0',\n",
              " 'https://search.naver.com/search.naver?where=news&query=%EA%B8%88%EB%A6%AC&sm=tab_srt&sort=2&photo=0&field=0&reporter_article=&pd=3&ds=2005.11.09&de=2005.11.14&docid=&nso=so%3Ada%2Cp%3Afrom20050101to20050105%2Ca%3Aall&mynews=1&refresh_start=0&related=0',\n",
              " 'https://search.naver.com/search.naver?where=news&query=%EA%B8%88%EB%A6%AC&sm=tab_srt&sort=2&photo=0&field=0&reporter_article=&pd=3&ds=2005.11.13&de=2005.11.18&docid=&nso=so%3Ada%2Cp%3Afrom20050101to20050105%2Ca%3Aall&mynews=1&refresh_start=0&related=0',\n",
              " 'https://search.naver.com/search.naver?where=news&query=%EA%B8%88%EB%A6%AC&sm=tab_srt&sort=2&photo=0&field=0&reporter_article=&pd=3&ds=2005.11.17&de=2005.11.22&docid=&nso=so%3Ada%2Cp%3Afrom20050101to20050105%2Ca%3Aall&mynews=1&refresh_start=0&related=0',\n",
              " 'https://search.naver.com/search.naver?where=news&query=%EA%B8%88%EB%A6%AC&sm=tab_srt&sort=2&photo=0&field=0&reporter_article=&pd=3&ds=2005.11.21&de=2005.11.26&docid=&nso=so%3Ada%2Cp%3Afrom20050101to20050105%2Ca%3Aall&mynews=1&refresh_start=0&related=0',\n",
              " 'https://search.naver.com/search.naver?where=news&query=%EA%B8%88%EB%A6%AC&sm=tab_srt&sort=2&photo=0&field=0&reporter_article=&pd=3&ds=2005.11.25&de=2005.11.30&docid=&nso=so%3Ada%2Cp%3Afrom20050101to20050105%2Ca%3Aall&mynews=1&refresh_start=0&related=0',\n",
              " 'https://search.naver.com/search.naver?where=news&query=%EA%B8%88%EB%A6%AC&sm=tab_srt&sort=2&photo=0&field=0&reporter_article=&pd=3&ds=2005.11.29&de=2005.12.04&docid=&nso=so%3Ada%2Cp%3Afrom20050101to20050105%2Ca%3Aall&mynews=1&refresh_start=0&related=0',\n",
              " 'https://search.naver.com/search.naver?where=news&query=%EA%B8%88%EB%A6%AC&sm=tab_srt&sort=2&photo=0&field=0&reporter_article=&pd=3&ds=2005.12.03&de=2005.12.08&docid=&nso=so%3Ada%2Cp%3Afrom20050101to20050105%2Ca%3Aall&mynews=1&refresh_start=0&related=0',\n",
              " 'https://search.naver.com/search.naver?where=news&query=%EA%B8%88%EB%A6%AC&sm=tab_srt&sort=2&photo=0&field=0&reporter_article=&pd=3&ds=2005.12.07&de=2005.12.12&docid=&nso=so%3Ada%2Cp%3Afrom20050101to20050105%2Ca%3Aall&mynews=1&refresh_start=0&related=0',\n",
              " 'https://search.naver.com/search.naver?where=news&query=%EA%B8%88%EB%A6%AC&sm=tab_srt&sort=2&photo=0&field=0&reporter_article=&pd=3&ds=2005.12.11&de=2005.12.16&docid=&nso=so%3Ada%2Cp%3Afrom20050101to20050105%2Ca%3Aall&mynews=1&refresh_start=0&related=0',\n",
              " 'https://search.naver.com/search.naver?where=news&query=%EA%B8%88%EB%A6%AC&sm=tab_srt&sort=2&photo=0&field=0&reporter_article=&pd=3&ds=2005.12.15&de=2005.12.20&docid=&nso=so%3Ada%2Cp%3Afrom20050101to20050105%2Ca%3Aall&mynews=1&refresh_start=0&related=0',\n",
              " 'https://search.naver.com/search.naver?where=news&query=%EA%B8%88%EB%A6%AC&sm=tab_srt&sort=2&photo=0&field=0&reporter_article=&pd=3&ds=2005.12.19&de=2005.12.24&docid=&nso=so%3Ada%2Cp%3Afrom20050101to20050105%2Ca%3Aall&mynews=1&refresh_start=0&related=0',\n",
              " 'https://search.naver.com/search.naver?where=news&query=%EA%B8%88%EB%A6%AC&sm=tab_srt&sort=2&photo=0&field=0&reporter_article=&pd=3&ds=2005.12.23&de=2005.12.28&docid=&nso=so%3Ada%2Cp%3Afrom20050101to20050105%2Ca%3Aall&mynews=1&refresh_start=0&related=0']"
            ]
          },
          "metadata": {
            "tags": []
          },
          "execution_count": 26
        }
      ]
    },
    {
      "cell_type": "code",
      "metadata": {
        "id": "f6rnPQPaTA3l",
        "colab_type": "code",
        "colab": {}
      },
      "source": [
        "import datetime\n",
        "# 이건 월별 기사수 나오는 함수긴 한데, 분명 허점이 존재할거 같이만 규호쓰가 한 방식으로는 중간중간 빈 날짜들이 좀 많이생겨서 월단위는 이렇게 한다고 그냥 복붙함\n",
        "\n",
        "\n",
        "def last_day_of_month(any_day):\n",
        "    next_month = any_day.replace(day=28) + datetime.timedelta(days=4)  # this will never fail\n",
        "    return next_month - datetime.timedelta(days=next_month.day)\n",
        "\n",
        "begin = \"2005.01.01\"\n",
        "end = \"2005.01.31\"\n",
        "\n",
        "def monthlist(begin, end):\n",
        "    begin = datetime.datetime.strptime(begin, \"%Y.%m.%d\")\n",
        "    end = datetime.datetime.strptime(end, \"%Y.%m.%d\")\n",
        "    result = []\n",
        "    while True:\n",
        "        if begin.month == 12:\n",
        "            next_month = begin.replace(year=begin.year+1, month=1, day=1)\n",
        "        else:\n",
        "            next_month = begin.replace(month=begin.month+1, day=1)\n",
        "        if next_month > end:\n",
        "            break\n",
        "        result.append([begin.strftime(\"%Y.%m.%d\"),\n",
        "                       last_day_of_month(begin).strftime(\"%Y.%m.%d\")])\n",
        "        begin = next_month\n",
        "    result.append([begin.strftime(\"%Y.%m.%d\"), end.strftime(\"%Y.%m.%d\")])\n",
        "    return result\n",
        "##이거 result뽑아봐도 4일간격이 아니고 한달씩 나오네 흠 어카지\n",
        "\n",
        "date_list = monthlist(begin, end)\n",
        "# 새로운 데이트 리스트 생성, [['2005.01.01', '2005.12.31']] 형태로 돼있음\n",
        "# [['2005.01.01', '2005.01.31'], ['2005.02.01', '2005.02.28'], 2런 느낌\n",
        "new_date_list = []\n",
        "for list_date in date_list:\n",
        "    new_date_list.append(\n",
        "        \"https://search.naver.com/search.naver?where=news&query=%EA%B8%88%EB%A6%AC&sm=tab_srt&sort=2&photo=0&field=0&reporter_article=&pd=3&ds={}&de={}&docid=&nso=so%3Ada%2Cp%3Afrom20050101to20050105%2Ca%3Aall&mynews=1&refresh_start=0&related=0\".format(list_date[0], list_date[1]))\n",
        "    # 그래서 나온 date 순서쌍들을 처음 url에 넣어서, 리스트 url들을 만들고, 그 url리스트를  start request에 넣어버릴래!\n",
        "##url 수정. 오래된 순부터 가져오게 했음.\n"
      ],
      "execution_count": null,
      "outputs": []
    },
    {
      "cell_type": "code",
      "metadata": {
        "id": "sNSpFl53V4_e",
        "colab_type": "code",
        "colab": {
          "base_uri": "https://localhost:8080/",
          "height": 35
        },
        "outputId": "bd84d38e-fbfc-41d8-f08c-184651fca910"
      },
      "source": [
        "date_list"
      ],
      "execution_count": null,
      "outputs": [
        {
          "output_type": "execute_result",
          "data": {
            "text/plain": [
              "[['2005.01.01', '2005.01.31']]"
            ]
          },
          "metadata": {
            "tags": []
          },
          "execution_count": 38
        }
      ]
    },
    {
      "cell_type": "code",
      "metadata": {
        "id": "_hqvgAM4WC5q",
        "colab_type": "code",
        "colab": {}
      },
      "source": [
        "import datetime\n",
        "# 이건 월별 기사수 나오는 함수긴 한데, 분명 허점이 존재할거 같이만 규호쓰가 한 방식으로는 중간중간 빈 날짜들이 좀 많이생겨서 월단위는 이렇게 한다고 그냥 복붙함\n",
        "def last_day_of_month(any_day):\n",
        "    next_month = any_day.replace(day=28) + datetime.timedelta(days=4)  # this will never fail\n",
        "    return next_month - datetime.timedelta(days=next_month.day)\n",
        "begin = \"2005.01.01\"\n",
        "end = \"2005.12.31\"\n",
        "def monthlist(begin,end):\n",
        "    begin = datetime.datetime.strptime(begin, \"%Y.%m.%d\")\n",
        "    end = datetime.datetime.strptime(end, \"%Y.%m.%d\")\n",
        "    result = []\n",
        "    while True:\n",
        "        if begin.month == 12:\n",
        "            next_month = begin.replace(year=begin.year+1,month=1, day=1)\n",
        "        else:\n",
        "            next_month = begin.replace(month=begin.month+1, day=1)\n",
        "        if next_month > end:\n",
        "            break\n",
        "        result.append ([begin.strftime(\"%Y.%m.%d\"),last_day_of_month(begin).strftime(\"%Y.%m.%d\")])\n",
        "        begin = next_month\n",
        "    result.append ([begin.strftime(\"%Y.%m.%d\"),end.strftime(\"%Y.%m.%d\")])\n",
        "    return result\n",
        "date_list = monthlist(begin,end)\n",
        "# 새로운 데이트 리스트 생성, [['2005.01.01', '2005.12.31']] 형태로 돼있음\n",
        "# [['2005.01.01', '2005.01.31'], ['2005.02.01', '2005.02.28'], 2런 느낌\n",
        "new_date_list = []\n",
        "for list_date in date_list:\n",
        "    new_date_list.append(\"https://search.naver.com/search.naver?where=news&query=%EA%B8%88%EB%A6%AC&sm=tab_opt&sort=0&photo=0&field=0&reporter_article=&pd=3&ds={}&de={}&docid=&nso=so%3Ar%2Cp%3Afrom20050101to20150131%2Ca%3Aall&mynews=1&refresh_start=0&related=0\".format(list_date[0], list_date[1]))\n",
        "    # 그래서 나온 date 순서쌍들을 처음 url에 넣어서, 리스트 url들을 만들고, 그 url리스트를  start request에 넣어버릴래!\n"
      ],
      "execution_count": null,
      "outputs": []
    },
    {
      "cell_type": "code",
      "metadata": {
        "id": "7shj8lNVYlJT",
        "colab_type": "code",
        "colab": {
          "base_uri": "https://localhost:8080/",
          "height": 257
        },
        "outputId": "4f30b64a-b365-4031-96d8-901032b921ee"
      },
      "source": [
        "new_date_list"
      ],
      "execution_count": null,
      "outputs": [
        {
          "output_type": "execute_result",
          "data": {
            "text/plain": [
              "['https://search.naver.com/search.naver?where=news&query=%EA%B8%88%EB%A6%AC&sm=tab_opt&sort=0&photo=0&field=0&reporter_article=&pd=3&ds=2005.01.01&de=2005.01.31&docid=&nso=so%3Ar%2Cp%3Afrom20050101to20150131%2Ca%3Aall&mynews=1&refresh_start=0&related=0',\n",
              " 'https://search.naver.com/search.naver?where=news&query=%EA%B8%88%EB%A6%AC&sm=tab_opt&sort=0&photo=0&field=0&reporter_article=&pd=3&ds=2005.02.01&de=2005.02.28&docid=&nso=so%3Ar%2Cp%3Afrom20050101to20150131%2Ca%3Aall&mynews=1&refresh_start=0&related=0',\n",
              " 'https://search.naver.com/search.naver?where=news&query=%EA%B8%88%EB%A6%AC&sm=tab_opt&sort=0&photo=0&field=0&reporter_article=&pd=3&ds=2005.03.01&de=2005.03.31&docid=&nso=so%3Ar%2Cp%3Afrom20050101to20150131%2Ca%3Aall&mynews=1&refresh_start=0&related=0',\n",
              " 'https://search.naver.com/search.naver?where=news&query=%EA%B8%88%EB%A6%AC&sm=tab_opt&sort=0&photo=0&field=0&reporter_article=&pd=3&ds=2005.04.01&de=2005.04.30&docid=&nso=so%3Ar%2Cp%3Afrom20050101to20150131%2Ca%3Aall&mynews=1&refresh_start=0&related=0',\n",
              " 'https://search.naver.com/search.naver?where=news&query=%EA%B8%88%EB%A6%AC&sm=tab_opt&sort=0&photo=0&field=0&reporter_article=&pd=3&ds=2005.05.01&de=2005.05.31&docid=&nso=so%3Ar%2Cp%3Afrom20050101to20150131%2Ca%3Aall&mynews=1&refresh_start=0&related=0',\n",
              " 'https://search.naver.com/search.naver?where=news&query=%EA%B8%88%EB%A6%AC&sm=tab_opt&sort=0&photo=0&field=0&reporter_article=&pd=3&ds=2005.06.01&de=2005.06.30&docid=&nso=so%3Ar%2Cp%3Afrom20050101to20150131%2Ca%3Aall&mynews=1&refresh_start=0&related=0',\n",
              " 'https://search.naver.com/search.naver?where=news&query=%EA%B8%88%EB%A6%AC&sm=tab_opt&sort=0&photo=0&field=0&reporter_article=&pd=3&ds=2005.07.01&de=2005.07.31&docid=&nso=so%3Ar%2Cp%3Afrom20050101to20150131%2Ca%3Aall&mynews=1&refresh_start=0&related=0',\n",
              " 'https://search.naver.com/search.naver?where=news&query=%EA%B8%88%EB%A6%AC&sm=tab_opt&sort=0&photo=0&field=0&reporter_article=&pd=3&ds=2005.08.01&de=2005.08.31&docid=&nso=so%3Ar%2Cp%3Afrom20050101to20150131%2Ca%3Aall&mynews=1&refresh_start=0&related=0',\n",
              " 'https://search.naver.com/search.naver?where=news&query=%EA%B8%88%EB%A6%AC&sm=tab_opt&sort=0&photo=0&field=0&reporter_article=&pd=3&ds=2005.09.01&de=2005.09.30&docid=&nso=so%3Ar%2Cp%3Afrom20050101to20150131%2Ca%3Aall&mynews=1&refresh_start=0&related=0',\n",
              " 'https://search.naver.com/search.naver?where=news&query=%EA%B8%88%EB%A6%AC&sm=tab_opt&sort=0&photo=0&field=0&reporter_article=&pd=3&ds=2005.10.01&de=2005.10.31&docid=&nso=so%3Ar%2Cp%3Afrom20050101to20150131%2Ca%3Aall&mynews=1&refresh_start=0&related=0',\n",
              " 'https://search.naver.com/search.naver?where=news&query=%EA%B8%88%EB%A6%AC&sm=tab_opt&sort=0&photo=0&field=0&reporter_article=&pd=3&ds=2005.11.01&de=2005.11.30&docid=&nso=so%3Ar%2Cp%3Afrom20050101to20150131%2Ca%3Aall&mynews=1&refresh_start=0&related=0',\n",
              " 'https://search.naver.com/search.naver?where=news&query=%EA%B8%88%EB%A6%AC&sm=tab_opt&sort=0&photo=0&field=0&reporter_article=&pd=3&ds=2005.12.01&de=2005.12.31&docid=&nso=so%3Ar%2Cp%3Afrom20050101to20150131%2Ca%3Aall&mynews=1&refresh_start=0&related=0']"
            ]
          },
          "metadata": {
            "tags": []
          },
          "execution_count": 40
        }
      ]
    },
    {
      "cell_type": "code",
      "metadata": {
        "id": "u1LHp5PhYmJe",
        "colab_type": "code",
        "colab": {}
      },
      "source": [
        "\n",
        "for term in range(0, 23):\n",
        "                # datetime을 이용한 특정 기간 출력 (20170417 ~ 20170509)\n",
        "  date = (datetime.date(2017, 4, 17) +\n",
        "  datetime.timedelta(+term)).strftime('%Y%m%d')\n",
        "                # for i in range(1, pageNum, 1):\n",
        "                    # yield scrapy.Request(\n",
        "                    #     \"http://media.daum.net/cp/{0}?page={1}&regDate={2}&cateId=1002\".format(\n",
        "                    #         cp, i, date),\n",
        "                    #     self.parse_url)"
      ],
      "execution_count": null,
      "outputs": []
    },
    {
      "cell_type": "code",
      "metadata": {
        "id": "HKhSnUAZciwo",
        "colab_type": "code",
        "colab": {
          "base_uri": "https://localhost:8080/",
          "height": 35
        },
        "outputId": "8bc935ba-09fe-4006-d602-1dc7cb11bbb9"
      },
      "source": [
        "date"
      ],
      "execution_count": null,
      "outputs": [
        {
          "output_type": "execute_result",
          "data": {
            "application/vnd.google.colaboratory.intrinsic": {
              "type": "string"
            },
            "text/plain": [
              "'20170509'"
            ]
          },
          "metadata": {
            "tags": []
          },
          "execution_count": 44
        }
      ]
    },
    {
      "cell_type": "code",
      "metadata": {
        "id": "a3RrYAfOcvmX",
        "colab_type": "code",
        "colab": {
          "base_uri": "https://localhost:8080/",
          "height": 375
        },
        "outputId": "129200b0-edd9-497f-c287-bf539354b263"
      },
      "source": [
        "import datetime\n",
        "# 이건 월별 기사수 나오는 함수긴 한데, 분명 허점이 존재할거 같이만 규호쓰가 한 방식으로는 중간중간 빈 날짜들이 좀 많이생겨서 월단위는 이렇게 한다고 그냥 복붙함\n",
        "\n",
        "\n",
        "def last_day_of_month(any_day):\n",
        "    next_month = any_day.replace(day=28) + datetime.timedelta(days=4)  # this will never fail\n",
        "    return next_month - datetime.timedelta(days=next_month.day)\n",
        "\n",
        "begin = \"2005.01.01\"\n",
        "end = \"2005.12.31\"\n",
        "\n",
        "def monthlist(begin, end):\n",
        "    begin = datetime.datetime.strptime(begin, \"%Y.%m.%d\")\n",
        "    end = datetime.datetime.strptime(end, \"%Y.%m.%d\")\n",
        "    result = []\n",
        "    while True:\n",
        "        if begin.month == 12:\n",
        "            next_month = begin.replace(year=begin.year+1, month=1, day=1)\n",
        "        else:\n",
        "            next_month = begin.replace(month=begin.month+1, day=1)\n",
        "        if next_month > end:\n",
        "            break\n",
        "        result.append([begin.strftime(\"%Y.%m.%d\"),\n",
        "                       last_day_of_month(begin).strftime(\"%Y.%m.%d\")])\n",
        "        begin = next_month\n",
        "    result.append([begin.strftime(\"%Y.%m.%d\"), end.strftime(\"%Y.%m.%d\")])\n",
        "    return result\n",
        "##이거 result뽑아봐도 4일간격이 아니고 한달씩 나오네 흠 어카지\n",
        "\n",
        "date_list = monthlist(begin, end)\n",
        "def perdelta(start, end, delta):\n",
        "    curr = start\n",
        "    while curr < end:\n",
        "        yield curr\n",
        "        curr += delta\n",
        "\n",
        "# 새로운 데이트 리스트 생성, [['2005.01.01', '2005.12.31']] 형태로 돼있음\n",
        "# [['2005.01.01', '2005.01.31'], ['2005.02.01', '2005.02.28'], 2런 느낌\n",
        "date_list_split = []\n",
        "for result in perdelta(date_list[0][0], date_list[0][1], timedelta(days=4)):\n",
        "    print(result)#date_list.append(result.strftime(\"%Y.%m.%d\"))\n"
      ],
      "execution_count": null,
      "outputs": [
        {
          "output_type": "stream",
          "text": [
            "2005.01.01\n"
          ],
          "name": "stdout"
        },
        {
          "output_type": "error",
          "ename": "TypeError",
          "evalue": "ignored",
          "traceback": [
            "\u001b[0;31m---------------------------------------------------------------------------\u001b[0m",
            "\u001b[0;31mTypeError\u001b[0m                                 Traceback (most recent call last)",
            "\u001b[0;32m<ipython-input-57-a1e67a1f34f2>\u001b[0m in \u001b[0;36m<module>\u001b[0;34m()\u001b[0m\n\u001b[1;32m     38\u001b[0m \u001b[0;31m# [['2005.01.01', '2005.01.31'], ['2005.02.01', '2005.02.28'], 2런 느낌\u001b[0m\u001b[0;34m\u001b[0m\u001b[0;34m\u001b[0m\u001b[0;34m\u001b[0m\u001b[0m\n\u001b[1;32m     39\u001b[0m \u001b[0mdate_list_split\u001b[0m \u001b[0;34m=\u001b[0m \u001b[0;34m[\u001b[0m\u001b[0;34m]\u001b[0m\u001b[0;34m\u001b[0m\u001b[0;34m\u001b[0m\u001b[0m\n\u001b[0;32m---> 40\u001b[0;31m \u001b[0;32mfor\u001b[0m \u001b[0mresult\u001b[0m \u001b[0;32min\u001b[0m \u001b[0mperdelta\u001b[0m\u001b[0;34m(\u001b[0m\u001b[0mdate_list\u001b[0m\u001b[0;34m[\u001b[0m\u001b[0;36m0\u001b[0m\u001b[0;34m]\u001b[0m\u001b[0;34m[\u001b[0m\u001b[0;36m0\u001b[0m\u001b[0;34m]\u001b[0m\u001b[0;34m,\u001b[0m \u001b[0mdate_list\u001b[0m\u001b[0;34m[\u001b[0m\u001b[0;36m0\u001b[0m\u001b[0;34m]\u001b[0m\u001b[0;34m[\u001b[0m\u001b[0;36m1\u001b[0m\u001b[0;34m]\u001b[0m\u001b[0;34m,\u001b[0m \u001b[0mtimedelta\u001b[0m\u001b[0;34m(\u001b[0m\u001b[0mdays\u001b[0m\u001b[0;34m=\u001b[0m\u001b[0;36m4\u001b[0m\u001b[0;34m)\u001b[0m\u001b[0;34m)\u001b[0m\u001b[0;34m:\u001b[0m\u001b[0;34m\u001b[0m\u001b[0;34m\u001b[0m\u001b[0m\n\u001b[0m\u001b[1;32m     41\u001b[0m     \u001b[0mprint\u001b[0m\u001b[0;34m(\u001b[0m\u001b[0mresult\u001b[0m\u001b[0;34m)\u001b[0m\u001b[0;31m#date_list.append(result.strftime(\"%Y.%m.%d\"))\u001b[0m\u001b[0;34m\u001b[0m\u001b[0;34m\u001b[0m\u001b[0m\n",
            "\u001b[0;32m<ipython-input-57-a1e67a1f34f2>\u001b[0m in \u001b[0;36mperdelta\u001b[0;34m(start, end, delta)\u001b[0m\n\u001b[1;32m     33\u001b[0m     \u001b[0;32mwhile\u001b[0m \u001b[0mcurr\u001b[0m \u001b[0;34m<\u001b[0m \u001b[0mend\u001b[0m\u001b[0;34m:\u001b[0m\u001b[0;34m\u001b[0m\u001b[0;34m\u001b[0m\u001b[0m\n\u001b[1;32m     34\u001b[0m         \u001b[0;32myield\u001b[0m \u001b[0mcurr\u001b[0m\u001b[0;34m\u001b[0m\u001b[0;34m\u001b[0m\u001b[0m\n\u001b[0;32m---> 35\u001b[0;31m         \u001b[0mcurr\u001b[0m \u001b[0;34m+=\u001b[0m \u001b[0mdelta\u001b[0m\u001b[0;34m\u001b[0m\u001b[0;34m\u001b[0m\u001b[0m\n\u001b[0m\u001b[1;32m     36\u001b[0m \u001b[0;34m\u001b[0m\u001b[0m\n\u001b[1;32m     37\u001b[0m \u001b[0;31m# 새로운 데이트 리스트 생성, [['2005.01.01', '2005.12.31']] 형태로 돼있음\u001b[0m\u001b[0;34m\u001b[0m\u001b[0;34m\u001b[0m\u001b[0;34m\u001b[0m\u001b[0m\n",
            "\u001b[0;31mTypeError\u001b[0m: must be str, not datetime.timedelta"
          ]
        }
      ]
    },
    {
      "cell_type": "code",
      "metadata": {
        "id": "javggeI8e3QL",
        "colab_type": "code",
        "colab": {
          "base_uri": "https://localhost:8080/",
          "height": 237
        },
        "outputId": "0560791f-ca64-45db-d181-7f16be5f6668"
      },
      "source": [
        "date_list"
      ],
      "execution_count": null,
      "outputs": [
        {
          "output_type": "execute_result",
          "data": {
            "text/plain": [
              "[['2005.01.01', '2005.01.31'],\n",
              " ['2005.02.01', '2005.02.28'],\n",
              " ['2005.03.01', '2005.03.31'],\n",
              " ['2005.04.01', '2005.04.30'],\n",
              " ['2005.05.01', '2005.05.31'],\n",
              " ['2005.06.01', '2005.06.30'],\n",
              " ['2005.07.01', '2005.07.31'],\n",
              " ['2005.08.01', '2005.08.31'],\n",
              " ['2005.09.01', '2005.09.30'],\n",
              " ['2005.10.01', '2005.10.31'],\n",
              " ['2005.11.01', '2005.11.30'],\n",
              " ['2005.12.01', '2005.12.31']]"
            ]
          },
          "metadata": {
            "tags": []
          },
          "execution_count": 54
        }
      ]
    },
    {
      "cell_type": "code",
      "metadata": {
        "id": "l9wpyQtDfQ9n",
        "colab_type": "code",
        "colab": {
          "base_uri": "https://localhost:8080/",
          "height": 247
        },
        "outputId": "3a976fc7-f5b0-4b31-fb59-eef941618973"
      },
      "source": [
        "def perdelta(start, end, delta):\n",
        "    curr = start\n",
        "    while curr < end:\n",
        "        yield curr\n",
        "        curr += delta\n",
        "\n",
        "date_list = []\n",
        "for result in perdelta(date(2005, 1, 1), date(2005, 1, 13), timedelta(days=4)):\n",
        "    date_list.append(result.strftime(\"%Y.%m.%d\"))\n",
        "        \n",
        "dateS = date_list[:-1]\n",
        "dateE = date_list[1:]\n",
        "\n",
        "new_date_list = []\n",
        "for dates, datee in zip(dateS, dateE):\n",
        "    new_date_list.append(\n",
        "        \"https://search.naver.com/search.naver?where=news&query=%EA%B8%88%EB%A6%AC&sm=tab_srt&sort=2&photo=0&field=0&reporter_article=&pd=3&ds={}&de={}&docid=&nso=so%3Ada%2Cp%3Afrom20050101to20050105%2Ca%3Aall&mynews=1&refresh_start=0&related=0\".format(datee, dates))\n",
        "    # 그래서 나온 date 순서쌍들을 처음 url에 넣어서, 리스트 url들을 만들고, 그 url리스트를  start request에 넣어버릴래!\n",
        "##url 수정. 오래된 순부터 가져오게 했음.\n"
      ],
      "execution_count": null,
      "outputs": [
        {
          "output_type": "error",
          "ename": "TypeError",
          "evalue": "ignored",
          "traceback": [
            "\u001b[0;31m---------------------------------------------------------------------------\u001b[0m",
            "\u001b[0;31mTypeError\u001b[0m                                 Traceback (most recent call last)",
            "\u001b[0;32m<ipython-input-58-4a9e4341dff5>\u001b[0m in \u001b[0;36m<module>\u001b[0;34m()\u001b[0m\n\u001b[1;32m      6\u001b[0m \u001b[0;34m\u001b[0m\u001b[0m\n\u001b[1;32m      7\u001b[0m \u001b[0mdate_list\u001b[0m \u001b[0;34m=\u001b[0m \u001b[0;34m[\u001b[0m\u001b[0;34m]\u001b[0m\u001b[0;34m\u001b[0m\u001b[0;34m\u001b[0m\u001b[0m\n\u001b[0;32m----> 8\u001b[0;31m \u001b[0;32mfor\u001b[0m \u001b[0mresult\u001b[0m \u001b[0;32min\u001b[0m \u001b[0mperdelta\u001b[0m\u001b[0;34m(\u001b[0m\u001b[0mdate\u001b[0m\u001b[0;34m(\u001b[0m\u001b[0;36m2005\u001b[0m\u001b[0;34m,\u001b[0m \u001b[0;36m1\u001b[0m\u001b[0;34m,\u001b[0m \u001b[0;36m1\u001b[0m\u001b[0;34m)\u001b[0m\u001b[0;34m,\u001b[0m \u001b[0mdate\u001b[0m\u001b[0;34m(\u001b[0m\u001b[0;36m2005\u001b[0m\u001b[0;34m,\u001b[0m \u001b[0;36m1\u001b[0m\u001b[0;34m,\u001b[0m \u001b[0;36m13\u001b[0m\u001b[0;34m)\u001b[0m\u001b[0;34m,\u001b[0m \u001b[0mtimedelta\u001b[0m\u001b[0;34m(\u001b[0m\u001b[0mdays\u001b[0m\u001b[0;34m=\u001b[0m\u001b[0;36m4\u001b[0m\u001b[0;34m)\u001b[0m\u001b[0;34m)\u001b[0m\u001b[0;34m:\u001b[0m\u001b[0;34m\u001b[0m\u001b[0;34m\u001b[0m\u001b[0m\n\u001b[0m\u001b[1;32m      9\u001b[0m     \u001b[0mdate_list\u001b[0m\u001b[0;34m.\u001b[0m\u001b[0mappend\u001b[0m\u001b[0;34m(\u001b[0m\u001b[0mresult\u001b[0m\u001b[0;34m.\u001b[0m\u001b[0mstrftime\u001b[0m\u001b[0;34m(\u001b[0m\u001b[0;34m\"%Y.%m.%d\"\u001b[0m\u001b[0;34m)\u001b[0m\u001b[0;34m)\u001b[0m\u001b[0;34m\u001b[0m\u001b[0;34m\u001b[0m\u001b[0m\n\u001b[1;32m     10\u001b[0m \u001b[0;34m\u001b[0m\u001b[0m\n",
            "\u001b[0;31mTypeError\u001b[0m: 'str' object is not callable"
          ]
        }
      ]
    },
    {
      "cell_type": "code",
      "metadata": {
        "id": "AZ2ICLRwfyeN",
        "colab_type": "code",
        "colab": {}
      },
      "source": [
        ""
      ],
      "execution_count": null,
      "outputs": []
    }
  ]
}