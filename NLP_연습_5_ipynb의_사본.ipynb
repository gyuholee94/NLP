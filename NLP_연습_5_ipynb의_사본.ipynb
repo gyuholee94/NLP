{
  "nbformat": 4,
  "nbformat_minor": 0,
  "metadata": {
    "colab": {
      "name": "NLP 연습 5.ipynb의 사본",
      "provenance": [],
      "collapsed_sections": [],
      "include_colab_link": true
    },
    "kernelspec": {
      "name": "python3",
      "display_name": "Python 3"
    }
  },
  "cells": [
    {
      "cell_type": "markdown",
      "metadata": {
        "id": "view-in-github",
        "colab_type": "text"
      },
      "source": [
        "<a href=\"https://colab.research.google.com/github/gyuholee94/NLP/blob/master/NLP_%EC%97%B0%EC%8A%B5_5_ipynb%EC%9D%98_%EC%82%AC%EB%B3%B8.ipynb\" target=\"_parent\"><img src=\"https://colab.research.google.com/assets/colab-badge.svg\" alt=\"Open In Colab\"/></a>"
      ]
    },
    {
      "cell_type": "code",
      "metadata": {
        "id": "sV9-n80FwJc7",
        "colab_type": "code",
        "colab": {}
      },
      "source": [
        "import json\n",
        "import tensorflow as tf\n",
        "\n",
        "from tensorflow.keras.preprocessing.text import Tokenizer\n",
        "from tensorflow.keras.preprocessing.sequence import pad_sequences"
      ],
      "execution_count": null,
      "outputs": []
    },
    {
      "cell_type": "code",
      "metadata": {
        "id": "C_NwMb2RwXvI",
        "colab_type": "code",
        "colab": {
          "base_uri": "https://localhost:8080/",
          "height": 230
        },
        "outputId": "38d93a2a-922d-43f7-ee2d-e29eb2998e86"
      },
      "source": [
        "!wget --no-check-certificate \\\n",
        "    https://storage.googleapis.com/laurencemoroney-blog.appspot.com/sarcasm.json \\\n",
        "    -O /tmp/sarcasm.json\n",
        "\n",
        "import json\n",
        "\n",
        "with open(\"/tmp/sarcasm.json\", 'r') as f:\n",
        "    datastore = json.load(f)"
      ],
      "execution_count": null,
      "outputs": [
        {
          "output_type": "stream",
          "text": [
            "--2020-08-06 04:37:32--  https://storage.googleapis.com/laurencemoroney-blog.appspot.com/sarcasm.json\n",
            "Resolving storage.googleapis.com (storage.googleapis.com)... 172.217.204.128, 172.217.203.128, 2607:f8b0:400c:c15::80, ...\n",
            "Connecting to storage.googleapis.com (storage.googleapis.com)|172.217.204.128|:443... connected.\n",
            "HTTP request sent, awaiting response... 200 OK\n",
            "Length: 5643545 (5.4M) [application/json]\n",
            "Saving to: ‘/tmp/sarcasm.json’\n",
            "\n",
            "\r/tmp/sarcasm.json     0%[                    ]       0  --.-KB/s               \r/tmp/sarcasm.json   100%[===================>]   5.38M  --.-KB/s    in 0.1s    \n",
            "\n",
            "2020-08-06 04:37:32 (50.8 MB/s) - ‘/tmp/sarcasm.json’ saved [5643545/5643545]\n",
            "\n"
          ],
          "name": "stdout"
        }
      ]
    },
    {
      "cell_type": "code",
      "metadata": {
        "id": "gC57JmQCDzuc",
        "colab_type": "code",
        "colab": {}
      },
      "source": [
        "vocab_size = 10000\n",
        "embedding_dim = 16\n",
        "max_length = 100\n",
        "truct_type = 'post'\n",
        "padding_type = 'post'\n",
        "oov_tok = '<OOV>'\n",
        "training_size = 20000"
      ],
      "execution_count": null,
      "outputs": []
    },
    {
      "cell_type": "code",
      "metadata": {
        "id": "fobpi0tWELRu",
        "colab_type": "code",
        "colab": {}
      },
      "source": [
        "import json\n",
        "\n",
        "with open(\"/tmp/sarcasm.json\", 'r') as f:\n",
        "    datastore = json.load(f)"
      ],
      "execution_count": null,
      "outputs": []
    },
    {
      "cell_type": "code",
      "metadata": {
        "id": "KOIJfmugEYHD",
        "colab_type": "code",
        "colab": {}
      },
      "source": [
        "sentences = []\n",
        "labels = []\n",
        "\n",
        "for item in datastore:\n",
        "  sentences.append(item['headline'])\n",
        "  labels.append(item['is_sarcastic'])\n",
        "\n",
        "  "
      ],
      "execution_count": null,
      "outputs": []
    },
    {
      "cell_type": "code",
      "metadata": {
        "id": "s0cQ9HS3FOKl",
        "colab_type": "code",
        "colab": {
          "base_uri": "https://localhost:8080/",
          "height": 34
        },
        "outputId": "4dfa236f-99e7-4274-df4c-3ba21873fa6d"
      },
      "source": [
        "len(sentences)"
      ],
      "execution_count": null,
      "outputs": [
        {
          "output_type": "execute_result",
          "data": {
            "text/plain": [
              "26709"
            ]
          },
          "metadata": {
            "tags": []
          },
          "execution_count": 7
        }
      ]
    },
    {
      "cell_type": "code",
      "metadata": {
        "id": "IapFrziNFSke",
        "colab_type": "code",
        "colab": {}
      },
      "source": [
        "training_sentences = sentences[:training_size]\n",
        "testing_sentences = sentences[training_size:]\n",
        "\n",
        "training_labels = labels[:training_size]\n",
        "testing_labels = labels[training_size:]\n",
        "\n"
      ],
      "execution_count": null,
      "outputs": []
    },
    {
      "cell_type": "code",
      "metadata": {
        "id": "oRaFW9FQFyNV",
        "colab_type": "code",
        "colab": {}
      },
      "source": [
        "tokenizer = Tokenizer(num_words=vocab_size, oov_token=oov_tok)\n",
        "tokenizer.fit_on_texts(training_sentences)\n",
        "word_index = tokenizer.word_index\n",
        "\n",
        "training_sequences  = tokenizer.texts_to_sequences(training_sentences)\n",
        "training_padded = pad_sequences(training_sequences, maxlen=max_length, \n",
        "                                padding=padding_type, truncating=truct_type)\n",
        "\n",
        "\n",
        "testing_sequences  = tokenizer.texts_to_sequences(testing_sentences)\n",
        "testing_padded = pad_sequences(testing_sequences, maxlen=max_length, \n",
        "                                padding=padding_type, truncating=truct_type)\n",
        "\n",
        "\n"
      ],
      "execution_count": null,
      "outputs": []
    },
    {
      "cell_type": "code",
      "metadata": {
        "id": "z8032IygG2Vi",
        "colab_type": "code",
        "colab": {}
      },
      "source": [
        "import numpy as np\n",
        "\n",
        "training_padded = np.array(training_padded)\n",
        "training_labels = np.array(training_labels)\n",
        "\n",
        "testing_padded = np.array(testing_padded)\n",
        "testing_labels = np.array(testing_labels)"
      ],
      "execution_count": null,
      "outputs": []
    },
    {
      "cell_type": "code",
      "metadata": {
        "id": "jb-HxSGHHPzi",
        "colab_type": "code",
        "colab": {}
      },
      "source": [
        "model = tf.keras.Sequential(\n",
        "    [tf.keras.layers.Embedding(vocab_size, embedding_dim, input_length=max_length),\n",
        "     tf.keras.layers.GlobalAveragePooling1D(),\n",
        "     tf.keras.layers.Dense(24, activation='relu'),\n",
        "     tf.keras.layers.Dense(1, activation='sigmoid')]\n",
        ")\n",
        "\n",
        "model.compile(loss='binary_crossentropy', optimizer='adam', metrics=['accuracy'])\n"
      ],
      "execution_count": null,
      "outputs": []
    },
    {
      "cell_type": "code",
      "metadata": {
        "id": "4Z326SWcIBKX",
        "colab_type": "code",
        "colab": {
          "base_uri": "https://localhost:8080/",
          "height": 298
        },
        "outputId": "feed90fe-162c-4ef8-fa89-1fc8a4829669"
      },
      "source": [
        "model.summary()"
      ],
      "execution_count": null,
      "outputs": [
        {
          "output_type": "stream",
          "text": [
            "Model: \"sequential\"\n",
            "_________________________________________________________________\n",
            "Layer (type)                 Output Shape              Param #   \n",
            "=================================================================\n",
            "embedding (Embedding)        (None, 100, 16)           160000    \n",
            "_________________________________________________________________\n",
            "global_average_pooling1d (Gl (None, 16)                0         \n",
            "_________________________________________________________________\n",
            "dense (Dense)                (None, 24)                408       \n",
            "_________________________________________________________________\n",
            "dense_1 (Dense)              (None, 1)                 25        \n",
            "=================================================================\n",
            "Total params: 160,433\n",
            "Trainable params: 160,433\n",
            "Non-trainable params: 0\n",
            "_________________________________________________________________\n"
          ],
          "name": "stdout"
        }
      ]
    },
    {
      "cell_type": "code",
      "metadata": {
        "id": "lPDk6L9MIDCG",
        "colab_type": "code",
        "colab": {
          "base_uri": "https://localhost:8080/",
          "height": 1000
        },
        "outputId": "03f3aa47-d233-4018-ecfb-54bd762979e9"
      },
      "source": [
        "num_epochs = 30\n",
        "history = model.fit(training_padded, training_labels, epochs=num_epochs, validation_data=(testing_padded, testing_labels), verbose=2)"
      ],
      "execution_count": null,
      "outputs": [
        {
          "output_type": "stream",
          "text": [
            "Epoch 1/30\n",
            "625/625 - 2s - loss: 0.6675 - accuracy: 0.5857 - val_loss: 0.5923 - val_accuracy: 0.7705\n",
            "Epoch 2/30\n",
            "625/625 - 2s - loss: 0.4512 - accuracy: 0.8272 - val_loss: 0.4208 - val_accuracy: 0.8041\n",
            "Epoch 3/30\n",
            "625/625 - 2s - loss: 0.3226 - accuracy: 0.8716 - val_loss: 0.3548 - val_accuracy: 0.8509\n",
            "Epoch 4/30\n",
            "625/625 - 2s - loss: 0.2701 - accuracy: 0.8942 - val_loss: 0.3474 - val_accuracy: 0.8481\n",
            "Epoch 5/30\n",
            "625/625 - 2s - loss: 0.2342 - accuracy: 0.9096 - val_loss: 0.3403 - val_accuracy: 0.8547\n",
            "Epoch 6/30\n",
            "625/625 - 2s - loss: 0.2064 - accuracy: 0.9204 - val_loss: 0.3438 - val_accuracy: 0.8556\n",
            "Epoch 7/30\n",
            "625/625 - 2s - loss: 0.1850 - accuracy: 0.9297 - val_loss: 0.3530 - val_accuracy: 0.8548\n",
            "Epoch 8/30\n",
            "625/625 - 2s - loss: 0.1650 - accuracy: 0.9388 - val_loss: 0.3638 - val_accuracy: 0.8529\n",
            "Epoch 9/30\n",
            "625/625 - 2s - loss: 0.1493 - accuracy: 0.9446 - val_loss: 0.3786 - val_accuracy: 0.8548\n",
            "Epoch 10/30\n",
            "625/625 - 2s - loss: 0.1347 - accuracy: 0.9527 - val_loss: 0.3967 - val_accuracy: 0.8542\n",
            "Epoch 11/30\n",
            "625/625 - 2s - loss: 0.1232 - accuracy: 0.9564 - val_loss: 0.4165 - val_accuracy: 0.8515\n",
            "Epoch 12/30\n",
            "625/625 - 2s - loss: 0.1125 - accuracy: 0.9621 - val_loss: 0.4387 - val_accuracy: 0.8484\n",
            "Epoch 13/30\n",
            "625/625 - 2s - loss: 0.1030 - accuracy: 0.9647 - val_loss: 0.4819 - val_accuracy: 0.8396\n",
            "Epoch 14/30\n",
            "625/625 - 2s - loss: 0.0944 - accuracy: 0.9692 - val_loss: 0.4882 - val_accuracy: 0.8420\n",
            "Epoch 15/30\n",
            "625/625 - 3s - loss: 0.0859 - accuracy: 0.9721 - val_loss: 0.5199 - val_accuracy: 0.8392\n",
            "Epoch 16/30\n",
            "625/625 - 3s - loss: 0.0790 - accuracy: 0.9742 - val_loss: 0.5374 - val_accuracy: 0.8386\n",
            "Epoch 17/30\n",
            "625/625 - 3s - loss: 0.0740 - accuracy: 0.9763 - val_loss: 0.5707 - val_accuracy: 0.8354\n",
            "Epoch 18/30\n",
            "625/625 - 2s - loss: 0.0673 - accuracy: 0.9786 - val_loss: 0.5937 - val_accuracy: 0.8347\n",
            "Epoch 19/30\n",
            "625/625 - 2s - loss: 0.0607 - accuracy: 0.9816 - val_loss: 0.6513 - val_accuracy: 0.8283\n",
            "Epoch 20/30\n",
            "625/625 - 2s - loss: 0.0572 - accuracy: 0.9822 - val_loss: 0.6681 - val_accuracy: 0.8271\n",
            "Epoch 21/30\n",
            "625/625 - 2s - loss: 0.0516 - accuracy: 0.9845 - val_loss: 0.6862 - val_accuracy: 0.8287\n",
            "Epoch 22/30\n",
            "625/625 - 2s - loss: 0.0490 - accuracy: 0.9854 - val_loss: 0.7191 - val_accuracy: 0.8269\n",
            "Epoch 23/30\n",
            "625/625 - 2s - loss: 0.0447 - accuracy: 0.9870 - val_loss: 0.7513 - val_accuracy: 0.8244\n",
            "Epoch 24/30\n",
            "625/625 - 2s - loss: 0.0409 - accuracy: 0.9885 - val_loss: 0.8024 - val_accuracy: 0.8232\n",
            "Epoch 25/30\n",
            "625/625 - 2s - loss: 0.0377 - accuracy: 0.9890 - val_loss: 0.8187 - val_accuracy: 0.8199\n",
            "Epoch 26/30\n",
            "625/625 - 2s - loss: 0.0344 - accuracy: 0.9908 - val_loss: 0.8480 - val_accuracy: 0.8173\n",
            "Epoch 27/30\n",
            "625/625 - 2s - loss: 0.0320 - accuracy: 0.9912 - val_loss: 0.8839 - val_accuracy: 0.8173\n",
            "Epoch 28/30\n",
            "625/625 - 2s - loss: 0.0310 - accuracy: 0.9911 - val_loss: 0.9205 - val_accuracy: 0.8156\n",
            "Epoch 29/30\n",
            "625/625 - 2s - loss: 0.0286 - accuracy: 0.9920 - val_loss: 0.9485 - val_accuracy: 0.8167\n",
            "Epoch 30/30\n",
            "625/625 - 2s - loss: 0.0253 - accuracy: 0.9923 - val_loss: 0.9906 - val_accuracy: 0.8162\n"
          ],
          "name": "stdout"
        }
      ]
    },
    {
      "cell_type": "code",
      "metadata": {
        "id": "SSltpWMGJF7v",
        "colab_type": "code",
        "colab": {
          "base_uri": "https://localhost:8080/",
          "height": 541
        },
        "outputId": "a25d0125-4db6-432d-b66a-c281e01f6c12"
      },
      "source": [
        "import matplotlib.pyplot as plt\n",
        "\n",
        "def plot_graphs(history, string):\n",
        "  plt.plot(history.history[string])\n",
        "  plt.plot(history.history['val_' + string])\n",
        "  plt.xlabel(\"Epochs\")\n",
        "  plt.ylabel(string)\n",
        "  plt.legend([string, 'val_' + string])\n",
        "  plt.show()\n",
        "\n",
        "plot_graphs(history, 'accuracy')\n",
        "plot_graphs(history, 'loss')"
      ],
      "execution_count": null,
      "outputs": [
        {
          "output_type": "display_data",
          "data": {
            "image/png": "[encoded data removed]",
            "text/plain": [
              "<Figure size 432x288 with 1 Axes>"
            ]
          },
          "metadata": {
            "tags": [],
            "needs_background": "light"
          }
        },
        {
          "output_type": "display_data",
          "data": {
            "image/png": "[encoded data removed]",
            "text/plain": [
              "<Figure size 432x288 with 1 Axes>"
            ]
          },
          "metadata": {
            "tags": [],
            "needs_background": "light"
          }
        }
      ]
    },
    {
      "cell_type": "code",
      "metadata": {
        "id": "xa2NLypMKMaP",
        "colab_type": "code",
        "colab": {
          "base_uri": "https://localhost:8080/",
          "height": 52
        },
        "outputId": "fcf4c6d3-cc8e-486c-b805-865996e74df6"
      },
      "source": [
        "sentence = [\"granny starting to fear spiders in the garden might be real\", \"game of thrones season finale showing this sunday night\"]\n",
        "sequence = tokenizer.texts_to_sequences(sentence)\n",
        "padded = pad_sequences(sequence, maxlen=max_length, padding=padding_type, truncating=truct_type)\n",
        "print(model.predict(padded).round(2))\n"
      ],
      "execution_count": null,
      "outputs": [
        {
          "output_type": "stream",
          "text": [
            "[[0.98]\n",
            " [0.  ]]\n"
          ],
          "name": "stdout"
        }
      ]
    },
    {
      "cell_type": "code",
      "metadata": {
        "id": "S4qEKH30LXag",
        "colab_type": "code",
        "colab": {}
      },
      "source": [
        ""
      ],
      "execution_count": null,
      "outputs": []
    }
  ]
}