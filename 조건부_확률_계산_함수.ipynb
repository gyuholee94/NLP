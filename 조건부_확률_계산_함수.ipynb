{
  "nbformat": 4,
  "nbformat_minor": 0,
  "metadata": {
    "colab": {
      "name": "조건부 확률 계산 함수.ipynb",
      "provenance": [],
      "collapsed_sections": [],
      "authorship_tag": "ABX9TyMsphoiozujJ+EQWbG0kKTR",
      "include_colab_link": true
    },
    "kernelspec": {
      "name": "python3",
      "display_name": "Python 3"
    }
  },
  "cells": [
    {
      "cell_type": "markdown",
      "metadata": {
        "id": "view-in-github",
        "colab_type": "text"
      },
      "source": [
        "<a href=\"https://colab.research.google.com/github/gyuholee94/NLP/blob/master/%EC%A1%B0%EA%B1%B4%EB%B6%80_%ED%99%95%EB%A5%A0_%EA%B3%84%EC%82%B0_%ED%95%A8%EC%88%98.ipynb\" target=\"_parent\"><img src=\"https://colab.research.google.com/assets/colab-badge.svg\" alt=\"Open In Colab\"/></a>"
      ]
    },
    {
      "cell_type": "code",
      "metadata": {
        "id": "J7aSLo3uOs3_",
        "colab_type": "code",
        "colab": {
          "base_uri": "https://localhost:8080/",
          "height": 35
        },
        "outputId": "b5837f94-8b4c-44da-fdfe-d1a143878b96"
      },
      "source": [
        "dov_ls = [1,1,2,3,4,5,5,6,7,8,9,9,0,0,1,2,1,]\n",
        "haw_ls = [1,1,2,2,3,3,4,4,5,5,6,6,7,7,8,8,9,9,0,0]\n",
        "dov_ls.count(1), haw_ls.count(1) #문서 전체에서 등장하는 갯수 세기"
      ],
      "execution_count": 50,
      "outputs": [
        {
          "output_type": "execute_result",
          "data": {
            "text/plain": [
              "(4, 2)"
            ]
          },
          "metadata": {
            "tags": []
          },
          "execution_count": 50
        }
      ]
    },
    {
      "cell_type": "code",
      "metadata": {
        "id": "DR4P6nrgToHz",
        "colab_type": "code",
        "colab": {
          "base_uri": "https://localhost:8080/",
          "height": 35
        },
        "outputId": "fcb7264b-ce33-4e1c-f8e3-67018479967e"
      },
      "source": [
        "dov_ls.count(dov_ls[0]), haw_ls.count(haw_ls[0]) # 인덱스를 사용해서 갯수를 셀 수 있는지 확인-셀수있음"
      ],
      "execution_count": 51,
      "outputs": [
        {
          "output_type": "execute_result",
          "data": {
            "text/plain": [
              "(4, 2)"
            ]
          },
          "metadata": {
            "tags": []
          },
          "execution_count": 51
        }
      ]
    },
    {
      "cell_type": "code",
      "metadata": {
        "id": "uz9pBDeWTrP_",
        "colab_type": "code",
        "colab": {
          "base_uri": "https://localhost:8080/",
          "height": 197
        },
        "outputId": "a777db8c-58dc-48b6-f9b1-d4581dbb8c2c"
      },
      "source": [
        "dov_dic = {}\n",
        "for idx, i in enumerate(dov_ls):\n",
        "  dov_dic[i] = ls.count(dov_ls[idx])/len(dov_ls)\n",
        "dov_dic # 인덱스를 사용해서 전체 원소중에 몇번 등장하는지 확인하고, 전체 원소의 갯수로 나눈것을 dictionary에 넣어주면 같은 원소가 나올때마다 같은 값이 계산되더라도 dictionary에 들어갈 때 계속 덮어씌워져서 중복을 포함하고 계산한 뒤 사전을 만들 수 있음"
      ],
      "execution_count": 52,
      "outputs": [
        {
          "output_type": "execute_result",
          "data": {
            "text/plain": [
              "{0: 0.11764705882352941,\n",
              " 1: 0.11764705882352941,\n",
              " 2: 0.058823529411764705,\n",
              " 3: 0.058823529411764705,\n",
              " 4: 0.058823529411764705,\n",
              " 5: 0.11764705882352941,\n",
              " 6: 0.058823529411764705,\n",
              " 7: 0.058823529411764705,\n",
              " 8: 0.058823529411764705,\n",
              " 9: 0.11764705882352941}"
            ]
          },
          "metadata": {
            "tags": []
          },
          "execution_count": 52
        }
      ]
    },
    {
      "cell_type": "code",
      "metadata": {
        "id": "Cc-xVro1Ts8p",
        "colab_type": "code",
        "colab": {}
      },
      "source": [
        "def dic_maker(list):\n",
        "  dic = {}\n",
        "  for idx, i in enumerate(list):\n",
        "    dic[i] = list.count(list[idx])/len(list)\n",
        "  return dic#함수로 만들었음"
      ],
      "execution_count": 43,
      "outputs": []
    },
    {
      "cell_type": "code",
      "metadata": {
        "id": "NdZw53ZmXEFD",
        "colab_type": "code",
        "colab": {
          "base_uri": "https://localhost:8080/",
          "height": 197
        },
        "outputId": "a69b99e5-ddf2-44fa-b764-511d4085f3c0"
      },
      "source": [
        "haw_dic = dic_maker(haw_ls)\n",
        "haw_dic#어떤 원소가 haw일 확률(haw전체중 등장한 비율)"
      ],
      "execution_count": 44,
      "outputs": [
        {
          "output_type": "execute_result",
          "data": {
            "text/plain": [
              "{0: 0.1,\n",
              " 1: 0.1,\n",
              " 2: 0.1,\n",
              " 3: 0.1,\n",
              " 4: 0.1,\n",
              " 5: 0.1,\n",
              " 6: 0.1,\n",
              " 7: 0.1,\n",
              " 8: 0.1,\n",
              " 9: 0.1}"
            ]
          },
          "metadata": {
            "tags": []
          },
          "execution_count": 44
        }
      ]
    },
    {
      "cell_type": "code",
      "metadata": {
        "id": "VxtE_DC9XGhl",
        "colab_type": "code",
        "colab": {
          "base_uri": "https://localhost:8080/",
          "height": 197
        },
        "outputId": "8ceeb1bf-2835-49ae-8ec7-1c4fdcafc4cf"
      },
      "source": [
        "dov_dic = dic_maker(dov_ls)\n",
        "dov_dic#어떤 원소가 dov일 확률(dov전체중 등장한 비율)"
      ],
      "execution_count": 45,
      "outputs": [
        {
          "output_type": "execute_result",
          "data": {
            "text/plain": [
              "{0: 0.11764705882352941,\n",
              " 1: 0.23529411764705882,\n",
              " 2: 0.11764705882352941,\n",
              " 3: 0.058823529411764705,\n",
              " 4: 0.058823529411764705,\n",
              " 5: 0.11764705882352941,\n",
              " 6: 0.058823529411764705,\n",
              " 7: 0.058823529411764705,\n",
              " 8: 0.058823529411764705,\n",
              " 9: 0.11764705882352941}"
            ]
          },
          "metadata": {
            "tags": []
          },
          "execution_count": 45
        }
      ]
    },
    {
      "cell_type": "code",
      "metadata": {
        "id": "YYP6E2enXJfd",
        "colab_type": "code",
        "colab": {
          "base_uri": "https://localhost:8080/",
          "height": 197
        },
        "outputId": "44cf0d39-87e0-46c8-daf1-b5309e0bccf7"
      },
      "source": [
        "percent_dic = {}\n",
        "for i in range(len(dov_dic)):\n",
        "  percent_dic[i] = haw_dic[i]/dov_dic[i]\n",
        "percent_dic#조건부 확률 계산. 여기서 1.3관련된 그레이존을 잘라내야 함"
      ],
      "execution_count": 46,
      "outputs": [
        {
          "output_type": "execute_result",
          "data": {
            "text/plain": [
              "{0: 0.8500000000000001,\n",
              " 1: 0.42500000000000004,\n",
              " 2: 0.8500000000000001,\n",
              " 3: 1.7000000000000002,\n",
              " 4: 1.7000000000000002,\n",
              " 5: 0.8500000000000001,\n",
              " 6: 1.7000000000000002,\n",
              " 7: 1.7000000000000002,\n",
              " 8: 1.7000000000000002,\n",
              " 9: 0.8500000000000001}"
            ]
          },
          "metadata": {
            "tags": []
          },
          "execution_count": 46
        }
      ]
    },
    {
      "cell_type": "code",
      "metadata": {
        "id": "S-zPn9TYXvkp",
        "colab_type": "code",
        "colab": {
          "base_uri": "https://localhost:8080/",
          "height": 197
        },
        "outputId": "346ce50a-0256-4ddf-c9aa-c4e19c501719"
      },
      "source": [
        "for i in range(len(percent_dic)):#사전을 순서대로 가져올 수 있어야 함. 여기서는 인덱스랑 숫자랑 우연히 맞아서 된거고.\n",
        "  if percent_dic[i] >= 1.3 or percent_dic[i] <= 1/1.3: #그레이 영역이 아닌곳을 남겨두는 조건-> 조건을 나눠서 아예 D, H로 라벨링 하는 변경 가능\n",
        "    pass\n",
        "  else: \n",
        "    percent_dic[i] = ''\n",
        "\n",
        "percent_dic  "
      ],
      "execution_count": 49,
      "outputs": [
        {
          "output_type": "execute_result",
          "data": {
            "text/plain": [
              "{0: '',\n",
              " 1: 0.42500000000000004,\n",
              " 2: '',\n",
              " 3: 1.7000000000000002,\n",
              " 4: 1.7000000000000002,\n",
              " 5: '',\n",
              " 6: 1.7000000000000002,\n",
              " 7: 1.7000000000000002,\n",
              " 8: 1.7000000000000002,\n",
              " 9: ''}"
            ]
          },
          "metadata": {
            "tags": []
          },
          "execution_count": 49
        }
      ]
    },
    {
      "cell_type": "code",
      "metadata": {
        "id": "TGqY1-lqXzU2",
        "colab_type": "code",
        "colab": {}
      },
      "source": [
        ""
      ],
      "execution_count": null,
      "outputs": []
    }
  ]
}