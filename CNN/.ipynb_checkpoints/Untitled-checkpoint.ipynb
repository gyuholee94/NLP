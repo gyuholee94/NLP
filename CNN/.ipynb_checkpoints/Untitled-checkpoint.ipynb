{
 "cells": [
  {
   "cell_type": "code",
   "execution_count": 1,
   "metadata": {},
   "outputs": [],
   "source": [
    "import numpy as np\n",
    "import pandas as pd\n",
    "import matplotlib.pyplot as plt\n",
    "import seaborn as sns\n",
    "import tensorflow as tf\n",
    "from tensorflow import keras\n",
    "from tensorflow.keras import layers\n",
    "from tensorflow.keras.models import Sequential\n",
    "from tensorflow.keras.layers import (\n",
    "    Conv2D, BatchNormalization, Dropout, MaxPool2D, Activation,\n",
    "    Flatten, Dense, Input, Concatenate, LeakyReLU, Add, AveragePooling2D\n",
    ")"
   ]
  },
  {
   "cell_type": "code",
   "execution_count": 2,
   "metadata": {},
   "outputs": [],
   "source": [
    "train = pd.read_csv('./train.csv')\n",
    "test = pd.read_csv('./test.csv')"
   ]
  },
  {
   "cell_type": "code",
   "execution_count": 3,
   "metadata": {},
   "outputs": [],
   "source": [
    "train_img = train.iloc[:,3:].to_numpy().reshape(-1,28,28,1)\n",
    "train_digit = train['digit']\n",
    "train_letter = train['letter']\n",
    "test_img = test.iloc[:,2:].to_numpy().reshape(-1,28,28,1)\n",
    "test_letter = test['letter']"
   ]
  },
  {
   "cell_type": "code",
   "execution_count": 4,
   "metadata": {},
   "outputs": [],
   "source": [
    "train_img_norm = train_img / 255.0\n",
    "test_img_norm = test_img / 255.0"
   ]
  },
  {
   "cell_type": "code",
   "execution_count": 5,
   "metadata": {},
   "outputs": [],
   "source": [
    "features = train_img_norm\n",
    "labels = train_digit.to_numpy()\n",
    "\n",
    "X_test = test_img_norm"
   ]
  },
  {
   "cell_type": "code",
   "execution_count": 6,
   "metadata": {},
   "outputs": [],
   "source": [
    "from sklearn.model_selection import train_test_split\n",
    "\n",
    "validation_split = 0.2\n",
    "\n",
    "X_train, X_val, y_train, y_val = train_test_split(features, labels, test_size = validation_split, random_state = 1004)"
   ]
  },
  {
   "cell_type": "code",
   "execution_count": 7,
   "metadata": {},
   "outputs": [],
   "source": [
    "def createFolder(directory):\n",
    "    \n",
    "    import os\n",
    "    \n",
    "    try:\n",
    "        if not os.path.exists(directory):\n",
    "            os.makedirs(directory)\n",
    "    except:\n",
    "        print(\"Error: Falied creating directory\" + directory)"
   ]
  },
  {
   "cell_type": "code",
   "execution_count": 8,
   "metadata": {},
   "outputs": [],
   "source": [
    "def plot_curve(epochs, hist, list_of_metrics):\n",
    "    \n",
    "    fig, ax = plt.subplots(1,2,figsize = (12, 8))\n",
    "    \n",
    "    for i in range(len(ax)):\n",
    "        ax[i].set_xlabel('Epochs')\n",
    "        ax[i].set_ylabel('Value')\n",
    "        \n",
    "        for n in range(len(list_of_metrics)):\n",
    "            if i == 0:\n",
    "                y = hist[list_of_metrics[n]]\n",
    "                ax[i].plot(epochs, y)\n",
    "                ax[i].set_title('Loss')\n",
    "                if n == 1:\n",
    "                    break\n",
    "            else:\n",
    "                if n >= 2:\n",
    "                    y = hist[list_of_metrics[n]]\n",
    "                    ax[i].plot(epochs, y)\n",
    "                    ax[i].set_title('Accuracy')\n",
    "                    \n",
    "    plt.show()"
   ]
  },
  {
   "cell_type": "code",
   "execution_count": 17,
   "metadata": {},
   "outputs": [],
   "source": [
    "def create_cnn(learning_rate):\n",
    "    \n",
    "    # Remove the previous model.\n",
    "#     model = None\n",
    "    \n",
    "    # dropout_rate=0.5\n",
    "    model = Sequential()\n",
    "    model.add(Conv2D(256, kernel_size = 3, activation='relu', input_shape = (28, 28, 1)))\n",
    "    model.add(Conv2D(256, kernel_size = 3, activation='relu'))\n",
    "    model.add(Conv2D(256, kernel_size = 5, strides=2, padding='same', activation='relu'))\n",
    "    model.add(Dropout(0.5))\n",
    "\n",
    "    model.add(Conv2D(128, kernel_size = 3, activation='relu'))\n",
    "    model.add(Conv2D(128, kernel_size = 3, activation='relu'))\n",
    "    model.add(Conv2D(128, kernel_size = 5, strides=2, padding='same', activation='relu'))\n",
    "    model.add(Dropout(0.5))\n",
    "\n",
    "    model.add(Conv2D(128, kernel_size = 4, activation='relu'))\n",
    "    model.add(Flatten())\n",
    "    model.add(Dropout(0.5))\n",
    "    model.add(Dense(10, activation='softmax'))\n",
    "\n",
    "    # COMPILE WITH ADAM OPTIMIZER AND CROSS ENTROPY COST\n",
    "    model.compile(optimizer=\"adam\", loss=\"sparse_categorical_crossentropy\", metrics=[\"accuracy\"])\n",
    "    \n",
    "                    \n",
    "    return model"
   ]
  },
  {
   "cell_type": "code",
   "execution_count": 18,
   "metadata": {},
   "outputs": [],
   "source": [
    "def train_model_v1(model, X_train, y_train, X_val, y_val, epochs, batch_size = None, validation_split = 0.1):\n",
    "    \n",
    "    callback = tf.keras.callbacks.EarlyStopping(monitor = 'val_accuracy', patience = 10, restore_best_weights = True)\n",
    "    \n",
    "    history = model.fit(x = X_train, y = y_train, epochs = epochs, batch_size = batch_size,\n",
    "                       shuffle = True, validation_data = [X_val, y_val], callbacks = [callback])\n",
    "    \n",
    "    epochs = history.epoch\n",
    "    hist = pd.DataFrame(history.history)\n",
    "    \n",
    "    return epochs, hist\n",
    "\n",
    "def train_model_v2(model, X_train, y_train, X_val, y_val, epochs, batch_size = None, validation_split = 0.1):\n",
    "    \n",
    "    callback = tf.keras.callbacks.EarlyStopping(monitor = 'val_loss', patience = 10, restore_best_weights = True)\n",
    "    \n",
    "    history = model.fit(x = X_train, y = y_train, epochs = epochs, batch_size = batch_size,\n",
    "                       shuffle = True, validation_data = [X_val, y_val], callbacks = [callback])\n",
    "    \n",
    "    epochs = history.epoch\n",
    "    hist = pd.DataFrame(history.history)\n",
    "    \n",
    "    return epochs, hist"
   ]
  },
  {
   "cell_type": "code",
   "execution_count": 19,
   "metadata": {},
   "outputs": [],
   "source": [
    "model_list = []\n",
    "\n",
    "for i in range(10):\n",
    "    model = create_cnn(learning_rate = 0.0001)\n",
    "    model_list.append(model)"
   ]
  },
  {
   "cell_type": "code",
   "execution_count": null,
   "metadata": {},
   "outputs": [
    {
     "name": "stdout",
     "output_type": "stream",
     "text": [
      "***************Trainig_my_model_0*****************\n",
      "Epoch 1/100\n",
      " 329/1638 [=====>........................] - ETA: 2:46 - loss: 2.3066 - accuracy: 0.0973"
     ]
    }
   ],
   "source": [
    "### Training\n",
    "epochs = 100\n",
    "batch_size = 1\n",
    "validation_split = 0.2\n",
    "\n",
    "for i in range(len(model_list)):\n",
    "    print(\"***************Trainig_my_model_{}*****************\".format(i))\n",
    "    epoch, hist = train_model_v1(model_list[i], X_train, y_train, X_val, y_val, epochs, batch_size) \n",
    "\n",
    "    # Plot a graph of the metric vs. epochs.\n",
    "    list_of_metrics_to_plot = ['loss','val_loss','accuracy','val_accuracy']\n",
    "    plot_curve(epoch, hist, list_of_metrics_to_plot)"
   ]
  },
  {
   "cell_type": "code",
   "execution_count": 22,
   "metadata": {},
   "outputs": [],
   "source": [
    "result_list = []\n",
    "\n",
    "for i in range(len(model_list)):\n",
    "    print(\"************************Evaluating_my_model_{}************************\".format(i))\n",
    "    result = model_list[i].evaluate(X_val, y_val)\n",
    "    result_list.append(result)"
   ]
  },
  {
   "cell_type": "code",
   "execution_count": 23,
   "metadata": {},
   "outputs": [],
   "source": [
    "pred_list = []\n",
    "\n",
    "for i in range(len(model_list)):\n",
    "    print(\"************************Predicting_my_model_{}************************\".format(i))\n",
    "    pred = model_list[i].predict(X_test)\n",
    "    pred_list.append(pred)"
   ]
  },
  {
   "cell_type": "code",
   "execution_count": 24,
   "metadata": {},
   "outputs": [],
   "source": [
    "pred_df = pd.DataFrame(test[\"id\"])\n",
    "final_pred = np.array([0] * 204800).reshape(20480, 10)\n",
    "\n",
    "for i in range(len(model_list)):\n",
    "    pred_df['pred{}'.format(i)] = np.argmax(pred_list[i], axis = 1)\n",
    "    final_pred = final_pred + pred_list[i]\n",
    "\n",
    "pred_df['final_pred'] = np.argmax(final_pred, axis = 1)"
   ]
  },
  {
   "cell_type": "code",
   "execution_count": 25,
   "metadata": {},
   "outputs": [
    {
     "data": {
      "text/html": [
       "<div>\n",
       "<style scoped>\n",
       "    .dataframe tbody tr th:only-of-type {\n",
       "        vertical-align: middle;\n",
       "    }\n",
       "\n",
       "    .dataframe tbody tr th {\n",
       "        vertical-align: top;\n",
       "    }\n",
       "\n",
       "    .dataframe thead th {\n",
       "        text-align: right;\n",
       "    }\n",
       "</style>\n",
       "<table border=\"1\" class=\"dataframe\">\n",
       "  <thead>\n",
       "    <tr style=\"text-align: right;\">\n",
       "      <th></th>\n",
       "      <th>id</th>\n",
       "      <th>final_pred</th>\n",
       "    </tr>\n",
       "  </thead>\n",
       "  <tbody>\n",
       "    <tr>\n",
       "      <th>0</th>\n",
       "      <td>2049</td>\n",
       "      <td>0</td>\n",
       "    </tr>\n",
       "    <tr>\n",
       "      <th>1</th>\n",
       "      <td>2050</td>\n",
       "      <td>0</td>\n",
       "    </tr>\n",
       "    <tr>\n",
       "      <th>2</th>\n",
       "      <td>2051</td>\n",
       "      <td>0</td>\n",
       "    </tr>\n",
       "    <tr>\n",
       "      <th>3</th>\n",
       "      <td>2052</td>\n",
       "      <td>0</td>\n",
       "    </tr>\n",
       "    <tr>\n",
       "      <th>4</th>\n",
       "      <td>2053</td>\n",
       "      <td>0</td>\n",
       "    </tr>\n",
       "    <tr>\n",
       "      <th>...</th>\n",
       "      <td>...</td>\n",
       "      <td>...</td>\n",
       "    </tr>\n",
       "    <tr>\n",
       "      <th>20475</th>\n",
       "      <td>22524</td>\n",
       "      <td>0</td>\n",
       "    </tr>\n",
       "    <tr>\n",
       "      <th>20476</th>\n",
       "      <td>22525</td>\n",
       "      <td>0</td>\n",
       "    </tr>\n",
       "    <tr>\n",
       "      <th>20477</th>\n",
       "      <td>22526</td>\n",
       "      <td>0</td>\n",
       "    </tr>\n",
       "    <tr>\n",
       "      <th>20478</th>\n",
       "      <td>22527</td>\n",
       "      <td>0</td>\n",
       "    </tr>\n",
       "    <tr>\n",
       "      <th>20479</th>\n",
       "      <td>22528</td>\n",
       "      <td>0</td>\n",
       "    </tr>\n",
       "  </tbody>\n",
       "</table>\n",
       "<p>20480 rows × 2 columns</p>\n",
       "</div>"
      ],
      "text/plain": [
       "          id  final_pred\n",
       "0       2049           0\n",
       "1       2050           0\n",
       "2       2051           0\n",
       "3       2052           0\n",
       "4       2053           0\n",
       "...      ...         ...\n",
       "20475  22524           0\n",
       "20476  22525           0\n",
       "20477  22526           0\n",
       "20478  22527           0\n",
       "20479  22528           0\n",
       "\n",
       "[20480 rows x 2 columns]"
      ]
     },
     "execution_count": 25,
     "metadata": {},
     "output_type": "execute_result"
    }
   ],
   "source": [
    "pred_df"
   ]
  },
  {
   "cell_type": "code",
   "execution_count": 26,
   "metadata": {},
   "outputs": [],
   "source": [
    "re_model_list = []\n",
    "\n",
    "for i in range(len(model_list)):\n",
    "    print(\"************************Loading_my_model_{}************************\".format(i))\n",
    "    my_model = tf.keras.models.load_model('D:/data/CNN 모델/my_model16/model{}'.format(i))\n",
    "    my_model.compile(optimizer = tf.keras.optimizers.Adam(lr = 0.00001),\n",
    "                 loss = 'sparse_categorical_crossentropy',\n",
    "                 metrics = ['accuracy'])\n",
    "    \n",
    "    print(\"************************Re-training_my_model_{}************************\".format(i))\n",
    "    my_model.fit(X_val, y_val, epochs = 5, batch_size = 1)\n",
    "    \n",
    "    re_model_list.append(my_model)"
   ]
  },
  {
   "cell_type": "code",
   "execution_count": null,
   "metadata": {},
   "outputs": [],
   "source": [
    "# test_set 예측하기\n",
    "\n",
    "re_pred_list = []\n",
    "\n",
    "for i in range(len(model_list)):\n",
    "    print(\"************************Predicting_my_re_model_{}************************\".format(i))\n",
    "    pred = re_model_list[i].predict(X_test)\n",
    "    re_pred_list.append(pred)"
   ]
  },
  {
   "cell_type": "code",
   "execution_count": null,
   "metadata": {},
   "outputs": [],
   "source": [
    "re_pred_df = pd.DataFrame(test[\"id\"])\n",
    "re_final_pred = np.array([0] * 204800).reshape(20480, 10)\n",
    "\n",
    "for i in range(len(model_list)):\n",
    "    re_pred_df['pred{}'.format(i)] = np.argmax(re_pred_list[i], axis = 1)\n",
    "    re_final_pred = re_final_pred + re_pred_list[i]\n",
    "\n",
    "re_pred_df['final_pred'] = np.argmax(re_final_pred, axis = 1)"
   ]
  },
  {
   "cell_type": "code",
   "execution_count": null,
   "metadata": {},
   "outputs": [],
   "source": [
    "re_pred_df"
   ]
  },
  {
   "cell_type": "code",
   "execution_count": null,
   "metadata": {},
   "outputs": [],
   "source": [
    "# 파일 제출\n",
    "submission = re_pred_df[['id', 'final_pred']].rename(columns = {'final_pred' : 'digit'})\n",
    "submission.to_csv(\"transformed_MNIST31.csv\", index = False)\n",
    "submission"
   ]
  },
  {
   "cell_type": "code",
   "execution_count": null,
   "metadata": {},
   "outputs": [],
   "source": []
  },
  {
   "cell_type": "code",
   "execution_count": null,
   "metadata": {},
   "outputs": [],
   "source": []
  },
  {
   "cell_type": "code",
   "execution_count": null,
   "metadata": {},
   "outputs": [],
   "source": []
  }
 ],
 "metadata": {
  "kernelspec": {
   "display_name": "Python 3",
   "language": "python",
   "name": "python3"
  },
  "language_info": {
   "codemirror_mode": {
    "name": "ipython",
    "version": 3
   },
   "file_extension": ".py",
   "mimetype": "text/x-python",
   "name": "python",
   "nbconvert_exporter": "python",
   "pygments_lexer": "ipython3",
   "version": "3.8.3"
  }
 },
 "nbformat": 4,
 "nbformat_minor": 4
}
