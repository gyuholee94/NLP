{
  "nbformat": 4,
  "nbformat_minor": 0,
  "metadata": {
    "colab": {
      "name": "Appendix D.. Linear Algebra의 사본의 사본",
      "provenance": [],
      "collapsed_sections": [],
      "toc_visible": true,
      "include_colab_link": true
    },
    "kernelspec": {
      "name": "python3",
      "display_name": "Python 3"
    }
  },
  "cells": [
    {
      "cell_type": "markdown",
      "metadata": {
        "id": "view-in-github",
        "colab_type": "text"
      },
      "source": [
        "<a href=\"https://colab.research.google.com/github/gyuholee94/NLP/blob/master/Appendix_D_Linear_Algebra%EC%9D%98_%EC%82%AC%EB%B3%B8%EC%9D%98_%EC%82%AC%EB%B3%B8.ipynb\" target=\"_parent\"><img src=\"https://colab.research.google.com/assets/colab-badge.svg\" alt=\"Open In Colab\"/></a>"
      ]
    },
    {
      "cell_type": "markdown",
      "metadata": {
        "id": "4di_nmaFk0Zu",
        "colab_type": "text"
      },
      "source": [
        "# 2 주성분 분석(PCA, Principal Component Analysis)"
      ]
    },
    {
      "cell_type": "markdown",
      "metadata": {
        "id": "-eRv2nFqlMAZ",
        "colab_type": "text"
      },
      "source": [
        "* PCA는 데이터의 분산(variance)을 최대로 하는 축을 찾는 것을 반복하여, 고차원 공간의 표본들을 저차원 공간으로 변환하는 기법\n",
        "\n",
        "\n"
      ]
    },
    {
      "cell_type": "markdown",
      "metadata": {
        "id": "n45Y8uyUlGMJ",
        "colab_type": "text"
      },
      "source": [
        "![대체 텍스트](http://i.imgur.com/jWJ2nUs.png)"
      ]
    },
    {
      "cell_type": "markdown",
      "metadata": {
        "id": "ebumLhy25esv",
        "colab_type": "text"
      },
      "source": [
        "## 2.1 차원 축소의 예\n",
        "\n",
        "변수 갯수를 차원이라고 생각할 수 있음"
      ]
    },
    {
      "cell_type": "code",
      "metadata": {
        "id": "kSe1NKhQlG9f",
        "colab_type": "code",
        "colab": {}
      },
      "source": [
        "국어 = 80\n",
        "영어 = 60\n",
        "수학 = 90\n",
        "과학 = 70\n",
        "\n",
        "평균"
      ],
      "execution_count": null,
      "outputs": []
    },
    {
      "cell_type": "code",
      "metadata": {
        "id": "wWnVJ9vK5YY9",
        "colab_type": "code",
        "colab": {}
      },
      "source": [
        "몸무게 = 70\n",
        "키 = 180\n",
        "\n",
        "\n",
        "BMI "
      ],
      "execution_count": null,
      "outputs": []
    },
    {
      "cell_type": "markdown",
      "metadata": {
        "id": "zc4GQj2oNn3G",
        "colab_type": "text"
      },
      "source": [
        "\n",
        "\n",
        "---\n",
        "\n"
      ]
    },
    {
      "cell_type": "markdown",
      "metadata": {
        "id": "c_viMcGaNpEN",
        "colab_type": "text"
      },
      "source": [
        "## 2.2 PCA 예제 1"
      ]
    },
    {
      "cell_type": "markdown",
      "metadata": {
        "id": "EIDZeP-lOB52",
        "colab_type": "text"
      },
      "source": [
        "### 1) 예제 데이터"
      ]
    },
    {
      "cell_type": "code",
      "metadata": {
        "id": "zwp8In2uNWgi",
        "colab_type": "code",
        "colab": {}
      },
      "source": [
        "import pandas as pd\n",
        "# Eating, exercise habbit and their body shape\n",
        "df = pd.DataFrame(columns=['calory', 'breakfast', 'lunch', 'dinner', 'exercise', 'body_shape'])\n",
        "\n",
        "df.loc[0] = [1200, 1, 0, 0, 2, 'Skinny']\n",
        "df.loc[1] = [2800, 1, 1, 1, 1, 'Normal']\n",
        "df.loc[2] = [3500, 2, 2, 1, 0, 'Fat']\n",
        "df.loc[3] = [1400, 0, 1, 0, 3, 'Skinny']\n",
        "df.loc[4] = [5000, 2, 2, 2, 0, 'Fat']\n",
        "df.loc[5] = [1300, 0, 0, 1, 2, 'Skinny']\n",
        "df.loc[6] = [3000, 1, 0, 1, 1, 'Normal']\n",
        "df.loc[7] = [4000, 2, 2, 2, 0, 'Fat']\n",
        "df.loc[8] = [2600, 0, 2, 0, 0, 'Normal']\n",
        "df.loc[9] = [3000, 1, 2, 1, 1, 'Fat']\n",
        "\n",
        "df.head()"
      ],
      "execution_count": null,
      "outputs": []
    },
    {
      "cell_type": "markdown",
      "metadata": {
        "id": "RU435e2UNWgn",
        "colab_type": "text"
      },
      "source": [
        "### 2) vector 추출"
      ]
    },
    {
      "cell_type": "code",
      "metadata": {
        "id": "aTsVKtciNWgn",
        "colab_type": "code",
        "colab": {}
      },
      "source": [
        "# X is feature vectors\n"
      ],
      "execution_count": null,
      "outputs": []
    },
    {
      "cell_type": "code",
      "metadata": {
        "id": "W7pLlFliNWgq",
        "colab_type": "code",
        "colab": {}
      },
      "source": [
        "# Y is labels\n"
      ],
      "execution_count": null,
      "outputs": []
    },
    {
      "cell_type": "markdown",
      "metadata": {
        "id": "_-jESafVNWgv",
        "colab_type": "text"
      },
      "source": [
        "### 3) feature vector 표준화"
      ]
    },
    {
      "cell_type": "code",
      "metadata": {
        "id": "jTYWHiC6NWgv",
        "colab_type": "code",
        "colab": {}
      },
      "source": [
        ""
      ],
      "execution_count": null,
      "outputs": []
    },
    {
      "cell_type": "markdown",
      "metadata": {
        "id": "S0OJ6rcXNWgz",
        "colab_type": "text"
      },
      "source": [
        "### 4) feature 간 공분산 행렬계산"
      ]
    },
    {
      "cell_type": "code",
      "metadata": {
        "id": "EsRD5rBxNWg1",
        "colab_type": "code",
        "colab": {}
      },
      "source": [
        "import numpy as np\n"
      ],
      "execution_count": null,
      "outputs": []
    },
    {
      "cell_type": "markdown",
      "metadata": {
        "id": "fPQTE54yNWg2",
        "colab_type": "text"
      },
      "source": [
        "### 5) 고유 벡터(Eigen Vectors)와 고유값(Eigen Values) 산출"
      ]
    },
    {
      "cell_type": "code",
      "metadata": {
        "id": "SZM7B525NWg3",
        "colab_type": "code",
        "colab": {}
      },
      "source": [
        ""
      ],
      "execution_count": null,
      "outputs": []
    },
    {
      "cell_type": "markdown",
      "metadata": {
        "id": "Iz3WqbWdNWg9",
        "colab_type": "text"
      },
      "source": [
        "### 6) 고유벡터(Eigen Vector)를 기준으로 데이터를 투영"
      ]
    },
    {
      "cell_type": "code",
      "metadata": {
        "id": "g1Z4VErxNWg9",
        "colab_type": "code",
        "colab": {}
      },
      "source": [
        ""
      ],
      "execution_count": null,
      "outputs": []
    },
    {
      "cell_type": "markdown",
      "metadata": {
        "id": "ZJ6gr23YPhfr",
        "colab_type": "text"
      },
      "source": [
        "\n",
        "\n",
        "---\n",
        "\n"
      ]
    },
    {
      "cell_type": "markdown",
      "metadata": {
        "id": "VhprUX7gNWhP",
        "colab_type": "text"
      },
      "source": [
        "## 2.3 scikit-learn 활용 PCA"
      ]
    },
    {
      "cell_type": "code",
      "metadata": {
        "id": "8hNAo6pDNWhQ",
        "colab_type": "code",
        "colab": {}
      },
      "source": [
        ""
      ],
      "execution_count": null,
      "outputs": []
    },
    {
      "cell_type": "markdown",
      "metadata": {
        "id": "qxxHu8ooPgJ0",
        "colab_type": "text"
      },
      "source": [
        "\n",
        "\n",
        "---\n",
        "\n"
      ]
    },
    {
      "cell_type": "markdown",
      "metadata": {
        "id": "hYOj8UoxktAx",
        "colab_type": "text"
      },
      "source": [
        "# 2 특이값 분해(SVD, Singular Value Decomposion)"
      ]
    },
    {
      "cell_type": "markdown",
      "metadata": {
        "id": "niCjSM0B-ttO",
        "colab_type": "text"
      },
      "source": [
        "![대체 텍스트](https://wikimedia.org/api/rest_v1/media/math/render/svg/2ab6bd797a2b7652b0a54894bb3825756e8f9c6c)"
      ]
    },
    {
      "cell_type": "code",
      "metadata": {
        "id": "Tq075M816C0Z",
        "colab_type": "code",
        "colab": {}
      },
      "source": [
        "A = np.array([[1, 0, 0, 0, 2],\n",
        "              [0, 0, 3, 0, 0],\n",
        "              [0, 0, 0, 0, 0],\n",
        "              [0, 2, 0, 0, 0]])"
      ],
      "execution_count": null,
      "outputs": []
    },
    {
      "cell_type": "markdown",
      "metadata": {
        "id": "zvotobJQ54Br",
        "colab_type": "text"
      },
      "source": [
        "## 2.1 특이값 분해"
      ]
    },
    {
      "cell_type": "markdown",
      "metadata": {
        "id": "E3Rr2p35_6KE",
        "colab_type": "text"
      },
      "source": [
        "![대체 텍스트](https://wikimedia.org/api/rest_v1/media/math/render/svg/8d164e57dfbf6318e5cdc21a1c24fcc6c3cea0c4)"
      ]
    },
    {
      "cell_type": "code",
      "metadata": {
        "id": "gFgP-USmkznm",
        "colab_type": "code",
        "colab": {}
      },
      "source": [
        ""
      ],
      "execution_count": null,
      "outputs": []
    },
    {
      "cell_type": "code",
      "metadata": {
        "id": "osRN2r6QFPb1",
        "colab_type": "code",
        "colab": {}
      },
      "source": [
        "import numpy as np\n",
        "\n",
        "a = np.array([[1, 1, 1, 0, 0],\n",
        "              [3, 3, 3, 0, 0],\n",
        "              [4, 4, 4, 0, 0],\n",
        "              [5, 5, 5, 0, 0],\n",
        "              [0, 2, 0, 4, 4],\n",
        "              [0, 0, 0, 5, 5],\n",
        "              [0, 1, 0, 2, 2]])\n",
        "\n",
        "\n"
      ],
      "execution_count": null,
      "outputs": []
    },
    {
      "cell_type": "markdown",
      "metadata": {
        "id": "VEmZejoD5yiq",
        "colab_type": "text"
      },
      "source": [
        "## 2.2 이미지에 적용한 특이값 분해"
      ]
    },
    {
      "cell_type": "code",
      "metadata": {
        "id": "50eOYv2a5uV5",
        "colab_type": "code",
        "colab": {}
      },
      "source": [
        "import os\n",
        "import numpy as np\n",
        "from PIL import Image\n",
        "import matplotlib.pyplot as plt\n",
        "%matplotlib inline\n",
        "\n",
        "path = '/content/drive/My Drive/강의 /Great-Ocean-Road.jpg'\n",
        "\n",
        "#이미지 파일 열기\n",
        "img = Image.open(path)\n",
        "\n",
        "#파일 크기 계산\n",
        "s = float(os.path.getsize(path))/1000\n",
        "print(\"Size(dimension): \",img.size)\n",
        "plt.title(\"Original Image (%0.2f Kb):\" %s)\n",
        "plt.imshow(img)\n",
        "\n",
        "# gray 스케일로 변환\n",
        "imggray = img.convert('LA')\n",
        "imgmat = np.array( list(imggray.getdata(band = 0)), float)\n",
        "\n",
        "# 이미지 크기(가로, 세로)로 reshape\n",
        "imgmat.shape = (imggray.size[1], imggray.size[0])\n",
        "imgmat = np.matrix(imgmat)\n",
        "plt.figure()\n",
        "plt.imshow(imgmat, cmap = 'gray')\n",
        "plt.title(\"Image after converting it into the Grayscale pattern\")\n",
        "plt.show()\n",
        "\n",
        "print(\"After compression: \")\n",
        "U, S, Vt = np.linalg.svd(imgmat) #single value decomposition\n",
        "\n",
        "# 5, 25, 45 개의 특이값을 적용하여 이미지 압축\n",
        "for i in range(5, 51, 20):\n",
        "    cmpimg = np.matrix(U[:, :i]) * np.diag(S[:i]) * np.matrix(Vt[:i,:])\n",
        "    plt.imshow(cmpimg, cmap = 'gray')\n",
        "    title = \" Image after =  %s\" %i\n",
        "    plt.title(title)\n",
        "    plt.show()\n",
        "    result = Image.fromarray((cmpimg ).astype(np.uint8))"
      ],
      "execution_count": null,
      "outputs": []
    },
    {
      "cell_type": "code",
      "metadata": {
        "id": "vSoJUqxHk-tK",
        "colab_type": "code",
        "colab": {}
      },
      "source": [
        "from google.colab import drive\n",
        "drive.mount('/content/drive')"
      ],
      "execution_count": null,
      "outputs": []
    },
    {
      "cell_type": "code",
      "metadata": {
        "id": "_oi3t7D2LGA7",
        "colab_type": "code",
        "colab": {}
      },
      "source": [
        ""
      ],
      "execution_count": null,
      "outputs": []
    }
  ]
}