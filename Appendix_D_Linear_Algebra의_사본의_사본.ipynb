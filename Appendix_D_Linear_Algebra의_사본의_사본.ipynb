{
  "nbformat": 4,
  "nbformat_minor": 0,
  "metadata": {
    "colab": {
      "name": "Appendix D.. Linear Algebra의 사본의 사본",
      "provenance": [],
      "collapsed_sections": [],
      "toc_visible": true,
      "include_colab_link": true
    },
    "kernelspec": {
      "name": "python3",
      "display_name": "Python 3"
    }
  },
  "cells": [
    {
      "cell_type": "markdown",
      "metadata": {
        "id": "view-in-github",
        "colab_type": "text"
      },
      "source": [
        "<a href=\"https://colab.research.google.com/github/gyuholee94/NLP/blob/master/Appendix_D_Linear_Algebra%EC%9D%98_%EC%82%AC%EB%B3%B8%EC%9D%98_%EC%82%AC%EB%B3%B8.ipynb\" target=\"_parent\"><img src=\"https://colab.research.google.com/assets/colab-badge.svg\" alt=\"Open In Colab\"/></a>"
      ]
    },
    {
      "cell_type": "markdown",
      "metadata": {
        "id": "4di_nmaFk0Zu",
        "colab_type": "text"
      },
      "source": [
        "# 2 주성분 분석(PCA, Principal Component Analysis)"
      ]
    },
    {
      "cell_type": "markdown",
      "metadata": {
        "id": "-eRv2nFqlMAZ",
        "colab_type": "text"
      },
      "source": [
        "* PCA는 데이터의 분산(variance)을 최대로 하는 축을 찾는 것을 반복하여, 고차원 공간의 표본들을 저차원 공간으로 변환하는 기법\n",
        "\n",
        "\n"
      ]
    },
    {
      "cell_type": "markdown",
      "metadata": {
        "id": "n45Y8uyUlGMJ",
        "colab_type": "text"
      },
      "source": [
        "![대체 텍스트](http://i.imgur.com/jWJ2nUs.png)"
      ]
    },
    {
      "cell_type": "markdown",
      "metadata": {
        "id": "ebumLhy25esv",
        "colab_type": "text"
      },
      "source": [
        "## 2.1 차원 축소의 예\n",
        "\n",
        "변수 갯수를 차원이라고 생각할 수 있음"
      ]
    },
    {
      "cell_type": "code",
      "metadata": {
        "id": "kSe1NKhQlG9f",
        "colab_type": "code",
        "colab": {
          "base_uri": "https://localhost:8080/",
          "height": 35
        },
        "outputId": "3ba256d8-c174-43d5-fea9-7550845631dd"
      },
      "source": [
        "국어 = 80\n",
        "영어 = 60\n",
        "수학 = 90\n",
        "과학 = 70\n",
        "\n",
        "평균= (국어+영어+수학+과학)/4\n",
        "평균"
      ],
      "execution_count": 3,
      "outputs": [
        {
          "output_type": "execute_result",
          "data": {
            "text/plain": [
              "75.0"
            ]
          },
          "metadata": {
            "tags": []
          },
          "execution_count": 3
        }
      ]
    },
    {
      "cell_type": "code",
      "metadata": {
        "id": "wWnVJ9vK5YY9",
        "colab_type": "code",
        "colab": {
          "base_uri": "https://localhost:8080/",
          "height": 35
        },
        "outputId": "e1e5230c-337f-4a10-c014-d4d8de66871d"
      },
      "source": [
        "몸무게 = 88\n",
        "키 = 181\n",
        "\n",
        "\n",
        "BMI = 몸무게 / (키 * 키)\n",
        "BMI"
      ],
      "execution_count": 4,
      "outputs": [
        {
          "output_type": "execute_result",
          "data": {
            "text/plain": [
              "0.0026861206922865603"
            ]
          },
          "metadata": {
            "tags": []
          },
          "execution_count": 4
        }
      ]
    },
    {
      "cell_type": "markdown",
      "metadata": {
        "id": "zc4GQj2oNn3G",
        "colab_type": "text"
      },
      "source": [
        "\n",
        "\n",
        "---\n",
        "\n"
      ]
    },
    {
      "cell_type": "markdown",
      "metadata": {
        "id": "c_viMcGaNpEN",
        "colab_type": "text"
      },
      "source": [
        "## 2.2 PCA 예제 1"
      ]
    },
    {
      "cell_type": "markdown",
      "metadata": {
        "id": "EIDZeP-lOB52",
        "colab_type": "text"
      },
      "source": [
        "### 1) 예제 데이터"
      ]
    },
    {
      "cell_type": "code",
      "metadata": {
        "id": "zwp8In2uNWgi",
        "colab_type": "code",
        "colab": {
          "base_uri": "https://localhost:8080/",
          "height": 204
        },
        "outputId": "7900a278-29cd-48ee-f56d-3155754d3adc"
      },
      "source": [
        "import pandas as pd\n",
        "# Eating, exercise habbit and their body shape\n",
        "df = pd.DataFrame(columns=['calory', 'breakfast', 'lunch', 'dinner', 'exercise', 'body_shape'])\n",
        "\n",
        "df.loc[0] = [1200, 1, 0, 0, 2, 'Skinny']\n",
        "df.loc[1] = [2800, 1, 1, 1, 1, 'Normal']\n",
        "df.loc[2] = [3500, 2, 2, 1, 0, 'Fat']\n",
        "df.loc[3] = [1400, 0, 1, 0, 3, 'Skinny']\n",
        "df.loc[4] = [5000, 2, 2, 2, 0, 'Fat']\n",
        "df.loc[5] = [1300, 0, 0, 1, 2, 'Skinny']\n",
        "df.loc[6] = [3000, 1, 0, 1, 1, 'Normal']\n",
        "df.loc[7] = [4000, 2, 2, 2, 0, 'Fat']\n",
        "df.loc[8] = [2600, 0, 2, 0, 0, 'Normal']\n",
        "df.loc[9] = [3000, 1, 2, 1, 1, 'Fat']\n",
        "\n",
        "df.head()"
      ],
      "execution_count": 5,
      "outputs": [
        {
          "output_type": "execute_result",
          "data": {
            "text/html": [
              "<div>\n",
              "<style scoped>\n",
              "    .dataframe tbody tr th:only-of-type {\n",
              "        vertical-align: middle;\n",
              "    }\n",
              "\n",
              "    .dataframe tbody tr th {\n",
              "        vertical-align: top;\n",
              "    }\n",
              "\n",
              "    .dataframe thead th {\n",
              "        text-align: right;\n",
              "    }\n",
              "</style>\n",
              "<table border=\"1\" class=\"dataframe\">\n",
              "  <thead>\n",
              "    <tr style=\"text-align: right;\">\n",
              "      <th></th>\n",
              "      <th>calory</th>\n",
              "      <th>breakfast</th>\n",
              "      <th>lunch</th>\n",
              "      <th>dinner</th>\n",
              "      <th>exercise</th>\n",
              "      <th>body_shape</th>\n",
              "    </tr>\n",
              "  </thead>\n",
              "  <tbody>\n",
              "    <tr>\n",
              "      <th>0</th>\n",
              "      <td>1200</td>\n",
              "      <td>1</td>\n",
              "      <td>0</td>\n",
              "      <td>0</td>\n",
              "      <td>2</td>\n",
              "      <td>Skinny</td>\n",
              "    </tr>\n",
              "    <tr>\n",
              "      <th>1</th>\n",
              "      <td>2800</td>\n",
              "      <td>1</td>\n",
              "      <td>1</td>\n",
              "      <td>1</td>\n",
              "      <td>1</td>\n",
              "      <td>Normal</td>\n",
              "    </tr>\n",
              "    <tr>\n",
              "      <th>2</th>\n",
              "      <td>3500</td>\n",
              "      <td>2</td>\n",
              "      <td>2</td>\n",
              "      <td>1</td>\n",
              "      <td>0</td>\n",
              "      <td>Fat</td>\n",
              "    </tr>\n",
              "    <tr>\n",
              "      <th>3</th>\n",
              "      <td>1400</td>\n",
              "      <td>0</td>\n",
              "      <td>1</td>\n",
              "      <td>0</td>\n",
              "      <td>3</td>\n",
              "      <td>Skinny</td>\n",
              "    </tr>\n",
              "    <tr>\n",
              "      <th>4</th>\n",
              "      <td>5000</td>\n",
              "      <td>2</td>\n",
              "      <td>2</td>\n",
              "      <td>2</td>\n",
              "      <td>0</td>\n",
              "      <td>Fat</td>\n",
              "    </tr>\n",
              "  </tbody>\n",
              "</table>\n",
              "</div>"
            ],
            "text/plain": [
              "  calory breakfast lunch dinner exercise body_shape\n",
              "0   1200         1     0      0        2     Skinny\n",
              "1   2800         1     1      1        1     Normal\n",
              "2   3500         2     2      1        0        Fat\n",
              "3   1400         0     1      0        3     Skinny\n",
              "4   5000         2     2      2        0        Fat"
            ]
          },
          "metadata": {
            "tags": []
          },
          "execution_count": 5
        }
      ]
    },
    {
      "cell_type": "markdown",
      "metadata": {
        "id": "RU435e2UNWgn",
        "colab_type": "text"
      },
      "source": [
        "### 2) vector 추출"
      ]
    },
    {
      "cell_type": "code",
      "metadata": {
        "id": "aTsVKtciNWgn",
        "colab_type": "code",
        "colab": {
          "base_uri": "https://localhost:8080/",
          "height": 359
        },
        "outputId": "4c3e434c-101e-4b5d-d37b-370b7c01044a"
      },
      "source": [
        "# X is feature vectors\n",
        "\n",
        "X = df[['calory', 'breakfast', 'lunch', 'dinner', 'exercise']]\n",
        "X"
      ],
      "execution_count": 10,
      "outputs": [
        {
          "output_type": "execute_result",
          "data": {
            "text/html": [
              "<div>\n",
              "<style scoped>\n",
              "    .dataframe tbody tr th:only-of-type {\n",
              "        vertical-align: middle;\n",
              "    }\n",
              "\n",
              "    .dataframe tbody tr th {\n",
              "        vertical-align: top;\n",
              "    }\n",
              "\n",
              "    .dataframe thead th {\n",
              "        text-align: right;\n",
              "    }\n",
              "</style>\n",
              "<table border=\"1\" class=\"dataframe\">\n",
              "  <thead>\n",
              "    <tr style=\"text-align: right;\">\n",
              "      <th></th>\n",
              "      <th>calory</th>\n",
              "      <th>breakfast</th>\n",
              "      <th>lunch</th>\n",
              "      <th>dinner</th>\n",
              "      <th>exercise</th>\n",
              "    </tr>\n",
              "  </thead>\n",
              "  <tbody>\n",
              "    <tr>\n",
              "      <th>0</th>\n",
              "      <td>1200</td>\n",
              "      <td>1</td>\n",
              "      <td>0</td>\n",
              "      <td>0</td>\n",
              "      <td>2</td>\n",
              "    </tr>\n",
              "    <tr>\n",
              "      <th>1</th>\n",
              "      <td>2800</td>\n",
              "      <td>1</td>\n",
              "      <td>1</td>\n",
              "      <td>1</td>\n",
              "      <td>1</td>\n",
              "    </tr>\n",
              "    <tr>\n",
              "      <th>2</th>\n",
              "      <td>3500</td>\n",
              "      <td>2</td>\n",
              "      <td>2</td>\n",
              "      <td>1</td>\n",
              "      <td>0</td>\n",
              "    </tr>\n",
              "    <tr>\n",
              "      <th>3</th>\n",
              "      <td>1400</td>\n",
              "      <td>0</td>\n",
              "      <td>1</td>\n",
              "      <td>0</td>\n",
              "      <td>3</td>\n",
              "    </tr>\n",
              "    <tr>\n",
              "      <th>4</th>\n",
              "      <td>5000</td>\n",
              "      <td>2</td>\n",
              "      <td>2</td>\n",
              "      <td>2</td>\n",
              "      <td>0</td>\n",
              "    </tr>\n",
              "    <tr>\n",
              "      <th>5</th>\n",
              "      <td>1300</td>\n",
              "      <td>0</td>\n",
              "      <td>0</td>\n",
              "      <td>1</td>\n",
              "      <td>2</td>\n",
              "    </tr>\n",
              "    <tr>\n",
              "      <th>6</th>\n",
              "      <td>3000</td>\n",
              "      <td>1</td>\n",
              "      <td>0</td>\n",
              "      <td>1</td>\n",
              "      <td>1</td>\n",
              "    </tr>\n",
              "    <tr>\n",
              "      <th>7</th>\n",
              "      <td>4000</td>\n",
              "      <td>2</td>\n",
              "      <td>2</td>\n",
              "      <td>2</td>\n",
              "      <td>0</td>\n",
              "    </tr>\n",
              "    <tr>\n",
              "      <th>8</th>\n",
              "      <td>2600</td>\n",
              "      <td>0</td>\n",
              "      <td>2</td>\n",
              "      <td>0</td>\n",
              "      <td>0</td>\n",
              "    </tr>\n",
              "    <tr>\n",
              "      <th>9</th>\n",
              "      <td>3000</td>\n",
              "      <td>1</td>\n",
              "      <td>2</td>\n",
              "      <td>1</td>\n",
              "      <td>1</td>\n",
              "    </tr>\n",
              "  </tbody>\n",
              "</table>\n",
              "</div>"
            ],
            "text/plain": [
              "  calory breakfast lunch dinner exercise\n",
              "0   1200         1     0      0        2\n",
              "1   2800         1     1      1        1\n",
              "2   3500         2     2      1        0\n",
              "3   1400         0     1      0        3\n",
              "4   5000         2     2      2        0\n",
              "5   1300         0     0      1        2\n",
              "6   3000         1     0      1        1\n",
              "7   4000         2     2      2        0\n",
              "8   2600         0     2      0        0\n",
              "9   3000         1     2      1        1"
            ]
          },
          "metadata": {
            "tags": []
          },
          "execution_count": 10
        }
      ]
    },
    {
      "cell_type": "code",
      "metadata": {
        "id": "W7pLlFliNWgq",
        "colab_type": "code",
        "colab": {
          "base_uri": "https://localhost:8080/",
          "height": 359
        },
        "outputId": "86adf83e-923c-4939-e457-0e1a581462c7"
      },
      "source": [
        "# Y is labels\n",
        "Y = df[['body_shape']]\n",
        "Y"
      ],
      "execution_count": 12,
      "outputs": [
        {
          "output_type": "execute_result",
          "data": {
            "text/html": [
              "<div>\n",
              "<style scoped>\n",
              "    .dataframe tbody tr th:only-of-type {\n",
              "        vertical-align: middle;\n",
              "    }\n",
              "\n",
              "    .dataframe tbody tr th {\n",
              "        vertical-align: top;\n",
              "    }\n",
              "\n",
              "    .dataframe thead th {\n",
              "        text-align: right;\n",
              "    }\n",
              "</style>\n",
              "<table border=\"1\" class=\"dataframe\">\n",
              "  <thead>\n",
              "    <tr style=\"text-align: right;\">\n",
              "      <th></th>\n",
              "      <th>body_shape</th>\n",
              "    </tr>\n",
              "  </thead>\n",
              "  <tbody>\n",
              "    <tr>\n",
              "      <th>0</th>\n",
              "      <td>Skinny</td>\n",
              "    </tr>\n",
              "    <tr>\n",
              "      <th>1</th>\n",
              "      <td>Normal</td>\n",
              "    </tr>\n",
              "    <tr>\n",
              "      <th>2</th>\n",
              "      <td>Fat</td>\n",
              "    </tr>\n",
              "    <tr>\n",
              "      <th>3</th>\n",
              "      <td>Skinny</td>\n",
              "    </tr>\n",
              "    <tr>\n",
              "      <th>4</th>\n",
              "      <td>Fat</td>\n",
              "    </tr>\n",
              "    <tr>\n",
              "      <th>5</th>\n",
              "      <td>Skinny</td>\n",
              "    </tr>\n",
              "    <tr>\n",
              "      <th>6</th>\n",
              "      <td>Normal</td>\n",
              "    </tr>\n",
              "    <tr>\n",
              "      <th>7</th>\n",
              "      <td>Fat</td>\n",
              "    </tr>\n",
              "    <tr>\n",
              "      <th>8</th>\n",
              "      <td>Normal</td>\n",
              "    </tr>\n",
              "    <tr>\n",
              "      <th>9</th>\n",
              "      <td>Fat</td>\n",
              "    </tr>\n",
              "  </tbody>\n",
              "</table>\n",
              "</div>"
            ],
            "text/plain": [
              "  body_shape\n",
              "0     Skinny\n",
              "1     Normal\n",
              "2        Fat\n",
              "3     Skinny\n",
              "4        Fat\n",
              "5     Skinny\n",
              "6     Normal\n",
              "7        Fat\n",
              "8     Normal\n",
              "9        Fat"
            ]
          },
          "metadata": {
            "tags": []
          },
          "execution_count": 12
        }
      ]
    },
    {
      "cell_type": "markdown",
      "metadata": {
        "id": "_-jESafVNWgv",
        "colab_type": "text"
      },
      "source": [
        "### 3) feature vector 표준화"
      ]
    },
    {
      "cell_type": "code",
      "metadata": {
        "id": "jTYWHiC6NWgv",
        "colab_type": "code",
        "colab": {
          "base_uri": "https://localhost:8080/",
          "height": 197
        },
        "outputId": "7ac15259-68e8-47d8-f876-bb262f856410"
      },
      "source": [
        "from sklearn.preprocessing import StandardScaler\n",
        "x_std = StandardScaler().fit_transform(X)\n",
        "x_std"
      ],
      "execution_count": 14,
      "outputs": [
        {
          "output_type": "execute_result",
          "data": {
            "text/plain": [
              "array([[-1.35205803,  0.        , -1.3764944 , -1.28571429,  1.        ],\n",
              "       [ 0.01711466,  0.        , -0.22941573,  0.14285714,  0.        ],\n",
              "       [ 0.61612771,  1.29099445,  0.91766294,  0.14285714, -1.        ],\n",
              "       [-1.18091145, -1.29099445, -0.22941573, -1.28571429,  2.        ],\n",
              "       [ 1.89972711,  1.29099445,  0.91766294,  1.57142857, -1.        ],\n",
              "       [-1.26648474, -1.29099445, -1.3764944 ,  0.14285714,  1.        ],\n",
              "       [ 0.18826125,  0.        , -1.3764944 ,  0.14285714,  0.        ],\n",
              "       [ 1.04399418,  1.29099445,  0.91766294,  1.57142857, -1.        ],\n",
              "       [-0.15403193, -1.29099445,  0.91766294, -1.28571429, -1.        ],\n",
              "       [ 0.18826125,  0.        ,  0.91766294,  0.14285714,  0.        ]])"
            ]
          },
          "metadata": {
            "tags": []
          },
          "execution_count": 14
        }
      ]
    },
    {
      "cell_type": "code",
      "metadata": {
        "id": "hjfRPh6uLQDm",
        "colab_type": "code",
        "colab": {
          "base_uri": "https://localhost:8080/",
          "height": 35
        },
        "outputId": "02842f32-46c3-46f6-b91c-f5c29afc4538"
      },
      "source": [
        "print(x_std.mean(), x_std.std())"
      ],
      "execution_count": 15,
      "outputs": [
        {
          "output_type": "stream",
          "text": [
            "3.552713678800501e-17 1.0\n"
          ],
          "name": "stdout"
        }
      ]
    },
    {
      "cell_type": "code",
      "metadata": {
        "id": "9iKU4DsJLWYT",
        "colab_type": "code",
        "colab": {
          "base_uri": "https://localhost:8080/",
          "height": 197
        },
        "outputId": "7923d3db-2677-43ba-dbfe-928bec94636c"
      },
      "source": [
        "x_std.T"
      ],
      "execution_count": 16,
      "outputs": [
        {
          "output_type": "execute_result",
          "data": {
            "text/plain": [
              "array([[-1.35205803,  0.01711466,  0.61612771, -1.18091145,  1.89972711,\n",
              "        -1.26648474,  0.18826125,  1.04399418, -0.15403193,  0.18826125],\n",
              "       [ 0.        ,  0.        ,  1.29099445, -1.29099445,  1.29099445,\n",
              "        -1.29099445,  0.        ,  1.29099445, -1.29099445,  0.        ],\n",
              "       [-1.3764944 , -0.22941573,  0.91766294, -0.22941573,  0.91766294,\n",
              "        -1.3764944 , -1.3764944 ,  0.91766294,  0.91766294,  0.91766294],\n",
              "       [-1.28571429,  0.14285714,  0.14285714, -1.28571429,  1.57142857,\n",
              "         0.14285714,  0.14285714,  1.57142857, -1.28571429,  0.14285714],\n",
              "       [ 1.        ,  0.        , -1.        ,  2.        , -1.        ,\n",
              "         1.        ,  0.        , -1.        , -1.        ,  0.        ]])"
            ]
          },
          "metadata": {
            "tags": []
          },
          "execution_count": 16
        }
      ]
    },
    {
      "cell_type": "markdown",
      "metadata": {
        "id": "S0OJ6rcXNWgz",
        "colab_type": "text"
      },
      "source": [
        "### 4) feature 간 공분산 행렬계산"
      ]
    },
    {
      "cell_type": "code",
      "metadata": {
        "id": "EsRD5rBxNWg1",
        "colab_type": "code",
        "colab": {
          "base_uri": "https://localhost:8080/",
          "height": 107
        },
        "outputId": "f25a1ec1-3ae4-48c6-b223-30bc0aae450f"
      },
      "source": [
        "import numpy as np\n",
        "features = x_std.T\n",
        "covariance_matrix = np.cov(features)\n",
        "covariance_matrix"
      ],
      "execution_count": 17,
      "outputs": [
        {
          "output_type": "execute_result",
          "data": {
            "text/plain": [
              "array([[ 1.11111111,  0.88379717,  0.76782385,  0.89376551, -0.93179808],\n",
              "       [ 0.88379717,  1.11111111,  0.49362406,  0.81967902, -0.71721914],\n",
              "       [ 0.76782385,  0.49362406,  1.11111111,  0.40056715, -0.76471911],\n",
              "       [ 0.89376551,  0.81967902,  0.40056715,  1.11111111, -0.63492063],\n",
              "       [-0.93179808, -0.71721914, -0.76471911, -0.63492063,  1.11111111]])"
            ]
          },
          "metadata": {
            "tags": []
          },
          "execution_count": 17
        }
      ]
    },
    {
      "cell_type": "code",
      "metadata": {
        "id": "D48CJwBdMFhd",
        "colab_type": "code",
        "colab": {
          "base_uri": "https://localhost:8080/",
          "height": 107
        },
        "outputId": "3c22b531-4d3b-42e8-e1ce-b273dd69264a"
      },
      "source": [
        "x_std.T.dot(x_std)"
      ],
      "execution_count": 18,
      "outputs": [
        {
          "output_type": "execute_result",
          "data": {
            "text/plain": [
              "array([[10.        ,  7.95417455,  6.91041467,  8.04388957, -8.38618274],\n",
              "       [ 7.95417455, 10.        ,  4.44261658,  7.37711114, -6.45497224],\n",
              "       [ 6.91041467,  4.44261658, 10.        ,  3.60510439, -6.88247202],\n",
              "       [ 8.04388957,  7.37711114,  3.60510439, 10.        , -5.71428571],\n",
              "       [-8.38618274, -6.45497224, -6.88247202, -5.71428571, 10.        ]])"
            ]
          },
          "metadata": {
            "tags": []
          },
          "execution_count": 18
        }
      ]
    },
    {
      "cell_type": "markdown",
      "metadata": {
        "id": "fPQTE54yNWg2",
        "colab_type": "text"
      },
      "source": [
        "### 5) 고유 벡터(Eigen Vectors)와 고유값(Eigen Values) 산출"
      ]
    },
    {
      "cell_type": "code",
      "metadata": {
        "id": "SZM7B525NWg3",
        "colab_type": "code",
        "colab": {
          "base_uri": "https://localhost:8080/",
          "height": 125
        },
        "outputId": "12cfd4fc-959c-4461-a205-86df33eca937"
      },
      "source": [
        "eig_vals, eig_vecs = np.linalg.eig(covariance_matrix)\n",
        "print('eigen values:', eig_vals)\n",
        "print('eigen vectors:', eig_vecs)"
      ],
      "execution_count": 20,
      "outputs": [
        {
          "output_type": "stream",
          "text": [
            "eigen values: [4.0657343  0.8387565  0.07629538 0.27758568 0.2971837 ]\n",
            "eigen vectors: [[-0.508005   -0.0169937  -0.84711404  0.11637853  0.10244985]\n",
            " [-0.44660335 -0.36890361  0.12808055 -0.63112016 -0.49973822]\n",
            " [-0.38377913  0.70804084  0.20681005 -0.40305226  0.38232213]\n",
            " [-0.42845209 -0.53194699  0.3694462   0.22228235  0.58954327]\n",
            " [ 0.46002038 -0.2816592  -0.29450345 -0.61341895  0.49601841]]\n"
          ],
          "name": "stdout"
        }
      ]
    },
    {
      "cell_type": "code",
      "metadata": {
        "id": "wslujbZNNNI8",
        "colab_type": "code",
        "colab": {
          "base_uri": "https://localhost:8080/",
          "height": 35
        },
        "outputId": "087a1012-116e-4d67-b116-d2f4b1b287c3"
      },
      "source": [
        "eig_vals[0]/sum(eig_vals)#첫번째 주성분은 73퍼센트의 데이터를 가지고 있다는 뜻이지/ 피처가 5개니까 5개로 나오겠지"
      ],
      "execution_count": 21,
      "outputs": [
        {
          "output_type": "execute_result",
          "data": {
            "text/plain": [
              "0.7318321731427544"
            ]
          },
          "metadata": {
            "tags": []
          },
          "execution_count": 21
        }
      ]
    },
    {
      "cell_type": "markdown",
      "metadata": {
        "id": "Iz3WqbWdNWg9",
        "colab_type": "text"
      },
      "source": [
        "### 6) 고유벡터(Eigen Vector)를 기준으로 데이터를 투영"
      ]
    },
    {
      "cell_type": "code",
      "metadata": {
        "id": "g1Z4VErxNWg9",
        "colab_type": "code",
        "colab": {
          "base_uri": "https://localhost:8080/",
          "height": 53
        },
        "outputId": "dc90e080-c4a8-4b54-db37-e1f993b43f06"
      },
      "source": [
        "projected_X = x_std.dot(eig_vecs.T[0])\n",
        "projected_X"
      ],
      "execution_count": 23,
      "outputs": [
        {
          "output_type": "execute_result",
          "data": {
            "text/plain": [
              "array([ 2.22600943,  0.0181432 , -1.76296611,  2.73542407, -3.02711544,\n",
              "        2.14702579,  0.37142473, -2.59239883,  0.39347815, -0.50902498])"
            ]
          },
          "metadata": {
            "tags": []
          },
          "execution_count": 23
        }
      ]
    },
    {
      "cell_type": "code",
      "metadata": {
        "id": "LAoVwbzJNrr8",
        "colab_type": "code",
        "colab": {
          "base_uri": "https://localhost:8080/",
          "height": 359
        },
        "outputId": "e4924c9c-c05b-42d2-a7d8-346393f9f9ac"
      },
      "source": [
        "result = pd.DataFrame(projected_X, columns=['PC1'])\n",
        "result['y-axis'] = 0.0\n",
        "result['label'] = Y\n",
        "result"
      ],
      "execution_count": 26,
      "outputs": [
        {
          "output_type": "execute_result",
          "data": {
            "text/html": [
              "<div>\n",
              "<style scoped>\n",
              "    .dataframe tbody tr th:only-of-type {\n",
              "        vertical-align: middle;\n",
              "    }\n",
              "\n",
              "    .dataframe tbody tr th {\n",
              "        vertical-align: top;\n",
              "    }\n",
              "\n",
              "    .dataframe thead th {\n",
              "        text-align: right;\n",
              "    }\n",
              "</style>\n",
              "<table border=\"1\" class=\"dataframe\">\n",
              "  <thead>\n",
              "    <tr style=\"text-align: right;\">\n",
              "      <th></th>\n",
              "      <th>PC1</th>\n",
              "      <th>y-axis</th>\n",
              "      <th>label</th>\n",
              "    </tr>\n",
              "  </thead>\n",
              "  <tbody>\n",
              "    <tr>\n",
              "      <th>0</th>\n",
              "      <td>2.226009</td>\n",
              "      <td>0.0</td>\n",
              "      <td>Skinny</td>\n",
              "    </tr>\n",
              "    <tr>\n",
              "      <th>1</th>\n",
              "      <td>0.018143</td>\n",
              "      <td>0.0</td>\n",
              "      <td>Normal</td>\n",
              "    </tr>\n",
              "    <tr>\n",
              "      <th>2</th>\n",
              "      <td>-1.762966</td>\n",
              "      <td>0.0</td>\n",
              "      <td>Fat</td>\n",
              "    </tr>\n",
              "    <tr>\n",
              "      <th>3</th>\n",
              "      <td>2.735424</td>\n",
              "      <td>0.0</td>\n",
              "      <td>Skinny</td>\n",
              "    </tr>\n",
              "    <tr>\n",
              "      <th>4</th>\n",
              "      <td>-3.027115</td>\n",
              "      <td>0.0</td>\n",
              "      <td>Fat</td>\n",
              "    </tr>\n",
              "    <tr>\n",
              "      <th>5</th>\n",
              "      <td>2.147026</td>\n",
              "      <td>0.0</td>\n",
              "      <td>Skinny</td>\n",
              "    </tr>\n",
              "    <tr>\n",
              "      <th>6</th>\n",
              "      <td>0.371425</td>\n",
              "      <td>0.0</td>\n",
              "      <td>Normal</td>\n",
              "    </tr>\n",
              "    <tr>\n",
              "      <th>7</th>\n",
              "      <td>-2.592399</td>\n",
              "      <td>0.0</td>\n",
              "      <td>Fat</td>\n",
              "    </tr>\n",
              "    <tr>\n",
              "      <th>8</th>\n",
              "      <td>0.393478</td>\n",
              "      <td>0.0</td>\n",
              "      <td>Normal</td>\n",
              "    </tr>\n",
              "    <tr>\n",
              "      <th>9</th>\n",
              "      <td>-0.509025</td>\n",
              "      <td>0.0</td>\n",
              "      <td>Fat</td>\n",
              "    </tr>\n",
              "  </tbody>\n",
              "</table>\n",
              "</div>"
            ],
            "text/plain": [
              "        PC1  y-axis   label\n",
              "0  2.226009     0.0  Skinny\n",
              "1  0.018143     0.0  Normal\n",
              "2 -1.762966     0.0     Fat\n",
              "3  2.735424     0.0  Skinny\n",
              "4 -3.027115     0.0     Fat\n",
              "5  2.147026     0.0  Skinny\n",
              "6  0.371425     0.0  Normal\n",
              "7 -2.592399     0.0     Fat\n",
              "8  0.393478     0.0  Normal\n",
              "9 -0.509025     0.0     Fat"
            ]
          },
          "metadata": {
            "tags": []
          },
          "execution_count": 26
        }
      ]
    },
    {
      "cell_type": "code",
      "metadata": {
        "id": "4QBSIeqdOBTL",
        "colab_type": "code",
        "colab": {
          "base_uri": "https://localhost:8080/",
          "height": 459
        },
        "outputId": "7e2be6e6-6862-492e-c36d-ee378c9bcea1"
      },
      "source": [
        "import matplotlib.pyplot as plt\n",
        "import seaborn as sns\n",
        "%matplotlib inline\n",
        "\n",
        "sns.lmplot('PC1', 'y-axis', data=result, fit_reg=False, \n",
        "           scatter_kws={\"s\": 50},\n",
        "           hue=\"label\")\n",
        "plt.title('PCA result')"
      ],
      "execution_count": 27,
      "outputs": [
        {
          "output_type": "stream",
          "text": [
            "/usr/local/lib/python3.6/dist-packages/statsmodels/tools/_testing.py:19: FutureWarning: pandas.util.testing is deprecated. Use the functions in the public API at pandas.testing instead.\n",
            "  import pandas.util.testing as tm\n"
          ],
          "name": "stderr"
        },
        {
          "output_type": "execute_result",
          "data": {
            "text/plain": [
              "Text(0.5, 1.0, 'PCA result')"
            ]
          },
          "metadata": {
            "tags": []
          },
          "execution_count": 27
        },
        {
          "output_type": "display_data",
          "data": {
            "image/png": "[encoded data removed]",
            "text/plain": [
              "<Figure size 432.125x360 with 1 Axes>"
            ]
          },
          "metadata": {
            "tags": [],
            "needs_background": "light"
          }
        }
      ]
    },
    {
      "cell_type": "markdown",
      "metadata": {
        "id": "ZJ6gr23YPhfr",
        "colab_type": "text"
      },
      "source": [
        "\n",
        "\n",
        "---\n",
        "\n"
      ]
    },
    {
      "cell_type": "markdown",
      "metadata": {
        "id": "VhprUX7gNWhP",
        "colab_type": "text"
      },
      "source": [
        "## 2.3 scikit-learn 활용 PCA"
      ]
    },
    {
      "cell_type": "code",
      "metadata": {
        "id": "8hNAo6pDNWhQ",
        "colab_type": "code",
        "colab": {
          "base_uri": "https://localhost:8080/",
          "height": 197
        },
        "outputId": "be87d040-e500-4e0c-a610-79bf3ab1cb7d"
      },
      "source": [
        "from sklearn import decomposition\n",
        "pca = decomposition.PCA(n_components=1)#n은 차원이라고 생각해\n",
        "sklearn_pca_x = pca.fit_transform(x_std)\n",
        "sklearn_pca_x"
      ],
      "execution_count": 31,
      "outputs": [
        {
          "output_type": "execute_result",
          "data": {
            "text/plain": [
              "array([[-2.22600943],\n",
              "       [-0.0181432 ],\n",
              "       [ 1.76296611],\n",
              "       [-2.73542407],\n",
              "       [ 3.02711544],\n",
              "       [-2.14702579],\n",
              "       [-0.37142473],\n",
              "       [ 2.59239883],\n",
              "       [-0.39347815],\n",
              "       [ 0.50902498]])"
            ]
          },
          "metadata": {
            "tags": []
          },
          "execution_count": 31
        }
      ]
    },
    {
      "cell_type": "code",
      "metadata": {
        "id": "yOOKFaxNPaZm",
        "colab_type": "code",
        "colab": {
          "base_uri": "https://localhost:8080/",
          "height": 359
        },
        "outputId": "547af269-e7ff-41b7-ef98-cdc6e6ca9add"
      },
      "source": [
        "sklearn_result = pd.DataFrame(sklearn_pca_x, columns=['PC1'])#얘는 차원에 따라늘어나\n",
        "sklearn_result['y-axis'] = 0.0\n",
        "sklearn_result['label'] = Y\n",
        "sklearn_result"
      ],
      "execution_count": 32,
      "outputs": [
        {
          "output_type": "execute_result",
          "data": {
            "text/html": [
              "<div>\n",
              "<style scoped>\n",
              "    .dataframe tbody tr th:only-of-type {\n",
              "        vertical-align: middle;\n",
              "    }\n",
              "\n",
              "    .dataframe tbody tr th {\n",
              "        vertical-align: top;\n",
              "    }\n",
              "\n",
              "    .dataframe thead th {\n",
              "        text-align: right;\n",
              "    }\n",
              "</style>\n",
              "<table border=\"1\" class=\"dataframe\">\n",
              "  <thead>\n",
              "    <tr style=\"text-align: right;\">\n",
              "      <th></th>\n",
              "      <th>PC1</th>\n",
              "      <th>y-axis</th>\n",
              "      <th>label</th>\n",
              "    </tr>\n",
              "  </thead>\n",
              "  <tbody>\n",
              "    <tr>\n",
              "      <th>0</th>\n",
              "      <td>-2.226009</td>\n",
              "      <td>0.0</td>\n",
              "      <td>Skinny</td>\n",
              "    </tr>\n",
              "    <tr>\n",
              "      <th>1</th>\n",
              "      <td>-0.018143</td>\n",
              "      <td>0.0</td>\n",
              "      <td>Normal</td>\n",
              "    </tr>\n",
              "    <tr>\n",
              "      <th>2</th>\n",
              "      <td>1.762966</td>\n",
              "      <td>0.0</td>\n",
              "      <td>Fat</td>\n",
              "    </tr>\n",
              "    <tr>\n",
              "      <th>3</th>\n",
              "      <td>-2.735424</td>\n",
              "      <td>0.0</td>\n",
              "      <td>Skinny</td>\n",
              "    </tr>\n",
              "    <tr>\n",
              "      <th>4</th>\n",
              "      <td>3.027115</td>\n",
              "      <td>0.0</td>\n",
              "      <td>Fat</td>\n",
              "    </tr>\n",
              "    <tr>\n",
              "      <th>5</th>\n",
              "      <td>-2.147026</td>\n",
              "      <td>0.0</td>\n",
              "      <td>Skinny</td>\n",
              "    </tr>\n",
              "    <tr>\n",
              "      <th>6</th>\n",
              "      <td>-0.371425</td>\n",
              "      <td>0.0</td>\n",
              "      <td>Normal</td>\n",
              "    </tr>\n",
              "    <tr>\n",
              "      <th>7</th>\n",
              "      <td>2.592399</td>\n",
              "      <td>0.0</td>\n",
              "      <td>Fat</td>\n",
              "    </tr>\n",
              "    <tr>\n",
              "      <th>8</th>\n",
              "      <td>-0.393478</td>\n",
              "      <td>0.0</td>\n",
              "      <td>Normal</td>\n",
              "    </tr>\n",
              "    <tr>\n",
              "      <th>9</th>\n",
              "      <td>0.509025</td>\n",
              "      <td>0.0</td>\n",
              "      <td>Fat</td>\n",
              "    </tr>\n",
              "  </tbody>\n",
              "</table>\n",
              "</div>"
            ],
            "text/plain": [
              "        PC1  y-axis   label\n",
              "0 -2.226009     0.0  Skinny\n",
              "1 -0.018143     0.0  Normal\n",
              "2  1.762966     0.0     Fat\n",
              "3 -2.735424     0.0  Skinny\n",
              "4  3.027115     0.0     Fat\n",
              "5 -2.147026     0.0  Skinny\n",
              "6 -0.371425     0.0  Normal\n",
              "7  2.592399     0.0     Fat\n",
              "8 -0.393478     0.0  Normal\n",
              "9  0.509025     0.0     Fat"
            ]
          },
          "metadata": {
            "tags": []
          },
          "execution_count": 32
        }
      ]
    },
    {
      "cell_type": "code",
      "metadata": {
        "id": "yPdr1-GdPURj",
        "colab_type": "code",
        "colab": {
          "base_uri": "https://localhost:8080/",
          "height": 403
        },
        "outputId": "dc48fb01-6545-4ad8-e527-676099b15962"
      },
      "source": [
        "import matplotlib.pyplot as plt\n",
        "import seaborn as sns\n",
        "%matplotlib inline\n",
        "\n",
        "sns.lmplot('PC1', 'y-axis', data=sklearn_result, fit_reg=False, \n",
        "           scatter_kws={\"s\": 50},\n",
        "           hue=\"label\")\n",
        "plt.title('PCA result')"
      ],
      "execution_count": 34,
      "outputs": [
        {
          "output_type": "execute_result",
          "data": {
            "text/plain": [
              "Text(0.5, 1.0, 'PCA result')"
            ]
          },
          "metadata": {
            "tags": []
          },
          "execution_count": 34
        },
        {
          "output_type": "display_data",
          "data": {
            "image/png": "[encoded data removed]",
            "text/plain": [
              "<Figure size 432.125x360 with 1 Axes>"
            ]
          },
          "metadata": {
            "tags": [],
            "needs_background": "light"
          }
        }
      ]
    },
    {
      "cell_type": "code",
      "metadata": {
        "id": "XdnRalx7P7xp",
        "colab_type": "code",
        "colab": {
          "base_uri": "https://localhost:8080/",
          "height": 197
        },
        "outputId": "086b3f10-43ab-4e1b-8e3d-64d9c2f95363"
      },
      "source": [
        "from sklearn import decomposition\n",
        "pca = decomposition.PCA(n_components=2)#n은 차원이라고 생각해\n",
        "sklearn_pca_x = pca.fit_transform(x_std)\n",
        "sklearn_pca_x"
      ],
      "execution_count": 35,
      "outputs": [
        {
          "output_type": "execute_result",
          "data": {
            "text/plain": [
              "array([[-2.22600943, -0.54936514],\n",
              "       [-0.0181432 , -0.23871898],\n",
              "       [ 1.76296611,  0.36868681],\n",
              "       [-2.73542407,  0.4544983 ],\n",
              "       [ 3.02711544, -0.41305057],\n",
              "       [-2.14702579, -0.83449111],\n",
              "       [-0.37142473, -1.05380594],\n",
              "       [ 2.59239883, -0.3985085 ],\n",
              "       [-0.39347815,  2.09420397],\n",
              "       [ 0.50902498,  0.57055116]])"
            ]
          },
          "metadata": {
            "tags": []
          },
          "execution_count": 35
        }
      ]
    },
    {
      "cell_type": "code",
      "metadata": {
        "id": "EEStiU06P_bD",
        "colab_type": "code",
        "colab": {
          "base_uri": "https://localhost:8080/",
          "height": 359
        },
        "outputId": "3a2ee0b0-6764-4cec-d002-c02ed2f74379"
      },
      "source": [
        "sklearn_result = pd.DataFrame(sklearn_pca_x, columns=['PC1', 'PC2'])#얘는 차원에 따라늘어나\n",
        "sklearn_result['y-axis'] = 0.0\n",
        "sklearn_result['label'] = Y\n",
        "sklearn_result"
      ],
      "execution_count": 42,
      "outputs": [
        {
          "output_type": "execute_result",
          "data": {
            "text/html": [
              "<div>\n",
              "<style scoped>\n",
              "    .dataframe tbody tr th:only-of-type {\n",
              "        vertical-align: middle;\n",
              "    }\n",
              "\n",
              "    .dataframe tbody tr th {\n",
              "        vertical-align: top;\n",
              "    }\n",
              "\n",
              "    .dataframe thead th {\n",
              "        text-align: right;\n",
              "    }\n",
              "</style>\n",
              "<table border=\"1\" class=\"dataframe\">\n",
              "  <thead>\n",
              "    <tr style=\"text-align: right;\">\n",
              "      <th></th>\n",
              "      <th>PC1</th>\n",
              "      <th>PC2</th>\n",
              "      <th>y-axis</th>\n",
              "      <th>label</th>\n",
              "    </tr>\n",
              "  </thead>\n",
              "  <tbody>\n",
              "    <tr>\n",
              "      <th>0</th>\n",
              "      <td>-2.226009</td>\n",
              "      <td>-0.549365</td>\n",
              "      <td>0.0</td>\n",
              "      <td>Skinny</td>\n",
              "    </tr>\n",
              "    <tr>\n",
              "      <th>1</th>\n",
              "      <td>-0.018143</td>\n",
              "      <td>-0.238719</td>\n",
              "      <td>0.0</td>\n",
              "      <td>Normal</td>\n",
              "    </tr>\n",
              "    <tr>\n",
              "      <th>2</th>\n",
              "      <td>1.762966</td>\n",
              "      <td>0.368687</td>\n",
              "      <td>0.0</td>\n",
              "      <td>Fat</td>\n",
              "    </tr>\n",
              "    <tr>\n",
              "      <th>3</th>\n",
              "      <td>-2.735424</td>\n",
              "      <td>0.454498</td>\n",
              "      <td>0.0</td>\n",
              "      <td>Skinny</td>\n",
              "    </tr>\n",
              "    <tr>\n",
              "      <th>4</th>\n",
              "      <td>3.027115</td>\n",
              "      <td>-0.413051</td>\n",
              "      <td>0.0</td>\n",
              "      <td>Fat</td>\n",
              "    </tr>\n",
              "    <tr>\n",
              "      <th>5</th>\n",
              "      <td>-2.147026</td>\n",
              "      <td>-0.834491</td>\n",
              "      <td>0.0</td>\n",
              "      <td>Skinny</td>\n",
              "    </tr>\n",
              "    <tr>\n",
              "      <th>6</th>\n",
              "      <td>-0.371425</td>\n",
              "      <td>-1.053806</td>\n",
              "      <td>0.0</td>\n",
              "      <td>Normal</td>\n",
              "    </tr>\n",
              "    <tr>\n",
              "      <th>7</th>\n",
              "      <td>2.592399</td>\n",
              "      <td>-0.398508</td>\n",
              "      <td>0.0</td>\n",
              "      <td>Fat</td>\n",
              "    </tr>\n",
              "    <tr>\n",
              "      <th>8</th>\n",
              "      <td>-0.393478</td>\n",
              "      <td>2.094204</td>\n",
              "      <td>0.0</td>\n",
              "      <td>Normal</td>\n",
              "    </tr>\n",
              "    <tr>\n",
              "      <th>9</th>\n",
              "      <td>0.509025</td>\n",
              "      <td>0.570551</td>\n",
              "      <td>0.0</td>\n",
              "      <td>Fat</td>\n",
              "    </tr>\n",
              "  </tbody>\n",
              "</table>\n",
              "</div>"
            ],
            "text/plain": [
              "        PC1       PC2  y-axis   label\n",
              "0 -2.226009 -0.549365     0.0  Skinny\n",
              "1 -0.018143 -0.238719     0.0  Normal\n",
              "2  1.762966  0.368687     0.0     Fat\n",
              "3 -2.735424  0.454498     0.0  Skinny\n",
              "4  3.027115 -0.413051     0.0     Fat\n",
              "5 -2.147026 -0.834491     0.0  Skinny\n",
              "6 -0.371425 -1.053806     0.0  Normal\n",
              "7  2.592399 -0.398508     0.0     Fat\n",
              "8 -0.393478  2.094204     0.0  Normal\n",
              "9  0.509025  0.570551     0.0     Fat"
            ]
          },
          "metadata": {
            "tags": []
          },
          "execution_count": 42
        }
      ]
    },
    {
      "cell_type": "code",
      "metadata": {
        "id": "Jb75E0ysQEqd",
        "colab_type": "code",
        "colab": {
          "base_uri": "https://localhost:8080/",
          "height": 403
        },
        "outputId": "5acd3499-69b3-4181-f118-9f79d2bfeded"
      },
      "source": [
        "import matplotlib.pyplot as plt\n",
        "import seaborn as sns\n",
        "%matplotlib inline\n",
        "\n",
        "sns.lmplot('PC1', 'PC2', data=sklearn_result, fit_reg=False, \n",
        "           scatter_kws={\"s\": 50},\n",
        "           hue=\"label\")\n",
        "plt.title('PCA result')"
      ],
      "execution_count": 43,
      "outputs": [
        {
          "output_type": "execute_result",
          "data": {
            "text/plain": [
              "Text(0.5, 1.0, 'PCA result')"
            ]
          },
          "metadata": {
            "tags": []
          },
          "execution_count": 43
        },
        {
          "output_type": "display_data",
          "data": {
            "image/png": "[encoded data removed]",
            "text/plain": [
              "<Figure size 432.125x360 with 1 Axes>"
            ]
          },
          "metadata": {
            "tags": [],
            "needs_background": "light"
          }
        }
      ]
    },
    {
      "cell_type": "markdown",
      "metadata": {
        "id": "qxxHu8ooPgJ0",
        "colab_type": "text"
      },
      "source": [
        "\n",
        "\n",
        "---\n",
        "\n"
      ]
    },
    {
      "cell_type": "markdown",
      "metadata": {
        "id": "hYOj8UoxktAx",
        "colab_type": "text"
      },
      "source": [
        "# 2 특이값 분해(SVD, Singular Value Decomposion)"
      ]
    },
    {
      "cell_type": "markdown",
      "metadata": {
        "id": "niCjSM0B-ttO",
        "colab_type": "text"
      },
      "source": [
        "![대체 텍스트](https://wikimedia.org/api/rest_v1/media/math/render/svg/2ab6bd797a2b7652b0a54894bb3825756e8f9c6c)"
      ]
    },
    {
      "cell_type": "code",
      "metadata": {
        "id": "Tq075M816C0Z",
        "colab_type": "code",
        "colab": {}
      },
      "source": [
        "A = np.array([[1, 0, 0, 0, 2],\n",
        "              [0, 0, 3, 0, 0],\n",
        "              [0, 0, 0, 0, 0],\n",
        "              [0, 2, 0, 0, 0]])"
      ],
      "execution_count": 44,
      "outputs": []
    },
    {
      "cell_type": "markdown",
      "metadata": {
        "id": "zvotobJQ54Br",
        "colab_type": "text"
      },
      "source": [
        "## 2.1 특이값 분해"
      ]
    },
    {
      "cell_type": "markdown",
      "metadata": {
        "id": "E3Rr2p35_6KE",
        "colab_type": "text"
      },
      "source": [
        "![대체 텍스트](https://wikimedia.org/api/rest_v1/media/math/render/svg/8d164e57dfbf6318e5cdc21a1c24fcc6c3cea0c4)"
      ]
    },
    {
      "cell_type": "code",
      "metadata": {
        "id": "gFgP-USmkznm",
        "colab_type": "code",
        "colab": {
          "base_uri": "https://localhost:8080/",
          "height": 215
        },
        "outputId": "9954371d-73d0-432b-d7e1-c710da8ec08c"
      },
      "source": [
        "import numpy as np\n",
        "U, s, VT = np.linalg.svd(A)\n",
        "print('U:\\n {}'.format(U), 's:\\n {}'.format(s), 'VT:\\n {}'.format(VT))\n"
      ],
      "execution_count": 45,
      "outputs": [
        {
          "output_type": "stream",
          "text": [
            "U:\n",
            " [[ 0.  1.  0.  0.]\n",
            " [ 1.  0.  0.  0.]\n",
            " [ 0.  0.  0. -1.]\n",
            " [ 0.  0.  1.  0.]] s:\n",
            " [3.         2.23606798 2.         0.        ] VT:\n",
            " [[-0.          0.          1.         -0.          0.        ]\n",
            " [ 0.4472136   0.          0.          0.          0.89442719]\n",
            " [-0.          1.          0.         -0.          0.        ]\n",
            " [ 0.          0.          0.          1.          0.        ]\n",
            " [-0.89442719  0.          0.          0.          0.4472136 ]]\n"
          ],
          "name": "stdout"
        }
      ]
    },
    {
      "cell_type": "code",
      "metadata": {
        "id": "osRN2r6QFPb1",
        "colab_type": "code",
        "colab": {
          "base_uri": "https://localhost:8080/",
          "height": 539
        },
        "outputId": "d2575cb2-2909-45de-a667-f6d449dd51e6"
      },
      "source": [
        "import numpy as np\n",
        "\n",
        "a = np.array([[1, 1, 1, 0, 0],\n",
        "              [3, 3, 3, 0, 0],\n",
        "              [4, 4, 4, 0, 0],\n",
        "              [5, 5, 5, 0, 0],\n",
        "              [0, 2, 0, 4, 4],\n",
        "              [0, 0, 0, 5, 5],\n",
        "              [0, 1, 0, 2, 2]])\n",
        "\n",
        "\n",
        "U, s, VT = np.linalg.svd(a)\n",
        "\n",
        "print('U:\\n {}'.format(U))\n",
        "print('s:\\n {}'.format(s))\n",
        "print('VT:\\n {}'.format(VT))\n",
        "\n",
        "\n",
        "\n"
      ],
      "execution_count": 46,
      "outputs": [
        {
          "output_type": "stream",
          "text": [
            "U:\n",
            " [[-1.37599126e-01 -2.36114514e-02 -1.08084718e-02  5.60112034e-01\n",
            "  -3.75734575e-01 -7.00140042e-01 -1.87867287e-01]\n",
            " [-4.12797378e-01 -7.08343543e-02 -3.24254153e-02  2.06393278e-01\n",
            "   7.55974371e-01 -2.57991597e-01  3.77987186e-01]\n",
            " [-5.50396503e-01 -9.44458057e-02 -4.32338870e-02 -7.24808963e-01\n",
            "  -1.84603760e-01 -3.43988797e-01 -9.23018799e-02]\n",
            " [-6.87995629e-01 -1.18057257e-01 -5.40423588e-02  3.43988797e-01\n",
            "  -2.30754700e-01  5.70014004e-01 -1.15377350e-01]\n",
            " [-1.52775087e-01  5.91100963e-01  6.53650843e-01  2.58497890e-16\n",
            "   2.00000000e-01  0.00000000e+00 -4.00000000e-01]\n",
            " [-7.22165140e-02  7.31311857e-01 -6.78209218e-01  0.00000000e+00\n",
            "   0.00000000e+00  0.00000000e+00  0.00000000e+00]\n",
            " [-7.63875433e-02  2.95550482e-01  3.26825421e-01  1.29248945e-16\n",
            "  -4.00000000e-01  0.00000000e+00  8.00000000e-01]]\n",
            "s:\n",
            " [1.24810147e+01 9.50861406e+00 1.34555971e+00 3.04642685e-16\n",
            " 0.00000000e+00]\n",
            "VT:\n",
            " [[-5.62258405e-01 -5.92859901e-01 -5.62258405e-01 -9.01335372e-02\n",
            "  -9.01335372e-02]\n",
            " [-1.26641382e-01  2.87705846e-02 -1.26641382e-01  6.95376220e-01\n",
            "   6.95376220e-01]\n",
            " [-4.09667482e-01  8.04791520e-01 -4.09667482e-01 -9.12571001e-02\n",
            "  -9.12571001e-02]\n",
            " [-7.07106781e-01  1.11022302e-16  7.07106781e-01  5.55111512e-17\n",
            "   0.00000000e+00]\n",
            " [ 0.00000000e+00 -4.87723954e-17  4.87723954e-17 -7.07106781e-01\n",
            "   7.07106781e-01]]\n"
          ],
          "name": "stdout"
        }
      ]
    },
    {
      "cell_type": "markdown",
      "metadata": {
        "id": "VEmZejoD5yiq",
        "colab_type": "text"
      },
      "source": [
        "## 2.2 이미지에 적용한 특이값 분해"
      ]
    },
    {
      "cell_type": "code",
      "metadata": {
        "id": "50eOYv2a5uV5",
        "colab_type": "code",
        "colab": {
          "base_uri": "https://localhost:8080/",
          "height": 1000
        },
        "outputId": "4278e69d-eeba-45b1-a0cc-34f4cda8a282"
      },
      "source": [
        "import os\n",
        "import numpy as np\n",
        "from PIL import Image\n",
        "import matplotlib.pyplot as plt\n",
        "%matplotlib inline\n",
        "\n",
        "path = '/content/drive/My Drive/귷/1.jpg'\n",
        "\n",
        "#이미지 파일 열기\n",
        "img = Image.open(path)\n",
        "\n",
        "#파일 크기 계산\n",
        "s = float(os.path.getsize(path))/1000\n",
        "print(\"Size(dimension): \",img.size)\n",
        "plt.title(\"Original Image (%0.2f Kb):\" %s)\n",
        "plt.imshow(img)\n",
        "\n",
        "# gray 스케일로 변환\n",
        "imggray = img.convert('LA')\n",
        "imgmat = np.array( list(imggray.getdata(band = 0)), float)\n",
        "\n",
        "# 이미지 크기(가로, 세로)로 reshape\n",
        "imgmat.shape = (imggray.size[1], imggray.size[0])\n",
        "imgmat = np.matrix(imgmat)\n",
        "plt.figure()\n",
        "plt.imshow(imgmat, cmap = 'gray')\n",
        "plt.title(\"Image after converting it into the Grayscale pattern\")\n",
        "plt.show()\n",
        "\n",
        "print(\"After compression: \")\n",
        "U, S, Vt = np.linalg.svd(imgmat) #single value decomposition\n",
        "\n",
        "# 5, 25, 45 개의 특이값을 적용하여 이미지 압축\n",
        "for i in range(5, 51, 20):\n",
        "    cmpimg = np.matrix(U[:, :i]) * np.diag(S[:i]) * np.matrix(Vt[:i,:])\n",
        "    plt.imshow(cmpimg, cmap = 'gray')\n",
        "    title = \" Image after =  %s\" %i\n",
        "    plt.title(title)\n",
        "    plt.show()\n",
        "    result = Image.fromarray((cmpimg ).astype(np.uint8))"
      ],
      "execution_count": 50,
      "outputs": [
        {
          "output_type": "stream",
          "text": [
            "Size(dimension):  (1180, 1573)\n"
          ],
          "name": "stdout"
        },
        {
          "output_type": "display_data",
          "data": {
            "image/png": "[encoded data removed]",
            "text/plain": [
              "<Figure size 432x288 with 1 Axes>"
            ]
          },
          "metadata": {
            "tags": [],
            "needs_background": "light"
          }
        },
        {
          "output_type": "display_data",
          "data": {
            "image/png": "[encoded data removed]",
            "text/plain": [
              "<Figure size 432x288 with 1 Axes>"
            ]
          },
          "metadata": {
            "tags": [],
            "needs_background": "light"
          }
        },
        {
          "output_type": "stream",
          "text": [
            "After compression: \n"
          ],
          "name": "stdout"
        },
        {
          "output_type": "display_data",
          "data": {
            "image/png": "[encoded data removed]",
            "text/plain": [
              "<Figure size 432x288 with 1 Axes>"
            ]
          },
          "metadata": {
            "tags": [],
            "needs_background": "light"
          }
        },
        {
          "output_type": "display_data",
          "data": {
            "image/png": "[encoded data removed]",
            "text/plain": [
              "<Figure size 432x288 with 1 Axes>"
            ]
          },
          "metadata": {
            "tags": [],
            "needs_background": "light"
          }
        },
        {
          "output_type": "display_data",
          "data": {
            "image/png": "[encoded data removed]",
            "text/plain": [
              "<Figure size 432x288 with 1 Axes>"
            ]
          },
          "metadata": {
            "tags": [],
            "needs_background": "light"
          }
        }
      ]
    },
    {
      "cell_type": "code",
      "metadata": {
        "id": "vSoJUqxHk-tK",
        "colab_type": "code",
        "colab": {
          "base_uri": "https://localhost:8080/",
          "height": 127
        },
        "outputId": "3c59a1d6-a0dc-4a20-e28e-129b28a6f2d2"
      },
      "source": [
        "from google.colab import drive\n",
        "drive.mount('/content/drive')"
      ],
      "execution_count": 47,
      "outputs": [
        {
          "output_type": "stream",
          "text": [
            "Go to this URL in a browser: https://accounts.google.com/o/oauth2/auth?client_id=947318989803-6bn6qk8qdgf4n4g3pfee6491hc0brc4i.apps.googleusercontent.com&redirect_uri=urn%3aietf%3awg%3aoauth%3a2.0%3aoob&response_type=code&scope=email%20https%3a%2f%2fwww.googleapis.com%2fauth%2fdocs.test%20https%3a%2f%2fwww.googleapis.com%2fauth%2fdrive%20https%3a%2f%2fwww.googleapis.com%2fauth%2fdrive.photos.readonly%20https%3a%2f%2fwww.googleapis.com%2fauth%2fpeopleapi.readonly\n",
            "\n",
            "Enter your authorization code:\n",
            "··········\n",
            "Mounted at /content/drive\n"
          ],
          "name": "stdout"
        }
      ]
    },
    {
      "cell_type": "code",
      "metadata": {
        "id": "_oi3t7D2LGA7",
        "colab_type": "code",
        "colab": {}
      },
      "source": [
        ""
      ],
      "execution_count": null,
      "outputs": []
    }
  ]
}