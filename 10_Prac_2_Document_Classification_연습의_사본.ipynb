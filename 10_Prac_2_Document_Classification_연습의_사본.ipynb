{
  "nbformat": 4,
  "nbformat_minor": 0,
  "metadata": {
    "colab": {
      "name": "10 Prac 2. Document Classification 연습의 사본",
      "provenance": [],
      "collapsed_sections": [],
      "include_colab_link": true
    },
    "kernelspec": {
      "name": "python3",
      "display_name": "Python 3"
    }
  },
  "cells": [
    {
      "cell_type": "markdown",
      "metadata": {
        "id": "view-in-github",
        "colab_type": "text"
      },
      "source": [
        "<a href=\"https://colab.research.google.com/github/gyuholee94/NLP/blob/master/10_Prac_2_Document_Classification_%EC%97%B0%EC%8A%B5%EC%9D%98_%EC%82%AC%EB%B3%B8.ipynb\" target=\"_parent\"><img src=\"https://colab.research.google.com/assets/colab-badge.svg\" alt=\"Open In Colab\"/></a>"
      ]
    },
    {
      "cell_type": "markdown",
      "metadata": {
        "id": "ecOHtGBs7lDO",
        "colab_type": "text"
      },
      "source": [
        "#10장 문서 분류 (Document Classification)"
      ]
    },
    {
      "cell_type": "markdown",
      "metadata": {
        "id": "MSHRKud41Tr0",
        "colab_type": "text"
      },
      "source": [
        "#11-1 나이브 베이즈 분류(Naive Bayes Classifier)"
      ]
    },
    {
      "cell_type": "markdown",
      "metadata": {
        "id": "32FEohTU9qob",
        "colab_type": "text"
      },
      "source": [
        "##1.1 직접구현"
      ]
    },
    {
      "cell_type": "markdown",
      "metadata": {
        "id": "DwzbT2LkrCwH",
        "colab_type": "text"
      },
      "source": [
        "### Naive Bayes Classifier"
      ]
    },
    {
      "cell_type": "code",
      "metadata": {
        "id": "yvX-1FJ7qXOu",
        "colab_type": "code",
        "colab": {}
      },
      "source": [
        "training_set = [['me free lottery', 1],\n",
        " ['free get free you', 1],\n",
        " ['you free scholarship', 0],\n",
        " ['free to contact me', 0],\n",
        " ['you won award', 0],\n",
        " ['you ticket lottery', 1]]"
      ],
      "execution_count": 38,
      "outputs": []
    },
    {
      "cell_type": "markdown",
      "metadata": {
        "id": "c8irQ-xFsq39",
        "colab_type": "text"
      },
      "source": [
        "### 토큰 빈도수 및 문서별 토큰수 계산 (확률 계산을 위한 준비)"
      ]
    },
    {
      "cell_type": "markdown",
      "metadata": {
        "id": "6MLSe8V1sYsv",
        "colab_type": "text"
      },
      "source": [
        "![대체 텍스트](https://wikimedia.org/api/rest_v1/media/math/render/svg/98f086c560aa2f66650060277dda4f90e54e30c0)"
      ]
    },
    {
      "cell_type": "code",
      "metadata": {
        "id": "C9rrIp7aQ0Eq",
        "colab_type": "code",
        "colab": {
          "base_uri": "https://localhost:8080/",
          "height": 71
        },
        "outputId": "f05ab0ee-dd78-4d53-bba8-1c65a6a16236"
      },
      "source": [
        "spam = []\n",
        "normal = []\n",
        "for i in training_set:\n",
        "\n",
        "  if i[1]:\n",
        "    normal.append(i[0].split())\n",
        "  else:\n",
        "    spam.append(i[0].split())\n"
      ],
      "execution_count": 44,
      "outputs": [
        {
          "output_type": "execute_result",
          "data": {
            "text/plain": [
              "[['me', 'free', 'lottery'],\n",
              " ['free', 'get', 'free', 'you'],\n",
              " ['you', 'ticket', 'lottery']]"
            ]
          },
          "metadata": {
            "tags": []
          },
          "execution_count": 44
        }
      ]
    },
    {
      "cell_type": "code",
      "metadata": {
        "id": "r4KjiGtqsbm_",
        "colab_type": "code",
        "colab": {
          "base_uri": "https://localhost:8080/",
          "height": 71
        },
        "outputId": "741528ba-2c24-4f1b-b8b7-0feaa8ee3701"
      },
      "source": [
        "from collections import defaultdict\n",
        "\n",
        "# 범주에 속하는 토큰수 세기 1(스팸), 0(정상))\n",
        "dic = defaultdict(int)\n",
        "spam = []\n",
        "normal = []\n",
        "for i in training_set:\n",
        "  if i[1]:\n",
        "    normal.append(i[0].split())\n",
        "  else:\n",
        "    spam.append(i[0].split())\n",
        "\n",
        "doccnt0 = 0\n",
        "for i in normal:\n",
        "  for j in normal:\n",
        "    doccnt0 += 1\n",
        "\n",
        "doccnt1 = 0\n",
        "for i in spam:\n",
        "  for j in spam:\n",
        "    doccnt1 += 1\n",
        "# 토큰별로 문서내 빈도수 카운팅\n",
        "# wordfreq = defaultdict(lambda : [0, 0])\n",
        "normal"
      ],
      "execution_count": 49,
      "outputs": [
        {
          "output_type": "execute_result",
          "data": {
            "text/plain": [
              "[['me', 'free', 'lottery'],\n",
              " ['free', 'get', 'free', 'you'],\n",
              " ['you', 'ticket', 'lottery']]"
            ]
          },
          "metadata": {
            "tags": []
          },
          "execution_count": 49
        }
      ]
    },
    {
      "cell_type": "code",
      "metadata": {
        "id": "DpySoJWVISKw",
        "colab_type": "code",
        "colab": {
          "base_uri": "https://localhost:8080/",
          "height": 35
        },
        "outputId": "053ffe3e-09a2-4834-8699-59a7d1c670bb"
      },
      "source": [
        "doccnt0"
      ],
      "execution_count": 50,
      "outputs": [
        {
          "output_type": "execute_result",
          "data": {
            "text/plain": [
              "9"
            ]
          },
          "metadata": {
            "tags": []
          },
          "execution_count": 50
        }
      ]
    },
    {
      "cell_type": "code",
      "metadata": {
        "id": "EOaDmUrzI0IF",
        "colab_type": "code",
        "colab": {
          "base_uri": "https://localhost:8080/",
          "height": 35
        },
        "outputId": "3290ba64-c104-4e99-e529-bdce00feab09"
      },
      "source": [
        "doccnt1"
      ],
      "execution_count": 52,
      "outputs": [
        {
          "output_type": "execute_result",
          "data": {
            "text/plain": [
              "9"
            ]
          },
          "metadata": {
            "tags": []
          },
          "execution_count": 52
        }
      ]
    },
    {
      "cell_type": "code",
      "metadata": {
        "id": "Bp7MpvX5Se6q",
        "colab_type": "code",
        "colab": {
          "base_uri": "https://localhost:8080/",
          "height": 35
        },
        "outputId": "1ca13358-7567-4d3f-cec6-b6bb27d17c47"
      },
      "source": [
        "per_doccnt0 = doccnt0/(doccnt0 + doccnt1)\n",
        "per_doccnt1 = doccnt1/(doccnt0 + doccnt1)\n",
        "per_doccnt0, per_doccnt1\n",
        "per_doccnt_log0, per_doccnt_log1 = math.log(per_doccnt0), math.log(per_doccnt1)\n",
        "per_doccnt_log0, per_doccnt_log1\n"
      ],
      "execution_count": 94,
      "outputs": [
        {
          "output_type": "execute_result",
          "data": {
            "text/plain": [
              "(-0.6931471805599453, -0.6931471805599453)"
            ]
          },
          "metadata": {
            "tags": []
          },
          "execution_count": 94
        }
      ]
    },
    {
      "cell_type": "markdown",
      "metadata": {
        "id": "uKs_HaKwskLP",
        "colab_type": "text"
      },
      "source": [
        "### Training : 토큰별 조건부 확률 계산 "
      ]
    },
    {
      "cell_type": "code",
      "metadata": {
        "id": "dgCsmiCNsjjF",
        "colab_type": "code",
        "colab": {
          "base_uri": "https://localhost:8080/",
          "height": 305
        },
        "outputId": "3ca30eef-9ec7-4122-90ea-8e175430cb53"
      },
      "source": [
        "k = 0.5\n",
        "dic_s = defaultdict(int)\n",
        "dic_n = defaultdict(int)\n",
        "\n",
        "for i in spam:\n",
        "  for j in i:\n",
        "    dic_s[j] += 1\n",
        "for i in normal:\n",
        "  for j in i:\n",
        "    dic_n[j] += 1\n",
        "dic_s, dic_n"
      ],
      "execution_count": 85,
      "outputs": [
        {
          "output_type": "execute_result",
          "data": {
            "text/plain": [
              "(defaultdict(int,\n",
              "             {'award': 1,\n",
              "              'contact': 1,\n",
              "              'free': 2,\n",
              "              'me': 1,\n",
              "              'scholarship': 1,\n",
              "              'to': 1,\n",
              "              'won': 1,\n",
              "              'you': 2}),\n",
              " defaultdict(int,\n",
              "             {'free': 3,\n",
              "              'get': 1,\n",
              "              'lottery': 2,\n",
              "              'me': 1,\n",
              "              'ticket': 1,\n",
              "              'you': 2}))"
            ]
          },
          "metadata": {
            "tags": []
          },
          "execution_count": 85
        }
      ]
    },
    {
      "cell_type": "markdown",
      "metadata": {
        "id": "_Viq9UFbs3Y2",
        "colab_type": "text"
      },
      "source": [
        "### Classify : 신규 텍스트가 주어졌을 때 확률 계산\n",
        "\n",
        ">\n",
        "\n"
      ]
    },
    {
      "cell_type": "code",
      "metadata": {
        "id": "ypuyUtI4LAQs",
        "colab_type": "code",
        "colab": {
          "base_uri": "https://localhost:8080/",
          "height": 53
        },
        "outputId": "48e847d7-fe7b-4351-d129-daba1ead1d70"
      },
      "source": [
        "import math\n",
        "\n",
        "doc = \"free lottery\"\n",
        "\n",
        "doc_tok = doc.split()\n",
        "p_s = []\n",
        "p_n = []\n",
        "for i in doc_tok:\n",
        "  p_s.append((k*1 + dic_s[i])/(k*2 + doccnt1))\n",
        "for i in doc_tok:\n",
        "  p_n.append((k*1 + dic_n[i])/(k*2 + doccnt0))\n",
        "\n",
        "p_s_log = []\n",
        "p_n_log = []\n",
        "for p in p_s:\n",
        "  p_s_log.append(math.log(p))\n",
        "for p in p_n:\n",
        "  p_n_log.append(math.log(p))\n",
        "\n",
        "\n",
        "spam = sum(p_s_log) + per_doccnt_log1\n",
        "normal = sum(p_n_log) + per_doccnt_log0\n",
        "spam_ex, normal_ex = math.exp(spam), math.exp(normal)\n",
        "spam_ex, normal_ex\n",
        "\n",
        "\n",
        "print(\"정상확률 : \", 100* normal_ex/(spam_ex + normal_ex))\n",
        "print(\"스팸확률 : \", 100* spam_ex/(spam_ex + normal_ex))\n"
      ],
      "execution_count": 104,
      "outputs": [
        {
          "output_type": "stream",
          "text": [
            "정상확률 :  87.49999999999999\n",
            "스팸확률 :  12.500000000000007\n"
          ],
          "name": "stdout"
        }
      ]
    },
    {
      "cell_type": "markdown",
      "metadata": {
        "id": "SeFeP2HeK1wg",
        "colab_type": "text"
      },
      "source": [
        "#이론도 완료, 엑셀도 완료, 코딩도 완료\n"
      ]
    },
    {
      "cell_type": "code",
      "metadata": {
        "id": "bz3W-X4ubKm1",
        "colab_type": "code",
        "colab": {}
      },
      "source": [
        ""
      ],
      "execution_count": null,
      "outputs": []
    }
  ]
}