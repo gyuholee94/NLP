{
  "nbformat": 4,
  "nbformat_minor": 0,
  "metadata": {
    "colab": {
      "name": "Bag of Words 선생님과 구현.ipynb",
      "provenance": [],
      "collapsed_sections": [],
      "authorship_tag": "ABX9TyO/Di7Oedye2b9f5/ylEPj1",
      "include_colab_link": true
    },
    "kernelspec": {
      "name": "python3",
      "display_name": "Python 3"
    }
  },
  "cells": [
    {
      "cell_type": "markdown",
      "metadata": {
        "id": "view-in-github",
        "colab_type": "text"
      },
      "source": [
        "<a href=\"https://colab.research.google.com/github/gyuholee94/NLP/blob/master/Bag_of_Words_%EC%84%A0%EC%83%9D%EB%8B%98%EA%B3%BC_%EA%B5%AC%ED%98%84.ipynb\" target=\"_parent\"><img src=\"https://colab.research.google.com/assets/colab-badge.svg\" alt=\"Open In Colab\"/></a>"
      ]
    },
    {
      "cell_type": "code",
      "metadata": {
        "id": "N82hGEKhqsBC",
        "colab_type": "code",
        "colab": {}
      },
      "source": [
        "docs = ['나는 양념 치킨을 좋아해 하지만 후라이드 치킨을 싫어해',\n",
        "        '나는 후라이드 치킨을 좋아해 하지만 양념 치킨을 싫어해']"
      ],
      "execution_count": 3,
      "outputs": []
    },
    {
      "cell_type": "code",
      "metadata": {
        "id": "Esx5OkwPrT01",
        "colab_type": "code",
        "colab": {
          "base_uri": "https://localhost:8080/",
          "height": 53
        },
        "outputId": "f99d5f30-3ff9-4997-cb55-9459d284f58a"
      },
      "source": [
        "doc_ls = [doc.split() for doc in docs]\n",
        "doc_ls"
      ],
      "execution_count": 4,
      "outputs": [
        {
          "output_type": "execute_result",
          "data": {
            "text/plain": [
              "[['나는', '양념', '치킨을', '좋아해', '하지만', '후라이드', '치킨을', '싫어해'],\n",
              " ['나는', '후라이드', '치킨을', '좋아해', '하지만', '양념', '치킨을', '싫어해']]"
            ]
          },
          "metadata": {
            "tags": []
          },
          "execution_count": 4
        }
      ]
    },
    {
      "cell_type": "code",
      "metadata": {
        "id": "mOknyYJVqNaz",
        "colab_type": "code",
        "colab": {
          "base_uri": "https://localhost:8080/",
          "height": 161
        },
        "outputId": "bcea26b6-a12c-45f5-c090-4969e64cf961"
      },
      "source": [
        "from collections import defaultdict\n",
        "\n",
        "word2id = defaultdict(lambda : len(word2id))\n",
        "[word2id[token] for doc in doc_ls for token in doc]\n",
        "word2id"
      ],
      "execution_count": 6,
      "outputs": [
        {
          "output_type": "execute_result",
          "data": {
            "text/plain": [
              "defaultdict(<function __main__.<lambda>>,\n",
              "            {'나는': 0,\n",
              "             '싫어해': 6,\n",
              "             '양념': 1,\n",
              "             '좋아해': 3,\n",
              "             '치킨을': 2,\n",
              "             '하지만': 4,\n",
              "             '후라이드': 5})"
            ]
          },
          "metadata": {
            "tags": []
          },
          "execution_count": 6
        }
      ]
    },
    {
      "cell_type": "code",
      "metadata": {
        "id": "I-tfkwRJqbqM",
        "colab_type": "code",
        "colab": {
          "base_uri": "https://localhost:8080/",
          "height": 35
        },
        "outputId": "38a3a768-2bbf-4b69-9265-95abd0335819"
      },
      "source": [
        "import numpy as np\n",
        "\n",
        "BoW_ls = []\n",
        "for doc in doc_ls:\n",
        "  bow = np.zeros(len(word2id), dtype = int)\n",
        "  for token in doc:\n",
        "    bow[word2id[token]] +=1 \n",
        "  BoW_ls.append(bow)\n",
        "\n",
        "BoW_ls"
      ],
      "execution_count": 7,
      "outputs": [
        {
          "output_type": "execute_result",
          "data": {
            "text/plain": [
              "[array([1, 1, 2, 1, 1, 1, 1]), array([1, 1, 2, 1, 1, 1, 1])]"
            ]
          },
          "metadata": {
            "tags": []
          },
          "execution_count": 7
        }
      ]
    },
    {
      "cell_type": "code",
      "metadata": {
        "id": "Wloh8lC6ra-C",
        "colab_type": "code",
        "colab": {}
      },
      "source": [
        "docs = ['오늘 동물원에서 원숭이를 봤어',\n",
        "        '오늘 동물원에서 코끼리를 봤어 봤어',\n",
        "        '동물원에서 원숭이에게 바나나를 줬어 바나나를']"
      ],
      "execution_count": 8,
      "outputs": []
    },
    {
      "cell_type": "code",
      "metadata": {
        "id": "3YIXsfOlrj2r",
        "colab_type": "code",
        "colab": {}
      },
      "source": [
        "from sklearn.feature_extraction.text import CountVectorizer"
      ],
      "execution_count": 9,
      "outputs": []
    },
    {
      "cell_type": "code",
      "metadata": {
        "id": "8Hr5SRutr16q",
        "colab_type": "code",
        "colab": {}
      },
      "source": [
        "CountVectorizer?"
      ],
      "execution_count": 10,
      "outputs": []
    },
    {
      "cell_type": "code",
      "metadata": {
        "id": "2n5-sbNVr20Z",
        "colab_type": "code",
        "colab": {
          "base_uri": "https://localhost:8080/",
          "height": 35
        },
        "outputId": "ae93cf94-281c-4b91-bdc2-9571542725f6"
      },
      "source": [
        "cout_vect = CountVectorizer()\n",
        "BoW = cout_vect.fit_transform(docs)\n",
        "BoW.toarray()[0]"
      ],
      "execution_count": 11,
      "outputs": [
        {
          "output_type": "execute_result",
          "data": {
            "text/plain": [
              "array([1, 0, 1, 1, 1, 0, 0, 0])"
            ]
          },
          "metadata": {
            "tags": []
          },
          "execution_count": 11
        }
      ]
    },
    {
      "cell_type": "code",
      "metadata": {
        "id": "HgzPzos0sd3P",
        "colab_type": "code",
        "colab": {
          "base_uri": "https://localhost:8080/",
          "height": 260
        },
        "outputId": "6e3d86a9-e86e-4d85-e502-7c31f4f9c51a"
      },
      "source": [
        "from IPython.core import display as ICD\n",
        "import pandas as pd\n",
        "vocab = cout_vect.get_feature_names()\n",
        "for i in range(len(docs)):\n",
        "  print('문서 {} : {}'.format(i, docs[i]))\n",
        "  ICD.display(pd.DataFrame([BoW.toarray()[i]], columns=vocab))"
      ],
      "execution_count": 13,
      "outputs": [
        {
          "output_type": "stream",
          "text": [
            "문서 0 : 오늘 동물원에서 원숭이를 봤어\n"
          ],
          "name": "stdout"
        },
        {
          "output_type": "display_data",
          "data": {
            "text/html": [
              "<div>\n",
              "<style scoped>\n",
              "    .dataframe tbody tr th:only-of-type {\n",
              "        vertical-align: middle;\n",
              "    }\n",
              "\n",
              "    .dataframe tbody tr th {\n",
              "        vertical-align: top;\n",
              "    }\n",
              "\n",
              "    .dataframe thead th {\n",
              "        text-align: right;\n",
              "    }\n",
              "</style>\n",
              "<table border=\"1\" class=\"dataframe\">\n",
              "  <thead>\n",
              "    <tr style=\"text-align: right;\">\n",
              "      <th></th>\n",
              "      <th>동물원에서</th>\n",
              "      <th>바나나를</th>\n",
              "      <th>봤어</th>\n",
              "      <th>오늘</th>\n",
              "      <th>원숭이를</th>\n",
              "      <th>원숭이에게</th>\n",
              "      <th>줬어</th>\n",
              "      <th>코끼리를</th>\n",
              "    </tr>\n",
              "  </thead>\n",
              "  <tbody>\n",
              "    <tr>\n",
              "      <th>0</th>\n",
              "      <td>1</td>\n",
              "      <td>0</td>\n",
              "      <td>1</td>\n",
              "      <td>1</td>\n",
              "      <td>1</td>\n",
              "      <td>0</td>\n",
              "      <td>0</td>\n",
              "      <td>0</td>\n",
              "    </tr>\n",
              "  </tbody>\n",
              "</table>\n",
              "</div>"
            ],
            "text/plain": [
              "   동물원에서  바나나를  봤어  오늘  원숭이를  원숭이에게  줬어  코끼리를\n",
              "0      1     0   1   1     1      0   0     0"
            ]
          },
          "metadata": {
            "tags": []
          }
        },
        {
          "output_type": "stream",
          "text": [
            "문서 1 : 오늘 동물원에서 코끼리를 봤어 봤어\n"
          ],
          "name": "stdout"
        },
        {
          "output_type": "display_data",
          "data": {
            "text/html": [
              "<div>\n",
              "<style scoped>\n",
              "    .dataframe tbody tr th:only-of-type {\n",
              "        vertical-align: middle;\n",
              "    }\n",
              "\n",
              "    .dataframe tbody tr th {\n",
              "        vertical-align: top;\n",
              "    }\n",
              "\n",
              "    .dataframe thead th {\n",
              "        text-align: right;\n",
              "    }\n",
              "</style>\n",
              "<table border=\"1\" class=\"dataframe\">\n",
              "  <thead>\n",
              "    <tr style=\"text-align: right;\">\n",
              "      <th></th>\n",
              "      <th>동물원에서</th>\n",
              "      <th>바나나를</th>\n",
              "      <th>봤어</th>\n",
              "      <th>오늘</th>\n",
              "      <th>원숭이를</th>\n",
              "      <th>원숭이에게</th>\n",
              "      <th>줬어</th>\n",
              "      <th>코끼리를</th>\n",
              "    </tr>\n",
              "  </thead>\n",
              "  <tbody>\n",
              "    <tr>\n",
              "      <th>0</th>\n",
              "      <td>1</td>\n",
              "      <td>0</td>\n",
              "      <td>2</td>\n",
              "      <td>1</td>\n",
              "      <td>0</td>\n",
              "      <td>0</td>\n",
              "      <td>0</td>\n",
              "      <td>1</td>\n",
              "    </tr>\n",
              "  </tbody>\n",
              "</table>\n",
              "</div>"
            ],
            "text/plain": [
              "   동물원에서  바나나를  봤어  오늘  원숭이를  원숭이에게  줬어  코끼리를\n",
              "0      1     0   2   1     0      0   0     1"
            ]
          },
          "metadata": {
            "tags": []
          }
        },
        {
          "output_type": "stream",
          "text": [
            "문서 2 : 동물원에서 원숭이에게 바나나를 줬어 바나나를\n"
          ],
          "name": "stdout"
        },
        {
          "output_type": "display_data",
          "data": {
            "text/html": [
              "<div>\n",
              "<style scoped>\n",
              "    .dataframe tbody tr th:only-of-type {\n",
              "        vertical-align: middle;\n",
              "    }\n",
              "\n",
              "    .dataframe tbody tr th {\n",
              "        vertical-align: top;\n",
              "    }\n",
              "\n",
              "    .dataframe thead th {\n",
              "        text-align: right;\n",
              "    }\n",
              "</style>\n",
              "<table border=\"1\" class=\"dataframe\">\n",
              "  <thead>\n",
              "    <tr style=\"text-align: right;\">\n",
              "      <th></th>\n",
              "      <th>동물원에서</th>\n",
              "      <th>바나나를</th>\n",
              "      <th>봤어</th>\n",
              "      <th>오늘</th>\n",
              "      <th>원숭이를</th>\n",
              "      <th>원숭이에게</th>\n",
              "      <th>줬어</th>\n",
              "      <th>코끼리를</th>\n",
              "    </tr>\n",
              "  </thead>\n",
              "  <tbody>\n",
              "    <tr>\n",
              "      <th>0</th>\n",
              "      <td>1</td>\n",
              "      <td>2</td>\n",
              "      <td>0</td>\n",
              "      <td>0</td>\n",
              "      <td>0</td>\n",
              "      <td>1</td>\n",
              "      <td>1</td>\n",
              "      <td>0</td>\n",
              "    </tr>\n",
              "  </tbody>\n",
              "</table>\n",
              "</div>"
            ],
            "text/plain": [
              "   동물원에서  바나나를  봤어  오늘  원숭이를  원숭이에게  줬어  코끼리를\n",
              "0      1     2   0   0     0      1   1     0"
            ]
          },
          "metadata": {
            "tags": []
          }
        }
      ]
    },
    {
      "cell_type": "code",
      "metadata": {
        "id": "ORqWoYCTu1_C",
        "colab_type": "code",
        "colab": {
          "base_uri": "https://localhost:8080/",
          "height": 343
        },
        "outputId": "0fe65aeb-2321-453f-9535-dce44c96334c"
      },
      "source": [
        "pip install gensim"
      ],
      "execution_count": 14,
      "outputs": [
        {
          "output_type": "stream",
          "text": [
            "Requirement already satisfied: gensim in /usr/local/lib/python3.6/dist-packages (3.6.0)\n",
            "Requirement already satisfied: smart-open>=1.2.1 in /usr/local/lib/python3.6/dist-packages (from gensim) (2.1.0)\n",
            "Requirement already satisfied: six>=1.5.0 in /usr/local/lib/python3.6/dist-packages (from gensim) (1.12.0)\n",
            "Requirement already satisfied: scipy>=0.18.1 in /usr/local/lib/python3.6/dist-packages (from gensim) (1.4.1)\n",
            "Requirement already satisfied: numpy>=1.11.3 in /usr/local/lib/python3.6/dist-packages (from gensim) (1.18.5)\n",
            "Requirement already satisfied: boto3 in /usr/local/lib/python3.6/dist-packages (from smart-open>=1.2.1->gensim) (1.14.18)\n",
            "Requirement already satisfied: requests in /usr/local/lib/python3.6/dist-packages (from smart-open>=1.2.1->gensim) (2.23.0)\n",
            "Requirement already satisfied: boto in /usr/local/lib/python3.6/dist-packages (from smart-open>=1.2.1->gensim) (2.49.0)\n",
            "Requirement already satisfied: jmespath<1.0.0,>=0.7.1 in /usr/local/lib/python3.6/dist-packages (from boto3->smart-open>=1.2.1->gensim) (0.10.0)\n",
            "Requirement already satisfied: botocore<1.18.0,>=1.17.18 in /usr/local/lib/python3.6/dist-packages (from boto3->smart-open>=1.2.1->gensim) (1.17.18)\n",
            "Requirement already satisfied: s3transfer<0.4.0,>=0.3.0 in /usr/local/lib/python3.6/dist-packages (from boto3->smart-open>=1.2.1->gensim) (0.3.3)\n",
            "Requirement already satisfied: idna<3,>=2.5 in /usr/local/lib/python3.6/dist-packages (from requests->smart-open>=1.2.1->gensim) (2.10)\n",
            "Requirement already satisfied: chardet<4,>=3.0.2 in /usr/local/lib/python3.6/dist-packages (from requests->smart-open>=1.2.1->gensim) (3.0.4)\n",
            "Requirement already satisfied: urllib3!=1.25.0,!=1.25.1,<1.26,>=1.21.1 in /usr/local/lib/python3.6/dist-packages (from requests->smart-open>=1.2.1->gensim) (1.24.3)\n",
            "Requirement already satisfied: certifi>=2017.4.17 in /usr/local/lib/python3.6/dist-packages (from requests->smart-open>=1.2.1->gensim) (2020.6.20)\n",
            "Requirement already satisfied: docutils<0.16,>=0.10 in /usr/local/lib/python3.6/dist-packages (from botocore<1.18.0,>=1.17.18->boto3->smart-open>=1.2.1->gensim) (0.15.2)\n",
            "Requirement already satisfied: python-dateutil<3.0.0,>=2.1 in /usr/local/lib/python3.6/dist-packages (from botocore<1.18.0,>=1.17.18->boto3->smart-open>=1.2.1->gensim) (2.8.1)\n"
          ],
          "name": "stdout"
        }
      ]
    },
    {
      "cell_type": "code",
      "metadata": {
        "id": "Tlkk-D8gtUED",
        "colab_type": "code",
        "colab": {}
      },
      "source": [
        "import gensim\n",
        "from gensim import corpora #코퍼스를 만드는 거"
      ],
      "execution_count": 15,
      "outputs": []
    },
    {
      "cell_type": "code",
      "metadata": {
        "id": "PMi4tTNwv9GC",
        "colab_type": "code",
        "colab": {}
      },
      "source": [
        "docs = ['오늘 동물원에서 원숭이를 봤어',\n",
        "        '오늘 동물원에서 코끼리를 봤어 봤어',\n",
        "        '동물원에서 원숭이에게 바나나를 줬어 바나나를']"
      ],
      "execution_count": 22,
      "outputs": []
    },
    {
      "cell_type": "code",
      "metadata": {
        "id": "TRaltpKDu3tF",
        "colab_type": "code",
        "colab": {}
      },
      "source": [
        "doc_ls = [doc.split() for doc in docs]\n",
        "id2word = corpora.Dictionary(doc_ls)\n",
        "BoW = [id2word.doc2bow(doc) for doc in doc_ls]"
      ],
      "execution_count": 24,
      "outputs": []
    },
    {
      "cell_type": "code",
      "metadata": {
        "id": "74hPqXsOvjPz",
        "colab_type": "code",
        "colab": {
          "base_uri": "https://localhost:8080/",
          "height": 35
        },
        "outputId": "62258de1-ae96-40d0-967d-1c39cbe74ca2"
      },
      "source": [
        "BoW[0]"
      ],
      "execution_count": 25,
      "outputs": [
        {
          "output_type": "execute_result",
          "data": {
            "text/plain": [
              "[(0, 1), (1, 1), (2, 1), (3, 1)]"
            ]
          },
          "metadata": {
            "tags": []
          },
          "execution_count": 25
        }
      ]
    },
    {
      "cell_type": "code",
      "metadata": {
        "id": "O5XL_P2SwHel",
        "colab_type": "code",
        "colab": {
          "base_uri": "https://localhost:8080/",
          "height": 422
        },
        "outputId": "b4cd3a74-4bd5-47c5-e565-87311490db26"
      },
      "source": [
        "from gensim.matutils import sparse2full\n",
        "from IPython.core import display as ICD\n",
        "\n",
        "vocab = [id2word[i] for i in id2word.keys()]\n",
        "for i in range(len(docs)):\n",
        "  print('문서 {} : {}'.format(i, docs[i]))\n",
        "  ICD.display(pd.DataFrame([sparse2full(BoW[i], len(vocab))], columns=vocab))\n",
        "  print('\\n\\n')\n"
      ],
      "execution_count": 34,
      "outputs": [
        {
          "output_type": "stream",
          "text": [
            "문서 0 : 오늘 동물원에서 원숭이를 봤어\n"
          ],
          "name": "stdout"
        },
        {
          "output_type": "display_data",
          "data": {
            "text/html": [
              "<div>\n",
              "<style scoped>\n",
              "    .dataframe tbody tr th:only-of-type {\n",
              "        vertical-align: middle;\n",
              "    }\n",
              "\n",
              "    .dataframe tbody tr th {\n",
              "        vertical-align: top;\n",
              "    }\n",
              "\n",
              "    .dataframe thead th {\n",
              "        text-align: right;\n",
              "    }\n",
              "</style>\n",
              "<table border=\"1\" class=\"dataframe\">\n",
              "  <thead>\n",
              "    <tr style=\"text-align: right;\">\n",
              "      <th></th>\n",
              "      <th>동물원에서</th>\n",
              "      <th>봤어</th>\n",
              "      <th>오늘</th>\n",
              "      <th>원숭이를</th>\n",
              "      <th>코끼리를</th>\n",
              "      <th>바나나를</th>\n",
              "      <th>원숭이에게</th>\n",
              "      <th>줬어</th>\n",
              "    </tr>\n",
              "  </thead>\n",
              "  <tbody>\n",
              "    <tr>\n",
              "      <th>0</th>\n",
              "      <td>1.0</td>\n",
              "      <td>1.0</td>\n",
              "      <td>1.0</td>\n",
              "      <td>1.0</td>\n",
              "      <td>0.0</td>\n",
              "      <td>0.0</td>\n",
              "      <td>0.0</td>\n",
              "      <td>0.0</td>\n",
              "    </tr>\n",
              "  </tbody>\n",
              "</table>\n",
              "</div>"
            ],
            "text/plain": [
              "   동물원에서   봤어   오늘  원숭이를  코끼리를  바나나를  원숭이에게   줬어\n",
              "0    1.0  1.0  1.0   1.0   0.0   0.0    0.0  0.0"
            ]
          },
          "metadata": {
            "tags": []
          }
        },
        {
          "output_type": "stream",
          "text": [
            "\n",
            "\n",
            "\n",
            "문서 1 : 오늘 동물원에서 코끼리를 봤어 봤어\n"
          ],
          "name": "stdout"
        },
        {
          "output_type": "display_data",
          "data": {
            "text/html": [
              "<div>\n",
              "<style scoped>\n",
              "    .dataframe tbody tr th:only-of-type {\n",
              "        vertical-align: middle;\n",
              "    }\n",
              "\n",
              "    .dataframe tbody tr th {\n",
              "        vertical-align: top;\n",
              "    }\n",
              "\n",
              "    .dataframe thead th {\n",
              "        text-align: right;\n",
              "    }\n",
              "</style>\n",
              "<table border=\"1\" class=\"dataframe\">\n",
              "  <thead>\n",
              "    <tr style=\"text-align: right;\">\n",
              "      <th></th>\n",
              "      <th>동물원에서</th>\n",
              "      <th>봤어</th>\n",
              "      <th>오늘</th>\n",
              "      <th>원숭이를</th>\n",
              "      <th>코끼리를</th>\n",
              "      <th>바나나를</th>\n",
              "      <th>원숭이에게</th>\n",
              "      <th>줬어</th>\n",
              "    </tr>\n",
              "  </thead>\n",
              "  <tbody>\n",
              "    <tr>\n",
              "      <th>0</th>\n",
              "      <td>1.0</td>\n",
              "      <td>2.0</td>\n",
              "      <td>1.0</td>\n",
              "      <td>0.0</td>\n",
              "      <td>1.0</td>\n",
              "      <td>0.0</td>\n",
              "      <td>0.0</td>\n",
              "      <td>0.0</td>\n",
              "    </tr>\n",
              "  </tbody>\n",
              "</table>\n",
              "</div>"
            ],
            "text/plain": [
              "   동물원에서   봤어   오늘  원숭이를  코끼리를  바나나를  원숭이에게   줬어\n",
              "0    1.0  2.0  1.0   0.0   1.0   0.0    0.0  0.0"
            ]
          },
          "metadata": {
            "tags": []
          }
        },
        {
          "output_type": "stream",
          "text": [
            "\n",
            "\n",
            "\n",
            "문서 2 : 동물원에서 원숭이에게 바나나를 줬어 바나나를\n"
          ],
          "name": "stdout"
        },
        {
          "output_type": "display_data",
          "data": {
            "text/html": [
              "<div>\n",
              "<style scoped>\n",
              "    .dataframe tbody tr th:only-of-type {\n",
              "        vertical-align: middle;\n",
              "    }\n",
              "\n",
              "    .dataframe tbody tr th {\n",
              "        vertical-align: top;\n",
              "    }\n",
              "\n",
              "    .dataframe thead th {\n",
              "        text-align: right;\n",
              "    }\n",
              "</style>\n",
              "<table border=\"1\" class=\"dataframe\">\n",
              "  <thead>\n",
              "    <tr style=\"text-align: right;\">\n",
              "      <th></th>\n",
              "      <th>동물원에서</th>\n",
              "      <th>봤어</th>\n",
              "      <th>오늘</th>\n",
              "      <th>원숭이를</th>\n",
              "      <th>코끼리를</th>\n",
              "      <th>바나나를</th>\n",
              "      <th>원숭이에게</th>\n",
              "      <th>줬어</th>\n",
              "    </tr>\n",
              "  </thead>\n",
              "  <tbody>\n",
              "    <tr>\n",
              "      <th>0</th>\n",
              "      <td>1.0</td>\n",
              "      <td>0.0</td>\n",
              "      <td>0.0</td>\n",
              "      <td>0.0</td>\n",
              "      <td>0.0</td>\n",
              "      <td>2.0</td>\n",
              "      <td>1.0</td>\n",
              "      <td>1.0</td>\n",
              "    </tr>\n",
              "  </tbody>\n",
              "</table>\n",
              "</div>"
            ],
            "text/plain": [
              "   동물원에서   봤어   오늘  원숭이를  코끼리를  바나나를  원숭이에게   줬어\n",
              "0    1.0  0.0  0.0   0.0   0.0   2.0    1.0  1.0"
            ]
          },
          "metadata": {
            "tags": []
          }
        },
        {
          "output_type": "stream",
          "text": [
            "\n",
            "\n",
            "\n"
          ],
          "name": "stdout"
        }
      ]
    },
    {
      "cell_type": "code",
      "metadata": {
        "id": "5mZ7xhDfwonM",
        "colab_type": "code",
        "colab": {}
      },
      "source": [
        "id2word[0]"
      ],
      "execution_count": null,
      "outputs": []
    },
    {
      "cell_type": "code",
      "metadata": {
        "id": "0L8aKrQkweGT",
        "colab_type": "code",
        "colab": {}
      },
      "source": [
        ""
      ],
      "execution_count": null,
      "outputs": []
    }
  ]
}