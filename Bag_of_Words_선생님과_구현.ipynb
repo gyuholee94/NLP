{
  "nbformat": 4,
  "nbformat_minor": 0,
  "metadata": {
    "colab": {
      "name": "Bag of Words 선생님과 구현.ipynb",
      "provenance": [],
      "authorship_tag": "ABX9TyMGCqmRxzaeb88yUZLSAgeu",
      "include_colab_link": true
    },
    "kernelspec": {
      "name": "python3",
      "display_name": "Python 3"
    }
  },
  "cells": [
    {
      "cell_type": "markdown",
      "metadata": {
        "id": "view-in-github",
        "colab_type": "text"
      },
      "source": [
        "<a href=\"https://colab.research.google.com/github/gyuholee94/NLP/blob/master/Bag_of_Words_%EC%84%A0%EC%83%9D%EB%8B%98%EA%B3%BC_%EA%B5%AC%ED%98%84.ipynb\" target=\"_parent\"><img src=\"https://colab.research.google.com/assets/colab-badge.svg\" alt=\"Open In Colab\"/></a>"
      ]
    },
    {
      "cell_type": "code",
      "metadata": {
        "id": "N82hGEKhqsBC",
        "colab_type": "code",
        "colab": {}
      },
      "source": [
        "docs = ['나는 양념 치킨을 좋아해 하지만 후라이드 치킨을 싫어해',\n",
        "        '나는 후라이드 치킨을 좋아해 하지만 양념 치킨을 싫어해']"
      ],
      "execution_count": 3,
      "outputs": []
    },
    {
      "cell_type": "code",
      "metadata": {
        "id": "Esx5OkwPrT01",
        "colab_type": "code",
        "colab": {
          "base_uri": "https://localhost:8080/",
          "height": 53
        },
        "outputId": "f99d5f30-3ff9-4997-cb55-9459d284f58a"
      },
      "source": [
        "doc_ls = [doc.split() for doc in docs]\n",
        "doc_ls"
      ],
      "execution_count": 4,
      "outputs": [
        {
          "output_type": "execute_result",
          "data": {
            "text/plain": [
              "[['나는', '양념', '치킨을', '좋아해', '하지만', '후라이드', '치킨을', '싫어해'],\n",
              " ['나는', '후라이드', '치킨을', '좋아해', '하지만', '양념', '치킨을', '싫어해']]"
            ]
          },
          "metadata": {
            "tags": []
          },
          "execution_count": 4
        }
      ]
    },
    {
      "cell_type": "code",
      "metadata": {
        "id": "mOknyYJVqNaz",
        "colab_type": "code",
        "colab": {
          "base_uri": "https://localhost:8080/",
          "height": 161
        },
        "outputId": "bcea26b6-a12c-45f5-c090-4969e64cf961"
      },
      "source": [
        "from collections import defaultdict\n",
        "\n",
        "word2id = defaultdict(lambda : len(word2id))\n",
        "[word2id[token] for doc in doc_ls for token in doc]\n",
        "word2id"
      ],
      "execution_count": 6,
      "outputs": [
        {
          "output_type": "execute_result",
          "data": {
            "text/plain": [
              "defaultdict(<function __main__.<lambda>>,\n",
              "            {'나는': 0,\n",
              "             '싫어해': 6,\n",
              "             '양념': 1,\n",
              "             '좋아해': 3,\n",
              "             '치킨을': 2,\n",
              "             '하지만': 4,\n",
              "             '후라이드': 5})"
            ]
          },
          "metadata": {
            "tags": []
          },
          "execution_count": 6
        }
      ]
    },
    {
      "cell_type": "code",
      "metadata": {
        "id": "I-tfkwRJqbqM",
        "colab_type": "code",
        "colab": {
          "base_uri": "https://localhost:8080/",
          "height": 35
        },
        "outputId": "38a3a768-2bbf-4b69-9265-95abd0335819"
      },
      "source": [
        "import numpy as np\n",
        "\n",
        "BoW_ls = []\n",
        "for doc in doc_ls:\n",
        "  bow = np.zeros(len(word2id), dtype = int)\n",
        "  for token in doc:\n",
        "    bow[word2id[token]] +=1 \n",
        "  BoW_ls.append(bow)\n",
        "\n",
        "BoW_ls"
      ],
      "execution_count": 7,
      "outputs": [
        {
          "output_type": "execute_result",
          "data": {
            "text/plain": [
              "[array([1, 1, 2, 1, 1, 1, 1]), array([1, 1, 2, 1, 1, 1, 1])]"
            ]
          },
          "metadata": {
            "tags": []
          },
          "execution_count": 7
        }
      ]
    },
    {
      "cell_type": "code",
      "metadata": {
        "id": "Wloh8lC6ra-C",
        "colab_type": "code",
        "colab": {}
      },
      "source": [
        "docs = ['오늘 동물원에서 원숭이를 봤어',\n",
        "        '오늘 동물원에서 코끼리를 봤어 봤어',\n",
        "        '동물원에서 원숭이에게 바나나를 줬어 바나나를']"
      ],
      "execution_count": 8,
      "outputs": []
    },
    {
      "cell_type": "code",
      "metadata": {
        "id": "3YIXsfOlrj2r",
        "colab_type": "code",
        "colab": {}
      },
      "source": [
        "from sklearn.feature_extraction.text import CountVectorizer"
      ],
      "execution_count": 9,
      "outputs": []
    },
    {
      "cell_type": "code",
      "metadata": {
        "id": "8Hr5SRutr16q",
        "colab_type": "code",
        "colab": {}
      },
      "source": [
        "CountVectorizer?"
      ],
      "execution_count": 10,
      "outputs": []
    },
    {
      "cell_type": "code",
      "metadata": {
        "id": "2n5-sbNVr20Z",
        "colab_type": "code",
        "colab": {
          "base_uri": "https://localhost:8080/",
          "height": 35
        },
        "outputId": "ae93cf94-281c-4b91-bdc2-9571542725f6"
      },
      "source": [
        "cout_vect = CountVectorizer()\n",
        "BoW = cout_vect.fit_transform(docs)\n",
        "BoW.toarray()[0]"
      ],
      "execution_count": 11,
      "outputs": [
        {
          "output_type": "execute_result",
          "data": {
            "text/plain": [
              "array([1, 0, 1, 1, 1, 0, 0, 0])"
            ]
          },
          "metadata": {
            "tags": []
          },
          "execution_count": 11
        }
      ]
    },
    {
      "cell_type": "code",
      "metadata": {
        "id": "HgzPzos0sd3P",
        "colab_type": "code",
        "colab": {
          "base_uri": "https://localhost:8080/",
          "height": 260
        },
        "outputId": "6e3d86a9-e86e-4d85-e502-7c31f4f9c51a"
      },
      "source": [
        "from IPython.core import display as ICD\n",
        "import pandas as pd\n",
        "vocab = cout_vect.get_feature_names()\n",
        "for i in range(len(docs)):\n",
        "  print('문서 {} : {}'.format(i, docs[i]))\n",
        "  ICD.display(pd.DataFrame([BoW.toarray()[i]], columns=vocab))"
      ],
      "execution_count": 13,
      "outputs": [
        {
          "output_type": "stream",
          "text": [
            "문서 0 : 오늘 동물원에서 원숭이를 봤어\n"
          ],
          "name": "stdout"
        },
        {
          "output_type": "display_data",
          "data": {
            "text/html": [
              "<div>\n",
              "<style scoped>\n",
              "    .dataframe tbody tr th:only-of-type {\n",
              "        vertical-align: middle;\n",
              "    }\n",
              "\n",
              "    .dataframe tbody tr th {\n",
              "        vertical-align: top;\n",
              "    }\n",
              "\n",
              "    .dataframe thead th {\n",
              "        text-align: right;\n",
              "    }\n",
              "</style>\n",
              "<table border=\"1\" class=\"dataframe\">\n",
              "  <thead>\n",
              "    <tr style=\"text-align: right;\">\n",
              "      <th></th>\n",
              "      <th>동물원에서</th>\n",
              "      <th>바나나를</th>\n",
              "      <th>봤어</th>\n",
              "      <th>오늘</th>\n",
              "      <th>원숭이를</th>\n",
              "      <th>원숭이에게</th>\n",
              "      <th>줬어</th>\n",
              "      <th>코끼리를</th>\n",
              "    </tr>\n",
              "  </thead>\n",
              "  <tbody>\n",
              "    <tr>\n",
              "      <th>0</th>\n",
              "      <td>1</td>\n",
              "      <td>0</td>\n",
              "      <td>1</td>\n",
              "      <td>1</td>\n",
              "      <td>1</td>\n",
              "      <td>0</td>\n",
              "      <td>0</td>\n",
              "      <td>0</td>\n",
              "    </tr>\n",
              "  </tbody>\n",
              "</table>\n",
              "</div>"
            ],
            "text/plain": [
              "   동물원에서  바나나를  봤어  오늘  원숭이를  원숭이에게  줬어  코끼리를\n",
              "0      1     0   1   1     1      0   0     0"
            ]
          },
          "metadata": {
            "tags": []
          }
        },
        {
          "output_type": "stream",
          "text": [
            "문서 1 : 오늘 동물원에서 코끼리를 봤어 봤어\n"
          ],
          "name": "stdout"
        },
        {
          "output_type": "display_data",
          "data": {
            "text/html": [
              "<div>\n",
              "<style scoped>\n",
              "    .dataframe tbody tr th:only-of-type {\n",
              "        vertical-align: middle;\n",
              "    }\n",
              "\n",
              "    .dataframe tbody tr th {\n",
              "        vertical-align: top;\n",
              "    }\n",
              "\n",
              "    .dataframe thead th {\n",
              "        text-align: right;\n",
              "    }\n",
              "</style>\n",
              "<table border=\"1\" class=\"dataframe\">\n",
              "  <thead>\n",
              "    <tr style=\"text-align: right;\">\n",
              "      <th></th>\n",
              "      <th>동물원에서</th>\n",
              "      <th>바나나를</th>\n",
              "      <th>봤어</th>\n",
              "      <th>오늘</th>\n",
              "      <th>원숭이를</th>\n",
              "      <th>원숭이에게</th>\n",
              "      <th>줬어</th>\n",
              "      <th>코끼리를</th>\n",
              "    </tr>\n",
              "  </thead>\n",
              "  <tbody>\n",
              "    <tr>\n",
              "      <th>0</th>\n",
              "      <td>1</td>\n",
              "      <td>0</td>\n",
              "      <td>2</td>\n",
              "      <td>1</td>\n",
              "      <td>0</td>\n",
              "      <td>0</td>\n",
              "      <td>0</td>\n",
              "      <td>1</td>\n",
              "    </tr>\n",
              "  </tbody>\n",
              "</table>\n",
              "</div>"
            ],
            "text/plain": [
              "   동물원에서  바나나를  봤어  오늘  원숭이를  원숭이에게  줬어  코끼리를\n",
              "0      1     0   2   1     0      0   0     1"
            ]
          },
          "metadata": {
            "tags": []
          }
        },
        {
          "output_type": "stream",
          "text": [
            "문서 2 : 동물원에서 원숭이에게 바나나를 줬어 바나나를\n"
          ],
          "name": "stdout"
        },
        {
          "output_type": "display_data",
          "data": {
            "text/html": [
              "<div>\n",
              "<style scoped>\n",
              "    .dataframe tbody tr th:only-of-type {\n",
              "        vertical-align: middle;\n",
              "    }\n",
              "\n",
              "    .dataframe tbody tr th {\n",
              "        vertical-align: top;\n",
              "    }\n",
              "\n",
              "    .dataframe thead th {\n",
              "        text-align: right;\n",
              "    }\n",
              "</style>\n",
              "<table border=\"1\" class=\"dataframe\">\n",
              "  <thead>\n",
              "    <tr style=\"text-align: right;\">\n",
              "      <th></th>\n",
              "      <th>동물원에서</th>\n",
              "      <th>바나나를</th>\n",
              "      <th>봤어</th>\n",
              "      <th>오늘</th>\n",
              "      <th>원숭이를</th>\n",
              "      <th>원숭이에게</th>\n",
              "      <th>줬어</th>\n",
              "      <th>코끼리를</th>\n",
              "    </tr>\n",
              "  </thead>\n",
              "  <tbody>\n",
              "    <tr>\n",
              "      <th>0</th>\n",
              "      <td>1</td>\n",
              "      <td>2</td>\n",
              "      <td>0</td>\n",
              "      <td>0</td>\n",
              "      <td>0</td>\n",
              "      <td>1</td>\n",
              "      <td>1</td>\n",
              "      <td>0</td>\n",
              "    </tr>\n",
              "  </tbody>\n",
              "</table>\n",
              "</div>"
            ],
            "text/plain": [
              "   동물원에서  바나나를  봤어  오늘  원숭이를  원숭이에게  줬어  코끼리를\n",
              "0      1     2   0   0     0      1   1     0"
            ]
          },
          "metadata": {
            "tags": []
          }
        }
      ]
    },
    {
      "cell_type": "code",
      "metadata": {
        "id": "Tlkk-D8gtUED",
        "colab_type": "code",
        "colab": {}
      },
      "source": [
        ""
      ],
      "execution_count": null,
      "outputs": []
    }
  ]
}