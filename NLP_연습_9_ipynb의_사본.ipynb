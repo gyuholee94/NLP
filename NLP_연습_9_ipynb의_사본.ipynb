{
  "nbformat": 4,
  "nbformat_minor": 0,
  "metadata": {
    "colab": {
      "name": "NLP_연습 9.ipynb의 사본",
      "provenance": [],
      "collapsed_sections": [],
      "include_colab_link": true
    },
    "kernelspec": {
      "name": "python3",
      "display_name": "Python 3"
    },
    "accelerator": "GPU"
  },
  "cells": [
    {
      "cell_type": "markdown",
      "metadata": {
        "id": "view-in-github",
        "colab_type": "text"
      },
      "source": [
        "<a href=\"https://colab.research.google.com/github/gyuholee94/NLP/blob/master/NLP_%EC%97%B0%EC%8A%B5_9_ipynb%EC%9D%98_%EC%82%AC%EB%B3%B8.ipynb\" target=\"_parent\"><img src=\"https://colab.research.google.com/assets/colab-badge.svg\" alt=\"Open In Colab\"/></a>"
      ]
    },
    {
      "cell_type": "code",
      "metadata": {
        "id": "BOwsuGQQY9OL",
        "colab_type": "code",
        "colab": {}
      },
      "source": [
        "from tensorflow.keras.preprocessing.sequence import pad_sequences\n",
        "from tensorflow.keras.layers import Embedding, LSTM, Dense, Dropout, Bidirectional\n",
        "from tensorflow.keras.preprocessing.text import Tokenizer\n",
        "from tensorflow.keras.models import Sequential\n",
        "from tensorflow.keras.optimizers import Adam\n",
        "from tensorflow.keras import regularizers\n",
        "import tensorflow.keras.utils as ku \n",
        "import numpy as np "
      ],
      "execution_count": 1,
      "outputs": []
    },
    {
      "cell_type": "code",
      "metadata": {
        "colab_type": "code",
        "id": "PRnDnCW-Z7qv",
        "colab": {
          "base_uri": "https://localhost:8080/",
          "height": 215
        },
        "outputId": "b873a0de-f454-4ee2-95de-18f54941f11f"
      },
      "source": [
        "tokenizer = Tokenizer()\n",
        "!wget --no-check-certificate \\\n",
        "    https://storage.googleapis.com/laurencemoroney-blog.appspot.com/sonnets.txt \\\n",
        "    -O /tmp/sonnets.txt\n",
        "data = open('/tmp/sonnets.txt').read()\n",
        "\n",
        "corpus = data.lower().split(\"\\n\")\n",
        "\n"
      ],
      "execution_count": 2,
      "outputs": [
        {
          "output_type": "stream",
          "text": [
            "--2020-08-13 01:10:56--  https://storage.googleapis.com/laurencemoroney-blog.appspot.com/sonnets.txt\n",
            "Resolving storage.googleapis.com (storage.googleapis.com)... 108.177.97.128, 74.125.203.128, 64.233.189.128, ...\n",
            "Connecting to storage.googleapis.com (storage.googleapis.com)|108.177.97.128|:443... connected.\n",
            "HTTP request sent, awaiting response... 200 OK\n",
            "Length: 93578 (91K) [text/plain]\n",
            "Saving to: ‘/tmp/sonnets.txt’\n",
            "\n",
            "\r/tmp/sonnets.txt      0%[                    ]       0  --.-KB/s               \r/tmp/sonnets.txt    100%[===================>]  91.38K  --.-KB/s    in 0.001s  \n",
            "\n",
            "2020-08-13 01:10:56 (114 MB/s) - ‘/tmp/sonnets.txt’ saved [93578/93578]\n",
            "\n"
          ],
          "name": "stdout"
        }
      ]
    },
    {
      "cell_type": "code",
      "metadata": {
        "id": "jFr-b-vAXt0z",
        "colab_type": "code",
        "colab": {}
      },
      "source": [
        "tokenizer = Tokenizer()\n",
        "tokenizer.fit_on_texts(corpus)\n",
        "total_words = len(tokenizer.word_index) +1\n",
        "input_sequences = []\n",
        "for line in corpus : \n",
        "  token_list = tokenizer.texts_to_sequences([line])[0]\n",
        "  for i in range(1, len(token_list)):\n",
        "    n_gram_sequence = token_list[:i+1]\n",
        "    input_sequences.append(n_gram_sequence)\n",
        "\n",
        "max_sequence_len = max([len(x) for x in input_sequences])\n",
        "input_sequences = np.array(pad_sequences(input_sequences, maxlen=max_sequence_len))"
      ],
      "execution_count": 5,
      "outputs": []
    },
    {
      "cell_type": "code",
      "metadata": {
        "id": "_F1DYibHYuBM",
        "colab_type": "code",
        "colab": {}
      },
      "source": [
        "xs, label = input_sequences[:, :-1], input_sequences[:, -1]\n",
        "label = ku.to_categorical(label, num_classes = total_words)"
      ],
      "execution_count": 6,
      "outputs": []
    },
    {
      "cell_type": "code",
      "metadata": {
        "id": "OX01wgjIZSh_",
        "colab_type": "code",
        "colab": {
          "base_uri": "https://localhost:8080/",
          "height": 35
        },
        "outputId": "9ba9d269-ab5e-4cc7-f009-5b5d050b98db"
      },
      "source": [
        "len(corpus)"
      ],
      "execution_count": 7,
      "outputs": [
        {
          "output_type": "execute_result",
          "data": {
            "text/plain": [
              "2159"
            ]
          },
          "metadata": {
            "tags": []
          },
          "execution_count": 7
        }
      ]
    },
    {
      "cell_type": "code",
      "metadata": {
        "id": "kHhpviS9ZXEl",
        "colab_type": "code",
        "colab": {
          "base_uri": "https://localhost:8080/",
          "height": 35
        },
        "outputId": "3bbb85a1-242e-44f2-e6ae-f0a0b8e51de9"
      },
      "source": [
        "max_sequence_len"
      ],
      "execution_count": 9,
      "outputs": [
        {
          "output_type": "execute_result",
          "data": {
            "text/plain": [
              "11"
            ]
          },
          "metadata": {
            "tags": []
          },
          "execution_count": 9
        }
      ]
    },
    {
      "cell_type": "code",
      "metadata": {
        "id": "pr8bBse9ZZwX",
        "colab_type": "code",
        "colab": {
          "base_uri": "https://localhost:8080/",
          "height": 377
        },
        "outputId": "fe480f2d-9549-49df-aabf-864381597cb3"
      },
      "source": [
        "model = Sequential()\n",
        "model.add(Embedding(total_words, 100, input_length=max_sequence_len-1))\n",
        "model.add(Bidirectional(LSTM(150, return_sequences=True)))\n",
        "model.add(Dropout(0.2))\n",
        "model.add(LSTM(100))\n",
        "model.add(Dense(total_words/2, activation='relu', kernel_regularizer=regularizers.l2(0.01)))\n",
        "model.add(Dense(total_words, activation='softmax'))\n",
        "model.compile(loss='categorical_crossentropy', optimizer = 'adam', metrics = ['accuracy'])\n",
        "model.summary()\n"
      ],
      "execution_count": 13,
      "outputs": [
        {
          "output_type": "stream",
          "text": [
            "Model: \"sequential_1\"\n",
            "_________________________________________________________________\n",
            "Layer (type)                 Output Shape              Param #   \n",
            "=================================================================\n",
            "embedding_1 (Embedding)      (None, 10, 100)           321100    \n",
            "_________________________________________________________________\n",
            "bidirectional (Bidirectional (None, 10, 300)           301200    \n",
            "_________________________________________________________________\n",
            "dropout (Dropout)            (None, 10, 300)           0         \n",
            "_________________________________________________________________\n",
            "lstm_1 (LSTM)                (None, 100)               160400    \n",
            "_________________________________________________________________\n",
            "dense (Dense)                (None, 1605)              162105    \n",
            "_________________________________________________________________\n",
            "dense_1 (Dense)              (None, 3211)              5156866   \n",
            "=================================================================\n",
            "Total params: 6,101,671\n",
            "Trainable params: 6,101,671\n",
            "Non-trainable params: 0\n",
            "_________________________________________________________________\n"
          ],
          "name": "stdout"
        }
      ]
    },
    {
      "cell_type": "code",
      "metadata": {
        "id": "7M6N_CWLbZbU",
        "colab_type": "code",
        "colab": {
          "base_uri": "https://localhost:8080/",
          "height": 1000
        },
        "outputId": "e440b815-25a6-4777-a17b-227763da4617"
      },
      "source": [
        "history = model.fit(xs, label, epochs=100, verbose=1)"
      ],
      "execution_count": 15,
      "outputs": [
        {
          "output_type": "stream",
          "text": [
            "Epoch 1/100\n",
            "484/484 [==============================] - 13s 27ms/step - loss: 6.9094 - accuracy: 0.0200\n",
            "Epoch 2/100\n",
            "484/484 [==============================] - 13s 27ms/step - loss: 6.5037 - accuracy: 0.0233\n",
            "Epoch 3/100\n",
            "484/484 [==============================] - 13s 27ms/step - loss: 6.3962 - accuracy: 0.0244\n",
            "Epoch 4/100\n",
            "484/484 [==============================] - 13s 27ms/step - loss: 6.2708 - accuracy: 0.0286\n",
            "Epoch 5/100\n",
            "484/484 [==============================] - 13s 27ms/step - loss: 6.1838 - accuracy: 0.0333\n",
            "Epoch 6/100\n",
            "484/484 [==============================] - 13s 27ms/step - loss: 6.1049 - accuracy: 0.0363\n",
            "Epoch 7/100\n",
            "484/484 [==============================] - 13s 27ms/step - loss: 6.0353 - accuracy: 0.0416\n",
            "Epoch 8/100\n",
            "484/484 [==============================] - 13s 27ms/step - loss: 5.9556 - accuracy: 0.0422\n",
            "Epoch 9/100\n",
            "484/484 [==============================] - 13s 27ms/step - loss: 5.8700 - accuracy: 0.0490\n",
            "Epoch 10/100\n",
            "484/484 [==============================] - 13s 27ms/step - loss: 5.7651 - accuracy: 0.0569\n",
            "Epoch 11/100\n",
            "484/484 [==============================] - 13s 27ms/step - loss: 5.6591 - accuracy: 0.0614\n",
            "Epoch 12/100\n",
            "484/484 [==============================] - 13s 27ms/step - loss: 5.5485 - accuracy: 0.0648\n",
            "Epoch 13/100\n",
            "484/484 [==============================] - 13s 27ms/step - loss: 5.4375 - accuracy: 0.0745\n",
            "Epoch 14/100\n",
            "484/484 [==============================] - 13s 27ms/step - loss: 5.3304 - accuracy: 0.0793\n",
            "Epoch 15/100\n",
            "484/484 [==============================] - 13s 27ms/step - loss: 5.2156 - accuracy: 0.0871\n",
            "Epoch 16/100\n",
            "484/484 [==============================] - 13s 27ms/step - loss: 5.1078 - accuracy: 0.0923\n",
            "Epoch 17/100\n",
            "484/484 [==============================] - 13s 27ms/step - loss: 5.0018 - accuracy: 0.1000\n",
            "Epoch 18/100\n",
            "484/484 [==============================] - 13s 27ms/step - loss: 4.8924 - accuracy: 0.1073\n",
            "Epoch 19/100\n",
            "484/484 [==============================] - 13s 27ms/step - loss: 4.7842 - accuracy: 0.1147\n",
            "Epoch 20/100\n",
            "484/484 [==============================] - 13s 27ms/step - loss: 4.6781 - accuracy: 0.1254\n",
            "Epoch 21/100\n",
            "484/484 [==============================] - 13s 27ms/step - loss: 4.5648 - accuracy: 0.1348\n",
            "Epoch 22/100\n",
            "484/484 [==============================] - 13s 27ms/step - loss: 4.4605 - accuracy: 0.1486\n",
            "Epoch 23/100\n",
            "484/484 [==============================] - 13s 28ms/step - loss: 4.3551 - accuracy: 0.1585\n",
            "Epoch 24/100\n",
            "484/484 [==============================] - 13s 27ms/step - loss: 4.2430 - accuracy: 0.1689\n",
            "Epoch 25/100\n",
            "484/484 [==============================] - 13s 27ms/step - loss: 4.1414 - accuracy: 0.1819\n",
            "Epoch 26/100\n",
            "484/484 [==============================] - 13s 27ms/step - loss: 4.0425 - accuracy: 0.1980\n",
            "Epoch 27/100\n",
            "484/484 [==============================] - 13s 27ms/step - loss: 3.9254 - accuracy: 0.2141\n",
            "Epoch 28/100\n",
            "484/484 [==============================] - 13s 27ms/step - loss: 3.8195 - accuracy: 0.2349\n",
            "Epoch 29/100\n",
            "484/484 [==============================] - 13s 27ms/step - loss: 3.7277 - accuracy: 0.2498\n",
            "Epoch 30/100\n",
            "484/484 [==============================] - 13s 27ms/step - loss: 3.6334 - accuracy: 0.2713\n",
            "Epoch 31/100\n",
            "484/484 [==============================] - 13s 27ms/step - loss: 3.5383 - accuracy: 0.2901\n",
            "Epoch 32/100\n",
            "484/484 [==============================] - 13s 27ms/step - loss: 3.4671 - accuracy: 0.3046\n",
            "Epoch 33/100\n",
            "484/484 [==============================] - 13s 27ms/step - loss: 3.3616 - accuracy: 0.3326\n",
            "Epoch 34/100\n",
            "484/484 [==============================] - 13s 26ms/step - loss: 3.2786 - accuracy: 0.3500\n",
            "Epoch 35/100\n",
            "484/484 [==============================] - 13s 26ms/step - loss: 3.1977 - accuracy: 0.3692\n",
            "Epoch 36/100\n",
            "484/484 [==============================] - 13s 26ms/step - loss: 3.1210 - accuracy: 0.3837\n",
            "Epoch 37/100\n",
            "484/484 [==============================] - 13s 27ms/step - loss: 3.0368 - accuracy: 0.4069\n",
            "Epoch 38/100\n",
            "484/484 [==============================] - 13s 27ms/step - loss: 2.9730 - accuracy: 0.4184\n",
            "Epoch 39/100\n",
            "484/484 [==============================] - 13s 27ms/step - loss: 2.9025 - accuracy: 0.4368\n",
            "Epoch 40/100\n",
            "484/484 [==============================] - 13s 27ms/step - loss: 2.8311 - accuracy: 0.4518\n",
            "Epoch 41/100\n",
            "484/484 [==============================] - 13s 27ms/step - loss: 2.7665 - accuracy: 0.4657\n",
            "Epoch 42/100\n",
            "484/484 [==============================] - 13s 27ms/step - loss: 2.6971 - accuracy: 0.4851\n",
            "Epoch 43/100\n",
            "484/484 [==============================] - 13s 27ms/step - loss: 2.6490 - accuracy: 0.4951\n",
            "Epoch 44/100\n",
            "484/484 [==============================] - 13s 27ms/step - loss: 2.5858 - accuracy: 0.5079\n",
            "Epoch 45/100\n",
            "484/484 [==============================] - 13s 27ms/step - loss: 2.5190 - accuracy: 0.5241\n",
            "Epoch 46/100\n",
            "484/484 [==============================] - 13s 27ms/step - loss: 2.4710 - accuracy: 0.5333\n",
            "Epoch 47/100\n",
            "484/484 [==============================] - 13s 28ms/step - loss: 2.4185 - accuracy: 0.5463\n",
            "Epoch 48/100\n",
            "484/484 [==============================] - 13s 27ms/step - loss: 2.3715 - accuracy: 0.5587\n",
            "Epoch 49/100\n",
            "484/484 [==============================] - 13s 27ms/step - loss: 2.3177 - accuracy: 0.5702\n",
            "Epoch 50/100\n",
            "484/484 [==============================] - 13s 27ms/step - loss: 2.2748 - accuracy: 0.5781\n",
            "Epoch 51/100\n",
            "484/484 [==============================] - 13s 27ms/step - loss: 2.2183 - accuracy: 0.5945\n",
            "Epoch 52/100\n",
            "484/484 [==============================] - 13s 27ms/step - loss: 2.1819 - accuracy: 0.5984\n",
            "Epoch 53/100\n",
            "484/484 [==============================] - 13s 27ms/step - loss: 2.1376 - accuracy: 0.6100\n",
            "Epoch 54/100\n",
            "484/484 [==============================] - 13s 27ms/step - loss: 2.0990 - accuracy: 0.6193\n",
            "Epoch 55/100\n",
            "484/484 [==============================] - 13s 27ms/step - loss: 2.0663 - accuracy: 0.6211\n",
            "Epoch 56/100\n",
            "484/484 [==============================] - 13s 27ms/step - loss: 2.0215 - accuracy: 0.6375\n",
            "Epoch 57/100\n",
            "484/484 [==============================] - 13s 27ms/step - loss: 1.9765 - accuracy: 0.6431\n",
            "Epoch 58/100\n",
            "484/484 [==============================] - 13s 27ms/step - loss: 1.9469 - accuracy: 0.6527\n",
            "Epoch 59/100\n",
            "484/484 [==============================] - 13s 27ms/step - loss: 1.8958 - accuracy: 0.6654\n",
            "Epoch 60/100\n",
            "484/484 [==============================] - 13s 27ms/step - loss: 1.8709 - accuracy: 0.6685\n",
            "Epoch 61/100\n",
            "484/484 [==============================] - 13s 27ms/step - loss: 1.8397 - accuracy: 0.6748\n",
            "Epoch 62/100\n",
            "484/484 [==============================] - 13s 27ms/step - loss: 1.8078 - accuracy: 0.6814\n",
            "Epoch 63/100\n",
            "484/484 [==============================] - 13s 27ms/step - loss: 1.7853 - accuracy: 0.6857\n",
            "Epoch 64/100\n",
            "484/484 [==============================] - 13s 27ms/step - loss: 1.7534 - accuracy: 0.6892\n",
            "Epoch 65/100\n",
            "484/484 [==============================] - 13s 27ms/step - loss: 1.7247 - accuracy: 0.6966\n",
            "Epoch 66/100\n",
            "484/484 [==============================] - 13s 27ms/step - loss: 1.6906 - accuracy: 0.7048\n",
            "Epoch 67/100\n",
            "484/484 [==============================] - 13s 27ms/step - loss: 1.6686 - accuracy: 0.7106\n",
            "Epoch 68/100\n",
            "484/484 [==============================] - 13s 27ms/step - loss: 1.6520 - accuracy: 0.7132\n",
            "Epoch 69/100\n",
            "484/484 [==============================] - 13s 27ms/step - loss: 1.6244 - accuracy: 0.7194\n",
            "Epoch 70/100\n",
            "484/484 [==============================] - 13s 28ms/step - loss: 1.5895 - accuracy: 0.7267\n",
            "Epoch 71/100\n",
            "484/484 [==============================] - 13s 28ms/step - loss: 1.5736 - accuracy: 0.7271\n",
            "Epoch 72/100\n",
            "484/484 [==============================] - 13s 27ms/step - loss: 1.5494 - accuracy: 0.7317\n",
            "Epoch 73/100\n",
            "484/484 [==============================] - 13s 27ms/step - loss: 1.5313 - accuracy: 0.7351\n",
            "Epoch 74/100\n",
            "484/484 [==============================] - 13s 27ms/step - loss: 1.5171 - accuracy: 0.7377\n",
            "Epoch 75/100\n",
            "484/484 [==============================] - 13s 27ms/step - loss: 1.4844 - accuracy: 0.7444\n",
            "Epoch 76/100\n",
            "484/484 [==============================] - 13s 27ms/step - loss: 1.4741 - accuracy: 0.7472\n",
            "Epoch 77/100\n",
            "484/484 [==============================] - 13s 27ms/step - loss: 1.4446 - accuracy: 0.7529\n",
            "Epoch 78/100\n",
            "484/484 [==============================] - 13s 27ms/step - loss: 1.4446 - accuracy: 0.7498\n",
            "Epoch 79/100\n",
            "484/484 [==============================] - 13s 27ms/step - loss: 1.4106 - accuracy: 0.7580\n",
            "Epoch 80/100\n",
            "484/484 [==============================] - 13s 27ms/step - loss: 1.3971 - accuracy: 0.7593\n",
            "Epoch 81/100\n",
            "484/484 [==============================] - 13s 27ms/step - loss: 1.3673 - accuracy: 0.7671\n",
            "Epoch 82/100\n",
            "484/484 [==============================] - 13s 27ms/step - loss: 1.3549 - accuracy: 0.7670\n",
            "Epoch 83/100\n",
            "484/484 [==============================] - 13s 27ms/step - loss: 1.3436 - accuracy: 0.7729\n",
            "Epoch 84/100\n",
            "484/484 [==============================] - 13s 27ms/step - loss: 1.3327 - accuracy: 0.7705\n",
            "Epoch 85/100\n",
            "484/484 [==============================] - 13s 27ms/step - loss: 1.3129 - accuracy: 0.7749\n",
            "Epoch 86/100\n",
            "484/484 [==============================] - 13s 27ms/step - loss: 1.2980 - accuracy: 0.7766\n",
            "Epoch 87/100\n",
            "484/484 [==============================] - 13s 27ms/step - loss: 1.2912 - accuracy: 0.7781\n",
            "Epoch 88/100\n",
            "484/484 [==============================] - 13s 27ms/step - loss: 1.2862 - accuracy: 0.7755\n",
            "Epoch 89/100\n",
            "484/484 [==============================] - 13s 27ms/step - loss: 1.2663 - accuracy: 0.7841\n",
            "Epoch 90/100\n",
            "484/484 [==============================] - 13s 27ms/step - loss: 1.2413 - accuracy: 0.7879\n",
            "Epoch 91/100\n",
            "484/484 [==============================] - 13s 27ms/step - loss: 1.2342 - accuracy: 0.7883\n",
            "Epoch 92/100\n",
            "484/484 [==============================] - 13s 27ms/step - loss: 1.2289 - accuracy: 0.7903\n",
            "Epoch 93/100\n",
            "484/484 [==============================] - 13s 27ms/step - loss: 1.2228 - accuracy: 0.7902\n",
            "Epoch 94/100\n",
            "484/484 [==============================] - 13s 28ms/step - loss: 1.1961 - accuracy: 0.7951\n",
            "Epoch 95/100\n",
            "484/484 [==============================] - 13s 27ms/step - loss: 1.1912 - accuracy: 0.7938\n",
            "Epoch 96/100\n",
            "484/484 [==============================] - 13s 27ms/step - loss: 1.1854 - accuracy: 0.7958\n",
            "Epoch 97/100\n",
            "484/484 [==============================] - 13s 27ms/step - loss: 1.1681 - accuracy: 0.7971\n",
            "Epoch 98/100\n",
            "484/484 [==============================] - 13s 27ms/step - loss: 1.1630 - accuracy: 0.7993\n",
            "Epoch 99/100\n",
            "484/484 [==============================] - 13s 27ms/step - loss: 1.1533 - accuracy: 0.8012\n",
            "Epoch 100/100\n",
            "484/484 [==============================] - 13s 27ms/step - loss: 1.1417 - accuracy: 0.8017\n"
          ],
          "name": "stdout"
        }
      ]
    },
    {
      "cell_type": "code",
      "metadata": {
        "id": "PmGDcPr0cGF5",
        "colab_type": "code",
        "colab": {
          "base_uri": "https://localhost:8080/",
          "height": 563
        },
        "outputId": "75149fd1-cc44-4e33-f1c3-388098a68f5e"
      },
      "source": [
        "import matplotlib.pyplot as plt\n",
        "acc = history.history['accuracy']\n",
        "loss = history.history['loss']\n",
        "epochs = range(len(acc))\n",
        "\n",
        "plt.plot(epochs, acc, 'b', label='Training accuracy')\n",
        "plt.title('Training accuracy')\n",
        "\n",
        "plt.figure()\n",
        "\n",
        "plt.plot(epochs, loss, 'b', label='Training loss')\n",
        "plt.title('Training loss')\n",
        "\n",
        "plt.legend()\n",
        "plt.show()"
      ],
      "execution_count": 16,
      "outputs": [
        {
          "output_type": "execute_result",
          "data": {
            "text/plain": [
              "Text(0.5, 1.0, 'Training loss')"
            ]
          },
          "metadata": {
            "tags": []
          },
          "execution_count": 16
        },
        {
          "output_type": "display_data",
          "data": {
            "image/png": "[encoded data removed]",
            "text/plain": [
              "<Figure size 432x288 with 1 Axes>"
            ]
          },
          "metadata": {
            "tags": [],
            "needs_background": "light"
          }
        },
        {
          "output_type": "display_data",
          "data": {
            "image/png": "[encoded data removed]",
            "text/plain": [
              "<Figure size 432x288 with 1 Axes>"
            ]
          },
          "metadata": {
            "tags": [],
            "needs_background": "light"
          }
        }
      ]
    },
    {
      "cell_type": "code",
      "metadata": {
        "id": "pFFGvkCZcked",
        "colab_type": "code",
        "colab": {
          "base_uri": "https://localhost:8080/",
          "height": 109
        },
        "outputId": "17f0b20c-0afc-4eb6-ac87-fbd13698fe9a"
      },
      "source": [
        "seed_text = \"Help me Obi WanKenobi, you're my only hope\"\n",
        "next_words = 100\n",
        "\n",
        "for _ in range(next_words):\n",
        "  token_list = tokenizer.texts_to_sequences([seed_text])[0]\n",
        "  token_list = pad_sequences([token_list],maxlen=max_sequence_len-1)\n",
        "  predicted = model.predict_classes(token_list)\n",
        "  output_word = ''\n",
        "  for word, index in tokenizer.word_index.items():\n",
        "    if index == predicted:\n",
        "      output_word = word\n",
        "      break\n",
        "\n",
        "  seed_text += \" \"  + output_word\n",
        "print(seed_text)"
      ],
      "execution_count": 17,
      "outputs": [
        {
          "output_type": "stream",
          "text": [
            "WARNING:tensorflow:From <ipython-input-17-08d10378575d>:7: Sequential.predict_classes (from tensorflow.python.keras.engine.sequential) is deprecated and will be removed after 2021-01-01.\n",
            "Instructions for updating:\n",
            "Please use instead:* `np.argmax(model.predict(x), axis=-1)`,   if your model does multi-class classification   (e.g. if it uses a `softmax` last-layer activation).* `(model.predict(x) > 0.5).astype(\"int32\")`,   if your model does binary classification   (e.g. if it uses a `sigmoid` last-layer activation).\n",
            "Help me Obi WanKenobi, you're my only hope may pleasure stay his friend must be his treasure kind ' new pride thee new grew thee o'er thorns do done thee again lack abused groan new o'er leave me not twain afford lie new me new o'er thee in thee more must prove thee prove foes pain thee long bring thee o'er you bad you bad before thee bold not new grow new rage can new day say new not not not whom thee of thee told new none now groan forth young thee say 'tis art untrue thee made it lack him in thine all not thee we\n"
          ],
          "name": "stdout"
        }
      ]
    },
    {
      "cell_type": "code",
      "metadata": {
        "id": "WrFgKM67htVq",
        "colab_type": "code",
        "colab": {}
      },
      "source": [
        ""
      ],
      "execution_count": null,
      "outputs": []
    }
  ]
}