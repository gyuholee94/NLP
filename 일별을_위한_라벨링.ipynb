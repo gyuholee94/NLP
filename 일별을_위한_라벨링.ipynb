{
  "nbformat": 4,
  "nbformat_minor": 0,
  "metadata": {
    "colab": {
      "name": "일별을 위한 라벨링.ipynb",
      "provenance": [],
      "collapsed_sections": [],
      "include_colab_link": true
    },
    "kernelspec": {
      "display_name": "Python 3",
      "language": "python",
      "name": "python3"
    },
    "language_info": {
      "codemirror_mode": {
        "name": "ipython",
        "version": 3
      },
      "file_extension": ".py",
      "mimetype": "text/x-python",
      "name": "python",
      "nbconvert_exporter": "python",
      "pygments_lexer": "ipython3",
      "version": "3.8.3"
    }
  },
  "cells": [
    {
      "cell_type": "markdown",
      "metadata": {
        "id": "view-in-github",
        "colab_type": "text"
      },
      "source": [
        "<a href=\"https://colab.research.google.com/github/gyuholee94/NLP/blob/master/%EC%9D%BC%EB%B3%84%EC%9D%84_%EC%9C%84%ED%95%9C_%EB%9D%BC%EB%B2%A8%EB%A7%81.ipynb\" target=\"_parent\"><img src=\"https://colab.research.google.com/assets/colab-badge.svg\" alt=\"Open In Colab\"/></a>"
      ]
    },
    {
      "cell_type": "markdown",
      "metadata": {
        "id": "XdP3Zf05aFIz",
        "colab_type": "text"
      },
      "source": [
        "# 데이터 불러오기"
      ]
    },
    {
      "cell_type": "code",
      "metadata": {
        "colab_type": "code",
        "id": "_C1Vw_wNbWRC",
        "colab": {}
      },
      "source": [
        "import seaborn as sns\n",
        "import pandas as pd\n",
        "import numpy as np\n",
        "import matplotlib.pyplot as plt\n",
        "from dbfread import DBF\n",
        "from haversine import haversine\n",
        "from tqdm.notebook import tqdm\n"
      ],
      "execution_count": null,
      "outputs": []
    },
    {
      "cell_type": "code",
      "metadata": {
        "id": "FghfXhSXaFI6",
        "colab_type": "code",
        "colab": {}
      },
      "source": [
        "%matplotlib inline\n",
        "import platform\n",
        "platform.system()\n",
        "if platform.system() == 'Darwin': # Mac 환경 폰트 설정\n",
        "    plt.rc('font', family='AppleGothic')\n",
        "elif platform.system() == 'Windows': # Windows 환경 폰트 설정\n",
        "    plt.rc('font', family='Malgun Gothic')\n",
        "plt.rc('axes', unicode_minus=False) # 마이너스 폰트 설정\n",
        "%config InlineBackend.figure_format = 'retina'"
      ],
      "execution_count": null,
      "outputs": []
    },
    {
      "cell_type": "code",
      "metadata": {
        "colab_type": "code",
        "id": "kG7i_1GIX1Ek",
        "scrolled": true,
        "colab": {
          "base_uri": "https://localhost:8080/",
          "height": 89
        },
        "outputId": "27fd3580-7862-462a-a3a7-2dc9c3c2a4af"
      },
      "source": [
        "!pip install dbfread\n",
        "!pip install haversine"
      ],
      "execution_count": null,
      "outputs": [
        {
          "output_type": "stream",
          "text": [
            "Requirement already satisfied: dbfread in c:\\users\\user\\anaconda3\\lib\\site-packages (2.0.7)\n",
            "Requirement already satisfied: haversine in c:\\users\\user\\anaconda3\\lib\\site-packages (2.2.0)\n"
          ],
          "name": "stdout"
        }
      ]
    },
    {
      "cell_type": "markdown",
      "metadata": {
        "id": "BDJ30IYEaFJC",
        "colab_type": "text"
      },
      "source": [
        "# 날짜별 버스 사용하기 위해 ARS라벨링"
      ]
    },
    {
      "cell_type": "markdown",
      "metadata": {
        "id": "W_47I8mxaFJD",
        "colab_type": "text"
      },
      "source": [
        "### 다시 불러오기"
      ]
    },
    {
      "cell_type": "code",
      "metadata": {
        "id": "LR4neZHhaFJE",
        "colab_type": "code",
        "colab": {}
      },
      "source": [
        "bus_info = pd.read_excel(r'./서울시버스정류소좌표데이터(2020.03.06).xlsx')\n",
        "train_loc = pd.read_csv(r'./서울 지하철역 좌표.csv')\n",
        "bus_date = pd.read_csv('./BUS_STATION_BOARDING_MONTH_202002.csv',encoding = 'cp949')"
      ],
      "execution_count": null,
      "outputs": []
    },
    {
      "cell_type": "markdown",
      "metadata": {
        "id": "p3Hielu9aFJH",
        "colab_type": "text"
      },
      "source": [
        "## 라벨링을 위한 기본 전처리"
      ]
    },
    {
      "cell_type": "code",
      "metadata": {
        "scrolled": true,
        "id": "Bp6qqyM5aFJI",
        "colab_type": "code",
        "colab": {},
        "outputId": "f7150017-2ce5-490e-cf4d-bc8975a36dac"
      },
      "source": [
        "train_loc"
      ],
      "execution_count": null,
      "outputs": [
        {
          "output_type": "execute_result",
          "data": {
            "text/html": [
              "<div>\n",
              "<style scoped>\n",
              "    .dataframe tbody tr th:only-of-type {\n",
              "        vertical-align: middle;\n",
              "    }\n",
              "\n",
              "    .dataframe tbody tr th {\n",
              "        vertical-align: top;\n",
              "    }\n",
              "\n",
              "    .dataframe thead th {\n",
              "        text-align: right;\n",
              "    }\n",
              "</style>\n",
              "<table border=\"1\" class=\"dataframe\">\n",
              "  <thead>\n",
              "    <tr style=\"text-align: right;\">\n",
              "      <th></th>\n",
              "      <th>역명</th>\n",
              "      <th>상세주소</th>\n",
              "      <th>경도</th>\n",
              "      <th>위도</th>\n",
              "      <th>상태</th>\n",
              "    </tr>\n",
              "  </thead>\n",
              "  <tbody>\n",
              "    <tr>\n",
              "      <th>0</th>\n",
              "      <td>서울</td>\n",
              "      <td>서울특별시 중구 봉래동2가 122 서울역(1호선)</td>\n",
              "      <td>126.969563</td>\n",
              "      <td>37.558156</td>\n",
              "      <td>정좌표</td>\n",
              "    </tr>\n",
              "    <tr>\n",
              "      <th>1</th>\n",
              "      <td>시청</td>\n",
              "      <td>서울특별시 중구 정동 5-5 시청역(1호선)</td>\n",
              "      <td>126.976919</td>\n",
              "      <td>37.565597</td>\n",
              "      <td>정좌표</td>\n",
              "    </tr>\n",
              "    <tr>\n",
              "      <th>2</th>\n",
              "      <td>종각</td>\n",
              "      <td>서울특별시 종로구 종로1가 54 종각지하철역사</td>\n",
              "      <td>126.981390</td>\n",
              "      <td>37.570222</td>\n",
              "      <td>정좌표</td>\n",
              "    </tr>\n",
              "    <tr>\n",
              "      <th>3</th>\n",
              "      <td>종로5가</td>\n",
              "      <td>서울특별시 종로구 종로5가 82-1 1호선 종로5가역</td>\n",
              "      <td>127.001925</td>\n",
              "      <td>37.571020</td>\n",
              "      <td>정좌표</td>\n",
              "    </tr>\n",
              "    <tr>\n",
              "      <th>4</th>\n",
              "      <td>동대문</td>\n",
              "      <td>서울특별시 종로구 창신동 492-1 1호선 동대문역(1호선)</td>\n",
              "      <td>127.011233</td>\n",
              "      <td>37.571759</td>\n",
              "      <td>정좌표</td>\n",
              "    </tr>\n",
              "    <tr>\n",
              "      <th>...</th>\n",
              "      <td>...</td>\n",
              "      <td>...</td>\n",
              "      <td>...</td>\n",
              "      <td>...</td>\n",
              "      <td>...</td>\n",
              "    </tr>\n",
              "    <tr>\n",
              "      <th>273</th>\n",
              "      <td>부천종합운동장</td>\n",
              "      <td>경기도 부천시 원미구 춘의동 15-1 부천종합운동장역</td>\n",
              "      <td>126.797466</td>\n",
              "      <td>37.505639</td>\n",
              "      <td>실패</td>\n",
              "    </tr>\n",
              "    <tr>\n",
              "      <th>274</th>\n",
              "      <td>춘의</td>\n",
              "      <td>경기도 부천시 원미구 춘의동 145 춘의역</td>\n",
              "      <td>126.787091</td>\n",
              "      <td>37.503859</td>\n",
              "      <td>실패</td>\n",
              "    </tr>\n",
              "    <tr>\n",
              "      <th>275</th>\n",
              "      <td>신중동</td>\n",
              "      <td>경기도 부천시 원미구 중동 1140-6 신중동역</td>\n",
              "      <td>126.775952</td>\n",
              "      <td>37.503189</td>\n",
              "      <td>실패</td>\n",
              "    </tr>\n",
              "    <tr>\n",
              "      <th>276</th>\n",
              "      <td>부천시청</td>\n",
              "      <td>경기도 부천시 원미구 중동 1243 부천시청역</td>\n",
              "      <td>126.764025</td>\n",
              "      <td>37.504748</td>\n",
              "      <td>실패</td>\n",
              "    </tr>\n",
              "    <tr>\n",
              "      <th>277</th>\n",
              "      <td>상동</td>\n",
              "      <td>경기도 부천시 원미구 상동 633 상동역</td>\n",
              "      <td>126.753153</td>\n",
              "      <td>37.505885</td>\n",
              "      <td>실패</td>\n",
              "    </tr>\n",
              "  </tbody>\n",
              "</table>\n",
              "<p>278 rows × 5 columns</p>\n",
              "</div>"
            ],
            "text/plain": [
              "          역명                               상세주소          경도         위도   상태\n",
              "0         서울        서울특별시 중구 봉래동2가 122 서울역(1호선)  126.969563  37.558156  정좌표\n",
              "1         시청           서울특별시 중구 정동 5-5 시청역(1호선)  126.976919  37.565597  정좌표\n",
              "2         종각          서울특별시 종로구 종로1가 54 종각지하철역사  126.981390  37.570222  정좌표\n",
              "3       종로5가      서울특별시 종로구 종로5가 82-1 1호선 종로5가역  127.001925  37.571020  정좌표\n",
              "4        동대문  서울특별시 종로구 창신동 492-1 1호선 동대문역(1호선)  127.011233  37.571759  정좌표\n",
              "..       ...                                ...         ...        ...  ...\n",
              "273  부천종합운동장      경기도 부천시 원미구 춘의동 15-1 부천종합운동장역  126.797466  37.505639   실패\n",
              "274       춘의            경기도 부천시 원미구 춘의동 145 춘의역  126.787091  37.503859   실패\n",
              "275      신중동         경기도 부천시 원미구 중동 1140-6 신중동역  126.775952  37.503189   실패\n",
              "276     부천시청          경기도 부천시 원미구 중동 1243 부천시청역  126.764025  37.504748   실패\n",
              "277       상동             경기도 부천시 원미구 상동 633 상동역  126.753153  37.505885   실패\n",
              "\n",
              "[278 rows x 5 columns]"
            ]
          },
          "metadata": {
            "tags": []
          },
          "execution_count": 5
        }
      ]
    },
    {
      "cell_type": "code",
      "metadata": {
        "scrolled": true,
        "id": "bb9JEsbdaFJN",
        "colab_type": "code",
        "colab": {},
        "outputId": "296412d6-c435-43d9-9ffb-860e385f440b"
      },
      "source": [
        "#지하철 위치 전처리(역명, 경도, 위도)\n",
        "train_loc = train_loc[['역명', '경도', '위도']]\n",
        "train_loc=train_loc.drop_duplicates(['역명'], keep = 'first')\n",
        "train_loc.set_index('역명', drop=True, inplace=True)\n",
        "train_loc"
      ],
      "execution_count": null,
      "outputs": [
        {
          "output_type": "execute_result",
          "data": {
            "text/html": [
              "<div>\n",
              "<style scoped>\n",
              "    .dataframe tbody tr th:only-of-type {\n",
              "        vertical-align: middle;\n",
              "    }\n",
              "\n",
              "    .dataframe tbody tr th {\n",
              "        vertical-align: top;\n",
              "    }\n",
              "\n",
              "    .dataframe thead th {\n",
              "        text-align: right;\n",
              "    }\n",
              "</style>\n",
              "<table border=\"1\" class=\"dataframe\">\n",
              "  <thead>\n",
              "    <tr style=\"text-align: right;\">\n",
              "      <th></th>\n",
              "      <th>경도</th>\n",
              "      <th>위도</th>\n",
              "    </tr>\n",
              "    <tr>\n",
              "      <th>역명</th>\n",
              "      <th></th>\n",
              "      <th></th>\n",
              "    </tr>\n",
              "  </thead>\n",
              "  <tbody>\n",
              "    <tr>\n",
              "      <th>서울</th>\n",
              "      <td>126.969563</td>\n",
              "      <td>37.558156</td>\n",
              "    </tr>\n",
              "    <tr>\n",
              "      <th>시청</th>\n",
              "      <td>126.976919</td>\n",
              "      <td>37.565597</td>\n",
              "    </tr>\n",
              "    <tr>\n",
              "      <th>종각</th>\n",
              "      <td>126.981390</td>\n",
              "      <td>37.570222</td>\n",
              "    </tr>\n",
              "    <tr>\n",
              "      <th>종로5가</th>\n",
              "      <td>127.001925</td>\n",
              "      <td>37.571020</td>\n",
              "    </tr>\n",
              "    <tr>\n",
              "      <th>동대문</th>\n",
              "      <td>127.011233</td>\n",
              "      <td>37.571759</td>\n",
              "    </tr>\n",
              "    <tr>\n",
              "      <th>...</th>\n",
              "      <td>...</td>\n",
              "      <td>...</td>\n",
              "    </tr>\n",
              "    <tr>\n",
              "      <th>부천종합운동장</th>\n",
              "      <td>126.797466</td>\n",
              "      <td>37.505639</td>\n",
              "    </tr>\n",
              "    <tr>\n",
              "      <th>춘의</th>\n",
              "      <td>126.787091</td>\n",
              "      <td>37.503859</td>\n",
              "    </tr>\n",
              "    <tr>\n",
              "      <th>신중동</th>\n",
              "      <td>126.775952</td>\n",
              "      <td>37.503189</td>\n",
              "    </tr>\n",
              "    <tr>\n",
              "      <th>부천시청</th>\n",
              "      <td>126.764025</td>\n",
              "      <td>37.504748</td>\n",
              "    </tr>\n",
              "    <tr>\n",
              "      <th>상동</th>\n",
              "      <td>126.753153</td>\n",
              "      <td>37.505885</td>\n",
              "    </tr>\n",
              "  </tbody>\n",
              "</table>\n",
              "<p>244 rows × 2 columns</p>\n",
              "</div>"
            ],
            "text/plain": [
              "                 경도         위도\n",
              "역명                            \n",
              "서울       126.969563  37.558156\n",
              "시청       126.976919  37.565597\n",
              "종각       126.981390  37.570222\n",
              "종로5가     127.001925  37.571020\n",
              "동대문      127.011233  37.571759\n",
              "...             ...        ...\n",
              "부천종합운동장  126.797466  37.505639\n",
              "춘의       126.787091  37.503859\n",
              "신중동      126.775952  37.503189\n",
              "부천시청     126.764025  37.504748\n",
              "상동       126.753153  37.505885\n",
              "\n",
              "[244 rows x 2 columns]"
            ]
          },
          "metadata": {
            "tags": []
          },
          "execution_count": 6
        }
      ]
    },
    {
      "cell_type": "code",
      "metadata": {
        "scrolled": true,
        "id": "XUzplwkOaFJT",
        "colab_type": "code",
        "colab": {},
        "outputId": "df5dc985-e1da-43e9-9272-ea986a58eaf2"
      },
      "source": [
        "bus_col = bus_info.columns\n",
        "bus_col"
      ],
      "execution_count": null,
      "outputs": [
        {
          "output_type": "execute_result",
          "data": {
            "text/plain": [
              "Index(['표준ID', 'ARS-ID', '정류장명', 'X좌표', 'Y좌표', '비고'], dtype='object')"
            ]
          },
          "metadata": {
            "tags": []
          },
          "execution_count": 7
        }
      ]
    },
    {
      "cell_type": "code",
      "metadata": {
        "scrolled": false,
        "id": "93s5EQPIaFJX",
        "colab_type": "code",
        "colab": {},
        "outputId": "10e9740c-4abf-4700-c001-6b3bcfa82161"
      },
      "source": [
        "bus_info_need = bus_info[['ARS-ID', '정류장명', 'X좌표', 'Y좌표']]\n",
        "bus_info_need.columns =  ['ARS', '역명', '경도', '위도']\n",
        "bus_info_need=bus_info_need.drop_duplicates(['ARS'], keep = 'first')\n",
        "bus_info_need.set_index('ARS', drop=True, inplace=True)\n",
        "bus_info_need"
      ],
      "execution_count": null,
      "outputs": [
        {
          "output_type": "execute_result",
          "data": {
            "text/html": [
              "<div>\n",
              "<style scoped>\n",
              "    .dataframe tbody tr th:only-of-type {\n",
              "        vertical-align: middle;\n",
              "    }\n",
              "\n",
              "    .dataframe tbody tr th {\n",
              "        vertical-align: top;\n",
              "    }\n",
              "\n",
              "    .dataframe thead th {\n",
              "        text-align: right;\n",
              "    }\n",
              "</style>\n",
              "<table border=\"1\" class=\"dataframe\">\n",
              "  <thead>\n",
              "    <tr style=\"text-align: right;\">\n",
              "      <th></th>\n",
              "      <th>역명</th>\n",
              "      <th>경도</th>\n",
              "      <th>위도</th>\n",
              "    </tr>\n",
              "    <tr>\n",
              "      <th>ARS</th>\n",
              "      <th></th>\n",
              "      <th></th>\n",
              "      <th></th>\n",
              "    </tr>\n",
              "  </thead>\n",
              "  <tbody>\n",
              "    <tr>\n",
              "      <th>1001</th>\n",
              "      <td>종로2가사거리</td>\n",
              "      <td>126.987750</td>\n",
              "      <td>37.569765</td>\n",
              "    </tr>\n",
              "    <tr>\n",
              "      <th>1002</th>\n",
              "      <td>창경궁.서울대학교병원</td>\n",
              "      <td>126.996566</td>\n",
              "      <td>37.579183</td>\n",
              "    </tr>\n",
              "    <tr>\n",
              "      <th>1003</th>\n",
              "      <td>명륜3가.성대입구</td>\n",
              "      <td>126.998340</td>\n",
              "      <td>37.582671</td>\n",
              "    </tr>\n",
              "    <tr>\n",
              "      <th>1004</th>\n",
              "      <td>종로2가.삼일교</td>\n",
              "      <td>126.987613</td>\n",
              "      <td>37.568579</td>\n",
              "    </tr>\n",
              "    <tr>\n",
              "      <th>1005</th>\n",
              "      <td>혜화동로터리.여운형활동터</td>\n",
              "      <td>127.001744</td>\n",
              "      <td>37.586243</td>\n",
              "    </tr>\n",
              "    <tr>\n",
              "      <th>...</th>\n",
              "      <td>...</td>\n",
              "      <td>...</td>\n",
              "      <td>...</td>\n",
              "    </tr>\n",
              "    <tr>\n",
              "      <th>25995</th>\n",
              "      <td>우성아파트</td>\n",
              "      <td>127.139339</td>\n",
              "      <td>37.550386</td>\n",
              "    </tr>\n",
              "    <tr>\n",
              "      <th>25996</th>\n",
              "      <td>우성아파트</td>\n",
              "      <td>127.140046</td>\n",
              "      <td>37.550643</td>\n",
              "    </tr>\n",
              "    <tr>\n",
              "      <th>25997</th>\n",
              "      <td>조일약국</td>\n",
              "      <td>127.123596</td>\n",
              "      <td>37.533630</td>\n",
              "    </tr>\n",
              "    <tr>\n",
              "      <th>25998</th>\n",
              "      <td>성내시장</td>\n",
              "      <td>127.125497</td>\n",
              "      <td>37.536155</td>\n",
              "    </tr>\n",
              "    <tr>\n",
              "      <th>25999</th>\n",
              "      <td>천호우체국.로데오거리</td>\n",
              "      <td>127.127337</td>\n",
              "      <td>37.540343</td>\n",
              "    </tr>\n",
              "  </tbody>\n",
              "</table>\n",
              "<p>11279 rows × 3 columns</p>\n",
              "</div>"
            ],
            "text/plain": [
              "                  역명          경도         위도\n",
              "ARS                                        \n",
              "1001         종로2가사거리  126.987750  37.569765\n",
              "1002     창경궁.서울대학교병원  126.996566  37.579183\n",
              "1003       명륜3가.성대입구  126.998340  37.582671\n",
              "1004        종로2가.삼일교  126.987613  37.568579\n",
              "1005   혜화동로터리.여운형활동터  127.001744  37.586243\n",
              "...              ...         ...        ...\n",
              "25995          우성아파트  127.139339  37.550386\n",
              "25996          우성아파트  127.140046  37.550643\n",
              "25997           조일약국  127.123596  37.533630\n",
              "25998           성내시장  127.125497  37.536155\n",
              "25999    천호우체국.로데오거리  127.127337  37.540343\n",
              "\n",
              "[11279 rows x 3 columns]"
            ]
          },
          "metadata": {
            "tags": []
          },
          "execution_count": 8
        }
      ]
    },
    {
      "cell_type": "markdown",
      "metadata": {
        "id": "lPQpORgJaFJh",
        "colab_type": "text"
      },
      "source": [
        "## 버스 일별 데이터 전처리"
      ]
    },
    {
      "cell_type": "code",
      "metadata": {
        "id": "U6bQZrtyaFJi",
        "colab_type": "code",
        "colab": {},
        "outputId": "fe103062-e467-4108-c14f-5fdea5519892"
      },
      "source": [
        "#버스 일별 데이터 확인\n",
        "bus_date"
      ],
      "execution_count": null,
      "outputs": [
        {
          "output_type": "execute_result",
          "data": {
            "text/html": [
              "<div>\n",
              "<style scoped>\n",
              "    .dataframe tbody tr th:only-of-type {\n",
              "        vertical-align: middle;\n",
              "    }\n",
              "\n",
              "    .dataframe tbody tr th {\n",
              "        vertical-align: top;\n",
              "    }\n",
              "\n",
              "    .dataframe thead th {\n",
              "        text-align: right;\n",
              "    }\n",
              "</style>\n",
              "<table border=\"1\" class=\"dataframe\">\n",
              "  <thead>\n",
              "    <tr style=\"text-align: right;\">\n",
              "      <th></th>\n",
              "      <th>사용일자</th>\n",
              "      <th>노선번호</th>\n",
              "      <th>노선명</th>\n",
              "      <th>버스정류장ARS번호</th>\n",
              "      <th>역명</th>\n",
              "      <th>승차총승객수</th>\n",
              "      <th>하차총승객수</th>\n",
              "      <th>등록일자</th>\n",
              "    </tr>\n",
              "  </thead>\n",
              "  <tbody>\n",
              "    <tr>\n",
              "      <th>0</th>\n",
              "      <td>20200201</td>\n",
              "      <td>100</td>\n",
              "      <td>100번(하계동~용산구청)</td>\n",
              "      <td>11428</td>\n",
              "      <td>한성여객종점</td>\n",
              "      <td>14</td>\n",
              "      <td>4</td>\n",
              "      <td>20200204</td>\n",
              "    </tr>\n",
              "    <tr>\n",
              "      <th>1</th>\n",
              "      <td>20200201</td>\n",
              "      <td>100</td>\n",
              "      <td>100번(하계동~용산구청)</td>\n",
              "      <td>11387</td>\n",
              "      <td>노원평생학습관</td>\n",
              "      <td>7</td>\n",
              "      <td>0</td>\n",
              "      <td>20200204</td>\n",
              "    </tr>\n",
              "    <tr>\n",
              "      <th>2</th>\n",
              "      <td>20200201</td>\n",
              "      <td>100</td>\n",
              "      <td>100번(하계동~용산구청)</td>\n",
              "      <td>11373</td>\n",
              "      <td>중계역</td>\n",
              "      <td>27</td>\n",
              "      <td>2</td>\n",
              "      <td>20200204</td>\n",
              "    </tr>\n",
              "    <tr>\n",
              "      <th>3</th>\n",
              "      <td>20200201</td>\n",
              "      <td>100</td>\n",
              "      <td>100번(하계동~용산구청)</td>\n",
              "      <td>11381</td>\n",
              "      <td>중계목화아파트4단지</td>\n",
              "      <td>120</td>\n",
              "      <td>13</td>\n",
              "      <td>20200204</td>\n",
              "    </tr>\n",
              "    <tr>\n",
              "      <th>4</th>\n",
              "      <td>20200201</td>\n",
              "      <td>100</td>\n",
              "      <td>100번(하계동~용산구청)</td>\n",
              "      <td>11311</td>\n",
              "      <td>인덕대학</td>\n",
              "      <td>172</td>\n",
              "      <td>123</td>\n",
              "      <td>20200204</td>\n",
              "    </tr>\n",
              "    <tr>\n",
              "      <th>...</th>\n",
              "      <td>...</td>\n",
              "      <td>...</td>\n",
              "      <td>...</td>\n",
              "      <td>...</td>\n",
              "      <td>...</td>\n",
              "      <td>...</td>\n",
              "      <td>...</td>\n",
              "      <td>...</td>\n",
              "    </tr>\n",
              "    <tr>\n",
              "      <th>1118042</th>\n",
              "      <td>20200229</td>\n",
              "      <td>1111</td>\n",
              "      <td>1111번(번동~성북동)</td>\n",
              "      <td>08128</td>\n",
              "      <td>KT월곡지사</td>\n",
              "      <td>43</td>\n",
              "      <td>38</td>\n",
              "      <td>20200303</td>\n",
              "    </tr>\n",
              "    <tr>\n",
              "      <th>1118043</th>\n",
              "      <td>20200229</td>\n",
              "      <td>1111</td>\n",
              "      <td>1111번(번동~성북동)</td>\n",
              "      <td>08130</td>\n",
              "      <td>종암SK아파트</td>\n",
              "      <td>41</td>\n",
              "      <td>73</td>\n",
              "      <td>20200303</td>\n",
              "    </tr>\n",
              "    <tr>\n",
              "      <th>1118044</th>\n",
              "      <td>20200229</td>\n",
              "      <td>1111</td>\n",
              "      <td>1111번(번동~성북동)</td>\n",
              "      <td>08134</td>\n",
              "      <td>동덕여대앞</td>\n",
              "      <td>75</td>\n",
              "      <td>58</td>\n",
              "      <td>20200303</td>\n",
              "    </tr>\n",
              "    <tr>\n",
              "      <th>1118045</th>\n",
              "      <td>20200229</td>\n",
              "      <td>1111</td>\n",
              "      <td>1111번(번동~성북동)</td>\n",
              "      <td>08153</td>\n",
              "      <td>종암동주민센터</td>\n",
              "      <td>134</td>\n",
              "      <td>188</td>\n",
              "      <td>20200303</td>\n",
              "    </tr>\n",
              "    <tr>\n",
              "      <th>1118046</th>\n",
              "      <td>20200229</td>\n",
              "      <td>1111</td>\n",
              "      <td>1111번(번동~성북동)</td>\n",
              "      <td>08151</td>\n",
              "      <td>종암경찰서</td>\n",
              "      <td>179</td>\n",
              "      <td>88</td>\n",
              "      <td>20200303</td>\n",
              "    </tr>\n",
              "  </tbody>\n",
              "</table>\n",
              "<p>1118047 rows × 8 columns</p>\n",
              "</div>"
            ],
            "text/plain": [
              "             사용일자  노선번호             노선명 버스정류장ARS번호          역명  승차총승객수  \\\n",
              "0        20200201   100  100번(하계동~용산구청)      11428      한성여객종점      14   \n",
              "1        20200201   100  100번(하계동~용산구청)      11387     노원평생학습관       7   \n",
              "2        20200201   100  100번(하계동~용산구청)      11373         중계역      27   \n",
              "3        20200201   100  100번(하계동~용산구청)      11381  중계목화아파트4단지     120   \n",
              "4        20200201   100  100번(하계동~용산구청)      11311        인덕대학     172   \n",
              "...           ...   ...             ...        ...         ...     ...   \n",
              "1118042  20200229  1111   1111번(번동~성북동)      08128      KT월곡지사      43   \n",
              "1118043  20200229  1111   1111번(번동~성북동)      08130     종암SK아파트      41   \n",
              "1118044  20200229  1111   1111번(번동~성북동)      08134       동덕여대앞      75   \n",
              "1118045  20200229  1111   1111번(번동~성북동)      08153     종암동주민센터     134   \n",
              "1118046  20200229  1111   1111번(번동~성북동)      08151       종암경찰서     179   \n",
              "\n",
              "         하차총승객수      등록일자  \n",
              "0             4  20200204  \n",
              "1             0  20200204  \n",
              "2             2  20200204  \n",
              "3            13  20200204  \n",
              "4           123  20200204  \n",
              "...         ...       ...  \n",
              "1118042      38  20200303  \n",
              "1118043      73  20200303  \n",
              "1118044      58  20200303  \n",
              "1118045     188  20200303  \n",
              "1118046      88  20200303  \n",
              "\n",
              "[1118047 rows x 8 columns]"
            ]
          },
          "metadata": {
            "tags": []
          },
          "execution_count": 9
        }
      ]
    },
    {
      "cell_type": "code",
      "metadata": {
        "id": "DvRW8MJ5aFJl",
        "colab_type": "code",
        "colab": {},
        "outputId": "a30f34ec-f6d5-4876-d5e1-a99d1ace322e"
      },
      "source": [
        "#역 갯수 확인\n",
        "len(bus_date['역명'].unique())"
      ],
      "execution_count": null,
      "outputs": [
        {
          "output_type": "execute_result",
          "data": {
            "text/plain": [
              "8065"
            ]
          },
          "metadata": {
            "tags": []
          },
          "execution_count": 10
        }
      ]
    },
    {
      "cell_type": "code",
      "metadata": {
        "id": "TaWqkrBoaFJo",
        "colab_type": "code",
        "colab": {}
      },
      "source": [
        "bus_col = bus_date.columns"
      ],
      "execution_count": null,
      "outputs": []
    },
    {
      "cell_type": "code",
      "metadata": {
        "id": "-dcK_CAFaFJt",
        "colab_type": "code",
        "colab": {},
        "outputId": "daa8dd0d-a95f-45ac-baea-6372d48d2df8"
      },
      "source": [
        "bus_col = list(bus_col)\n",
        "bus_col"
      ],
      "execution_count": null,
      "outputs": [
        {
          "output_type": "execute_result",
          "data": {
            "text/plain": [
              "['사용일자', '노선번호', '노선명', '버스정류장ARS번호', '역명', '승차총승객수', '하차총승객수', '등록일자']"
            ]
          },
          "metadata": {
            "tags": []
          },
          "execution_count": 12
        }
      ]
    },
    {
      "cell_type": "code",
      "metadata": {
        "scrolled": true,
        "id": "a42G07qGaFJw",
        "colab_type": "code",
        "colab": {},
        "outputId": "bef0ac72-32c5-4f56-89f7-44f42df5065a"
      },
      "source": [
        "#ARS기준으로 묶어줘야 할듯\n",
        "bus_date_need = bus_date[['사용일자', '버스정류장ARS번호', '역명', '승차총승객수', '하차총승객수']]\n",
        "bus_date_need.columns =  ['사용일자', 'ARS', '역명', '승차총승객수', '하차총승객수']\n",
        "bus_date_need"
      ],
      "execution_count": null,
      "outputs": [
        {
          "output_type": "execute_result",
          "data": {
            "text/html": [
              "<div>\n",
              "<style scoped>\n",
              "    .dataframe tbody tr th:only-of-type {\n",
              "        vertical-align: middle;\n",
              "    }\n",
              "\n",
              "    .dataframe tbody tr th {\n",
              "        vertical-align: top;\n",
              "    }\n",
              "\n",
              "    .dataframe thead th {\n",
              "        text-align: right;\n",
              "    }\n",
              "</style>\n",
              "<table border=\"1\" class=\"dataframe\">\n",
              "  <thead>\n",
              "    <tr style=\"text-align: right;\">\n",
              "      <th></th>\n",
              "      <th>사용일자</th>\n",
              "      <th>ARS</th>\n",
              "      <th>역명</th>\n",
              "      <th>승차총승객수</th>\n",
              "      <th>하차총승객수</th>\n",
              "    </tr>\n",
              "  </thead>\n",
              "  <tbody>\n",
              "    <tr>\n",
              "      <th>0</th>\n",
              "      <td>20200201</td>\n",
              "      <td>11428</td>\n",
              "      <td>한성여객종점</td>\n",
              "      <td>14</td>\n",
              "      <td>4</td>\n",
              "    </tr>\n",
              "    <tr>\n",
              "      <th>1</th>\n",
              "      <td>20200201</td>\n",
              "      <td>11387</td>\n",
              "      <td>노원평생학습관</td>\n",
              "      <td>7</td>\n",
              "      <td>0</td>\n",
              "    </tr>\n",
              "    <tr>\n",
              "      <th>2</th>\n",
              "      <td>20200201</td>\n",
              "      <td>11373</td>\n",
              "      <td>중계역</td>\n",
              "      <td>27</td>\n",
              "      <td>2</td>\n",
              "    </tr>\n",
              "    <tr>\n",
              "      <th>3</th>\n",
              "      <td>20200201</td>\n",
              "      <td>11381</td>\n",
              "      <td>중계목화아파트4단지</td>\n",
              "      <td>120</td>\n",
              "      <td>13</td>\n",
              "    </tr>\n",
              "    <tr>\n",
              "      <th>4</th>\n",
              "      <td>20200201</td>\n",
              "      <td>11311</td>\n",
              "      <td>인덕대학</td>\n",
              "      <td>172</td>\n",
              "      <td>123</td>\n",
              "    </tr>\n",
              "    <tr>\n",
              "      <th>...</th>\n",
              "      <td>...</td>\n",
              "      <td>...</td>\n",
              "      <td>...</td>\n",
              "      <td>...</td>\n",
              "      <td>...</td>\n",
              "    </tr>\n",
              "    <tr>\n",
              "      <th>1118042</th>\n",
              "      <td>20200229</td>\n",
              "      <td>08128</td>\n",
              "      <td>KT월곡지사</td>\n",
              "      <td>43</td>\n",
              "      <td>38</td>\n",
              "    </tr>\n",
              "    <tr>\n",
              "      <th>1118043</th>\n",
              "      <td>20200229</td>\n",
              "      <td>08130</td>\n",
              "      <td>종암SK아파트</td>\n",
              "      <td>41</td>\n",
              "      <td>73</td>\n",
              "    </tr>\n",
              "    <tr>\n",
              "      <th>1118044</th>\n",
              "      <td>20200229</td>\n",
              "      <td>08134</td>\n",
              "      <td>동덕여대앞</td>\n",
              "      <td>75</td>\n",
              "      <td>58</td>\n",
              "    </tr>\n",
              "    <tr>\n",
              "      <th>1118045</th>\n",
              "      <td>20200229</td>\n",
              "      <td>08153</td>\n",
              "      <td>종암동주민센터</td>\n",
              "      <td>134</td>\n",
              "      <td>188</td>\n",
              "    </tr>\n",
              "    <tr>\n",
              "      <th>1118046</th>\n",
              "      <td>20200229</td>\n",
              "      <td>08151</td>\n",
              "      <td>종암경찰서</td>\n",
              "      <td>179</td>\n",
              "      <td>88</td>\n",
              "    </tr>\n",
              "  </tbody>\n",
              "</table>\n",
              "<p>1118047 rows × 5 columns</p>\n",
              "</div>"
            ],
            "text/plain": [
              "             사용일자    ARS          역명  승차총승객수  하차총승객수\n",
              "0        20200201  11428      한성여객종점      14       4\n",
              "1        20200201  11387     노원평생학습관       7       0\n",
              "2        20200201  11373         중계역      27       2\n",
              "3        20200201  11381  중계목화아파트4단지     120      13\n",
              "4        20200201  11311        인덕대학     172     123\n",
              "...           ...    ...         ...     ...     ...\n",
              "1118042  20200229  08128      KT월곡지사      43      38\n",
              "1118043  20200229  08130     종암SK아파트      41      73\n",
              "1118044  20200229  08134       동덕여대앞      75      58\n",
              "1118045  20200229  08153     종암동주민센터     134     188\n",
              "1118046  20200229  08151       종암경찰서     179      88\n",
              "\n",
              "[1118047 rows x 5 columns]"
            ]
          },
          "metadata": {
            "tags": []
          },
          "execution_count": 13
        }
      ]
    },
    {
      "cell_type": "code",
      "metadata": {
        "id": "eCz6koyjaFJz",
        "colab_type": "code",
        "colab": {},
        "outputId": "5d075da8-d12f-434b-fe81-b9d9f293b3c2"
      },
      "source": [
        "bus_date_need['ARS']"
      ],
      "execution_count": null,
      "outputs": [
        {
          "output_type": "execute_result",
          "data": {
            "text/plain": [
              "0          11428\n",
              "1          11387\n",
              "2          11373\n",
              "3          11381\n",
              "4          11311\n",
              "           ...  \n",
              "1118042    08128\n",
              "1118043    08130\n",
              "1118044    08134\n",
              "1118045    08153\n",
              "1118046    08151\n",
              "Name: ARS, Length: 1118047, dtype: object"
            ]
          },
          "metadata": {
            "tags": []
          },
          "execution_count": 14
        }
      ]
    },
    {
      "cell_type": "markdown",
      "metadata": {
        "id": "kJT-S08zaFJ2",
        "colab_type": "text"
      },
      "source": [
        "## 같은날짜, 같은 역의 승하차 총 승객수로 묶어주자. 그러려면 ARS만 가지고 묶고 더하면 사용일자가 뭉개지니까 사용일자, ARS, 역명 기준으로 groupby랑 sum해주기"
      ]
    },
    {
      "cell_type": "code",
      "metadata": {
        "id": "Ad7ESc6-aFJ3",
        "colab_type": "code",
        "colab": {},
        "outputId": "2f9bca71-36b8-4faa-aff4-2ed872b85f6a"
      },
      "source": [
        "bus_date_updown = bus_date_need.groupby(['사용일자', 'ARS']).sum()\n",
        "bus_date_updown.index"
      ],
      "execution_count": null,
      "outputs": [
        {
          "output_type": "execute_result",
          "data": {
            "text/plain": [
              "MultiIndex([(20200201, '01001'),\n",
              "            (20200201, '01002'),\n",
              "            (20200201, '01003'),\n",
              "            (20200201, '01004'),\n",
              "            (20200201, '01005'),\n",
              "            (20200201, '01006'),\n",
              "            (20200201, '01007'),\n",
              "            (20200201, '01008'),\n",
              "            (20200201, '01009'),\n",
              "            (20200201, '01010'),\n",
              "            ...\n",
              "            (20200229, '68262'),\n",
              "            (20200229, '68263'),\n",
              "            (20200229, '68264'),\n",
              "            (20200229, '68268'),\n",
              "            (20200229, '68270'),\n",
              "            (20200229, '68271'),\n",
              "            (20200229, '68290'),\n",
              "            (20200229, '68351'),\n",
              "            (20200229, '68352'),\n",
              "            (20200229,     '~')],\n",
              "           names=['사용일자', 'ARS'], length=368013)"
            ]
          },
          "metadata": {
            "tags": []
          },
          "execution_count": 15
        }
      ]
    },
    {
      "cell_type": "markdown",
      "metadata": {
        "id": "iSgcO1hgaFJ6",
        "colab_type": "text"
      },
      "source": [
        "## 우선, ARS와 지하철역 거리기준으로 매칭"
      ]
    },
    {
      "cell_type": "code",
      "metadata": {
        "id": "BjRiF9bwaFJ6",
        "colab_type": "code",
        "colab": {},
        "outputId": "c2915b64-b09e-4908-ee15-72d7afb51f17"
      },
      "source": [
        "bus_date_need"
      ],
      "execution_count": null,
      "outputs": [
        {
          "output_type": "execute_result",
          "data": {
            "text/html": [
              "<div>\n",
              "<style scoped>\n",
              "    .dataframe tbody tr th:only-of-type {\n",
              "        vertical-align: middle;\n",
              "    }\n",
              "\n",
              "    .dataframe tbody tr th {\n",
              "        vertical-align: top;\n",
              "    }\n",
              "\n",
              "    .dataframe thead th {\n",
              "        text-align: right;\n",
              "    }\n",
              "</style>\n",
              "<table border=\"1\" class=\"dataframe\">\n",
              "  <thead>\n",
              "    <tr style=\"text-align: right;\">\n",
              "      <th></th>\n",
              "      <th>사용일자</th>\n",
              "      <th>ARS</th>\n",
              "      <th>역명</th>\n",
              "      <th>승차총승객수</th>\n",
              "      <th>하차총승객수</th>\n",
              "    </tr>\n",
              "  </thead>\n",
              "  <tbody>\n",
              "    <tr>\n",
              "      <th>0</th>\n",
              "      <td>20200201</td>\n",
              "      <td>11428</td>\n",
              "      <td>한성여객종점</td>\n",
              "      <td>14</td>\n",
              "      <td>4</td>\n",
              "    </tr>\n",
              "    <tr>\n",
              "      <th>1</th>\n",
              "      <td>20200201</td>\n",
              "      <td>11387</td>\n",
              "      <td>노원평생학습관</td>\n",
              "      <td>7</td>\n",
              "      <td>0</td>\n",
              "    </tr>\n",
              "    <tr>\n",
              "      <th>2</th>\n",
              "      <td>20200201</td>\n",
              "      <td>11373</td>\n",
              "      <td>중계역</td>\n",
              "      <td>27</td>\n",
              "      <td>2</td>\n",
              "    </tr>\n",
              "    <tr>\n",
              "      <th>3</th>\n",
              "      <td>20200201</td>\n",
              "      <td>11381</td>\n",
              "      <td>중계목화아파트4단지</td>\n",
              "      <td>120</td>\n",
              "      <td>13</td>\n",
              "    </tr>\n",
              "    <tr>\n",
              "      <th>4</th>\n",
              "      <td>20200201</td>\n",
              "      <td>11311</td>\n",
              "      <td>인덕대학</td>\n",
              "      <td>172</td>\n",
              "      <td>123</td>\n",
              "    </tr>\n",
              "    <tr>\n",
              "      <th>...</th>\n",
              "      <td>...</td>\n",
              "      <td>...</td>\n",
              "      <td>...</td>\n",
              "      <td>...</td>\n",
              "      <td>...</td>\n",
              "    </tr>\n",
              "    <tr>\n",
              "      <th>1118042</th>\n",
              "      <td>20200229</td>\n",
              "      <td>08128</td>\n",
              "      <td>KT월곡지사</td>\n",
              "      <td>43</td>\n",
              "      <td>38</td>\n",
              "    </tr>\n",
              "    <tr>\n",
              "      <th>1118043</th>\n",
              "      <td>20200229</td>\n",
              "      <td>08130</td>\n",
              "      <td>종암SK아파트</td>\n",
              "      <td>41</td>\n",
              "      <td>73</td>\n",
              "    </tr>\n",
              "    <tr>\n",
              "      <th>1118044</th>\n",
              "      <td>20200229</td>\n",
              "      <td>08134</td>\n",
              "      <td>동덕여대앞</td>\n",
              "      <td>75</td>\n",
              "      <td>58</td>\n",
              "    </tr>\n",
              "    <tr>\n",
              "      <th>1118045</th>\n",
              "      <td>20200229</td>\n",
              "      <td>08153</td>\n",
              "      <td>종암동주민센터</td>\n",
              "      <td>134</td>\n",
              "      <td>188</td>\n",
              "    </tr>\n",
              "    <tr>\n",
              "      <th>1118046</th>\n",
              "      <td>20200229</td>\n",
              "      <td>08151</td>\n",
              "      <td>종암경찰서</td>\n",
              "      <td>179</td>\n",
              "      <td>88</td>\n",
              "    </tr>\n",
              "  </tbody>\n",
              "</table>\n",
              "<p>1118047 rows × 5 columns</p>\n",
              "</div>"
            ],
            "text/plain": [
              "             사용일자    ARS          역명  승차총승객수  하차총승객수\n",
              "0        20200201  11428      한성여객종점      14       4\n",
              "1        20200201  11387     노원평생학습관       7       0\n",
              "2        20200201  11373         중계역      27       2\n",
              "3        20200201  11381  중계목화아파트4단지     120      13\n",
              "4        20200201  11311        인덕대학     172     123\n",
              "...           ...    ...         ...     ...     ...\n",
              "1118042  20200229  08128      KT월곡지사      43      38\n",
              "1118043  20200229  08130     종암SK아파트      41      73\n",
              "1118044  20200229  08134       동덕여대앞      75      58\n",
              "1118045  20200229  08153     종암동주민센터     134     188\n",
              "1118046  20200229  08151       종암경찰서     179      88\n",
              "\n",
              "[1118047 rows x 5 columns]"
            ]
          },
          "metadata": {
            "tags": []
          },
          "execution_count": 16
        }
      ]
    },
    {
      "cell_type": "code",
      "metadata": {
        "id": "5dW799yIaFJ-",
        "colab_type": "code",
        "colab": {},
        "outputId": "24464eb1-12f8-49dc-afa1-f32b1170c737"
      },
      "source": [
        "bus_info_need"
      ],
      "execution_count": null,
      "outputs": [
        {
          "output_type": "execute_result",
          "data": {
            "text/html": [
              "<div>\n",
              "<style scoped>\n",
              "    .dataframe tbody tr th:only-of-type {\n",
              "        vertical-align: middle;\n",
              "    }\n",
              "\n",
              "    .dataframe tbody tr th {\n",
              "        vertical-align: top;\n",
              "    }\n",
              "\n",
              "    .dataframe thead th {\n",
              "        text-align: right;\n",
              "    }\n",
              "</style>\n",
              "<table border=\"1\" class=\"dataframe\">\n",
              "  <thead>\n",
              "    <tr style=\"text-align: right;\">\n",
              "      <th></th>\n",
              "      <th>역명</th>\n",
              "      <th>경도</th>\n",
              "      <th>위도</th>\n",
              "    </tr>\n",
              "    <tr>\n",
              "      <th>ARS</th>\n",
              "      <th></th>\n",
              "      <th></th>\n",
              "      <th></th>\n",
              "    </tr>\n",
              "  </thead>\n",
              "  <tbody>\n",
              "    <tr>\n",
              "      <th>1001</th>\n",
              "      <td>종로2가사거리</td>\n",
              "      <td>126.987750</td>\n",
              "      <td>37.569765</td>\n",
              "    </tr>\n",
              "    <tr>\n",
              "      <th>1002</th>\n",
              "      <td>창경궁.서울대학교병원</td>\n",
              "      <td>126.996566</td>\n",
              "      <td>37.579183</td>\n",
              "    </tr>\n",
              "    <tr>\n",
              "      <th>1003</th>\n",
              "      <td>명륜3가.성대입구</td>\n",
              "      <td>126.998340</td>\n",
              "      <td>37.582671</td>\n",
              "    </tr>\n",
              "    <tr>\n",
              "      <th>1004</th>\n",
              "      <td>종로2가.삼일교</td>\n",
              "      <td>126.987613</td>\n",
              "      <td>37.568579</td>\n",
              "    </tr>\n",
              "    <tr>\n",
              "      <th>1005</th>\n",
              "      <td>혜화동로터리.여운형활동터</td>\n",
              "      <td>127.001744</td>\n",
              "      <td>37.586243</td>\n",
              "    </tr>\n",
              "    <tr>\n",
              "      <th>...</th>\n",
              "      <td>...</td>\n",
              "      <td>...</td>\n",
              "      <td>...</td>\n",
              "    </tr>\n",
              "    <tr>\n",
              "      <th>25995</th>\n",
              "      <td>우성아파트</td>\n",
              "      <td>127.139339</td>\n",
              "      <td>37.550386</td>\n",
              "    </tr>\n",
              "    <tr>\n",
              "      <th>25996</th>\n",
              "      <td>우성아파트</td>\n",
              "      <td>127.140046</td>\n",
              "      <td>37.550643</td>\n",
              "    </tr>\n",
              "    <tr>\n",
              "      <th>25997</th>\n",
              "      <td>조일약국</td>\n",
              "      <td>127.123596</td>\n",
              "      <td>37.533630</td>\n",
              "    </tr>\n",
              "    <tr>\n",
              "      <th>25998</th>\n",
              "      <td>성내시장</td>\n",
              "      <td>127.125497</td>\n",
              "      <td>37.536155</td>\n",
              "    </tr>\n",
              "    <tr>\n",
              "      <th>25999</th>\n",
              "      <td>천호우체국.로데오거리</td>\n",
              "      <td>127.127337</td>\n",
              "      <td>37.540343</td>\n",
              "    </tr>\n",
              "  </tbody>\n",
              "</table>\n",
              "<p>11279 rows × 3 columns</p>\n",
              "</div>"
            ],
            "text/plain": [
              "                  역명          경도         위도\n",
              "ARS                                        \n",
              "1001         종로2가사거리  126.987750  37.569765\n",
              "1002     창경궁.서울대학교병원  126.996566  37.579183\n",
              "1003       명륜3가.성대입구  126.998340  37.582671\n",
              "1004        종로2가.삼일교  126.987613  37.568579\n",
              "1005   혜화동로터리.여운형활동터  127.001744  37.586243\n",
              "...              ...         ...        ...\n",
              "25995          우성아파트  127.139339  37.550386\n",
              "25996          우성아파트  127.140046  37.550643\n",
              "25997           조일약국  127.123596  37.533630\n",
              "25998           성내시장  127.125497  37.536155\n",
              "25999    천호우체국.로데오거리  127.127337  37.540343\n",
              "\n",
              "[11279 rows x 3 columns]"
            ]
          },
          "metadata": {
            "tags": []
          },
          "execution_count": 17
        }
      ]
    },
    {
      "cell_type": "code",
      "metadata": {
        "id": "BbPvCcOWaFKD",
        "colab_type": "code",
        "colab": {},
        "outputId": "00637589-a4a1-4965-944b-e2e6ff47127f"
      },
      "source": [
        "#혹시 에러뜰까봐 일단 이것도 만들어 둠\n",
        "bus_info_need_ = bus_info_need[['경도', '위도']]\n",
        "bus_info_need_"
      ],
      "execution_count": null,
      "outputs": [
        {
          "output_type": "execute_result",
          "data": {
            "text/html": [
              "<div>\n",
              "<style scoped>\n",
              "    .dataframe tbody tr th:only-of-type {\n",
              "        vertical-align: middle;\n",
              "    }\n",
              "\n",
              "    .dataframe tbody tr th {\n",
              "        vertical-align: top;\n",
              "    }\n",
              "\n",
              "    .dataframe thead th {\n",
              "        text-align: right;\n",
              "    }\n",
              "</style>\n",
              "<table border=\"1\" class=\"dataframe\">\n",
              "  <thead>\n",
              "    <tr style=\"text-align: right;\">\n",
              "      <th></th>\n",
              "      <th>경도</th>\n",
              "      <th>위도</th>\n",
              "    </tr>\n",
              "    <tr>\n",
              "      <th>ARS</th>\n",
              "      <th></th>\n",
              "      <th></th>\n",
              "    </tr>\n",
              "  </thead>\n",
              "  <tbody>\n",
              "    <tr>\n",
              "      <th>1001</th>\n",
              "      <td>126.987750</td>\n",
              "      <td>37.569765</td>\n",
              "    </tr>\n",
              "    <tr>\n",
              "      <th>1002</th>\n",
              "      <td>126.996566</td>\n",
              "      <td>37.579183</td>\n",
              "    </tr>\n",
              "    <tr>\n",
              "      <th>1003</th>\n",
              "      <td>126.998340</td>\n",
              "      <td>37.582671</td>\n",
              "    </tr>\n",
              "    <tr>\n",
              "      <th>1004</th>\n",
              "      <td>126.987613</td>\n",
              "      <td>37.568579</td>\n",
              "    </tr>\n",
              "    <tr>\n",
              "      <th>1005</th>\n",
              "      <td>127.001744</td>\n",
              "      <td>37.586243</td>\n",
              "    </tr>\n",
              "    <tr>\n",
              "      <th>...</th>\n",
              "      <td>...</td>\n",
              "      <td>...</td>\n",
              "    </tr>\n",
              "    <tr>\n",
              "      <th>25995</th>\n",
              "      <td>127.139339</td>\n",
              "      <td>37.550386</td>\n",
              "    </tr>\n",
              "    <tr>\n",
              "      <th>25996</th>\n",
              "      <td>127.140046</td>\n",
              "      <td>37.550643</td>\n",
              "    </tr>\n",
              "    <tr>\n",
              "      <th>25997</th>\n",
              "      <td>127.123596</td>\n",
              "      <td>37.533630</td>\n",
              "    </tr>\n",
              "    <tr>\n",
              "      <th>25998</th>\n",
              "      <td>127.125497</td>\n",
              "      <td>37.536155</td>\n",
              "    </tr>\n",
              "    <tr>\n",
              "      <th>25999</th>\n",
              "      <td>127.127337</td>\n",
              "      <td>37.540343</td>\n",
              "    </tr>\n",
              "  </tbody>\n",
              "</table>\n",
              "<p>11279 rows × 2 columns</p>\n",
              "</div>"
            ],
            "text/plain": [
              "               경도         위도\n",
              "ARS                         \n",
              "1001   126.987750  37.569765\n",
              "1002   126.996566  37.579183\n",
              "1003   126.998340  37.582671\n",
              "1004   126.987613  37.568579\n",
              "1005   127.001744  37.586243\n",
              "...           ...        ...\n",
              "25995  127.139339  37.550386\n",
              "25996  127.140046  37.550643\n",
              "25997  127.123596  37.533630\n",
              "25998  127.125497  37.536155\n",
              "25999  127.127337  37.540343\n",
              "\n",
              "[11279 rows x 2 columns]"
            ]
          },
          "metadata": {
            "tags": []
          },
          "execution_count": 18
        }
      ]
    },
    {
      "cell_type": "code",
      "metadata": {
        "id": "TvvX0PSUaFKG",
        "colab_type": "code",
        "colab": {},
        "outputId": "38ec0f58-fc9f-49ca-e867-31bb71e8c48b"
      },
      "source": [
        "train_loc"
      ],
      "execution_count": null,
      "outputs": [
        {
          "output_type": "execute_result",
          "data": {
            "text/html": [
              "<div>\n",
              "<style scoped>\n",
              "    .dataframe tbody tr th:only-of-type {\n",
              "        vertical-align: middle;\n",
              "    }\n",
              "\n",
              "    .dataframe tbody tr th {\n",
              "        vertical-align: top;\n",
              "    }\n",
              "\n",
              "    .dataframe thead th {\n",
              "        text-align: right;\n",
              "    }\n",
              "</style>\n",
              "<table border=\"1\" class=\"dataframe\">\n",
              "  <thead>\n",
              "    <tr style=\"text-align: right;\">\n",
              "      <th></th>\n",
              "      <th>경도</th>\n",
              "      <th>위도</th>\n",
              "    </tr>\n",
              "    <tr>\n",
              "      <th>역명</th>\n",
              "      <th></th>\n",
              "      <th></th>\n",
              "    </tr>\n",
              "  </thead>\n",
              "  <tbody>\n",
              "    <tr>\n",
              "      <th>서울</th>\n",
              "      <td>126.969563</td>\n",
              "      <td>37.558156</td>\n",
              "    </tr>\n",
              "    <tr>\n",
              "      <th>시청</th>\n",
              "      <td>126.976919</td>\n",
              "      <td>37.565597</td>\n",
              "    </tr>\n",
              "    <tr>\n",
              "      <th>종각</th>\n",
              "      <td>126.981390</td>\n",
              "      <td>37.570222</td>\n",
              "    </tr>\n",
              "    <tr>\n",
              "      <th>종로5가</th>\n",
              "      <td>127.001925</td>\n",
              "      <td>37.571020</td>\n",
              "    </tr>\n",
              "    <tr>\n",
              "      <th>동대문</th>\n",
              "      <td>127.011233</td>\n",
              "      <td>37.571759</td>\n",
              "    </tr>\n",
              "    <tr>\n",
              "      <th>...</th>\n",
              "      <td>...</td>\n",
              "      <td>...</td>\n",
              "    </tr>\n",
              "    <tr>\n",
              "      <th>부천종합운동장</th>\n",
              "      <td>126.797466</td>\n",
              "      <td>37.505639</td>\n",
              "    </tr>\n",
              "    <tr>\n",
              "      <th>춘의</th>\n",
              "      <td>126.787091</td>\n",
              "      <td>37.503859</td>\n",
              "    </tr>\n",
              "    <tr>\n",
              "      <th>신중동</th>\n",
              "      <td>126.775952</td>\n",
              "      <td>37.503189</td>\n",
              "    </tr>\n",
              "    <tr>\n",
              "      <th>부천시청</th>\n",
              "      <td>126.764025</td>\n",
              "      <td>37.504748</td>\n",
              "    </tr>\n",
              "    <tr>\n",
              "      <th>상동</th>\n",
              "      <td>126.753153</td>\n",
              "      <td>37.505885</td>\n",
              "    </tr>\n",
              "  </tbody>\n",
              "</table>\n",
              "<p>244 rows × 2 columns</p>\n",
              "</div>"
            ],
            "text/plain": [
              "                 경도         위도\n",
              "역명                            \n",
              "서울       126.969563  37.558156\n",
              "시청       126.976919  37.565597\n",
              "종각       126.981390  37.570222\n",
              "종로5가     127.001925  37.571020\n",
              "동대문      127.011233  37.571759\n",
              "...             ...        ...\n",
              "부천종합운동장  126.797466  37.505639\n",
              "춘의       126.787091  37.503859\n",
              "신중동      126.775952  37.503189\n",
              "부천시청     126.764025  37.504748\n",
              "상동       126.753153  37.505885\n",
              "\n",
              "[244 rows x 2 columns]"
            ]
          },
          "metadata": {
            "tags": []
          },
          "execution_count": 19
        }
      ]
    },
    {
      "cell_type": "code",
      "metadata": {
        "id": "3N4k1jnwaFKK",
        "colab_type": "code",
        "colab": {
          "referenced_widgets": [
            "3da8f5a97cf0433997ebc07a089c0071"
          ]
        },
        "outputId": "298bc888-ba5c-48bc-b66b-f8dc7b206d9c"
      },
      "source": [
        "# close_station = {'지하철역' : [],\n",
        "#                 'ARS' : []}\n",
        "\n",
        "# for b_station in tqdm(bus_info_need.index):\n",
        "#     start = (float(bus_info_need.loc[b_station]['위도']), float(bus_info_need.loc[b_station]['경도']))\n",
        "#     distance_dic = {}\n",
        "#     for t_station in train_loc.index:\n",
        "#         goal = (train_loc.loc[t_station]['위도'].mean(), train_loc.loc[t_station]['경도'].mean())\n",
        "#         distance_dic[t_station] = float(haversine(start, goal))\n",
        "#     close_ = sorted((value, key) for key, value in distance_dic.items())[0][1]\n",
        "#     close_station['ARS'].append(b_station)\n",
        "#     close_station['지하철역'].append(close_)"
      ],
      "execution_count": null,
      "outputs": [
        {
          "output_type": "display_data",
          "data": {
            "application/vnd.jupyter.widget-view+json": {
              "model_id": "3da8f5a97cf0433997ebc07a089c0071",
              "version_major": 2,
              "version_minor": 0
            },
            "text/plain": [
              "HBox(children=(FloatProgress(value=0.0, max=11279.0), HTML(value='')))"
            ]
          },
          "metadata": {
            "tags": []
          }
        },
        {
          "output_type": "stream",
          "text": [
            "\n"
          ],
          "name": "stdout"
        }
      ]
    },
    {
      "cell_type": "code",
      "metadata": {
        "colab_type": "code",
        "id": "5kgHyfyELW7a",
        "colab": {},
        "outputId": "93cae349-5c38-4af4-d437-22ddf27501b5"
      },
      "source": [
        "# station_mapping = pd.DataFrame(close_station)\n",
        "# station_mapping = station_mapping[['ARS', '지하철역']]\n",
        "# station_mapping['ARS']"
      ],
      "execution_count": null,
      "outputs": [
        {
          "output_type": "execute_result",
          "data": {
            "text/plain": [
              "0         1001\n",
              "1         1002\n",
              "2         1003\n",
              "3         1004\n",
              "4         1005\n",
              "         ...  \n",
              "11274    25995\n",
              "11275    25996\n",
              "11276    25997\n",
              "11277    25998\n",
              "11278    25999\n",
              "Name: ARS, Length: 11279, dtype: int64"
            ]
          },
          "metadata": {
            "tags": []
          },
          "execution_count": 96
        }
      ]
    },
    {
      "cell_type": "code",
      "metadata": {
        "id": "XUc4tLQtaFKQ",
        "colab_type": "code",
        "colab": {}
      },
      "source": [
        "# station_mapping.to_csv(\"busARS_train_station_mapping.csv\")"
      ],
      "execution_count": null,
      "outputs": []
    },
    {
      "cell_type": "code",
      "metadata": {
        "id": "agNYjWmiaFKT",
        "colab_type": "code",
        "colab": {},
        "outputId": "55018350-4def-45cc-b77a-1c3af4a79b00"
      },
      "source": [
        "station_mapping = pd.read_csv('busARS_Train_station_mapping.csv', index_col=0)\n",
        "station_mapping"
      ],
      "execution_count": null,
      "outputs": [
        {
          "output_type": "execute_result",
          "data": {
            "text/html": [
              "<div>\n",
              "<style scoped>\n",
              "    .dataframe tbody tr th:only-of-type {\n",
              "        vertical-align: middle;\n",
              "    }\n",
              "\n",
              "    .dataframe tbody tr th {\n",
              "        vertical-align: top;\n",
              "    }\n",
              "\n",
              "    .dataframe thead th {\n",
              "        text-align: right;\n",
              "    }\n",
              "</style>\n",
              "<table border=\"1\" class=\"dataframe\">\n",
              "  <thead>\n",
              "    <tr style=\"text-align: right;\">\n",
              "      <th></th>\n",
              "      <th>ARS</th>\n",
              "      <th>지하철역</th>\n",
              "    </tr>\n",
              "  </thead>\n",
              "  <tbody>\n",
              "    <tr>\n",
              "      <th>0</th>\n",
              "      <td>1001</td>\n",
              "      <td>종로3가(탑골공원)</td>\n",
              "    </tr>\n",
              "    <tr>\n",
              "      <th>1</th>\n",
              "      <td>1002</td>\n",
              "      <td>혜화</td>\n",
              "    </tr>\n",
              "    <tr>\n",
              "      <th>2</th>\n",
              "      <td>1003</td>\n",
              "      <td>혜화</td>\n",
              "    </tr>\n",
              "    <tr>\n",
              "      <th>3</th>\n",
              "      <td>1004</td>\n",
              "      <td>을지로3가</td>\n",
              "    </tr>\n",
              "    <tr>\n",
              "      <th>4</th>\n",
              "      <td>1005</td>\n",
              "      <td>한성대입구(삼선교)</td>\n",
              "    </tr>\n",
              "    <tr>\n",
              "      <th>...</th>\n",
              "      <td>...</td>\n",
              "      <td>...</td>\n",
              "    </tr>\n",
              "    <tr>\n",
              "      <th>11274</th>\n",
              "      <td>25995</td>\n",
              "      <td>명일</td>\n",
              "    </tr>\n",
              "    <tr>\n",
              "      <th>11275</th>\n",
              "      <td>25996</td>\n",
              "      <td>명일</td>\n",
              "    </tr>\n",
              "    <tr>\n",
              "      <th>11276</th>\n",
              "      <td>25997</td>\n",
              "      <td>강동구청</td>\n",
              "    </tr>\n",
              "    <tr>\n",
              "      <th>11277</th>\n",
              "      <td>25998</td>\n",
              "      <td>천호(풍납토성)</td>\n",
              "    </tr>\n",
              "    <tr>\n",
              "      <th>11278</th>\n",
              "      <td>25999</td>\n",
              "      <td>천호(풍납토성)</td>\n",
              "    </tr>\n",
              "  </tbody>\n",
              "</table>\n",
              "<p>11279 rows × 2 columns</p>\n",
              "</div>"
            ],
            "text/plain": [
              "         ARS        지하철역\n",
              "0       1001  종로3가(탑골공원)\n",
              "1       1002          혜화\n",
              "2       1003          혜화\n",
              "3       1004       을지로3가\n",
              "4       1005  한성대입구(삼선교)\n",
              "...      ...         ...\n",
              "11274  25995          명일\n",
              "11275  25996          명일\n",
              "11276  25997        강동구청\n",
              "11277  25998    천호(풍납토성)\n",
              "11278  25999    천호(풍납토성)\n",
              "\n",
              "[11279 rows x 2 columns]"
            ]
          },
          "metadata": {
            "tags": []
          },
          "execution_count": 20
        }
      ]
    },
    {
      "cell_type": "code",
      "metadata": {
        "id": "o3VObLamaFKW",
        "colab_type": "code",
        "colab": {},
        "outputId": "bfdd2971-a58f-4822-9779-d98070dd38c8"
      },
      "source": [
        "bus_date_updown.columns"
      ],
      "execution_count": null,
      "outputs": [
        {
          "output_type": "execute_result",
          "data": {
            "text/plain": [
              "Index(['승차총승객수', '하차총승객수'], dtype='object')"
            ]
          },
          "metadata": {
            "tags": []
          },
          "execution_count": 21
        }
      ]
    },
    {
      "cell_type": "code",
      "metadata": {
        "id": "Uvd5kbicaFKa",
        "colab_type": "code",
        "colab": {},
        "outputId": "2e668590-e6e0-487d-e288-079d856d76b9"
      },
      "source": [
        "bus_date_updown.index"
      ],
      "execution_count": null,
      "outputs": [
        {
          "output_type": "execute_result",
          "data": {
            "text/plain": [
              "MultiIndex([(20200201, '01001'),\n",
              "            (20200201, '01002'),\n",
              "            (20200201, '01003'),\n",
              "            (20200201, '01004'),\n",
              "            (20200201, '01005'),\n",
              "            (20200201, '01006'),\n",
              "            (20200201, '01007'),\n",
              "            (20200201, '01008'),\n",
              "            (20200201, '01009'),\n",
              "            (20200201, '01010'),\n",
              "            ...\n",
              "            (20200229, '68262'),\n",
              "            (20200229, '68263'),\n",
              "            (20200229, '68264'),\n",
              "            (20200229, '68268'),\n",
              "            (20200229, '68270'),\n",
              "            (20200229, '68271'),\n",
              "            (20200229, '68290'),\n",
              "            (20200229, '68351'),\n",
              "            (20200229, '68352'),\n",
              "            (20200229,     '~')],\n",
              "           names=['사용일자', 'ARS'], length=368013)"
            ]
          },
          "metadata": {
            "tags": []
          },
          "execution_count": 25
        }
      ]
    },
    {
      "cell_type": "markdown",
      "metadata": {
        "id": "-FRKXLI8aFKf",
        "colab_type": "text"
      },
      "source": [
        "## 해결해야 하는것\n",
        "1. ARS가 4자리로 되어있는걸 5자리로 만들어줘야 한다\n",
        "2. 날짜/ARS로 하니까 인덱스가 겹쳐버리는데, 날짜로만 인덱스 하고 ARS는 그냥 나중에 붙이는 식으로 해야할 듯. "
      ]
    },
    {
      "cell_type": "code",
      "metadata": {
        "id": "XANHGwuwaFKg",
        "colab_type": "code",
        "colab": {},
        "outputId": "961bc307-8438-4781-f791-0cd11a563c7c"
      },
      "source": [
        "ARS_list = []\n",
        "for ars in list(station_mapping['ARS']):\n",
        "    if len(ars) == 5:\n",
        "        pass\n",
        "    else:\n",
        "        "
      ],
      "execution_count": null,
      "outputs": [
        {
          "output_type": "error",
          "ename": "SyntaxError",
          "evalue": "invalid syntax (<ipython-input-22-dbc72f70081e>, line 3)",
          "traceback": [
            "\u001b[1;36m  File \u001b[1;32m\"<ipython-input-22-dbc72f70081e>\"\u001b[1;36m, line \u001b[1;32m3\u001b[0m\n\u001b[1;33m    if len(ars) == 5\u001b[0m\n\u001b[1;37m                    ^\u001b[0m\n\u001b[1;31mSyntaxError\u001b[0m\u001b[1;31m:\u001b[0m invalid syntax\n"
          ]
        }
      ]
    },
    {
      "cell_type": "code",
      "metadata": {
        "scrolled": true,
        "id": "E5K-HR-6aFKj",
        "colab_type": "code",
        "colab": {},
        "outputId": "0e6dcbc1-a154-4ce7-ae60-0c9d9ce7dbb9"
      },
      "source": [
        "group = bus_date_need.groupby(['사용일자', 'ARS']).sum()\n",
        "group"
      ],
      "execution_count": null,
      "outputs": [
        {
          "output_type": "execute_result",
          "data": {
            "text/html": [
              "<div>\n",
              "<style scoped>\n",
              "    .dataframe tbody tr th:only-of-type {\n",
              "        vertical-align: middle;\n",
              "    }\n",
              "\n",
              "    .dataframe tbody tr th {\n",
              "        vertical-align: top;\n",
              "    }\n",
              "\n",
              "    .dataframe thead th {\n",
              "        text-align: right;\n",
              "    }\n",
              "</style>\n",
              "<table border=\"1\" class=\"dataframe\">\n",
              "  <thead>\n",
              "    <tr style=\"text-align: right;\">\n",
              "      <th></th>\n",
              "      <th></th>\n",
              "      <th>승차총승객수</th>\n",
              "      <th>하차총승객수</th>\n",
              "    </tr>\n",
              "    <tr>\n",
              "      <th>사용일자</th>\n",
              "      <th>ARS</th>\n",
              "      <th></th>\n",
              "      <th></th>\n",
              "    </tr>\n",
              "  </thead>\n",
              "  <tbody>\n",
              "    <tr>\n",
              "      <th rowspan=\"5\" valign=\"top\">20200201</th>\n",
              "      <th>01001</th>\n",
              "      <td>326</td>\n",
              "      <td>446</td>\n",
              "    </tr>\n",
              "    <tr>\n",
              "      <th>01002</th>\n",
              "      <td>1063</td>\n",
              "      <td>859</td>\n",
              "    </tr>\n",
              "    <tr>\n",
              "      <th>01003</th>\n",
              "      <td>3076</td>\n",
              "      <td>1839</td>\n",
              "    </tr>\n",
              "    <tr>\n",
              "      <th>01004</th>\n",
              "      <td>491</td>\n",
              "      <td>440</td>\n",
              "    </tr>\n",
              "    <tr>\n",
              "      <th>01005</th>\n",
              "      <td>1135</td>\n",
              "      <td>2253</td>\n",
              "    </tr>\n",
              "    <tr>\n",
              "      <th>...</th>\n",
              "      <th>...</th>\n",
              "      <td>...</td>\n",
              "      <td>...</td>\n",
              "    </tr>\n",
              "    <tr>\n",
              "      <th rowspan=\"5\" valign=\"top\">20200229</th>\n",
              "      <th>68271</th>\n",
              "      <td>7</td>\n",
              "      <td>10</td>\n",
              "    </tr>\n",
              "    <tr>\n",
              "      <th>68290</th>\n",
              "      <td>34</td>\n",
              "      <td>5</td>\n",
              "    </tr>\n",
              "    <tr>\n",
              "      <th>68351</th>\n",
              "      <td>60</td>\n",
              "      <td>12</td>\n",
              "    </tr>\n",
              "    <tr>\n",
              "      <th>68352</th>\n",
              "      <td>11</td>\n",
              "      <td>50</td>\n",
              "    </tr>\n",
              "    <tr>\n",
              "      <th>~</th>\n",
              "      <td>4095</td>\n",
              "      <td>3568</td>\n",
              "    </tr>\n",
              "  </tbody>\n",
              "</table>\n",
              "<p>368013 rows × 2 columns</p>\n",
              "</div>"
            ],
            "text/plain": [
              "                승차총승객수  하차총승객수\n",
              "사용일자     ARS                  \n",
              "20200201 01001     326     446\n",
              "         01002    1063     859\n",
              "         01003    3076    1839\n",
              "         01004     491     440\n",
              "         01005    1135    2253\n",
              "...                ...     ...\n",
              "20200229 68271       7      10\n",
              "         68290      34       5\n",
              "         68351      60      12\n",
              "         68352      11      50\n",
              "         ~        4095    3568\n",
              "\n",
              "[368013 rows x 2 columns]"
            ]
          },
          "metadata": {
            "tags": []
          },
          "execution_count": 37
        }
      ]
    },
    {
      "cell_type": "code",
      "metadata": {
        "scrolled": true,
        "id": "TBbGnCr_aFKl",
        "colab_type": "code",
        "colab": {},
        "outputId": "4bf92217-06d8-41eb-9aa9-703f98347125"
      },
      "source": [
        "busARS_train_num = pd.merge(bus_date_updown, station_mapping, how='inner', on='ARS')\n",
        "busARS_train_num\n",
        "--> 안된다... ARS도 인덱스에 들어가있어...\n",
        "\n",
        "(5) index와 Key를 혼합해서 DataFrame 합치기 (Joining key columns on an index)\n",
        "\n",
        " \n",
        "\n",
        "먼저 df_left_2 는 'KEY' 를 가진 DataFrame으로 만들고, df_right_2는 index를 가진 DataFrame으로 만든 후에 이 둘을 'KEY'와 index를 혼합해서 사용해서 합쳐보겠습니다.\n",
        "\n",
        " \n",
        "\n",
        " \n",
        "\n",
        "# making DataFrame \n",
        "\n",
        "In [15]: df_left_2 = DataFrame({'KEY': ['K0', 'K1', 'K2', 'K3'],\n",
        "\n",
        "    ...: 'A': ['A0', 'A1', 'A2', 'A3'],\n",
        "\n",
        "    ...: 'B': ['B0', 'B1', 'B2', 'B3']})\n",
        "\n",
        "    ...:\n",
        "\n",
        "\n",
        "\n",
        "In [16]: df_right_2 = DataFrame({'C': ['C2', 'C3', 'C4', 'C5'],\n",
        "\n",
        "    ...: 'D': ['D2', 'D3', 'D4', 'D5']},\n",
        "\n",
        "    ...: index=['K2', 'K3', 'K4', 'K5'])\n",
        "\n",
        "    ...:\n",
        "\n",
        "\n",
        "\n",
        "In [17]: df_left_2  # with 'KEY'\n",
        "\n",
        "Out[17]:\n",
        "\n",
        "    A   B KEY\n",
        "0  A0  B0  K0\n",
        "1  A1  B1  K1\n",
        "2  A2  B2  K2\n",
        "3  A3  B3  K3\n",
        "\n",
        "\n",
        "\n",
        "In [18]: df_right_2  # with 'index'\n",
        "\n",
        "Out[18]:\n",
        "\n",
        "     C   D\n",
        "K2  C2  D2\n",
        "K3  C3  D3\n",
        "K4  C4  D4\n",
        "K5  C5  D5\n",
        "\n",
        " \n",
        "\n",
        " \n",
        "\n",
        " \n",
        "\n",
        " \n",
        "\n",
        "이제 Key와 index를 혼합해서 두 DataFrame을 합쳐보겠습니다.\n",
        "\n",
        " \n",
        "\n",
        " \n",
        "\n",
        "# joining key columns on an index\n",
        "\n",
        "# way 1 : pd.merge()\n",
        "\n",
        "In [19]: pd.merge(df_left_2, df_right_2,\n",
        "\n",
        "    ...: left_on='KEY', right_index=True,\n",
        "\n",
        "    ...: how='left')\n",
        "\n",
        "    ...:\n",
        "\n",
        "Out[19]:\n",
        "\n",
        "    A   B KEY    C    D\n",
        "0  A0  B0  K0  NaN  NaN\n",
        "1  A1  B1  K1  NaN  NaN\n",
        "2  A2  B2  K2   C2   D2\n",
        "3  A3  B3  K3   C3   D3\n",
        "\n",
        " \n",
        "\n",
        " \n",
        "\n",
        "# way 2 : join()\n",
        "\n",
        "In [20]: df_left_2.join(df_right_2, on='KEY', how='left')\n",
        "\n",
        "Out[20]:\n",
        "\n",
        "    A   B KEY    C    D\n",
        "0  A0  B0  K0  NaN  NaN\n",
        "1  A1  B1  K1  NaN  NaN\n",
        "2  A2  B2  K2   C2   D2\n",
        "3  A3  B3  K3   C3   D3\n",
        "\n",
        " \n",
        "\n",
        " \n",
        "\n",
        " \n",
        "\n",
        "이상으로 DataFrame을 index 기준으로 합치는 방법에 대한 소개를 마치겠습니다.\n",
        "\n",
        "\n",
        "\n",
        "출처: https://rfriend.tistory.com/259 [R, Python 분석과 프로그래밍의 친구 (by R Friend)]"
      ],
      "execution_count": null,
      "outputs": [
        {
          "output_type": "error",
          "ename": "SyntaxError",
          "evalue": "invalid syntax (<ipython-input-23-12e2df6d6a89>, line 4)",
          "traceback": [
            "\u001b[1;36m  File \u001b[1;32m\"<ipython-input-23-12e2df6d6a89>\"\u001b[1;36m, line \u001b[1;32m4\u001b[0m\n\u001b[1;33m    (5) index와 Key를 혼합해서 DataFrame 합치기 (Joining key columns on an index)\u001b[0m\n\u001b[1;37m        ^\u001b[0m\n\u001b[1;31mSyntaxError\u001b[0m\u001b[1;31m:\u001b[0m invalid syntax\n"
          ]
        }
      ]
    },
    {
      "cell_type": "code",
      "metadata": {
        "id": "Yumqg41UaFKo",
        "colab_type": "code",
        "colab": {}
      },
      "source": [
        ""
      ],
      "execution_count": null,
      "outputs": []
    }
  ]
}