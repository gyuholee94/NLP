{
  "nbformat": 4,
  "nbformat_minor": 0,
  "metadata": {
    "kernelspec": {
      "display_name": "Python 3",
      "language": "python",
      "name": "python3"
    },
    "language_info": {
      "codemirror_mode": {
        "name": "ipython",
        "version": 3
      },
      "file_extension": ".py",
      "mimetype": "text/x-python",
      "name": "python",
      "nbconvert_exporter": "python",
      "pygments_lexer": "ipython3",
      "version": "3.6.10"
    },
    "colab": {
      "name": "CNN_Ver_2(val_0.8).ipynb",
      "provenance": [],
      "include_colab_link": true
    }
  },
  "cells": [
    {
      "cell_type": "markdown",
      "metadata": {
        "id": "view-in-github",
        "colab_type": "text"
      },
      "source": [
        "<a href=\"https://colab.research.google.com/github/gyuholee94/NLP/blob/master/CNN_Ver_2(val_0_8).ipynb\" target=\"_parent\"><img src=\"https://colab.research.google.com/assets/colab-badge.svg\" alt=\"Open In Colab\"/></a>"
      ]
    },
    {
      "cell_type": "code",
      "metadata": {
        "id": "w-nnqdjcIe0c",
        "colab_type": "code",
        "colab": {}
      },
      "source": [
        "import pickle"
      ],
      "execution_count": 4,
      "outputs": []
    },
    {
      "cell_type": "code",
      "metadata": {
        "id": "20wU1lraIe0g",
        "colab_type": "code",
        "colab": {}
      },
      "source": [
        "with open('news_train_data.pickle', 'rb') as f: #불러오기\n",
        "    train_data = pickle.load(f)"
      ],
      "execution_count": 7,
      "outputs": []
    },
    {
      "cell_type": "code",
      "metadata": {
        "id": "eRPxxuyPIe0l",
        "colab_type": "code",
        "colab": {}
      },
      "source": [
        "with open('news_test_data.pickle', 'rb') as f: #불러오기\n",
        "    test_data = pickle.load(f)"
      ],
      "execution_count": 6,
      "outputs": []
    },
    {
      "cell_type": "code",
      "metadata": {
        "id": "xDR0i1GcIe0x",
        "colab_type": "code",
        "colab": {
          "base_uri": "https://localhost:8080/",
          "height": 34
        },
        "outputId": "f8f10ed1-22c4-4ce6-cd82-10a7473029e7"
      },
      "source": [
        "k = train_data['train_words_all']\n",
        "train_words_all = list(k)\n",
        "type(train_words_all)"
      ],
      "execution_count": 8,
      "outputs": [
        {
          "output_type": "execute_result",
          "data": {
            "text/plain": [
              "list"
            ]
          },
          "metadata": {
            "tags": []
          },
          "execution_count": 8
        }
      ]
    },
    {
      "cell_type": "code",
      "metadata": {
        "id": "O_6aGaArIe0_",
        "colab_type": "code",
        "colab": {
          "base_uri": "https://localhost:8080/",
          "height": 34
        },
        "outputId": "88f23dde-4aef-40fa-9f2b-8da643e3e3cd"
      },
      "source": [
        "k = test_data['test_words_all']\n",
        "test_words_all = list(k)\n",
        "type(test_words_all)"
      ],
      "execution_count": 9,
      "outputs": [
        {
          "output_type": "execute_result",
          "data": {
            "text/plain": [
              "list"
            ]
          },
          "metadata": {
            "tags": []
          },
          "execution_count": 9
        }
      ]
    },
    {
      "cell_type": "markdown",
      "metadata": {
        "id": "X6MlTJgzIe1D",
        "colab_type": "text"
      },
      "source": [
        "# 데이터들을 리스트로!\n",
        "train_words_all / test_words_all / train_words_some / test_words_some"
      ]
    },
    {
      "cell_type": "code",
      "metadata": {
        "id": "Eaft_bdgIe1E",
        "colab_type": "code",
        "colab": {}
      },
      "source": [
        "#명령어\n",
        "import tensorflow as tf\n",
        "from tensorflow.keras.preprocessing.text import Tokenizer\n",
        "from tensorflow.keras.preprocessing.sequence import pad_sequences\n",
        "import numpy as np\n",
        "from keras import layers\n",
        "from keras.models import Sequential\n",
        "from keras.preprocessing.text import Tokenizer, one_hot\n",
        "from keras.preprocessing.sequence import pad_sequences\n",
        "from keras.layers import Embedding, Conv1D, GlobalMaxPooling1D, Dense, Dropout, Flatten, MaxPooling1D, Input, Concatenate\n",
        "from keras.models import load_model\n",
        "from keras import regularizers\n",
        "from tensorflow.keras import regularizers\n",
        "from tensorflow.keras.preprocessing.text import Tokenizer \n",
        "import tensorflow as tf\n",
        "from tensorflow import keras \n",
        "from tensorflow.keras.preprocessing.sequence import pad_sequences\n",
        "from tensorflow.keras import Input, layers\n",
        "from keras.models import load_model"
      ],
      "execution_count": 10,
      "outputs": []
    },
    {
      "cell_type": "code",
      "metadata": {
        "id": "XFbGnK3LIe1I",
        "colab_type": "code",
        "colab": {}
      },
      "source": [
        "#파라미터\n",
        "vocab_size = 30000\n",
        "embedding_dim = 50\n",
        "max_length = 70\n",
        "truct_type = 'pre'\n",
        "padding_type = 'pre'\n",
        "oov_tok = '<OOV>'"
      ],
      "execution_count": 13,
      "outputs": []
    },
    {
      "cell_type": "code",
      "metadata": {
        "id": "KwPjV3LHPpy8",
        "colab_type": "code",
        "colab": {}
      },
      "source": [
        "{\n",
        "  \"max_len\": 70,\n",
        "  \"pad_type\": \"post\",\n",
        "  \"trunc_type\": \"post\"\n",
        "}"
      ],
      "execution_count": null,
      "outputs": []
    },
    {
      "cell_type": "code",
      "metadata": {
        "id": "cBz91iHkIe1K",
        "colab_type": "code",
        "colab": {}
      },
      "source": [
        "tokenizer = Tokenizer(num_words=vocab_size, oov_token=oov_tok)\n",
        "tokenizer.fit_on_texts(train_words_all)\n",
        "word_index = tokenizer.word_index\n",
        "\n",
        "training_sequences  = tokenizer.texts_to_sequences(train_words_all)\n",
        "training_padded = pad_sequences(training_sequences, maxlen=max_length, \n",
        "                                padding=padding_type, truncating=truct_type)\n",
        "\n",
        "testing_sequences  = tokenizer.texts_to_sequences(test_words_all)\n",
        "testing_padded = pad_sequences(testing_sequences, maxlen=max_length, \n",
        "                                padding=padding_type, truncating=truct_type)"
      ],
      "execution_count": 18,
      "outputs": []
    },
    {
      "cell_type": "code",
      "metadata": {
        "id": "ihuOVKIRPg1s",
        "colab_type": "code",
        "colab": {}
      },
      "source": [
        "with open('tokenizer.pickle', 'wb') as handle:\n",
        "    pickle.dump(tokenizer, handle, protocol=pickle.HIGHEST_PROTOCOL)"
      ],
      "execution_count": 34,
      "outputs": []
    },
    {
      "cell_type": "code",
      "metadata": {
        "id": "3s88rtQAIe1O",
        "colab_type": "code",
        "colab": {}
      },
      "source": [
        "training_padded = np.array(training_padded)\n",
        "training_labels = np.array(train_data['label'])\n",
        "\n",
        "testing_padded = np.array(testing_padded)\n",
        "testing_labels = np.array(test_data['label'])"
      ],
      "execution_count": 19,
      "outputs": []
    },
    {
      "cell_type": "code",
      "metadata": {
        "id": "xnGqcDrvIe1Z",
        "colab_type": "code",
        "colab": {
          "base_uri": "https://localhost:8080/",
          "height": 676
        },
        "outputId": "6725196f-0ee7-400a-b0be-692f4058860c"
      },
      "source": [
        "sequence_input = tf.keras.Input(shape=(max_length,), dtype='int32')\n",
        "embedding_layer = tf.keras.layers.Embedding(vocab_size,\n",
        "                                            embedding_dim,\n",
        "                                            input_length=max_length,\n",
        "                                            trainable=False)\n",
        "embedded_sequences = embedding_layer(sequence_input)\n",
        "convs = []\n",
        "filter_sizes = [3,4,5]\n",
        "for fsz in filter_sizes:\n",
        "\n",
        "    x = tf.keras.layers.Conv1D(100, fsz, activation='relu',padding='same')(embedded_sequences)\n",
        "    x = tf.keras.layers.MaxPooling1D()(x)\n",
        "    convs.append(x)\n",
        "\n",
        "x = tf.keras.layers.Concatenate(axis=-1)(convs)\n",
        "x = tf.keras.layers.GlobalAveragePooling1D()(x)\n",
        "x = tf.keras.layers.Dense(128, activation='relu')(x)\n",
        "\n",
        "x = tf.keras.layers.Dropout(0.5)(x)\n",
        "\n",
        "output = tf.keras.layers.Dense(1, activation='sigmoid')(x)\n",
        "model = tf.keras.models.Model(sequence_input, output)\n",
        "model.compile(loss='binary_crossentropy', optimizer='adam', metrics=['accuracy'])\n",
        "model.summary()"
      ],
      "execution_count": 27,
      "outputs": [
        {
          "output_type": "stream",
          "text": [
            "Model: \"functional_1\"\n",
            "__________________________________________________________________________________________________\n",
            "Layer (type)                    Output Shape         Param #     Connected to                     \n",
            "==================================================================================================\n",
            "input_5 (InputLayer)            [(None, 70)]         0                                            \n",
            "__________________________________________________________________________________________________\n",
            "embedding_4 (Embedding)         (None, 70, 50)       1500000     input_5[0][0]                    \n",
            "__________________________________________________________________________________________________\n",
            "conv1d_3 (Conv1D)               (None, 70, 100)      15100       embedding_4[0][0]                \n",
            "__________________________________________________________________________________________________\n",
            "conv1d_4 (Conv1D)               (None, 70, 100)      20100       embedding_4[0][0]                \n",
            "__________________________________________________________________________________________________\n",
            "conv1d_5 (Conv1D)               (None, 70, 100)      25100       embedding_4[0][0]                \n",
            "__________________________________________________________________________________________________\n",
            "max_pooling1d_3 (MaxPooling1D)  (None, 35, 100)      0           conv1d_3[0][0]                   \n",
            "__________________________________________________________________________________________________\n",
            "max_pooling1d_4 (MaxPooling1D)  (None, 35, 100)      0           conv1d_4[0][0]                   \n",
            "__________________________________________________________________________________________________\n",
            "max_pooling1d_5 (MaxPooling1D)  (None, 35, 100)      0           conv1d_5[0][0]                   \n",
            "__________________________________________________________________________________________________\n",
            "concatenate_1 (Concatenate)     (None, 35, 300)      0           max_pooling1d_3[0][0]            \n",
            "                                                                 max_pooling1d_4[0][0]            \n",
            "                                                                 max_pooling1d_5[0][0]            \n",
            "__________________________________________________________________________________________________\n",
            "global_average_pooling1d_1 (Glo (None, 300)          0           concatenate_1[0][0]              \n",
            "__________________________________________________________________________________________________\n",
            "dense_2 (Dense)                 (None, 128)          38528       global_average_pooling1d_1[0][0] \n",
            "__________________________________________________________________________________________________\n",
            "dropout_1 (Dropout)             (None, 128)          0           dense_2[0][0]                    \n",
            "__________________________________________________________________________________________________\n",
            "dense_3 (Dense)                 (None, 1)            129         dropout_1[0][0]                  \n",
            "==================================================================================================\n",
            "Total params: 1,598,957\n",
            "Trainable params: 98,957\n",
            "Non-trainable params: 1,500,000\n",
            "__________________________________________________________________________________________________\n"
          ],
          "name": "stdout"
        }
      ]
    },
    {
      "cell_type": "code",
      "metadata": {
        "id": "J8N1GCdqIe1g",
        "colab_type": "code",
        "colab": {}
      },
      "source": [
        "model.compile(optimizer='adam',\n",
        "              loss='binary_crossentropy',\n",
        "              metrics=['accuracy'])"
      ],
      "execution_count": 28,
      "outputs": []
    },
    {
      "cell_type": "code",
      "metadata": {
        "id": "51R_67qUIe1i",
        "colab_type": "code",
        "colab": {
          "base_uri": "https://localhost:8080/",
          "height": 321
        },
        "outputId": "854f3fca-cb60-4c80-e89f-89b57060155e"
      },
      "source": [
        "num_epochs = 20\n",
        "callback = tf.keras.callbacks.EarlyStopping(monitor='val_loss', min_delta=0, patience=5, verbose=0, mode='auto', baseline=None, restore_best_weights=True)\n",
        "history = model.fit(training_padded, training_labels, epochs=num_epochs, validation_data=(testing_padded, testing_labels), verbose=2, callbacks=[callback])\n"
      ],
      "execution_count": 31,
      "outputs": [
        {
          "output_type": "stream",
          "text": [
            "Epoch 1/20\n",
            "4569/4569 - 116s - loss: 0.4204 - accuracy: 0.8054 - val_loss: 0.4368 - val_accuracy: 0.7912\n",
            "Epoch 2/20\n",
            "4569/4569 - 118s - loss: 0.3934 - accuracy: 0.8227 - val_loss: 0.4285 - val_accuracy: 0.7950\n",
            "Epoch 3/20\n",
            "4569/4569 - 118s - loss: 0.3699 - accuracy: 0.8350 - val_loss: 0.4167 - val_accuracy: 0.8043\n",
            "Epoch 4/20\n",
            "4569/4569 - 118s - loss: 0.3489 - accuracy: 0.8467 - val_loss: 0.4197 - val_accuracy: 0.8027\n",
            "Epoch 5/20\n",
            "4569/4569 - 116s - loss: 0.3299 - accuracy: 0.8577 - val_loss: 0.4323 - val_accuracy: 0.8021\n",
            "Epoch 6/20\n",
            "4569/4569 - 114s - loss: 0.3124 - accuracy: 0.8684 - val_loss: 0.4383 - val_accuracy: 0.8023\n",
            "Epoch 7/20\n",
            "4569/4569 - 116s - loss: 0.2956 - accuracy: 0.8763 - val_loss: 0.4478 - val_accuracy: 0.8003\n",
            "Epoch 8/20\n",
            "4569/4569 - 116s - loss: 0.2790 - accuracy: 0.8842 - val_loss: 0.4451 - val_accuracy: 0.8033\n"
          ],
          "name": "stdout"
        }
      ]
    },
    {
      "cell_type": "code",
      "metadata": {
        "id": "KUCG6HAoIe1l",
        "colab_type": "code",
        "colab": {
          "base_uri": "https://localhost:8080/",
          "height": 541
        },
        "outputId": "ac4d9be1-56c7-435a-c39a-faa24065ca09"
      },
      "source": [
        "import matplotlib.pyplot as plt\n",
        "\n",
        "def plot_graphs(history, string):\n",
        "  plt.plot(history.history[string])\n",
        "  plt.plot(history.history['val_' + string])\n",
        "  plt.xlabel(\"Epochs\")\n",
        "  plt.ylabel(string)\n",
        "  plt.legend([string, 'val_' + string])\n",
        "  plt.show()\n",
        "\n",
        "plot_graphs(history, 'accuracy')\n",
        "plot_graphs(history, 'loss')"
      ],
      "execution_count": 35,
      "outputs": [
        {
          "output_type": "display_data",
          "data": {
            "image/png": "[encoded data removed]",
            "text/plain": [
              "<Figure size 432x288 with 1 Axes>"
            ]
          },
          "metadata": {
            "tags": [],
            "needs_background": "light"
          }
        },
        {
          "output_type": "display_data",
          "data": {
            "image/png": "[encoded data removed]",
            "text/plain": [
              "<Figure size 432x288 with 1 Axes>"
            ]
          },
          "metadata": {
            "tags": [],
            "needs_background": "light"
          }
        }
      ]
    },
    {
      "cell_type": "code",
      "metadata": {
        "id": "zAwBwrt2Ie1n",
        "colab_type": "code",
        "colab": {
          "base_uri": "https://localhost:8080/",
          "height": 161
        },
        "outputId": "26b514f1-c16d-4926-c906-cc6e0c7e4ba3"
      },
      "source": [
        "!mkdir -p saved_model\n",
        "model.save('saved_model_naver/my_model')"
      ],
      "execution_count": 36,
      "outputs": [
        {
          "output_type": "stream",
          "text": [
            "WARNING:tensorflow:From /usr/local/lib/python3.6/dist-packages/tensorflow/python/training/tracking/tracking.py:111: Model.state_updates (from tensorflow.python.keras.engine.training) is deprecated and will be removed in a future version.\n",
            "Instructions for updating:\n",
            "This property should not be used in TensorFlow 2.0, as updates are applied automatically.\n",
            "WARNING:tensorflow:From /usr/local/lib/python3.6/dist-packages/tensorflow/python/training/tracking/tracking.py:111: Layer.updates (from tensorflow.python.keras.engine.base_layer) is deprecated and will be removed in a future version.\n",
            "Instructions for updating:\n",
            "This property should not be used in TensorFlow 2.0, as updates are applied automatically.\n",
            "INFO:tensorflow:Assets written to: saved_model_naver/my_model/assets\n"
          ],
          "name": "stdout"
        }
      ]
    },
    {
      "cell_type": "code",
      "metadata": {
        "id": "TojuSSi4Ie1q",
        "colab_type": "code",
        "colab": {}
      },
      "source": [
        ""
      ],
      "execution_count": null,
      "outputs": []
    }
  ]
}