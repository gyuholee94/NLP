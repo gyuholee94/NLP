{
  "nbformat": 4,
  "nbformat_minor": 0,
  "metadata": {
    "kernelspec": {
      "display_name": "Python 3",
      "language": "python",
      "name": "python3"
    },
    "language_info": {
      "codemirror_mode": {
        "name": "ipython",
        "version": 3
      },
      "file_extension": ".py",
      "mimetype": "text/x-python",
      "name": "python",
      "nbconvert_exporter": "python",
      "pygments_lexer": "ipython3",
      "version": "3.6.10"
    },
    "colab": {
      "name": "FastText_naver.ipynb",
      "provenance": [],
      "include_colab_link": true
    }
  },
  "cells": [
    {
      "cell_type": "markdown",
      "metadata": {
        "id": "view-in-github",
        "colab_type": "text"
      },
      "source": [
        "<a href=\"https://colab.research.google.com/github/gyuholee94/NLP/blob/master/FastText_naver.ipynb\" target=\"_parent\"><img src=\"https://colab.research.google.com/assets/colab-badge.svg\" alt=\"Open In Colab\"/></a>"
      ]
    },
    {
      "cell_type": "code",
      "metadata": {
        "collapsed": true,
        "id": "WbmYTav7C_AQ",
        "colab_type": "code",
        "colab": {},
        "outputId": "d9590ddf-4486-4c42-c68d-9be5e234f350"
      },
      "source": [
        "!pip install gensim"
      ],
      "execution_count": null,
      "outputs": [
        {
          "output_type": "stream",
          "text": [
            "Requirement already satisfied: gensim in /home/jun/anaconda3/envs/jun/lib/python3.6/site-packages (3.8.3)\n",
            "Requirement already satisfied: smart-open>=1.8.1 in /home/jun/anaconda3/envs/jun/lib/python3.6/site-packages (from gensim) (2.1.0)\n",
            "Requirement already satisfied: scipy>=0.18.1 in /home/jun/anaconda3/envs/jun/lib/python3.6/site-packages (from gensim) (1.4.1)\n",
            "Requirement already satisfied: six>=1.5.0 in /home/jun/anaconda3/envs/jun/lib/python3.6/site-packages (from gensim) (1.15.0)\n",
            "Requirement already satisfied: numpy>=1.11.3 in /home/jun/anaconda3/envs/jun/lib/python3.6/site-packages (from gensim) (1.18.5)\n",
            "Requirement already satisfied: requests in /home/jun/anaconda3/envs/jun/lib/python3.6/site-packages (from smart-open>=1.8.1->gensim) (2.24.0)\n",
            "Requirement already satisfied: boto3 in /home/jun/anaconda3/envs/jun/lib/python3.6/site-packages (from smart-open>=1.8.1->gensim) (1.14.29)\n",
            "Requirement already satisfied: boto in /home/jun/anaconda3/envs/jun/lib/python3.6/site-packages (from smart-open>=1.8.1->gensim) (2.49.0)\n",
            "Requirement already satisfied: chardet<4,>=3.0.2 in /home/jun/anaconda3/envs/jun/lib/python3.6/site-packages (from requests->smart-open>=1.8.1->gensim) (3.0.4)\n",
            "Requirement already satisfied: idna<3,>=2.5 in /home/jun/anaconda3/envs/jun/lib/python3.6/site-packages (from requests->smart-open>=1.8.1->gensim) (2.10)\n",
            "Requirement already satisfied: urllib3!=1.25.0,!=1.25.1,<1.26,>=1.21.1 in /home/jun/anaconda3/envs/jun/lib/python3.6/site-packages (from requests->smart-open>=1.8.1->gensim) (1.25.9)\n",
            "Requirement already satisfied: certifi>=2017.4.17 in /home/jun/anaconda3/envs/jun/lib/python3.6/site-packages (from requests->smart-open>=1.8.1->gensim) (2020.6.20)\n",
            "Requirement already satisfied: jmespath<1.0.0,>=0.7.1 in /home/jun/anaconda3/envs/jun/lib/python3.6/site-packages (from boto3->smart-open>=1.8.1->gensim) (0.10.0)\n",
            "Requirement already satisfied: s3transfer<0.4.0,>=0.3.0 in /home/jun/anaconda3/envs/jun/lib/python3.6/site-packages (from boto3->smart-open>=1.8.1->gensim) (0.3.3)\n",
            "Requirement already satisfied: botocore<1.18.0,>=1.17.29 in /home/jun/anaconda3/envs/jun/lib/python3.6/site-packages (from boto3->smart-open>=1.8.1->gensim) (1.17.29)\n",
            "Requirement already satisfied: docutils<0.16,>=0.10 in /home/jun/anaconda3/envs/jun/lib/python3.6/site-packages (from botocore<1.18.0,>=1.17.29->boto3->smart-open>=1.8.1->gensim) (0.15.2)\n",
            "Requirement already satisfied: python-dateutil<3.0.0,>=2.1 in /home/jun/anaconda3/envs/jun/lib/python3.6/site-packages (from botocore<1.18.0,>=1.17.29->boto3->smart-open>=1.8.1->gensim) (2.8.1)\n"
          ],
          "name": "stdout"
        }
      ]
    },
    {
      "cell_type": "code",
      "metadata": {
        "id": "1x22L34sC_BD",
        "colab_type": "code",
        "colab": {}
      },
      "source": [
        "#명령어\n",
        "import tensorflow as tf\n",
        "from tensorflow.keras.preprocessing.text import Tokenizer\n",
        "from tensorflow.keras.preprocessing.sequence import pad_sequences\n",
        "import numpy as np"
      ],
      "execution_count": null,
      "outputs": []
    },
    {
      "cell_type": "code",
      "metadata": {
        "id": "aifnL3UBC_BV",
        "colab_type": "code",
        "colab": {}
      },
      "source": [
        "vocab_size = 47228\n",
        "embedding_dim = 300\n",
        "max_length = 71\n",
        "truct_type = 'post'\n",
        "padding_type = 'post'\n",
        "oov_tok = '<OOV>'"
      ],
      "execution_count": null,
      "outputs": []
    },
    {
      "cell_type": "code",
      "metadata": {
        "id": "MMy47RtzC_Bn",
        "colab_type": "code",
        "colab": {}
      },
      "source": [
        "import pickle\n",
        "with open('news_train_data.pickle', 'rb') as f: #불러오기\n",
        "      train_data = pickle.load(f)\n",
        "        \n",
        "with open('news_test_data.pickle', 'rb') as f: #불러오기\n",
        "      test_data = pickle.load(f)"
      ],
      "execution_count": null,
      "outputs": []
    },
    {
      "cell_type": "code",
      "metadata": {
        "id": "htFtnJk6C_B3",
        "colab_type": "code",
        "colab": {}
      },
      "source": [
        "data = train_data['train_words_all']"
      ],
      "execution_count": null,
      "outputs": []
    },
    {
      "cell_type": "code",
      "metadata": {
        "id": "RuXAwy3gC_CM",
        "colab_type": "code",
        "colab": {}
      },
      "source": [
        "from gensim.models import FastText\n",
        "\n",
        "Fast_naver = FastText(data, \n",
        "                 size=300, \n",
        "                 window=5, \n",
        "                 min_count=10, \n",
        "                 alpha=0.025, \n",
        "                 sg=1, \n",
        "                 iter=200\n",
        "                   )"
      ],
      "execution_count": null,
      "outputs": []
    },
    {
      "cell_type": "code",
      "metadata": {
        "id": "hYQjNM3uC_C-",
        "colab_type": "code",
        "colab": {},
        "outputId": "b7cf1a08-d593-42b2-de0c-62b4206b9310"
      },
      "source": [
        "Fast_naver"
      ],
      "execution_count": null,
      "outputs": [
        {
          "output_type": "execute_result",
          "data": {
            "text/plain": [
              "<gensim.models.fasttext.FastText at 0x7f175c4500b8>"
            ]
          },
          "metadata": {
            "tags": []
          },
          "execution_count": 12
        }
      ]
    },
    {
      "cell_type": "code",
      "metadata": {
        "id": "nQ1hBqmzC_DV",
        "colab_type": "code",
        "colab": {}
      },
      "source": [
        "tokenizer = Tokenizer(num_words=vocab_size, oov_token=oov_tok)\n",
        "tokenizer.fit_on_texts(data)\n",
        "word_index = tokenizer.word_index"
      ],
      "execution_count": null,
      "outputs": []
    },
    {
      "cell_type": "code",
      "metadata": {
        "id": "3zALvCOHC_Db",
        "colab_type": "code",
        "colab": {},
        "outputId": "81022b0f-3d85-49cd-ec25-f25ded4f6f43"
      },
      "source": [
        "Fasttext_naver = list(word_index.keys())\n",
        "Fasttext_naver[-1]"
      ],
      "execution_count": null,
      "outputs": [
        {
          "output_type": "execute_result",
          "data": {
            "text/plain": [
              "'수간'"
            ]
          },
          "metadata": {
            "tags": []
          },
          "execution_count": 14
        }
      ]
    },
    {
      "cell_type": "code",
      "metadata": {
        "id": "AddG2IUdC_Dj",
        "colab_type": "code",
        "colab": {},
        "outputId": "0531539f-2298-4543-fe98-5103f7b96618"
      },
      "source": [
        "Fasttext_naver_1= Fast_naver.wv.__getitem__(Fasttext_naver)\n",
        "Fasttext_naver_1.shape"
      ],
      "execution_count": null,
      "outputs": [
        {
          "output_type": "execute_result",
          "data": {
            "text/plain": [
              "(47228, 300)"
            ]
          },
          "metadata": {
            "tags": []
          },
          "execution_count": 16
        }
      ]
    },
    {
      "cell_type": "code",
      "metadata": {
        "id": "Io0QOdHdC_Ds",
        "colab_type": "code",
        "colab": {}
      },
      "source": [
        "training_sequences  = tokenizer.texts_to_sequences(data)\n",
        "training_padded = pad_sequences(training_sequences, maxlen=max_length, \n",
        "                                padding=padding_type, truncating=truct_type)\n",
        "\n",
        "testing_sequences  = tokenizer.texts_to_sequences(test_data['test_words_all'])\n",
        "testing_padded = pad_sequences(testing_sequences, maxlen=max_length, \n",
        "                                padding=padding_type, truncating=truct_type)"
      ],
      "execution_count": null,
      "outputs": []
    },
    {
      "cell_type": "code",
      "metadata": {
        "id": "-M_EATn3C_D3",
        "colab_type": "code",
        "colab": {}
      },
      "source": [
        "training_padded = np.array(training_padded)\n",
        "training_labels = np.array(train_data['label'])\n",
        "\n",
        "testing_padded = np.array(testing_padded)\n",
        "testing_labels = np.array(test_data['label'])"
      ],
      "execution_count": null,
      "outputs": []
    },
    {
      "cell_type": "code",
      "metadata": {
        "id": "xC24OyZCC_D-",
        "colab_type": "code",
        "colab": {}
      },
      "source": [
        "from tensorflow.keras.layers import Embedding, Conv1D, GlobalMaxPooling1D, Dense, Dropout, Flatten, MaxPooling1D, Input, Concatenate\n",
        "sequence_input = Input(shape=(max_length,), dtype='int32')\n",
        "embedding_layer = Embedding(vocab_size,\n",
        "                            embedding_dim,\n",
        "                            weights=[Fasttext_naver_1],\n",
        "                            input_length=max_length,\n",
        "                            trainable=False)\n",
        "embedded_sequences = embedding_layer(sequence_input)"
      ],
      "execution_count": null,
      "outputs": []
    },
    {
      "cell_type": "code",
      "metadata": {
        "id": "6MHsXuMlC_EH",
        "colab_type": "code",
        "colab": {},
        "outputId": "2f0b4f82-a1d3-4823-91b5-aa405a57f98d"
      },
      "source": [
        "from tensorflow.keras import regularizers\n",
        "convs = []\n",
        "filter_sizes = [3,4,5]\n",
        "for fsz in filter_sizes:\n",
        "    x = Conv1D(128, fsz, activation='relu',padding='same', kernel_regularizer=tf.keras.regularizers.l2(0.003))(embedded_sequences)\n",
        "    x = MaxPooling1D()(x)\n",
        "    convs.append(x)\n",
        "x = Concatenate(axis=-1)(convs)\n",
        "x = Flatten()(x)\n",
        "x = Dense(128, activation='relu')(x)\n",
        "x = Dropout(0.5)(x)\n",
        "output = Dense(1, activation='sigmoid')(x)\n",
        "model = tf.keras.Model(sequence_input, output)\n",
        "model.compile(loss='binary_crossentropy',\n",
        "              optimizer='adam',\n",
        "              metrics=['accuracy'])\n",
        "model.summary()"
      ],
      "execution_count": null,
      "outputs": [
        {
          "output_type": "stream",
          "text": [
            "Model: \"functional_1\"\n",
            "__________________________________________________________________________________________________\n",
            "Layer (type)                    Output Shape         Param #     Connected to                     \n",
            "==================================================================================================\n",
            "input_1 (InputLayer)            [(None, 71)]         0                                            \n",
            "__________________________________________________________________________________________________\n",
            "embedding (Embedding)           (None, 71, 300)      14168400    input_1[0][0]                    \n",
            "__________________________________________________________________________________________________\n",
            "conv1d (Conv1D)                 (None, 71, 128)      115328      embedding[0][0]                  \n",
            "__________________________________________________________________________________________________\n",
            "conv1d_1 (Conv1D)               (None, 71, 128)      153728      embedding[0][0]                  \n",
            "__________________________________________________________________________________________________\n",
            "conv1d_2 (Conv1D)               (None, 71, 128)      192128      embedding[0][0]                  \n",
            "__________________________________________________________________________________________________\n",
            "max_pooling1d (MaxPooling1D)    (None, 35, 128)      0           conv1d[0][0]                     \n",
            "__________________________________________________________________________________________________\n",
            "max_pooling1d_1 (MaxPooling1D)  (None, 35, 128)      0           conv1d_1[0][0]                   \n",
            "__________________________________________________________________________________________________\n",
            "max_pooling1d_2 (MaxPooling1D)  (None, 35, 128)      0           conv1d_2[0][0]                   \n",
            "__________________________________________________________________________________________________\n",
            "concatenate (Concatenate)       (None, 35, 384)      0           max_pooling1d[0][0]              \n",
            "                                                                 max_pooling1d_1[0][0]            \n",
            "                                                                 max_pooling1d_2[0][0]            \n",
            "__________________________________________________________________________________________________\n",
            "flatten (Flatten)               (None, 13440)        0           concatenate[0][0]                \n",
            "__________________________________________________________________________________________________\n",
            "dense (Dense)                   (None, 128)          1720448     flatten[0][0]                    \n",
            "__________________________________________________________________________________________________\n",
            "dropout (Dropout)               (None, 128)          0           dense[0][0]                      \n",
            "__________________________________________________________________________________________________\n",
            "dense_1 (Dense)                 (None, 1)            129         dropout[0][0]                    \n",
            "==================================================================================================\n",
            "Total params: 16,350,161\n",
            "Trainable params: 2,181,761\n",
            "Non-trainable params: 14,168,400\n",
            "__________________________________________________________________________________________________\n"
          ],
          "name": "stdout"
        }
      ]
    },
    {
      "cell_type": "code",
      "metadata": {
        "id": "TO8qB3pdC_EP",
        "colab_type": "code",
        "colab": {},
        "outputId": "4b6fe74b-856e-446a-9591-1fafa18c2990"
      },
      "source": [
        "num_epochs = 30\n",
        "history = model.fit(training_padded, training_labels, epochs=num_epochs, validation_data=(testing_padded, testing_labels), verbose=2)"
      ],
      "execution_count": null,
      "outputs": [
        {
          "output_type": "stream",
          "text": [
            "Epoch 1/30\n",
            "4569/4569 - 381s - loss: 0.5913 - accuracy: 0.6788 - val_loss: 0.5940 - val_accuracy: 0.6761\n",
            "Epoch 2/30\n",
            "4569/4569 - 379s - loss: 0.5911 - accuracy: 0.6787 - val_loss: 0.5924 - val_accuracy: 0.6723\n",
            "Epoch 3/30\n",
            "4569/4569 - 379s - loss: 0.5898 - accuracy: 0.6783 - val_loss: 0.5957 - val_accuracy: 0.6716\n",
            "Epoch 4/30\n",
            "4569/4569 - 374s - loss: 0.5904 - accuracy: 0.6773 - val_loss: 0.5932 - val_accuracy: 0.6755\n",
            "Epoch 5/30\n",
            "4569/4569 - 374s - loss: 0.5902 - accuracy: 0.6783 - val_loss: 0.5976 - val_accuracy: 0.6714\n",
            "Epoch 6/30\n",
            "4569/4569 - 377s - loss: 0.5893 - accuracy: 0.6787 - val_loss: 0.5939 - val_accuracy: 0.6741\n",
            "Epoch 7/30\n",
            "4569/4569 - 385s - loss: 0.5887 - accuracy: 0.6789 - val_loss: 0.5931 - val_accuracy: 0.6738\n",
            "Epoch 8/30\n",
            "4569/4569 - 371s - loss: 0.5893 - accuracy: 0.6773 - val_loss: 0.5939 - val_accuracy: 0.6719\n",
            "Epoch 9/30\n",
            "4569/4569 - 372s - loss: 0.5893 - accuracy: 0.6775 - val_loss: 0.5992 - val_accuracy: 0.6690\n",
            "Epoch 10/30\n",
            "4569/4569 - 372s - loss: 0.5884 - accuracy: 0.6801 - val_loss: 0.5941 - val_accuracy: 0.6750\n",
            "Epoch 11/30\n",
            "4569/4569 - 377s - loss: 0.5881 - accuracy: 0.6791 - val_loss: 0.5972 - val_accuracy: 0.6721\n",
            "Epoch 12/30\n",
            "4569/4569 - 374s - loss: 0.5881 - accuracy: 0.6786 - val_loss: 0.5907 - val_accuracy: 0.6742\n",
            "Epoch 13/30\n",
            "4569/4569 - 371s - loss: 0.5879 - accuracy: 0.6787 - val_loss: 0.5973 - val_accuracy: 0.6688\n",
            "Epoch 14/30\n",
            "4569/4569 - 371s - loss: 0.5883 - accuracy: 0.6785 - val_loss: 0.5925 - val_accuracy: 0.6750\n",
            "Epoch 15/30\n",
            "4569/4569 - 371s - loss: 0.5880 - accuracy: 0.6793 - val_loss: 0.5928 - val_accuracy: 0.6721\n",
            "Epoch 16/30\n",
            "4569/4569 - 371s - loss: 0.5880 - accuracy: 0.6787 - val_loss: 0.5966 - val_accuracy: 0.6692\n",
            "Epoch 17/30\n",
            "4569/4569 - 370s - loss: 0.5882 - accuracy: 0.6783 - val_loss: 0.6045 - val_accuracy: 0.6675\n",
            "Epoch 18/30\n",
            "4569/4569 - 371s - loss: 0.5881 - accuracy: 0.6778 - val_loss: 0.5921 - val_accuracy: 0.6730\n",
            "Epoch 19/30\n",
            "4569/4569 - 368s - loss: 0.5873 - accuracy: 0.6791 - val_loss: 0.5931 - val_accuracy: 0.6731\n",
            "Epoch 20/30\n",
            "4569/4569 - 375s - loss: 0.5874 - accuracy: 0.6789 - val_loss: 0.5967 - val_accuracy: 0.6728\n",
            "Epoch 21/30\n",
            "4569/4569 - 376s - loss: 0.5875 - accuracy: 0.6794 - val_loss: 0.5911 - val_accuracy: 0.6745\n",
            "Epoch 22/30\n",
            "4569/4569 - 375s - loss: 0.5874 - accuracy: 0.6785 - val_loss: 0.5924 - val_accuracy: 0.6749\n",
            "Epoch 23/30\n",
            "4569/4569 - 371s - loss: 0.5870 - accuracy: 0.6783 - val_loss: 0.5951 - val_accuracy: 0.6736\n",
            "Epoch 24/30\n",
            "4569/4569 - 369s - loss: 0.5882 - accuracy: 0.6779 - val_loss: 0.5929 - val_accuracy: 0.6740\n",
            "Epoch 25/30\n",
            "4569/4569 - 370s - loss: 0.5877 - accuracy: 0.6785 - val_loss: 0.5937 - val_accuracy: 0.6720\n",
            "Epoch 26/30\n",
            "4569/4569 - 370s - loss: 0.5877 - accuracy: 0.6790 - val_loss: 0.5941 - val_accuracy: 0.6716\n",
            "Epoch 27/30\n",
            "4569/4569 - 371s - loss: 0.5882 - accuracy: 0.6770 - val_loss: 0.5962 - val_accuracy: 0.6728\n",
            "Epoch 28/30\n",
            "4569/4569 - 369s - loss: 0.5874 - accuracy: 0.6796 - val_loss: 0.5935 - val_accuracy: 0.6761\n",
            "Epoch 29/30\n",
            "4569/4569 - 368s - loss: 0.5871 - accuracy: 0.6783 - val_loss: 0.5927 - val_accuracy: 0.6730\n",
            "Epoch 30/30\n",
            "4569/4569 - 369s - loss: 0.5872 - accuracy: 0.6798 - val_loss: 0.5925 - val_accuracy: 0.6742\n"
          ],
          "name": "stdout"
        }
      ]
    },
    {
      "cell_type": "code",
      "metadata": {
        "id": "__CbOUczC_Ee",
        "colab_type": "code",
        "colab": {},
        "outputId": "ce7743c3-8c28-434b-afca-5aec71435cd5"
      },
      "source": [
        "import matplotlib.pyplot as plt\n",
        "\n",
        "def plot_graphs(history, string):\n",
        "  plt.plot(history.history[string])\n",
        "  plt.plot(history.history['val_' + string])\n",
        "  plt.xlabel(\"Epochs\")\n",
        "  plt.ylabel(string)\n",
        "  plt.legend([string, 'val_' + string])\n",
        "  plt.show()\n",
        "\n",
        "plot_graphs(history, 'accuracy')\n",
        "plot_graphs(history, 'loss')"
      ],
      "execution_count": null,
      "outputs": [
        {
          "output_type": "display_data",
          "data": {
            "image/png": "[encoded data removed]",
            "text/plain": [
              "<Figure size 432x288 with 1 Axes>"
            ]
          },
          "metadata": {
            "tags": [],
            "needs_background": "light"
          }
        },
        {
          "output_type": "display_data",
          "data": {
            "image/png": "[encoded data removed]",
            "text/plain": [
              "<Figure size 432x288 with 1 Axes>"
            ]
          },
          "metadata": {
            "tags": [],
            "needs_background": "light"
          }
        }
      ]
    },
    {
      "cell_type": "code",
      "metadata": {
        "id": "_ouTo4k7C_Eo",
        "colab_type": "code",
        "colab": {},
        "outputId": "b7c701a4-e529-4a44-aeef-dda9f335b0ec"
      },
      "source": [
        "!mkdir -p saved_model\n",
        "model.save('saved_model/my_model') # 학습된 모델 저장"
      ],
      "execution_count": null,
      "outputs": [
        {
          "output_type": "stream",
          "text": [
            "INFO:tensorflow:Assets written to: saved_model/my_model/assets\n"
          ],
          "name": "stdout"
        }
      ]
    },
    {
      "cell_type": "code",
      "metadata": {
        "id": "q4pwj9PPC_Eu",
        "colab_type": "code",
        "colab": {}
      },
      "source": [
        "new_model = tf.keras.models.load_model('saved_model/my_model')"
      ],
      "execution_count": null,
      "outputs": []
    },
    {
      "cell_type": "code",
      "metadata": {
        "id": "1nPyCquhC_E9",
        "colab_type": "code",
        "colab": {},
        "outputId": "3941d0f1-dd19-44d6-e280-2b7863af3e4d"
      },
      "source": [
        "new_model"
      ],
      "execution_count": null,
      "outputs": [
        {
          "output_type": "execute_result",
          "data": {
            "text/plain": [
              "<tensorflow.python.keras.engine.functional.Functional at 0x7f15cb6f9e10>"
            ]
          },
          "metadata": {
            "tags": []
          },
          "execution_count": 36
        }
      ]
    },
    {
      "cell_type": "code",
      "metadata": {
        "id": "j_AvCmfFC_FF",
        "colab_type": "code",
        "colab": {}
      },
      "source": [
        ""
      ],
      "execution_count": null,
      "outputs": []
    }
  ]
}