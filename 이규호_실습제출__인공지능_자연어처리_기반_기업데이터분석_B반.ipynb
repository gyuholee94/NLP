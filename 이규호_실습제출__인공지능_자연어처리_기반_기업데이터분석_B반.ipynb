{
  "nbformat": 4,
  "nbformat_minor": 0,
  "metadata": {
    "colab": {
      "name": "이규호 실습제출 _인공지능 자연어처리 기반 기업데이터분석 B반.ipynb",
      "provenance": [],
      "collapsed_sections": [],
      "toc_visible": true,
      "authorship_tag": "ABX9TyNq4vkTowSx2kzivtRq7RxH",
      "include_colab_link": true
    },
    "kernelspec": {
      "name": "python3",
      "display_name": "Python 3"
    }
  },
  "cells": [
    {
      "cell_type": "markdown",
      "metadata": {
        "id": "view-in-github",
        "colab_type": "text"
      },
      "source": [
        "<a href=\"https://colab.research.google.com/github/gyuholee94/NLP/blob/master/%EC%9D%B4%EA%B7%9C%ED%98%B8_%EC%8B%A4%EC%8A%B5%EC%A0%9C%EC%B6%9C__%EC%9D%B8%EA%B3%B5%EC%A7%80%EB%8A%A5_%EC%9E%90%EC%97%B0%EC%96%B4%EC%B2%98%EB%A6%AC_%EA%B8%B0%EB%B0%98_%EA%B8%B0%EC%97%85%EB%8D%B0%EC%9D%B4%ED%84%B0%EB%B6%84%EC%84%9D_B%EB%B0%98.ipynb\" target=\"_parent\"><img src=\"https://colab.research.google.com/assets/colab-badge.svg\" alt=\"Open In Colab\"/></a>"
      ]
    },
    {
      "cell_type": "markdown",
      "metadata": {
        "id": "7UgiF_suxklt",
        "colab_type": "text"
      },
      "source": [
        "# 1번 문항"
      ]
    },
    {
      "cell_type": "code",
      "metadata": {
        "id": "dA5rqgO8wfdN",
        "colab_type": "code",
        "colab": {}
      },
      "source": [
        "from bs4 import BeautifulSoup\n",
        "import requests\n",
        "import pandas as pd\n",
        "import matplotlib.pyplot as plt\n",
        "import numpy as np\n",
        "import tqdm\n",
        "import matplotlib.pyplot as plt\n",
        "\n"
      ],
      "execution_count": null,
      "outputs": []
    },
    {
      "cell_type": "code",
      "metadata": {
        "id": "vhTV5UsKw0YR",
        "colab_type": "code",
        "colab": {
          "base_uri": "https://localhost:8080/",
          "height": 34
        },
        "outputId": "182d7917-749e-4cf8-87ce-5fc1f25ab648"
      },
      "source": [
        "url = 'https://finance.naver.com/sise/sise_index_day.nhn'\n",
        "query = {\n",
        "    'code' : 'KPI200'\n",
        "}\n",
        "resp = requests.get(url, query)\n",
        "resp"
      ],
      "execution_count": null,
      "outputs": [
        {
          "output_type": "execute_result",
          "data": {
            "text/plain": [
              "<Response [200]>"
            ]
          },
          "metadata": {
            "tags": []
          },
          "execution_count": 141
        }
      ]
    },
    {
      "cell_type": "code",
      "metadata": {
        "id": "XqDenphsxZaW",
        "colab_type": "code",
        "colab": {
          "base_uri": "https://localhost:8080/",
          "height": 54
        },
        "outputId": "c5bbad6f-764d-41d8-b365-61e4baa7a430"
      },
      "source": [
        "a_tag = BeautifulSoup(resp.content, 'lxml')\n",
        "\n",
        "date_tag = a_tag.select('td.date')\n",
        "td_list = a_tag.select('td.number_1')\n",
        "\n",
        "date_list = []\n",
        "for date in date_tag:\n",
        "  date_list.append(date.text)\n",
        "\n",
        "price_list = []\n",
        "for i in range(len(td_list)):\n",
        "  if i%4 == 0:\n",
        "    price_list.append(td_list[i].text)\n",
        "\n",
        "print({date: price + '원' for date, price in zip(date_list, price_list)})"
      ],
      "execution_count": null,
      "outputs": [
        {
          "output_type": "stream",
          "text": [
            "{'2020.06.15': '267.95원', '2020.06.12': '281.78원', '2020.06.11': '288.62원', '2020.06.10': '291.90원', '2020.06.09': '291.32원', '2020.06.08': '290.77원'}\n"
          ],
          "name": "stdout"
        }
      ]
    },
    {
      "cell_type": "markdown",
      "metadata": {
        "id": "I2sNvQ1u0kHN",
        "colab_type": "text"
      },
      "source": [
        "#2번 문항\n"
      ]
    },
    {
      "cell_type": "code",
      "metadata": {
        "id": "P0OqlE_f0nal",
        "colab_type": "code",
        "colab": {}
      },
      "source": [
        "pages = 19\n",
        "date_list = []\n",
        "price_list = []\n",
        "for page in range(pages):\n",
        "  url = 'https://finance.naver.com/sise/sise_index_day.nhn'\n",
        "  query = {\n",
        "      'code' : 'KPI200',\n",
        "      'page' : int(page)+1\n",
        "  }\n",
        "  resp = requests.get(url, query)\n",
        "\n",
        "  a_tag = BeautifulSoup(resp.content, 'lxml')\n",
        "\n",
        "  date_tag = a_tag.select('td.date')\n",
        "  td_list = a_tag.select('td.number_1')\n",
        "\n",
        "  for date in date_tag:\n",
        "    date_list.append(date.text)\n",
        "\n",
        "  for i in range(len(td_list)):\n",
        "    if i%4 == 0:\n",
        "      price_list.append(td_list[i].text)\n",
        "\n",
        "KOSDIC = {date: price + '원' for date, price in zip(date_list, price_list)}\n"
      ],
      "execution_count": null,
      "outputs": []
    },
    {
      "cell_type": "code",
      "metadata": {
        "id": "F7YQgkzN1Wtu",
        "colab_type": "code",
        "colab": {
          "base_uri": "https://localhost:8080/",
          "height": 1000
        },
        "outputId": "76f2fb36-f4ab-460d-b0e2-492a763d48ab"
      },
      "source": [
        "KOSDIC"
      ],
      "execution_count": null,
      "outputs": [
        {
          "output_type": "execute_result",
          "data": {
            "text/plain": [
              "{'2019.12.27': '295.20원',\n",
              " '2019.12.30': '293.77원',\n",
              " '2020.01.02': '290.35원',\n",
              " '2020.01.03': '290.74원',\n",
              " '2020.01.06': '288.43원',\n",
              " '2020.01.07': '291.23원',\n",
              " '2020.01.08': '289.42원',\n",
              " '2020.01.09': '294.41원',\n",
              " '2020.01.10': '297.06원',\n",
              " '2020.01.13': '300.13원',\n",
              " '2020.01.14': '301.53원',\n",
              " '2020.01.15': '299.74원',\n",
              " '2020.01.16': '302.78원',\n",
              " '2020.01.17': '303.30원',\n",
              " '2020.01.20': '305.58원',\n",
              " '2020.01.21': '302.11원',\n",
              " '2020.01.22': '306.08원',\n",
              " '2020.01.23': '302.33원',\n",
              " '2020.01.28': '292.77원',\n",
              " '2020.01.29': '293.98원',\n",
              " '2020.01.30': '288.37원',\n",
              " '2020.01.31': '284.53원',\n",
              " '2020.02.03': '285.05원',\n",
              " '2020.02.04': '290.68원',\n",
              " '2020.02.05': '292.02원',\n",
              " '2020.02.06': '300.65원',\n",
              " '2020.02.07': '298.21원',\n",
              " '2020.02.10': '296.24원',\n",
              " '2020.02.11': '299.28원',\n",
              " '2020.02.12': '301.54원',\n",
              " '2020.02.13': '300.93원',\n",
              " '2020.02.14': '303.01원',\n",
              " '2020.02.17': '302.76원',\n",
              " '2020.02.18': '297.74원',\n",
              " '2020.02.19': '298.33원',\n",
              " '2020.02.20': '296.65원',\n",
              " '2020.02.21': '292.42원',\n",
              " '2020.02.24': '281.02원',\n",
              " '2020.02.25': '284.24원',\n",
              " '2020.02.26': '279.94원',\n",
              " '2020.02.27': '277.09원',\n",
              " '2020.02.28': '268.02원',\n",
              " '2020.03.02': '270.37원',\n",
              " '2020.03.03': '271.56원',\n",
              " '2020.03.04': '278.13원',\n",
              " '2020.03.05': '281.38원',\n",
              " '2020.03.06': '275.10원',\n",
              " '2020.03.09': '263.11원',\n",
              " '2020.03.10': '264.67원',\n",
              " '2020.03.11': '257.01원',\n",
              " '2020.03.12': '247.62원',\n",
              " '2020.03.13': '240.65원',\n",
              " '2020.03.16': '232.97원',\n",
              " '2020.03.17': '226.89원',\n",
              " '2020.03.18': '215.83원',\n",
              " '2020.03.19': '199.28원',\n",
              " '2020.03.20': '213.67원',\n",
              " '2020.03.23': '201.87원',\n",
              " '2020.03.24': '220.34원',\n",
              " '2020.03.25': '232.89원',\n",
              " '2020.03.26': '229.34원',\n",
              " '2020.03.27': '233.79원',\n",
              " '2020.03.30': '232.45원',\n",
              " '2020.03.31': '236.82원',\n",
              " '2020.04.01': '226.35원',\n",
              " '2020.04.02': '231.84원',\n",
              " '2020.04.03': '231.70원',\n",
              " '2020.04.06': '240.81원',\n",
              " '2020.04.07': '244.87원',\n",
              " '2020.04.08': '241.89원',\n",
              " '2020.04.09': '245.61원',\n",
              " '2020.04.10': '248.00원',\n",
              " '2020.04.13': '243.40원',\n",
              " '2020.04.14': '247.45원',\n",
              " '2020.04.16': '247.10원',\n",
              " '2020.04.17': '255.02원',\n",
              " '2020.04.20': '252.14원',\n",
              " '2020.04.21': '249.40원',\n",
              " '2020.04.22': '251.88원',\n",
              " '2020.04.23': '253.74원',\n",
              " '2020.04.24': '250.28원',\n",
              " '2020.04.27': '254.84원',\n",
              " '2020.04.28': '256.39원',\n",
              " '2020.04.29': '258.15원',\n",
              " '2020.05.04': '250.60원',\n",
              " '2020.05.06': '255.00원',\n",
              " '2020.05.07': '254.46원',\n",
              " '2020.05.08': '256.62원',\n",
              " '2020.05.11': '254.95원',\n",
              " '2020.05.12': '253.37원',\n",
              " '2020.05.13': '255.85원',\n",
              " '2020.05.14': '253.65원',\n",
              " '2020.05.15': '253.79원',\n",
              " '2020.05.18': '255.44원',\n",
              " '2020.05.19': '261.79원',\n",
              " '2020.05.20': '262.72원',\n",
              " '2020.05.21': '263.74원',\n",
              " '2020.05.22': '259.62원',\n",
              " '2020.05.25': '262.76원',\n",
              " '2020.05.26': '267.31원',\n",
              " '2020.05.27': '267.64원',\n",
              " '2020.05.28': '268.29원',\n",
              " '2020.05.29': '268.32원',\n",
              " '2020.06.01': '273.19원',\n",
              " '2020.06.02': '276.08원',\n",
              " '2020.06.03': '285.91원',\n",
              " '2020.06.04': '286.45원',\n",
              " '2020.06.05': '290.62원',\n",
              " '2020.06.08': '290.77원',\n",
              " '2020.06.09': '291.32원',\n",
              " '2020.06.10': '291.90원',\n",
              " '2020.06.11': '288.62원',\n",
              " '2020.06.12': '281.78원',\n",
              " '2020.06.15': '267.95원'}"
            ]
          },
          "metadata": {
            "tags": []
          },
          "execution_count": 144
        }
      ]
    },
    {
      "cell_type": "markdown",
      "metadata": {
        "id": "e9rCg5bp2d9j",
        "colab_type": "text"
      },
      "source": [
        "#3번 문항\n"
      ]
    },
    {
      "cell_type": "code",
      "metadata": {
        "id": "svAg-3ln36ZC",
        "colab_type": "code",
        "colab": {}
      },
      "source": [
        "KOSPI = pd.DataFrame(KOSDIC, index = ['가격'])\n",
        "KOSPI.to_csv('KOSPI200.csv')"
      ],
      "execution_count": null,
      "outputs": []
    },
    {
      "cell_type": "markdown",
      "metadata": {
        "id": "pOXbwgXL6Pcy",
        "colab_type": "text"
      },
      "source": [
        "#4번 문항\n"
      ]
    },
    {
      "cell_type": "code",
      "metadata": {
        "id": "l4q5h76y6RmH",
        "colab_type": "code",
        "colab": {
          "base_uri": "https://localhost:8080/",
          "height": 265
        },
        "outputId": "3216e803-1f60-499a-fafb-91fb5d27bfaf"
      },
      "source": [
        "plt.plot([date_list[10], date_list[0]], [price_list[10], price_list[0]])\n",
        "plt.show()\n",
        "# 저 그래프 이름이 뭔지 기억이 안나네요... plot은 아닌데...bar도 아니고... hist도 아니고... scatter도 아니고..."
      ],
      "execution_count": null,
      "outputs": [
        {
          "output_type": "display_data",
          "data": {
            "image/png": "[encoded data removed]",
            "text/plain": [
              "<Figure size 432x288 with 1 Axes>"
            ]
          },
          "metadata": {
            "tags": [],
            "needs_background": "light"
          }
        }
      ]
    }
  ]
}